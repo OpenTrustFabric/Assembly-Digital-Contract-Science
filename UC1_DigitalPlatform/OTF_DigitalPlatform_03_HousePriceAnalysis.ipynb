{
 "cells": [
  {
   "cell_type": "markdown",
   "metadata": {},
   "source": [
    "# Open Trust Fabric (OTF)\n",
    "# Digital Platform Use Case\n",
    "# 03- House Prices Analysis\n",
    "June 2021"
   ]
  },
  {
   "cell_type": "markdown",
   "metadata": {},
   "source": [
    "# Description\n",
    "\n",
    "This notebook makes a comparison of AirBnB digital platform contracts and the house prices registered across different European cities.\n",
    "\n",
    "House prices are collected from Idealista, a real estate website focused in Spain and Italy. House prices were downloaded from this website: https://www.idealista.it/data/\n",
    "\n",
    "The purpose of this analysis is to identify whether there is a potential correlation across the number of contracts carried out in the AirBnB digital platform and the house prices in idealista.\n",
    "\n",
    "House prices are captured as euros per square meter. The analysis will be carried out for two cities: Madrid and Rome."
   ]
  },
  {
   "cell_type": "code",
   "execution_count": 1,
   "metadata": {},
   "outputs": [],
   "source": [
    "import pandas as pd\n",
    "import numpy as np\n",
    "import os\n",
    "import gzip\n",
    "from functools import reduce\n",
    "\n",
    "import warnings\n",
    "warnings.filterwarnings(\"ignore\")\n",
    "\n",
    "import matplotlib.pyplot as plt\n",
    "%matplotlib inline\n",
    "\n",
    "from IPython.display import set_matplotlib_formats\n",
    "set_matplotlib_formats('retina')"
   ]
  },
  {
   "cell_type": "code",
   "execution_count": 2,
   "metadata": {},
   "outputs": [],
   "source": [
    "data_path = '../../../ecme/UC1: Digital Platform/Data/'"
   ]
  },
  {
   "cell_type": "code",
   "execution_count": 3,
   "metadata": {},
   "outputs": [],
   "source": [
    "with gzip.open(data_path + 'POLICY_NETWORK.csv.gzip') as file_in:\n",
    "    df = pd.read_csv(file_in, low_memory=False)"
   ]
  },
  {
   "cell_type": "code",
   "execution_count": 4,
   "metadata": {},
   "outputs": [],
   "source": [
    "#ASSET_PRICE\n",
    "def fix_price (value):\n",
    "    try:\n",
    "        value = value.replace(\"$\", '').replace(\",\", '')\n",
    "        value = float(value)\n",
    "        return value\n",
    "    except: return np.nan  \n",
    "\n",
    "df['ASSET_PRICE'] = df['ASSET_PRICE'].apply(lambda x : fix_price(x))"
   ]
  },
  {
   "cell_type": "code",
   "execution_count": 5,
   "metadata": {},
   "outputs": [],
   "source": [
    "df_price_bnb_rome = df.loc[df.ASSET_LOCATION == 'rome'].groupby(['YEAR', 'MONTH', \"ASSET_ID\"])[[\"ASSET_PRICE\"]].mean().reset_index()\n",
    "df_price_bnb_rome = df_price_bnb_rome.groupby(['YEAR', 'MONTH']).agg({\"ASSET_PRICE\" : \"median\"})\n",
    "df_price_bnb_rome = df_price_bnb_rome.reset_index()"
   ]
  },
  {
   "cell_type": "code",
   "execution_count": 6,
   "metadata": {},
   "outputs": [],
   "source": [
    "df_price_bnb_madrid = df.loc[df.ASSET_LOCATION == 'madrid'].groupby(['YEAR', 'MONTH', \"ASSET_ID\"])[[\"ASSET_PRICE\"]].mean().reset_index()\n",
    "df_price_bnb_madrid = df_price_bnb_madrid.groupby(['YEAR', 'MONTH']).agg({\"ASSET_PRICE\" : \"median\"})\n",
    "df_price_bnb_madrid = df_price_bnb_madrid.reset_index()"
   ]
  },
  {
   "cell_type": "code",
   "execution_count": null,
   "metadata": {},
   "outputs": [],
   "source": []
  },
  {
   "cell_type": "code",
   "execution_count": 7,
   "metadata": {},
   "outputs": [],
   "source": [
    "# IDEALISTA DATA"
   ]
  },
  {
   "cell_type": "code",
   "execution_count": 8,
   "metadata": {},
   "outputs": [],
   "source": [
    "# ROME"
   ]
  },
  {
   "cell_type": "code",
   "execution_count": 9,
   "metadata": {},
   "outputs": [],
   "source": [
    "df_rome = pd.read_csv('rome_ts.csv', delimiter=\";\")\n",
    "df_rome.columns = [c.upper() for c in df_rome.columns]"
   ]
  },
  {
   "cell_type": "code",
   "execution_count": 10,
   "metadata": {},
   "outputs": [
    {
     "data": {
      "text/html": [
       "<div>\n",
       "<style scoped>\n",
       "    .dataframe tbody tr th:only-of-type {\n",
       "        vertical-align: middle;\n",
       "    }\n",
       "\n",
       "    .dataframe tbody tr th {\n",
       "        vertical-align: top;\n",
       "    }\n",
       "\n",
       "    .dataframe thead th {\n",
       "        text-align: right;\n",
       "    }\n",
       "</style>\n",
       "<table border=\"1\" class=\"dataframe\">\n",
       "  <thead>\n",
       "    <tr style=\"text-align: right;\">\n",
       "      <th></th>\n",
       "      <th>MONTH</th>\n",
       "      <th>YEAR</th>\n",
       "      <th>EURO_MQ</th>\n",
       "    </tr>\n",
       "  </thead>\n",
       "  <tbody>\n",
       "    <tr>\n",
       "      <th>0</th>\n",
       "      <td>Gen</td>\n",
       "      <td>2012</td>\n",
       "      <td>4110</td>\n",
       "    </tr>\n",
       "    <tr>\n",
       "      <th>1</th>\n",
       "      <td>Feb</td>\n",
       "      <td>2012</td>\n",
       "      <td>4098</td>\n",
       "    </tr>\n",
       "    <tr>\n",
       "      <th>2</th>\n",
       "      <td>Mar</td>\n",
       "      <td>2012</td>\n",
       "      <td>4113</td>\n",
       "    </tr>\n",
       "    <tr>\n",
       "      <th>3</th>\n",
       "      <td>Apr</td>\n",
       "      <td>2012</td>\n",
       "      <td>4101</td>\n",
       "    </tr>\n",
       "    <tr>\n",
       "      <th>4</th>\n",
       "      <td>Mag</td>\n",
       "      <td>2012</td>\n",
       "      <td>4057</td>\n",
       "    </tr>\n",
       "  </tbody>\n",
       "</table>\n",
       "</div>"
      ],
      "text/plain": [
       "  MONTH  YEAR  EURO_MQ\n",
       "0   Gen  2012     4110\n",
       "1   Feb  2012     4098\n",
       "2   Mar  2012     4113\n",
       "3   Apr  2012     4101\n",
       "4   Mag  2012     4057"
      ]
     },
     "execution_count": 10,
     "metadata": {},
     "output_type": "execute_result"
    }
   ],
   "source": [
    "df_rome.head()"
   ]
  },
  {
   "cell_type": "markdown",
   "metadata": {},
   "source": [
    "House prices data "
   ]
  },
  {
   "cell_type": "code",
   "execution_count": 11,
   "metadata": {},
   "outputs": [
    {
     "data": {
      "text/plain": [
       "(107, 3)"
      ]
     },
     "execution_count": 11,
     "metadata": {},
     "output_type": "execute_result"
    }
   ],
   "source": [
    "df_rome.shape"
   ]
  },
  {
   "cell_type": "code",
   "execution_count": 12,
   "metadata": {},
   "outputs": [],
   "source": [
    "month_mapper = {\n",
    "    'Gen' : 1, 'Feb' : 2, 'Mar' : 3, 'Apr' : 4,  'Mag' : 5,  'Giu' : 6,\n",
    "    'Lug' : 7, 'Ago' : 8, 'Set' : 9, 'Ott' : 10, 'Nov' : 11, 'Dic' : 12\n",
    "        }"
   ]
  },
  {
   "cell_type": "code",
   "execution_count": 13,
   "metadata": {},
   "outputs": [],
   "source": [
    "df_rome['N_MONTH'] = df_rome.MONTH.map(month_mapper)"
   ]
  },
  {
   "cell_type": "code",
   "execution_count": 14,
   "metadata": {},
   "outputs": [
    {
     "data": {
      "text/html": [
       "<div>\n",
       "<style scoped>\n",
       "    .dataframe tbody tr th:only-of-type {\n",
       "        vertical-align: middle;\n",
       "    }\n",
       "\n",
       "    .dataframe tbody tr th {\n",
       "        vertical-align: top;\n",
       "    }\n",
       "\n",
       "    .dataframe thead th {\n",
       "        text-align: right;\n",
       "    }\n",
       "</style>\n",
       "<table border=\"1\" class=\"dataframe\">\n",
       "  <thead>\n",
       "    <tr style=\"text-align: right;\">\n",
       "      <th></th>\n",
       "      <th>MONTH</th>\n",
       "      <th>YEAR</th>\n",
       "      <th>EURO_MQ</th>\n",
       "      <th>N_MONTH</th>\n",
       "    </tr>\n",
       "  </thead>\n",
       "  <tbody>\n",
       "    <tr>\n",
       "      <th>0</th>\n",
       "      <td>Gen</td>\n",
       "      <td>2012</td>\n",
       "      <td>4110</td>\n",
       "      <td>1</td>\n",
       "    </tr>\n",
       "    <tr>\n",
       "      <th>1</th>\n",
       "      <td>Feb</td>\n",
       "      <td>2012</td>\n",
       "      <td>4098</td>\n",
       "      <td>2</td>\n",
       "    </tr>\n",
       "    <tr>\n",
       "      <th>2</th>\n",
       "      <td>Mar</td>\n",
       "      <td>2012</td>\n",
       "      <td>4113</td>\n",
       "      <td>3</td>\n",
       "    </tr>\n",
       "    <tr>\n",
       "      <th>3</th>\n",
       "      <td>Apr</td>\n",
       "      <td>2012</td>\n",
       "      <td>4101</td>\n",
       "      <td>4</td>\n",
       "    </tr>\n",
       "    <tr>\n",
       "      <th>4</th>\n",
       "      <td>Mag</td>\n",
       "      <td>2012</td>\n",
       "      <td>4057</td>\n",
       "      <td>5</td>\n",
       "    </tr>\n",
       "  </tbody>\n",
       "</table>\n",
       "</div>"
      ],
      "text/plain": [
       "  MONTH  YEAR  EURO_MQ  N_MONTH\n",
       "0   Gen  2012     4110        1\n",
       "1   Feb  2012     4098        2\n",
       "2   Mar  2012     4113        3\n",
       "3   Apr  2012     4101        4\n",
       "4   Mag  2012     4057        5"
      ]
     },
     "execution_count": 14,
     "metadata": {},
     "output_type": "execute_result"
    }
   ],
   "source": [
    "df_rome.head(5)"
   ]
  },
  {
   "cell_type": "code",
   "execution_count": 15,
   "metadata": {},
   "outputs": [
    {
     "data": {
      "text/plain": [
       "MONTH      object\n",
       "YEAR        int64\n",
       "EURO_MQ     int64\n",
       "N_MONTH     int64\n",
       "dtype: object"
      ]
     },
     "execution_count": 15,
     "metadata": {},
     "output_type": "execute_result"
    }
   ],
   "source": [
    "df_rome.dtypes"
   ]
  },
  {
   "cell_type": "code",
   "execution_count": 17,
   "metadata": {},
   "outputs": [
    {
     "data": {
      "text/html": [
       "<div>\n",
       "<style scoped>\n",
       "    .dataframe tbody tr th:only-of-type {\n",
       "        vertical-align: middle;\n",
       "    }\n",
       "\n",
       "    .dataframe tbody tr th {\n",
       "        vertical-align: top;\n",
       "    }\n",
       "\n",
       "    .dataframe thead th {\n",
       "        text-align: right;\n",
       "    }\n",
       "</style>\n",
       "<table border=\"1\" class=\"dataframe\">\n",
       "  <thead>\n",
       "    <tr style=\"text-align: right;\">\n",
       "      <th></th>\n",
       "      <th>MONTH</th>\n",
       "      <th>YEAR</th>\n",
       "      <th>EURO_MQ</th>\n",
       "      <th>N_MONTH</th>\n",
       "    </tr>\n",
       "  </thead>\n",
       "  <tbody>\n",
       "    <tr>\n",
       "      <th>0</th>\n",
       "      <td>Gen</td>\n",
       "      <td>2012</td>\n",
       "      <td>4110</td>\n",
       "      <td>1</td>\n",
       "    </tr>\n",
       "    <tr>\n",
       "      <th>1</th>\n",
       "      <td>Feb</td>\n",
       "      <td>2012</td>\n",
       "      <td>4098</td>\n",
       "      <td>2</td>\n",
       "    </tr>\n",
       "    <tr>\n",
       "      <th>2</th>\n",
       "      <td>Mar</td>\n",
       "      <td>2012</td>\n",
       "      <td>4113</td>\n",
       "      <td>3</td>\n",
       "    </tr>\n",
       "    <tr>\n",
       "      <th>3</th>\n",
       "      <td>Apr</td>\n",
       "      <td>2012</td>\n",
       "      <td>4101</td>\n",
       "      <td>4</td>\n",
       "    </tr>\n",
       "    <tr>\n",
       "      <th>4</th>\n",
       "      <td>Mag</td>\n",
       "      <td>2012</td>\n",
       "      <td>4057</td>\n",
       "      <td>5</td>\n",
       "    </tr>\n",
       "  </tbody>\n",
       "</table>\n",
       "</div>"
      ],
      "text/plain": [
       "  MONTH  YEAR  EURO_MQ  N_MONTH\n",
       "0   Gen  2012     4110        1\n",
       "1   Feb  2012     4098        2\n",
       "2   Mar  2012     4113        3\n",
       "3   Apr  2012     4101        4\n",
       "4   Mag  2012     4057        5"
      ]
     },
     "execution_count": 17,
     "metadata": {},
     "output_type": "execute_result"
    }
   ],
   "source": [
    "df_rome.head()"
   ]
  },
  {
   "cell_type": "code",
   "execution_count": null,
   "metadata": {},
   "outputs": [],
   "source": []
  },
  {
   "cell_type": "code",
   "execution_count": null,
   "metadata": {},
   "outputs": [],
   "source": [
    "# MADRID"
   ]
  },
  {
   "cell_type": "code",
   "execution_count": 18,
   "metadata": {},
   "outputs": [],
   "source": [
    "df_madrid = pd.read_csv('Madrid_ts.csv', delimiter=\";\")"
   ]
  },
  {
   "cell_type": "code",
   "execution_count": 19,
   "metadata": {},
   "outputs": [],
   "source": [
    "month_mapper = {\n",
    "    'Ene' : 1, 'Feb' : 2, 'Mar' : 3, 'Abr' : 4,  'May' : 5,  'Jun' : 6,\n",
    "    'Jul' : 7, 'Ago' : 8, 'Sep' : 9, 'Oct' : 10, 'Nov' : 11, 'Dic' : 12\n",
    "        }"
   ]
  },
  {
   "cell_type": "code",
   "execution_count": 20,
   "metadata": {},
   "outputs": [],
   "source": [
    "df_madrid['N_MONTH'] = df_madrid.MONTH.map(month_mapper)"
   ]
  },
  {
   "cell_type": "code",
   "execution_count": 21,
   "metadata": {},
   "outputs": [],
   "source": [
    "df_madrid.EURO_MQ = df_madrid.EURO_MQ.str.strip()"
   ]
  },
  {
   "cell_type": "code",
   "execution_count": 22,
   "metadata": {},
   "outputs": [],
   "source": [
    "df_madrid.EURO_MQ.replace('null', np.nan, inplace=True)"
   ]
  },
  {
   "cell_type": "code",
   "execution_count": 23,
   "metadata": {},
   "outputs": [],
   "source": [
    "df_madrid.EURO_MQ = df_madrid.EURO_MQ.astype(float)"
   ]
  },
  {
   "cell_type": "code",
   "execution_count": 24,
   "metadata": {},
   "outputs": [
    {
     "data": {
      "text/html": [
       "<div>\n",
       "<style scoped>\n",
       "    .dataframe tbody tr th:only-of-type {\n",
       "        vertical-align: middle;\n",
       "    }\n",
       "\n",
       "    .dataframe tbody tr th {\n",
       "        vertical-align: top;\n",
       "    }\n",
       "\n",
       "    .dataframe thead th {\n",
       "        text-align: right;\n",
       "    }\n",
       "</style>\n",
       "<table border=\"1\" class=\"dataframe\">\n",
       "  <thead>\n",
       "    <tr style=\"text-align: right;\">\n",
       "      <th></th>\n",
       "      <th>MONTH</th>\n",
       "      <th>YEAR</th>\n",
       "      <th>EURO_MQ</th>\n",
       "      <th>N_MONTH</th>\n",
       "    </tr>\n",
       "  </thead>\n",
       "  <tbody>\n",
       "    <tr>\n",
       "      <th>0</th>\n",
       "      <td>Ene</td>\n",
       "      <td>2006</td>\n",
       "      <td>NaN</td>\n",
       "      <td>1</td>\n",
       "    </tr>\n",
       "    <tr>\n",
       "      <th>1</th>\n",
       "      <td>Feb</td>\n",
       "      <td>2006</td>\n",
       "      <td>NaN</td>\n",
       "      <td>2</td>\n",
       "    </tr>\n",
       "    <tr>\n",
       "      <th>2</th>\n",
       "      <td>Mar</td>\n",
       "      <td>2006</td>\n",
       "      <td>3586.0</td>\n",
       "      <td>3</td>\n",
       "    </tr>\n",
       "    <tr>\n",
       "      <th>3</th>\n",
       "      <td>Abr</td>\n",
       "      <td>2006</td>\n",
       "      <td>3431.0</td>\n",
       "      <td>4</td>\n",
       "    </tr>\n",
       "    <tr>\n",
       "      <th>4</th>\n",
       "      <td>May</td>\n",
       "      <td>2006</td>\n",
       "      <td>3550.0</td>\n",
       "      <td>5</td>\n",
       "    </tr>\n",
       "    <tr>\n",
       "      <th>5</th>\n",
       "      <td>Jun</td>\n",
       "      <td>2006</td>\n",
       "      <td>3473.0</td>\n",
       "      <td>6</td>\n",
       "    </tr>\n",
       "    <tr>\n",
       "      <th>6</th>\n",
       "      <td>Jul</td>\n",
       "      <td>2006</td>\n",
       "      <td>3488.0</td>\n",
       "      <td>7</td>\n",
       "    </tr>\n",
       "    <tr>\n",
       "      <th>7</th>\n",
       "      <td>Ago</td>\n",
       "      <td>2006</td>\n",
       "      <td>3477.0</td>\n",
       "      <td>8</td>\n",
       "    </tr>\n",
       "    <tr>\n",
       "      <th>8</th>\n",
       "      <td>Sep</td>\n",
       "      <td>2006</td>\n",
       "      <td>3458.0</td>\n",
       "      <td>9</td>\n",
       "    </tr>\n",
       "    <tr>\n",
       "      <th>9</th>\n",
       "      <td>Oct</td>\n",
       "      <td>2006</td>\n",
       "      <td>3359.0</td>\n",
       "      <td>10</td>\n",
       "    </tr>\n",
       "    <tr>\n",
       "      <th>10</th>\n",
       "      <td>Nov</td>\n",
       "      <td>2006</td>\n",
       "      <td>3491.0</td>\n",
       "      <td>11</td>\n",
       "    </tr>\n",
       "    <tr>\n",
       "      <th>11</th>\n",
       "      <td>Dic</td>\n",
       "      <td>2006</td>\n",
       "      <td>3487.0</td>\n",
       "      <td>12</td>\n",
       "    </tr>\n",
       "  </tbody>\n",
       "</table>\n",
       "</div>"
      ],
      "text/plain": [
       "   MONTH  YEAR  EURO_MQ  N_MONTH\n",
       "0    Ene  2006      NaN        1\n",
       "1    Feb  2006      NaN        2\n",
       "2    Mar  2006   3586.0        3\n",
       "3    Abr  2006   3431.0        4\n",
       "4    May  2006   3550.0        5\n",
       "5    Jun  2006   3473.0        6\n",
       "6    Jul  2006   3488.0        7\n",
       "7    Ago  2006   3477.0        8\n",
       "8    Sep  2006   3458.0        9\n",
       "9    Oct  2006   3359.0       10\n",
       "10   Nov  2006   3491.0       11\n",
       "11   Dic  2006   3487.0       12"
      ]
     },
     "execution_count": 24,
     "metadata": {},
     "output_type": "execute_result"
    }
   ],
   "source": [
    "df_madrid.head(12)"
   ]
  },
  {
   "cell_type": "code",
   "execution_count": null,
   "metadata": {},
   "outputs": [],
   "source": []
  },
  {
   "cell_type": "code",
   "execution_count": 25,
   "metadata": {},
   "outputs": [],
   "source": [
    "df_merged_rome = df_rome[[c for c in list(df_rome) if c !='MONTH']].merge(df_price_bnb_rome, left_on = ['YEAR', 'N_MONTH'], \n",
    "                          right_on = ['YEAR', 'MONTH'], how='inner')"
   ]
  },
  {
   "cell_type": "code",
   "execution_count": 26,
   "metadata": {},
   "outputs": [
    {
     "data": {
      "text/plain": [
       "(10, 5)"
      ]
     },
     "execution_count": 26,
     "metadata": {},
     "output_type": "execute_result"
    }
   ],
   "source": [
    "df_merged_rome.shape"
   ]
  },
  {
   "cell_type": "code",
   "execution_count": 27,
   "metadata": {},
   "outputs": [
    {
     "data": {
      "text/html": [
       "<div>\n",
       "<style scoped>\n",
       "    .dataframe tbody tr th:only-of-type {\n",
       "        vertical-align: middle;\n",
       "    }\n",
       "\n",
       "    .dataframe tbody tr th {\n",
       "        vertical-align: top;\n",
       "    }\n",
       "\n",
       "    .dataframe thead th {\n",
       "        text-align: right;\n",
       "    }\n",
       "</style>\n",
       "<table border=\"1\" class=\"dataframe\">\n",
       "  <thead>\n",
       "    <tr style=\"text-align: right;\">\n",
       "      <th></th>\n",
       "      <th>YEAR</th>\n",
       "      <th>EURO_MQ</th>\n",
       "      <th>N_MONTH</th>\n",
       "      <th>MONTH</th>\n",
       "      <th>ASSET_PRICE</th>\n",
       "    </tr>\n",
       "  </thead>\n",
       "  <tbody>\n",
       "    <tr>\n",
       "      <th>0</th>\n",
       "      <td>2017</td>\n",
       "      <td>3006</td>\n",
       "      <td>5</td>\n",
       "      <td>5</td>\n",
       "      <td>79.0</td>\n",
       "    </tr>\n",
       "    <tr>\n",
       "      <th>1</th>\n",
       "      <td>2018</td>\n",
       "      <td>2971</td>\n",
       "      <td>4</td>\n",
       "      <td>4</td>\n",
       "      <td>79.0</td>\n",
       "    </tr>\n",
       "    <tr>\n",
       "      <th>2</th>\n",
       "      <td>2018</td>\n",
       "      <td>2948</td>\n",
       "      <td>5</td>\n",
       "      <td>5</td>\n",
       "      <td>79.0</td>\n",
       "    </tr>\n",
       "    <tr>\n",
       "      <th>3</th>\n",
       "      <td>2018</td>\n",
       "      <td>2947</td>\n",
       "      <td>6</td>\n",
       "      <td>6</td>\n",
       "      <td>79.0</td>\n",
       "    </tr>\n",
       "    <tr>\n",
       "      <th>4</th>\n",
       "      <td>2018</td>\n",
       "      <td>2973</td>\n",
       "      <td>7</td>\n",
       "      <td>7</td>\n",
       "      <td>80.0</td>\n",
       "    </tr>\n",
       "    <tr>\n",
       "      <th>5</th>\n",
       "      <td>2018</td>\n",
       "      <td>2950</td>\n",
       "      <td>8</td>\n",
       "      <td>8</td>\n",
       "      <td>80.0</td>\n",
       "    </tr>\n",
       "    <tr>\n",
       "      <th>6</th>\n",
       "      <td>2018</td>\n",
       "      <td>2923</td>\n",
       "      <td>9</td>\n",
       "      <td>9</td>\n",
       "      <td>79.0</td>\n",
       "    </tr>\n",
       "    <tr>\n",
       "      <th>7</th>\n",
       "      <td>2019</td>\n",
       "      <td>2836</td>\n",
       "      <td>8</td>\n",
       "      <td>8</td>\n",
       "      <td>80.0</td>\n",
       "    </tr>\n",
       "    <tr>\n",
       "      <th>8</th>\n",
       "      <td>2019</td>\n",
       "      <td>2836</td>\n",
       "      <td>9</td>\n",
       "      <td>9</td>\n",
       "      <td>80.0</td>\n",
       "    </tr>\n",
       "    <tr>\n",
       "      <th>9</th>\n",
       "      <td>2019</td>\n",
       "      <td>2843</td>\n",
       "      <td>10</td>\n",
       "      <td>10</td>\n",
       "      <td>55.0</td>\n",
       "    </tr>\n",
       "  </tbody>\n",
       "</table>\n",
       "</div>"
      ],
      "text/plain": [
       "   YEAR  EURO_MQ  N_MONTH  MONTH  ASSET_PRICE\n",
       "0  2017     3006        5      5         79.0\n",
       "1  2018     2971        4      4         79.0\n",
       "2  2018     2948        5      5         79.0\n",
       "3  2018     2947        6      6         79.0\n",
       "4  2018     2973        7      7         80.0\n",
       "5  2018     2950        8      8         80.0\n",
       "6  2018     2923        9      9         79.0\n",
       "7  2019     2836        8      8         80.0\n",
       "8  2019     2836        9      9         80.0\n",
       "9  2019     2843       10     10         55.0"
      ]
     },
     "execution_count": 27,
     "metadata": {},
     "output_type": "execute_result"
    }
   ],
   "source": [
    "df_merged_rome"
   ]
  },
  {
   "cell_type": "markdown",
   "metadata": {},
   "source": [
    "The table above shows the number of months for which Digital Platform data and House prices data were jointly available. Due to data limitation, unfortunately, the two information sources were jointly available for a limited amount of time."
   ]
  },
  {
   "cell_type": "code",
   "execution_count": 28,
   "metadata": {
    "scrolled": true
   },
   "outputs": [
    {
     "data": {
      "text/html": [
       "<div>\n",
       "<style scoped>\n",
       "    .dataframe tbody tr th:only-of-type {\n",
       "        vertical-align: middle;\n",
       "    }\n",
       "\n",
       "    .dataframe tbody tr th {\n",
       "        vertical-align: top;\n",
       "    }\n",
       "\n",
       "    .dataframe thead th {\n",
       "        text-align: right;\n",
       "    }\n",
       "</style>\n",
       "<table border=\"1\" class=\"dataframe\">\n",
       "  <thead>\n",
       "    <tr style=\"text-align: right;\">\n",
       "      <th></th>\n",
       "      <th>ASSET_PRICE</th>\n",
       "      <th>EURO_MQ</th>\n",
       "    </tr>\n",
       "  </thead>\n",
       "  <tbody>\n",
       "    <tr>\n",
       "      <th>ASSET_PRICE</th>\n",
       "      <td>1.000000</td>\n",
       "      <td>0.419751</td>\n",
       "    </tr>\n",
       "    <tr>\n",
       "      <th>EURO_MQ</th>\n",
       "      <td>0.419751</td>\n",
       "      <td>1.000000</td>\n",
       "    </tr>\n",
       "  </tbody>\n",
       "</table>\n",
       "</div>"
      ],
      "text/plain": [
       "             ASSET_PRICE   EURO_MQ\n",
       "ASSET_PRICE     1.000000  0.419751\n",
       "EURO_MQ         0.419751  1.000000"
      ]
     },
     "execution_count": 28,
     "metadata": {},
     "output_type": "execute_result"
    }
   ],
   "source": [
    "df_merged_rome[[\"ASSET_PRICE\", \"EURO_MQ\"]].corr()"
   ]
  },
  {
   "cell_type": "markdown",
   "metadata": {},
   "source": [
    "Despite the data limitation we attempted at computing a correlation across the two variables. The table above shows a positive correlation across asset price and house prices for the Rome case. \n",
    "\n",
    "These results have to be interpreted only as a data experiment. Additional information, and longer time series, are indeed required to further explore this preliminary result"
   ]
  },
  {
   "cell_type": "code",
   "execution_count": 29,
   "metadata": {},
   "outputs": [],
   "source": [
    "df_merged_madrid = df_madrid[[c for c in list(df_madrid) if c !='MONTH']].merge(df_price_bnb_madrid, left_on = ['YEAR', 'N_MONTH'], \n",
    "                          right_on = ['YEAR', 'MONTH'], how='inner')"
   ]
  },
  {
   "cell_type": "code",
   "execution_count": 30,
   "metadata": {},
   "outputs": [
    {
     "data": {
      "text/plain": [
       "(23, 5)"
      ]
     },
     "execution_count": 30,
     "metadata": {},
     "output_type": "execute_result"
    }
   ],
   "source": [
    "df_merged_madrid.shape"
   ]
  },
  {
   "cell_type": "code",
   "execution_count": 31,
   "metadata": {},
   "outputs": [
    {
     "data": {
      "text/html": [
       "<div>\n",
       "<style scoped>\n",
       "    .dataframe tbody tr th:only-of-type {\n",
       "        vertical-align: middle;\n",
       "    }\n",
       "\n",
       "    .dataframe tbody tr th {\n",
       "        vertical-align: top;\n",
       "    }\n",
       "\n",
       "    .dataframe thead th {\n",
       "        text-align: right;\n",
       "    }\n",
       "</style>\n",
       "<table border=\"1\" class=\"dataframe\">\n",
       "  <thead>\n",
       "    <tr style=\"text-align: right;\">\n",
       "      <th></th>\n",
       "      <th>YEAR</th>\n",
       "      <th>EURO_MQ</th>\n",
       "      <th>N_MONTH</th>\n",
       "      <th>MONTH</th>\n",
       "      <th>ASSET_PRICE</th>\n",
       "    </tr>\n",
       "  </thead>\n",
       "  <tbody>\n",
       "    <tr>\n",
       "      <th>0</th>\n",
       "      <td>2018</td>\n",
       "      <td>3125.0</td>\n",
       "      <td>1</td>\n",
       "      <td>1</td>\n",
       "      <td>63.0</td>\n",
       "    </tr>\n",
       "    <tr>\n",
       "      <th>1</th>\n",
       "      <td>2018</td>\n",
       "      <td>3310.0</td>\n",
       "      <td>4</td>\n",
       "      <td>4</td>\n",
       "      <td>65.0</td>\n",
       "    </tr>\n",
       "    <tr>\n",
       "      <th>2</th>\n",
       "      <td>2018</td>\n",
       "      <td>3406.0</td>\n",
       "      <td>5</td>\n",
       "      <td>5</td>\n",
       "      <td>65.0</td>\n",
       "    </tr>\n",
       "    <tr>\n",
       "      <th>3</th>\n",
       "      <td>2018</td>\n",
       "      <td>3550.0</td>\n",
       "      <td>7</td>\n",
       "      <td>7</td>\n",
       "      <td>65.0</td>\n",
       "    </tr>\n",
       "    <tr>\n",
       "      <th>4</th>\n",
       "      <td>2018</td>\n",
       "      <td>3572.0</td>\n",
       "      <td>8</td>\n",
       "      <td>8</td>\n",
       "      <td>65.0</td>\n",
       "    </tr>\n",
       "  </tbody>\n",
       "</table>\n",
       "</div>"
      ],
      "text/plain": [
       "   YEAR  EURO_MQ  N_MONTH  MONTH  ASSET_PRICE\n",
       "0  2018   3125.0        1      1         63.0\n",
       "1  2018   3310.0        4      4         65.0\n",
       "2  2018   3406.0        5      5         65.0\n",
       "3  2018   3550.0        7      7         65.0\n",
       "4  2018   3572.0        8      8         65.0"
      ]
     },
     "execution_count": 31,
     "metadata": {},
     "output_type": "execute_result"
    }
   ],
   "source": [
    "df_merged_madrid.head()"
   ]
  },
  {
   "cell_type": "markdown",
   "metadata": {},
   "source": [
    "The figure above shows that Madrid has even further data limitations when it comes to measuring the correlation of house prices and asset prices."
   ]
  },
  {
   "cell_type": "code",
   "execution_count": 32,
   "metadata": {},
   "outputs": [
    {
     "data": {
      "text/html": [
       "<div>\n",
       "<style scoped>\n",
       "    .dataframe tbody tr th:only-of-type {\n",
       "        vertical-align: middle;\n",
       "    }\n",
       "\n",
       "    .dataframe tbody tr th {\n",
       "        vertical-align: top;\n",
       "    }\n",
       "\n",
       "    .dataframe thead th {\n",
       "        text-align: right;\n",
       "    }\n",
       "</style>\n",
       "<table border=\"1\" class=\"dataframe\">\n",
       "  <thead>\n",
       "    <tr style=\"text-align: right;\">\n",
       "      <th></th>\n",
       "      <th>ASSET_PRICE</th>\n",
       "      <th>EURO_MQ</th>\n",
       "    </tr>\n",
       "  </thead>\n",
       "  <tbody>\n",
       "    <tr>\n",
       "      <th>ASSET_PRICE</th>\n",
       "      <td>1.000000</td>\n",
       "      <td>0.575337</td>\n",
       "    </tr>\n",
       "    <tr>\n",
       "      <th>EURO_MQ</th>\n",
       "      <td>0.575337</td>\n",
       "      <td>1.000000</td>\n",
       "    </tr>\n",
       "  </tbody>\n",
       "</table>\n",
       "</div>"
      ],
      "text/plain": [
       "             ASSET_PRICE   EURO_MQ\n",
       "ASSET_PRICE     1.000000  0.575337\n",
       "EURO_MQ         0.575337  1.000000"
      ]
     },
     "execution_count": 32,
     "metadata": {},
     "output_type": "execute_result"
    }
   ],
   "source": [
    "df_merged_madrid[[\"ASSET_PRICE\", \"EURO_MQ\"]].corr()"
   ]
  },
  {
   "cell_type": "markdown",
   "metadata": {},
   "source": [
    "The table above shows the correlation across the two variables for the Madrid case. These results have to be considered bearing in mind of the data limitations described above."
   ]
  },
  {
   "cell_type": "markdown",
   "metadata": {},
   "source": [
    "# Conclusions\n",
    "\n",
    "The data experiment reported in this notebook shows that it is indeed possible, provided that the right data is available, to measure a potential correlation across asset price and house prices. "
   ]
  },
  {
   "cell_type": "code",
   "execution_count": null,
   "metadata": {},
   "outputs": [],
   "source": []
  }
 ],
 "metadata": {
  "kernelspec": {
   "display_name": "Python 3",
   "language": "python",
   "name": "python3"
  },
  "language_info": {
   "codemirror_mode": {
    "name": "ipython",
    "version": 3
   },
   "file_extension": ".py",
   "mimetype": "text/x-python",
   "name": "python",
   "nbconvert_exporter": "python",
   "pygments_lexer": "ipython3",
   "version": "3.6.12"
  }
 },
 "nbformat": 4,
 "nbformat_minor": 4
}
