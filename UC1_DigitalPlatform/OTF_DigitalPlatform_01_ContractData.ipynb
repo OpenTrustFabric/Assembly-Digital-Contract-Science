{
 "cells": [
  {
   "cell_type": "markdown",
   "id": "28611941",
   "metadata": {},
   "source": [
    "# Open Trust Fabric (OTF)\n",
    "# Digital Platform Use Case\n",
    "# 01-ContractData\n",
    "June 2021"
   ]
  },
  {
   "cell_type": "markdown",
   "id": "95717707",
   "metadata": {},
   "source": [
    "To enable the Open Trust Fabric community to easily start working with digital contract science, we provide an open digital contract repository for the Digital Platform Use Case.\n",
    "\n",
    "This notebook allows you to access the repository and to download an offline copy of the dataset. The following notebooks make use of the downloaded data."
   ]
  },
  {
   "cell_type": "markdown",
   "id": "3dce31f6",
   "metadata": {},
   "source": [
    "First, let's make sure that we have the AWS client installed:"
   ]
  },
  {
   "cell_type": "code",
   "execution_count": null,
   "id": "ca997d23",
   "metadata": {},
   "outputs": [],
   "source": [
    "!pip install awscli"
   ]
  },
  {
   "cell_type": "markdown",
   "id": "e8294a6a",
   "metadata": {},
   "source": [
    "Next, we will download the Digital Platform contract repository one file at the time:"
   ]
  },
  {
   "cell_type": "code",
   "execution_count": null,
   "id": "6ee306d1",
   "metadata": {},
   "outputs": [],
   "source": [
    "!aws s3 --no-sign-request cp s3://otf-uc1/ASSETS_DOMAIN_FEATURE.csv.gzip data/\n",
    "!aws s3 --no-sign-request cp s3://otf-uc1/CONTRACT_ASSET.csv.gzip data/\n",
    "!aws s3 --no-sign-request cp s3://otf-uc1/CONTRACT_EVENTS.csv.gzip data/\n",
    "!aws s3 --no-sign-request cp s3://otf-uc1/CONTRACT_PARTIES.csv.gzip data/\n",
    "!aws s3 --no-sign-request cp s3://otf-uc1/EVENTS_DOMAIN_FEATURE.csv.gzip data/\n",
    "!aws s3 --no-sign-request cp s3://otf-uc1/PARTIES_DOMAIN_FEATURE.csv.gzip data/\n",
    "!aws s3 --no-sign-request cp s3://otf-uc1/POLICY_NETWORK.csv.gzip data/"
   ]
  },
  {
   "cell_type": "markdown",
   "id": "c6e3b9dc",
   "metadata": {},
   "source": [
    "Now that we have the files downloaded, we can use Pandas to process them:"
   ]
  },
  {
   "cell_type": "code",
   "execution_count": null,
   "id": "4811d751",
   "metadata": {},
   "outputs": [],
   "source": [
    "import pandas as pd\n",
    "\n",
    "df_policy_network = pd.read_csv('data/POLICY_NETWORK.csv.gzip', compression='gzip', low_memory=False)"
   ]
  },
  {
   "cell_type": "markdown",
   "id": "ae8afb76",
   "metadata": {},
   "source": [
    "We are all set and able to move forward with the analysis. "
   ]
  },
  {
   "cell_type": "code",
   "execution_count": null,
   "id": "db54fc40",
   "metadata": {},
   "outputs": [],
   "source": [
    "df_policy_network.head()"
   ]
  },
  {
   "cell_type": "code",
   "execution_count": null,
   "id": "6239d4e1",
   "metadata": {},
   "outputs": [],
   "source": []
  }
 ],
 "metadata": {
  "kernelspec": {
   "display_name": "Python 3 (ipykernel)",
   "language": "python",
   "name": "python3"
  },
  "language_info": {
   "codemirror_mode": {
    "name": "ipython",
    "version": 3
   },
   "file_extension": ".py",
   "mimetype": "text/x-python",
   "name": "python",
   "nbconvert_exporter": "python",
   "pygments_lexer": "ipython3",
   "version": "3.8.5"
  }
 },
 "nbformat": 4,
 "nbformat_minor": 5
}
