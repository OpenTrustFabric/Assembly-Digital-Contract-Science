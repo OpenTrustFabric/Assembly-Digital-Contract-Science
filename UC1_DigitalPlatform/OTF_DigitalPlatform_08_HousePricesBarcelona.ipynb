{
 "cells": [
  {
   "cell_type": "code",
   "execution_count": 40,
   "metadata": {},
   "outputs": [],
   "source": [
    "import pandas as pd\n",
    "import numpy as np\n",
    "\n",
    "#from folium import plugins\n",
    "#import folium\n",
    "\n",
    "#import seaborn as sns\n",
    "#sns.set(rc={'figure.figsize':(18.7,7.27)})\n",
    "\n",
    "import matplotlib.pyplot as plt\n",
    "%matplotlib inline"
   ]
  },
  {
   "cell_type": "markdown",
   "metadata": {},
   "source": [
    "# Analysis correlation pay house and pay listing in Barcelona city\n",
    "\n",
    "- Analyzed the year 2017 because it was the most complete on both the case side and the listing side\n"
   ]
  },
  {
   "cell_type": "code",
   "execution_count": null,
   "metadata": {},
   "outputs": [],
   "source": []
  },
  {
   "cell_type": "code",
   "execution_count": 11,
   "metadata": {},
   "outputs": [],
   "source": [
    "# user-defined functions\n",
    "\n",
    "def fix_price (value):\n",
    "    try:\n",
    "        value = value.replace(\"$\", '').replace(\",\", '')\n",
    "        value = float(value)\n",
    "        return value\n",
    "    except: return np.nan  "
   ]
  },
  {
   "cell_type": "code",
   "execution_count": null,
   "metadata": {},
   "outputs": [],
   "source": []
  },
  {
   "cell_type": "markdown",
   "metadata": {},
   "source": [
    "#### Listings"
   ]
  },
  {
   "cell_type": "code",
   "execution_count": 14,
   "metadata": {},
   "outputs": [],
   "source": [
    "listing_barcelona = pd.read_csv(\"listings_append.csv\", low_memory=False)"
   ]
  },
  {
   "cell_type": "code",
   "execution_count": 15,
   "metadata": {},
   "outputs": [],
   "source": [
    "listing_barcelona['price'] = listing_barcelona['price'].apply(lambda x : fix_price(x))"
   ]
  },
  {
   "cell_type": "code",
   "execution_count": 16,
   "metadata": {},
   "outputs": [],
   "source": [
    "listing_barcelona['date_year_quarter'] = pd.to_datetime(listing_barcelona['date_year_month'], format='%Y-%m-%d').dt.strftime('%Y-%m-%d')\n",
    "listing_barcelona['date_year_quarter'] = pd.to_datetime(listing_barcelona['date_year_quarter'])\n",
    "listing_barcelona['date_year_quarter']=listing_barcelona['date_year_quarter'].dt.to_period('Q')\n",
    "\n",
    "listing_barcelona['year'] = listing_barcelona['date_year_quarter'].dt.year\n",
    "listing_barcelona['quarter'] = listing_barcelona['date_year_quarter'].dt.quarter"
   ]
  },
  {
   "cell_type": "code",
   "execution_count": null,
   "metadata": {},
   "outputs": [],
   "source": []
  },
  {
   "cell_type": "markdown",
   "metadata": {},
   "source": [
    "#### Reviews"
   ]
  },
  {
   "cell_type": "code",
   "execution_count": 17,
   "metadata": {},
   "outputs": [],
   "source": [
    "review_barcelona = pd.read_csv(\"reviews_barcellona.csv\")"
   ]
  },
  {
   "cell_type": "code",
   "execution_count": 18,
   "metadata": {},
   "outputs": [],
   "source": [
    "review_barcelona['date_year_quarter'] = pd.to_datetime(review_barcelona['date_year_month'], format='%Y-%m-%d').dt.strftime('%Y-%m-%d')\n",
    "review_barcelona['date_year_quarter'] = pd.to_datetime(review_barcelona['date_year_quarter'])\n",
    "review_barcelona['date_year_quarter']=review_barcelona['date_year_quarter'].dt.to_period('Q')\n",
    "\n",
    "review_barcelona['year'] = review_barcelona['date_year_quarter'].dt.year\n",
    "review_barcelona['quarter'] = review_barcelona['date_year_quarter'].dt.quarter"
   ]
  },
  {
   "cell_type": "code",
   "execution_count": null,
   "metadata": {},
   "outputs": [],
   "source": []
  },
  {
   "cell_type": "markdown",
   "metadata": {},
   "source": [
    "#### house prices"
   ]
  },
  {
   "cell_type": "code",
   "execution_count": 20,
   "metadata": {},
   "outputs": [],
   "source": [
    "pay_house_2017 = pd.read_csv(\"2017_lloguer_preu_trim.csv\", dtype=str)"
   ]
  },
  {
   "cell_type": "code",
   "execution_count": 21,
   "metadata": {},
   "outputs": [],
   "source": [
    "pay_house_2017['date_year_month'] = pay_house_2017['Any'] + '-' + pay_house_2017['Trimestre']\n",
    "\n",
    "pay_house_2017 = pay_house_2017[['Any','Trimestre','Nom_Districte','Preu','date_year_month']]\n",
    "pay_house_2017.columns=['year','quarter','neighbourhood_group_cleansed','price_house','date_year_month']\n",
    "\n",
    "pay_house_2017['price_house'] = pay_house_2017['price_house'].astype(float)\n",
    "pay_house_2017['year'] = pay_house_2017['year'].astype(int)\n",
    "pay_house_2017['quarter'] = pay_house_2017['quarter'].astype(int)\n",
    "\n",
    "pay_house_2017 = pay_house_2017.groupby([\"neighbourhood_group_cleansed\", 'year','quarter'])[[\"price_house\"]].mean()\n",
    "pay_house_2017 = pay_house_2017.reset_index()"
   ]
  },
  {
   "cell_type": "code",
   "execution_count": 22,
   "metadata": {},
   "outputs": [
    {
     "data": {
      "text/html": [
       "<div>\n",
       "<style scoped>\n",
       "    .dataframe tbody tr th:only-of-type {\n",
       "        vertical-align: middle;\n",
       "    }\n",
       "\n",
       "    .dataframe tbody tr th {\n",
       "        vertical-align: top;\n",
       "    }\n",
       "\n",
       "    .dataframe thead th {\n",
       "        text-align: right;\n",
       "    }\n",
       "</style>\n",
       "<table border=\"1\" class=\"dataframe\">\n",
       "  <thead>\n",
       "    <tr style=\"text-align: right;\">\n",
       "      <th></th>\n",
       "      <th>neighbourhood_group_cleansed</th>\n",
       "      <th>year</th>\n",
       "      <th>quarter</th>\n",
       "      <th>price_house</th>\n",
       "    </tr>\n",
       "  </thead>\n",
       "  <tbody>\n",
       "    <tr>\n",
       "      <th>0</th>\n",
       "      <td>Ciutat Vella</td>\n",
       "      <td>2017</td>\n",
       "      <td>1</td>\n",
       "      <td>415.052500</td>\n",
       "    </tr>\n",
       "    <tr>\n",
       "      <th>1</th>\n",
       "      <td>Ciutat Vella</td>\n",
       "      <td>2017</td>\n",
       "      <td>2</td>\n",
       "      <td>426.770000</td>\n",
       "    </tr>\n",
       "    <tr>\n",
       "      <th>2</th>\n",
       "      <td>Ciutat Vella</td>\n",
       "      <td>2017</td>\n",
       "      <td>3</td>\n",
       "      <td>442.870000</td>\n",
       "    </tr>\n",
       "    <tr>\n",
       "      <th>3</th>\n",
       "      <td>Ciutat Vella</td>\n",
       "      <td>2017</td>\n",
       "      <td>4</td>\n",
       "      <td>439.440000</td>\n",
       "    </tr>\n",
       "    <tr>\n",
       "      <th>4</th>\n",
       "      <td>Eixample</td>\n",
       "      <td>2017</td>\n",
       "      <td>1</td>\n",
       "      <td>477.834167</td>\n",
       "    </tr>\n",
       "  </tbody>\n",
       "</table>\n",
       "</div>"
      ],
      "text/plain": [
       "  neighbourhood_group_cleansed  year  quarter  price_house\n",
       "0                 Ciutat Vella  2017        1   415.052500\n",
       "1                 Ciutat Vella  2017        2   426.770000\n",
       "2                 Ciutat Vella  2017        3   442.870000\n",
       "3                 Ciutat Vella  2017        4   439.440000\n",
       "4                     Eixample  2017        1   477.834167"
      ]
     },
     "execution_count": 22,
     "metadata": {},
     "output_type": "execute_result"
    }
   ],
   "source": [
    "pay_house_2017.head()"
   ]
  },
  {
   "cell_type": "code",
   "execution_count": null,
   "metadata": {},
   "outputs": [],
   "source": []
  },
  {
   "cell_type": "code",
   "execution_count": 24,
   "metadata": {},
   "outputs": [],
   "source": [
    "#### check neighbourhood\n",
    "#np.unique(pay_house_2020['neighbourhood_group_cleansed'])\n",
    "#np.unique(listing_barcelona.neighbourhood_group_cleansed)"
   ]
  },
  {
   "cell_type": "code",
   "execution_count": null,
   "metadata": {},
   "outputs": [],
   "source": []
  },
  {
   "cell_type": "code",
   "execution_count": 25,
   "metadata": {},
   "outputs": [],
   "source": [
    "### join listing\n",
    "\n",
    "listing_final = listing_barcelona.merge(pay_house_2017,\n",
    "                                        on =['year','quarter','neighbourhood_group_cleansed'],\n",
    "                                        how='left')                    "
   ]
  },
  {
   "cell_type": "code",
   "execution_count": 28,
   "metadata": {},
   "outputs": [
    {
     "data": {
      "text/html": [
       "<div>\n",
       "<style scoped>\n",
       "    .dataframe tbody tr th:only-of-type {\n",
       "        vertical-align: middle;\n",
       "    }\n",
       "\n",
       "    .dataframe tbody tr th {\n",
       "        vertical-align: top;\n",
       "    }\n",
       "\n",
       "    .dataframe thead th {\n",
       "        text-align: right;\n",
       "    }\n",
       "</style>\n",
       "<table border=\"1\" class=\"dataframe\">\n",
       "  <thead>\n",
       "    <tr style=\"text-align: right;\">\n",
       "      <th></th>\n",
       "      <th>index</th>\n",
       "      <th>id</th>\n",
       "      <th>listing_url</th>\n",
       "      <th>scrape_id</th>\n",
       "      <th>last_scraped</th>\n",
       "      <th>name</th>\n",
       "      <th>description</th>\n",
       "      <th>neighborhood_overview</th>\n",
       "      <th>picture_url</th>\n",
       "      <th>host_id</th>\n",
       "      <th>...</th>\n",
       "      <th>requires_license</th>\n",
       "      <th>jurisdiction_names</th>\n",
       "      <th>is_business_travel_ready</th>\n",
       "      <th>cancellation_policy</th>\n",
       "      <th>require_guest_profile_picture</th>\n",
       "      <th>require_guest_phone_verification</th>\n",
       "      <th>date_year_quarter</th>\n",
       "      <th>year</th>\n",
       "      <th>quarter</th>\n",
       "      <th>price_house</th>\n",
       "    </tr>\n",
       "  </thead>\n",
       "  <tbody>\n",
       "    <tr>\n",
       "      <th>0</th>\n",
       "      <td>0</td>\n",
       "      <td>18674</td>\n",
       "      <td>https://www.airbnb.com/rooms/18674</td>\n",
       "      <td>20210412154247</td>\n",
       "      <td>2021-04-13</td>\n",
       "      <td>Huge flat for 8 people close to Sagrada Familia</td>\n",
       "      <td>110m2 apartment to rent in Barcelona. Located ...</td>\n",
       "      <td>Apartment in Barcelona located in the heart of...</td>\n",
       "      <td>https://a0.muscache.com/pictures/13031453/413c...</td>\n",
       "      <td>71615</td>\n",
       "      <td>...</td>\n",
       "      <td>NaN</td>\n",
       "      <td>NaN</td>\n",
       "      <td>NaN</td>\n",
       "      <td>NaN</td>\n",
       "      <td>NaN</td>\n",
       "      <td>NaN</td>\n",
       "      <td>2021Q2</td>\n",
       "      <td>2021</td>\n",
       "      <td>2</td>\n",
       "      <td>NaN</td>\n",
       "    </tr>\n",
       "  </tbody>\n",
       "</table>\n",
       "<p>1 rows × 116 columns</p>\n",
       "</div>"
      ],
      "text/plain": [
       "   index     id                         listing_url       scrape_id  \\\n",
       "0      0  18674  https://www.airbnb.com/rooms/18674  20210412154247   \n",
       "\n",
       "  last_scraped                                             name  \\\n",
       "0   2021-04-13  Huge flat for 8 people close to Sagrada Familia   \n",
       "\n",
       "                                         description  \\\n",
       "0  110m2 apartment to rent in Barcelona. Located ...   \n",
       "\n",
       "                               neighborhood_overview  \\\n",
       "0  Apartment in Barcelona located in the heart of...   \n",
       "\n",
       "                                         picture_url  host_id  ...  \\\n",
       "0  https://a0.muscache.com/pictures/13031453/413c...    71615  ...   \n",
       "\n",
       "  requires_license jurisdiction_names is_business_travel_ready  \\\n",
       "0              NaN                NaN                      NaN   \n",
       "\n",
       "  cancellation_policy require_guest_profile_picture  \\\n",
       "0                 NaN                           NaN   \n",
       "\n",
       "  require_guest_phone_verification date_year_quarter  year quarter price_house  \n",
       "0                              NaN            2021Q2  2021       2         NaN  \n",
       "\n",
       "[1 rows x 116 columns]"
      ]
     },
     "execution_count": 28,
     "metadata": {},
     "output_type": "execute_result"
    }
   ],
   "source": [
    "listing_final.head(1)"
   ]
  },
  {
   "cell_type": "code",
   "execution_count": null,
   "metadata": {},
   "outputs": [],
   "source": []
  },
  {
   "cell_type": "markdown",
   "metadata": {},
   "source": [
    "## ANALYSIS"
   ]
  },
  {
   "cell_type": "markdown",
   "metadata": {},
   "source": [
    "### Descritive"
   ]
  },
  {
   "cell_type": "code",
   "execution_count": 29,
   "metadata": {},
   "outputs": [],
   "source": [
    "listing_final = listing_final[(listing_final.year == 2017)]\n",
    "\n",
    "review_final = review_barcelona[(review_barcelona.year == 2017)]"
   ]
  },
  {
   "cell_type": "code",
   "execution_count": 30,
   "metadata": {},
   "outputs": [],
   "source": [
    "### join review file\n",
    "listing_final = listing_final[['id','price_house','neighbourhood_group_cleansed',\n",
    "                               'year','quarter','price','latitude','longitude']]\n",
    "\n",
    "listing_final.columns=['listing_id','price_house','neighbourhood_group_cleansed',\n",
    "                       'year','quarter','price','latitude','longitude']\n",
    "\n",
    "\n",
    "df_analysis=review_final.merge(listing_final,on =['listing_id','quarter','year'],how='left')"
   ]
  },
  {
   "cell_type": "code",
   "execution_count": 31,
   "metadata": {},
   "outputs": [],
   "source": [
    "df = df_analysis.groupby(['latitude','longitude','neighbourhood_group_cleansed'])[['reviewer_id']].count().reset_index()\n",
    "df = df.groupby(['latitude','longitude','neighbourhood_group_cleansed'])[['reviewer_id']].sum().reset_index()"
   ]
  },
  {
   "cell_type": "code",
   "execution_count": 32,
   "metadata": {},
   "outputs": [
    {
     "data": {
      "text/html": [
       "<div>\n",
       "<style scoped>\n",
       "    .dataframe tbody tr th:only-of-type {\n",
       "        vertical-align: middle;\n",
       "    }\n",
       "\n",
       "    .dataframe tbody tr th {\n",
       "        vertical-align: top;\n",
       "    }\n",
       "\n",
       "    .dataframe thead th {\n",
       "        text-align: right;\n",
       "    }\n",
       "</style>\n",
       "<table border=\"1\" class=\"dataframe\">\n",
       "  <thead>\n",
       "    <tr style=\"text-align: right;\">\n",
       "      <th></th>\n",
       "      <th>latitude</th>\n",
       "      <th>longitude</th>\n",
       "      <th>neighbourhood_group_cleansed</th>\n",
       "      <th>reviewer_id</th>\n",
       "    </tr>\n",
       "  </thead>\n",
       "  <tbody>\n",
       "    <tr>\n",
       "      <th>0</th>\n",
       "      <td>41.351938</td>\n",
       "      <td>2.148480</td>\n",
       "      <td>Sants-Montjuïc</td>\n",
       "      <td>35</td>\n",
       "    </tr>\n",
       "    <tr>\n",
       "      <th>1</th>\n",
       "      <td>41.353093</td>\n",
       "      <td>2.141918</td>\n",
       "      <td>Sants-Montjuïc</td>\n",
       "      <td>2</td>\n",
       "    </tr>\n",
       "    <tr>\n",
       "      <th>2</th>\n",
       "      <td>41.353240</td>\n",
       "      <td>2.147595</td>\n",
       "      <td>Sants-Montjuïc</td>\n",
       "      <td>8</td>\n",
       "    </tr>\n",
       "    <tr>\n",
       "      <th>3</th>\n",
       "      <td>41.353790</td>\n",
       "      <td>2.146846</td>\n",
       "      <td>Sants-Montjuïc</td>\n",
       "      <td>23</td>\n",
       "    </tr>\n",
       "    <tr>\n",
       "      <th>4</th>\n",
       "      <td>41.357095</td>\n",
       "      <td>2.135831</td>\n",
       "      <td>Sants-Montjuïc</td>\n",
       "      <td>13</td>\n",
       "    </tr>\n",
       "  </tbody>\n",
       "</table>\n",
       "</div>"
      ],
      "text/plain": [
       "    latitude  longitude neighbourhood_group_cleansed  reviewer_id\n",
       "0  41.351938   2.148480               Sants-Montjuïc           35\n",
       "1  41.353093   2.141918               Sants-Montjuïc            2\n",
       "2  41.353240   2.147595               Sants-Montjuïc            8\n",
       "3  41.353790   2.146846               Sants-Montjuïc           23\n",
       "4  41.357095   2.135831               Sants-Montjuïc           13"
      ]
     },
     "execution_count": 32,
     "metadata": {},
     "output_type": "execute_result"
    }
   ],
   "source": [
    "df.head()"
   ]
  },
  {
   "cell_type": "code",
   "execution_count": 33,
   "metadata": {},
   "outputs": [
    {
     "data": {
      "text/plain": [
       "array(['Sants-Montjuïc', 'Les Corts', 'Ciutat Vella', 'Eixample',\n",
       "       'Sant Martí', 'Sarrià-Sant Gervasi', 'Gràcia', 'Horta-Guinardó',\n",
       "       'Sant Andreu', 'Nou Barris'], dtype=object)"
      ]
     },
     "execution_count": 33,
     "metadata": {},
     "output_type": "execute_result"
    }
   ],
   "source": [
    "df.neighbourhood_group_cleansed.unique()"
   ]
  },
  {
   "cell_type": "code",
   "execution_count": null,
   "metadata": {},
   "outputs": [],
   "source": []
  },
  {
   "cell_type": "code",
   "execution_count": null,
   "metadata": {},
   "outputs": [],
   "source": [
    "# Create a map object of the city of Barcelona\n",
    "barcelona_map = folium.Map(location=[41.38879, 2.15899], zoom_start=12)\n",
    "\n",
    "# Instantiate a mark cluster object\n",
    "obj = plugins.MarkerCluster().add_to(barcelona_map)\n",
    "\n",
    "for lat, lng, label in zip(df.latitude, df.longitude, df.reviewer_id.astype(str)):\n",
    "    if label!='0':\n",
    "        folium.Marker(\n",
    "            location=[lat, lng],\n",
    "            #icon=label,\n",
    "            popup='Number contract' + ':' + label,\n",
    "        ).add_to(obj)\n",
    "\n",
    "# Display map\n",
    "barcelona_map"
   ]
  },
  {
   "cell_type": "code",
   "execution_count": null,
   "metadata": {},
   "outputs": [],
   "source": []
  },
  {
   "cell_type": "code",
   "execution_count": null,
   "metadata": {},
   "outputs": [],
   "source": [
    "### create dataframe quarter"
   ]
  },
  {
   "cell_type": "code",
   "execution_count": 35,
   "metadata": {},
   "outputs": [],
   "source": [
    "df_1 = df_analysis.groupby([\"neighbourhood_group_cleansed\", 'quarter'])[[\"reviewer_id\"]].count().reset_index()"
   ]
  },
  {
   "cell_type": "code",
   "execution_count": 36,
   "metadata": {},
   "outputs": [],
   "source": [
    "df_2 = df_analysis.groupby([\"neighbourhood_group_cleansed\", 'quarter'])[[\"price_house\"]].median().reset_index()"
   ]
  },
  {
   "cell_type": "code",
   "execution_count": 37,
   "metadata": {},
   "outputs": [],
   "source": [
    "df_3 = df_analysis.groupby([\"neighbourhood_group_cleansed\", 'quarter'])[[\"price\"]].median().reset_index()"
   ]
  },
  {
   "cell_type": "code",
   "execution_count": 38,
   "metadata": {},
   "outputs": [],
   "source": [
    "df_quarter = pd.concat([df_1, df_2['price_house'], df_3['price']],axis=1)"
   ]
  },
  {
   "cell_type": "code",
   "execution_count": null,
   "metadata": {},
   "outputs": [],
   "source": []
  },
  {
   "cell_type": "code",
   "execution_count": 60,
   "metadata": {},
   "outputs": [
    {
     "data": {
      "image/png": "[encoded data removed]",
      "text/plain": [
       "<Figure size 1080x360 with 1 Axes>"
      ]
     },
     "metadata": {
      "needs_background": "light"
     },
     "output_type": "display_data"
    }
   ],
   "source": [
    "graph = pd.pivot_table(data = df_quarter,\n",
    "                       index=['neighbourhood_group_cleansed'],\n",
    "                       #columns = \"ASSET_LOCATION\",\n",
    "                       values=[\"reviewer_id\"], \n",
    "                       aggfunc=\"sum\",\n",
    "                       )\n",
    "\n",
    "graph = graph.reset_index()\n",
    "\n",
    "fig = plt.figure(figsize = (15, 5))\n",
    " \n",
    "# creating the bar plot\n",
    "plt.bar(graph.neighbourhood_group_cleansed, graph.reviewer_id, color ='orange',\n",
    "        width = 0.4)\n",
    " \n",
    "plt.xlabel(\"Neighbourhood\")\n",
    "plt.xticks(fontsize=10, rotation=15)\n",
    "plt.ylabel(\"Total reviewer_id\")\n",
    "plt.title(\"TOTAL CONTRACT FOR NEIGHBOURHOOD\")\n",
    "plt.show()"
   ]
  },
  {
   "cell_type": "code",
   "execution_count": 61,
   "metadata": {},
   "outputs": [
    {
     "data": {
      "image/png": "[encoded data removed]",
      "text/plain": [
       "<Figure size 1080x360 with 1 Axes>"
      ]
     },
     "metadata": {
      "needs_background": "light"
     },
     "output_type": "display_data"
    }
   ],
   "source": [
    "graph = pd.pivot_table(data = df_quarter,\n",
    "                       index=['neighbourhood_group_cleansed'],\n",
    "                       #columns = \"ASSET_LOCATION\",\n",
    "                       values=[\"price_house\"], \n",
    "                       aggfunc=\"mean\",\n",
    "                       )\n",
    "\n",
    "graph = graph.reset_index()\n",
    "\n",
    "fig = plt.figure(figsize = (15, 5))\n",
    " \n",
    "# creating the bar plot\n",
    "plt.bar(graph.neighbourhood_group_cleansed, graph.price_house, color ='blue',\n",
    "        width = 0.4)\n",
    " \n",
    "plt.xlabel(\"Neighbourhood\")\n",
    "plt.xticks(fontsize=10, rotation=15)\n",
    "plt.ylabel(\"Mean pay\")\n",
    "plt.title(\"MEAN PAY HOUSE FOR NEIGHBOURHOOD\")\n",
    "plt.show()\n"
   ]
  },
  {
   "cell_type": "code",
   "execution_count": 62,
   "metadata": {},
   "outputs": [
    {
     "data": {
      "image/png": "[encoded data removed]",
      "text/plain": [
       "<Figure size 1080x360 with 1 Axes>"
      ]
     },
     "metadata": {
      "needs_background": "light"
     },
     "output_type": "display_data"
    }
   ],
   "source": [
    "graph = pd.pivot_table(data = df_quarter,\n",
    "                                  index=['neighbourhood_group_cleansed'],\n",
    "                                  #columns = \"ASSET_LOCATION\",\n",
    "                                  values=[\"price\"], \n",
    "                                  aggfunc=\"mean\",\n",
    "                                  )\n",
    "\n",
    "graph = graph.reset_index()\n",
    "\n",
    "fig = plt.figure(figsize = (15, 5))\n",
    " \n",
    "# creating the bar plot\n",
    "plt.bar(graph.neighbourhood_group_cleansed, graph.price, color ='green',\n",
    "        width = 0.4)\n",
    " \n",
    "plt.xlabel(\"Neighbourhood\")\n",
    "plt.xticks(fontsize=10, rotation=15)\n",
    "plt.ylabel(\"Mean pay\")\n",
    "plt.title(\"MEAN PAY LISTING FOR NEIGHBOURHOOD\")\n",
    "plt.show()"
   ]
  },
  {
   "cell_type": "code",
   "execution_count": null,
   "metadata": {},
   "outputs": [],
   "source": []
  },
  {
   "cell_type": "markdown",
   "metadata": {},
   "source": [
    "### Correlation"
   ]
  },
  {
   "cell_type": "code",
   "execution_count": 44,
   "metadata": {},
   "outputs": [
    {
     "data": {
      "text/html": [
       "<div>\n",
       "<style scoped>\n",
       "    .dataframe tbody tr th:only-of-type {\n",
       "        vertical-align: middle;\n",
       "    }\n",
       "\n",
       "    .dataframe tbody tr th {\n",
       "        vertical-align: top;\n",
       "    }\n",
       "\n",
       "    .dataframe thead th {\n",
       "        text-align: right;\n",
       "    }\n",
       "</style>\n",
       "<table border=\"1\" class=\"dataframe\">\n",
       "  <thead>\n",
       "    <tr style=\"text-align: right;\">\n",
       "      <th></th>\n",
       "      <th>neighbourhood_group_cleansed</th>\n",
       "      <th>quarter</th>\n",
       "      <th>reviewer_id</th>\n",
       "      <th>price_house</th>\n",
       "      <th>price</th>\n",
       "    </tr>\n",
       "  </thead>\n",
       "  <tbody>\n",
       "    <tr>\n",
       "      <th>0</th>\n",
       "      <td>Ciutat Vella</td>\n",
       "      <td>1</td>\n",
       "      <td>2498</td>\n",
       "      <td>415.0525</td>\n",
       "      <td>50.0</td>\n",
       "    </tr>\n",
       "    <tr>\n",
       "      <th>1</th>\n",
       "      <td>Ciutat Vella</td>\n",
       "      <td>2</td>\n",
       "      <td>8894</td>\n",
       "      <td>426.7700</td>\n",
       "      <td>50.0</td>\n",
       "    </tr>\n",
       "  </tbody>\n",
       "</table>\n",
       "</div>"
      ],
      "text/plain": [
       "  neighbourhood_group_cleansed  quarter  reviewer_id  price_house  price\n",
       "0                 Ciutat Vella        1         2498     415.0525   50.0\n",
       "1                 Ciutat Vella        2         8894     426.7700   50.0"
      ]
     },
     "execution_count": 44,
     "metadata": {},
     "output_type": "execute_result"
    }
   ],
   "source": [
    "df_quarter.head(2)"
   ]
  },
  {
   "cell_type": "code",
   "execution_count": 45,
   "metadata": {},
   "outputs": [
    {
     "data": {
      "text/plain": [
       "array([1, 2, 3, 4])"
      ]
     },
     "execution_count": 45,
     "metadata": {},
     "output_type": "execute_result"
    }
   ],
   "source": [
    "np.unique(df_quarter['quarter'])"
   ]
  },
  {
   "cell_type": "code",
   "execution_count": null,
   "metadata": {
    "scrolled": true
   },
   "outputs": [],
   "source": [
    "fig, axes = plt.subplots(1,4)\n",
    "sub = []\n",
    "corr = round(df_quarter.price.corr(df_quarter.price_house), 2)\n",
    "fig.suptitle('Correlation between price house and price listing: {}'.format(corr), fontsize=24)\n",
    "\n",
    "# calculate the correlation matrix\n",
    "for quarter in np.unique(df_quarter['quarter']):\n",
    "    df_graph = df_quarter[df_quarter['quarter'] == quarter]\n",
    "    corr = df_graph[['price','price_house']].corr()\n",
    "    g = sns.heatmap(corr, \n",
    "                    xticklabels = corr.columns,\n",
    "                    yticklabels = corr.columns,\n",
    "                    ax=axes[quarter % 4])\n",
    "    g.set_title('Quarter' + ':'+ str(quarter))\n",
    "    g"
   ]
  },
  {
   "cell_type": "code",
   "execution_count": null,
   "metadata": {},
   "outputs": [],
   "source": []
  },
  {
   "cell_type": "code",
   "execution_count": null,
   "metadata": {},
   "outputs": [],
   "source": [
    "fig, axes = plt.subplots(1,4)\n",
    "sub = []\n",
    "\n",
    "corr = round(df_quarter.reviewer_id.corr(df_quarter.price_house), 2)\n",
    "fig.suptitle('Correlation between price house and number contract: {}'.format(corr), fontsize=24)\n",
    "\n",
    "# calculate the correlation matrix\n",
    "for quarter in np.unique(df_analysis['quarter']):\n",
    "    df_graph=df_analysis[df_analysis['quarter']== quarter]\n",
    "    corr = df_graph[['reviewer_id','price_house']].corr()\n",
    "    g=sns.heatmap(corr,\n",
    "                  xticklabels = corr.columns,\n",
    "                  yticklabels = corr.columns,\n",
    "                  ax = axes[quarter % 4])\n",
    "    g.set_title('Quarter' + ':'+ str(quarter))\n",
    "    g"
   ]
  },
  {
   "cell_type": "code",
   "execution_count": null,
   "metadata": {},
   "outputs": [],
   "source": []
  },
  {
   "cell_type": "code",
   "execution_count": 46,
   "metadata": {},
   "outputs": [
    {
     "data": {
      "text/html": [
       "<div>\n",
       "<style scoped>\n",
       "    .dataframe tbody tr th:only-of-type {\n",
       "        vertical-align: middle;\n",
       "    }\n",
       "\n",
       "    .dataframe tbody tr th {\n",
       "        vertical-align: top;\n",
       "    }\n",
       "\n",
       "    .dataframe thead th {\n",
       "        text-align: right;\n",
       "    }\n",
       "</style>\n",
       "<table border=\"1\" class=\"dataframe\">\n",
       "  <thead>\n",
       "    <tr style=\"text-align: right;\">\n",
       "      <th></th>\n",
       "      <th></th>\n",
       "      <th>price</th>\n",
       "      <th>price_house</th>\n",
       "    </tr>\n",
       "    <tr>\n",
       "      <th>neighbourhood_group_cleansed</th>\n",
       "      <th></th>\n",
       "      <th></th>\n",
       "      <th></th>\n",
       "    </tr>\n",
       "  </thead>\n",
       "  <tbody>\n",
       "    <tr>\n",
       "      <th rowspan=\"2\" valign=\"top\">Ciutat Vella</th>\n",
       "      <th>price</th>\n",
       "      <td>1.000000</td>\n",
       "      <td>0.031814</td>\n",
       "    </tr>\n",
       "    <tr>\n",
       "      <th>price_house</th>\n",
       "      <td>0.031814</td>\n",
       "      <td>1.000000</td>\n",
       "    </tr>\n",
       "    <tr>\n",
       "      <th rowspan=\"2\" valign=\"top\">Eixample</th>\n",
       "      <th>price</th>\n",
       "      <td>1.000000</td>\n",
       "      <td>0.021410</td>\n",
       "    </tr>\n",
       "    <tr>\n",
       "      <th>price_house</th>\n",
       "      <td>0.021410</td>\n",
       "      <td>1.000000</td>\n",
       "    </tr>\n",
       "    <tr>\n",
       "      <th rowspan=\"2\" valign=\"top\">Gràcia</th>\n",
       "      <th>price</th>\n",
       "      <td>1.000000</td>\n",
       "      <td>0.018204</td>\n",
       "    </tr>\n",
       "    <tr>\n",
       "      <th>price_house</th>\n",
       "      <td>0.018204</td>\n",
       "      <td>1.000000</td>\n",
       "    </tr>\n",
       "    <tr>\n",
       "      <th rowspan=\"2\" valign=\"top\">Horta-Guinardó</th>\n",
       "      <th>price</th>\n",
       "      <td>1.000000</td>\n",
       "      <td>0.012236</td>\n",
       "    </tr>\n",
       "    <tr>\n",
       "      <th>price_house</th>\n",
       "      <td>0.012236</td>\n",
       "      <td>1.000000</td>\n",
       "    </tr>\n",
       "    <tr>\n",
       "      <th rowspan=\"2\" valign=\"top\">Les Corts</th>\n",
       "      <th>price</th>\n",
       "      <td>1.000000</td>\n",
       "      <td>-0.032448</td>\n",
       "    </tr>\n",
       "    <tr>\n",
       "      <th>price_house</th>\n",
       "      <td>-0.032448</td>\n",
       "      <td>1.000000</td>\n",
       "    </tr>\n",
       "    <tr>\n",
       "      <th rowspan=\"2\" valign=\"top\">Nou Barris</th>\n",
       "      <th>price</th>\n",
       "      <td>1.000000</td>\n",
       "      <td>0.108321</td>\n",
       "    </tr>\n",
       "    <tr>\n",
       "      <th>price_house</th>\n",
       "      <td>0.108321</td>\n",
       "      <td>1.000000</td>\n",
       "    </tr>\n",
       "    <tr>\n",
       "      <th rowspan=\"2\" valign=\"top\">Sant Andreu</th>\n",
       "      <th>price</th>\n",
       "      <td>1.000000</td>\n",
       "      <td>0.023244</td>\n",
       "    </tr>\n",
       "    <tr>\n",
       "      <th>price_house</th>\n",
       "      <td>0.023244</td>\n",
       "      <td>1.000000</td>\n",
       "    </tr>\n",
       "    <tr>\n",
       "      <th rowspan=\"2\" valign=\"top\">Sant Martí</th>\n",
       "      <th>price</th>\n",
       "      <td>1.000000</td>\n",
       "      <td>0.043757</td>\n",
       "    </tr>\n",
       "    <tr>\n",
       "      <th>price_house</th>\n",
       "      <td>0.043757</td>\n",
       "      <td>1.000000</td>\n",
       "    </tr>\n",
       "    <tr>\n",
       "      <th rowspan=\"2\" valign=\"top\">Sants-Montjuïc</th>\n",
       "      <th>price</th>\n",
       "      <td>1.000000</td>\n",
       "      <td>0.004364</td>\n",
       "    </tr>\n",
       "    <tr>\n",
       "      <th>price_house</th>\n",
       "      <td>0.004364</td>\n",
       "      <td>1.000000</td>\n",
       "    </tr>\n",
       "    <tr>\n",
       "      <th rowspan=\"2\" valign=\"top\">Sarrià-Sant Gervasi</th>\n",
       "      <th>price</th>\n",
       "      <td>1.000000</td>\n",
       "      <td>0.065692</td>\n",
       "    </tr>\n",
       "    <tr>\n",
       "      <th>price_house</th>\n",
       "      <td>0.065692</td>\n",
       "      <td>1.000000</td>\n",
       "    </tr>\n",
       "  </tbody>\n",
       "</table>\n",
       "</div>"
      ],
      "text/plain": [
       "                                             price  price_house\n",
       "neighbourhood_group_cleansed                                   \n",
       "Ciutat Vella                 price        1.000000     0.031814\n",
       "                             price_house  0.031814     1.000000\n",
       "Eixample                     price        1.000000     0.021410\n",
       "                             price_house  0.021410     1.000000\n",
       "Gràcia                       price        1.000000     0.018204\n",
       "                             price_house  0.018204     1.000000\n",
       "Horta-Guinardó               price        1.000000     0.012236\n",
       "                             price_house  0.012236     1.000000\n",
       "Les Corts                    price        1.000000    -0.032448\n",
       "                             price_house -0.032448     1.000000\n",
       "Nou Barris                   price        1.000000     0.108321\n",
       "                             price_house  0.108321     1.000000\n",
       "Sant Andreu                  price        1.000000     0.023244\n",
       "                             price_house  0.023244     1.000000\n",
       "Sant Martí                   price        1.000000     0.043757\n",
       "                             price_house  0.043757     1.000000\n",
       "Sants-Montjuïc               price        1.000000     0.004364\n",
       "                             price_house  0.004364     1.000000\n",
       "Sarrià-Sant Gervasi          price        1.000000     0.065692\n",
       "                             price_house  0.065692     1.000000"
      ]
     },
     "execution_count": 46,
     "metadata": {},
     "output_type": "execute_result"
    }
   ],
   "source": [
    "df_analysis.groupby('neighbourhood_group_cleansed')[['price','price_house']].corr()"
   ]
  },
  {
   "cell_type": "code",
   "execution_count": 47,
   "metadata": {},
   "outputs": [
    {
     "data": {
      "text/html": [
       "<div>\n",
       "<style scoped>\n",
       "    .dataframe tbody tr th:only-of-type {\n",
       "        vertical-align: middle;\n",
       "    }\n",
       "\n",
       "    .dataframe tbody tr th {\n",
       "        vertical-align: top;\n",
       "    }\n",
       "\n",
       "    .dataframe thead th {\n",
       "        text-align: right;\n",
       "    }\n",
       "</style>\n",
       "<table border=\"1\" class=\"dataframe\">\n",
       "  <thead>\n",
       "    <tr style=\"text-align: right;\">\n",
       "      <th></th>\n",
       "      <th></th>\n",
       "      <th>reviewer_id</th>\n",
       "      <th>price_house</th>\n",
       "    </tr>\n",
       "    <tr>\n",
       "      <th>neighbourhood_group_cleansed</th>\n",
       "      <th></th>\n",
       "      <th></th>\n",
       "      <th></th>\n",
       "    </tr>\n",
       "  </thead>\n",
       "  <tbody>\n",
       "    <tr>\n",
       "      <th rowspan=\"2\" valign=\"top\">Ciutat Vella</th>\n",
       "      <th>reviewer_id</th>\n",
       "      <td>1.000000</td>\n",
       "      <td>0.081885</td>\n",
       "    </tr>\n",
       "    <tr>\n",
       "      <th>price_house</th>\n",
       "      <td>0.081885</td>\n",
       "      <td>1.000000</td>\n",
       "    </tr>\n",
       "    <tr>\n",
       "      <th rowspan=\"2\" valign=\"top\">Eixample</th>\n",
       "      <th>reviewer_id</th>\n",
       "      <td>1.000000</td>\n",
       "      <td>0.096029</td>\n",
       "    </tr>\n",
       "    <tr>\n",
       "      <th>price_house</th>\n",
       "      <td>0.096029</td>\n",
       "      <td>1.000000</td>\n",
       "    </tr>\n",
       "    <tr>\n",
       "      <th rowspan=\"2\" valign=\"top\">Gràcia</th>\n",
       "      <th>reviewer_id</th>\n",
       "      <td>1.000000</td>\n",
       "      <td>0.000328</td>\n",
       "    </tr>\n",
       "    <tr>\n",
       "      <th>price_house</th>\n",
       "      <td>0.000328</td>\n",
       "      <td>1.000000</td>\n",
       "    </tr>\n",
       "    <tr>\n",
       "      <th rowspan=\"2\" valign=\"top\">Horta-Guinardó</th>\n",
       "      <th>reviewer_id</th>\n",
       "      <td>1.000000</td>\n",
       "      <td>0.084397</td>\n",
       "    </tr>\n",
       "    <tr>\n",
       "      <th>price_house</th>\n",
       "      <td>0.084397</td>\n",
       "      <td>1.000000</td>\n",
       "    </tr>\n",
       "    <tr>\n",
       "      <th rowspan=\"2\" valign=\"top\">Les Corts</th>\n",
       "      <th>reviewer_id</th>\n",
       "      <td>1.000000</td>\n",
       "      <td>0.053323</td>\n",
       "    </tr>\n",
       "    <tr>\n",
       "      <th>price_house</th>\n",
       "      <td>0.053323</td>\n",
       "      <td>1.000000</td>\n",
       "    </tr>\n",
       "    <tr>\n",
       "      <th rowspan=\"2\" valign=\"top\">Nou Barris</th>\n",
       "      <th>reviewer_id</th>\n",
       "      <td>1.000000</td>\n",
       "      <td>0.121469</td>\n",
       "    </tr>\n",
       "    <tr>\n",
       "      <th>price_house</th>\n",
       "      <td>0.121469</td>\n",
       "      <td>1.000000</td>\n",
       "    </tr>\n",
       "    <tr>\n",
       "      <th rowspan=\"2\" valign=\"top\">Sant Andreu</th>\n",
       "      <th>reviewer_id</th>\n",
       "      <td>1.000000</td>\n",
       "      <td>0.084367</td>\n",
       "    </tr>\n",
       "    <tr>\n",
       "      <th>price_house</th>\n",
       "      <td>0.084367</td>\n",
       "      <td>1.000000</td>\n",
       "    </tr>\n",
       "    <tr>\n",
       "      <th rowspan=\"2\" valign=\"top\">Sant Martí</th>\n",
       "      <th>reviewer_id</th>\n",
       "      <td>1.000000</td>\n",
       "      <td>0.104957</td>\n",
       "    </tr>\n",
       "    <tr>\n",
       "      <th>price_house</th>\n",
       "      <td>0.104957</td>\n",
       "      <td>1.000000</td>\n",
       "    </tr>\n",
       "    <tr>\n",
       "      <th rowspan=\"2\" valign=\"top\">Sants-Montjuïc</th>\n",
       "      <th>reviewer_id</th>\n",
       "      <td>1.000000</td>\n",
       "      <td>0.089964</td>\n",
       "    </tr>\n",
       "    <tr>\n",
       "      <th>price_house</th>\n",
       "      <td>0.089964</td>\n",
       "      <td>1.000000</td>\n",
       "    </tr>\n",
       "    <tr>\n",
       "      <th rowspan=\"2\" valign=\"top\">Sarrià-Sant Gervasi</th>\n",
       "      <th>reviewer_id</th>\n",
       "      <td>1.000000</td>\n",
       "      <td>0.074394</td>\n",
       "    </tr>\n",
       "    <tr>\n",
       "      <th>price_house</th>\n",
       "      <td>0.074394</td>\n",
       "      <td>1.000000</td>\n",
       "    </tr>\n",
       "  </tbody>\n",
       "</table>\n",
       "</div>"
      ],
      "text/plain": [
       "                                          reviewer_id  price_house\n",
       "neighbourhood_group_cleansed                                      \n",
       "Ciutat Vella                 reviewer_id     1.000000     0.081885\n",
       "                             price_house     0.081885     1.000000\n",
       "Eixample                     reviewer_id     1.000000     0.096029\n",
       "                             price_house     0.096029     1.000000\n",
       "Gràcia                       reviewer_id     1.000000     0.000328\n",
       "                             price_house     0.000328     1.000000\n",
       "Horta-Guinardó               reviewer_id     1.000000     0.084397\n",
       "                             price_house     0.084397     1.000000\n",
       "Les Corts                    reviewer_id     1.000000     0.053323\n",
       "                             price_house     0.053323     1.000000\n",
       "Nou Barris                   reviewer_id     1.000000     0.121469\n",
       "                             price_house     0.121469     1.000000\n",
       "Sant Andreu                  reviewer_id     1.000000     0.084367\n",
       "                             price_house     0.084367     1.000000\n",
       "Sant Martí                   reviewer_id     1.000000     0.104957\n",
       "                             price_house     0.104957     1.000000\n",
       "Sants-Montjuïc               reviewer_id     1.000000     0.089964\n",
       "                             price_house     0.089964     1.000000\n",
       "Sarrià-Sant Gervasi          reviewer_id     1.000000     0.074394\n",
       "                             price_house     0.074394     1.000000"
      ]
     },
     "execution_count": 47,
     "metadata": {},
     "output_type": "execute_result"
    }
   ],
   "source": [
    "df_analysis.groupby('neighbourhood_group_cleansed')[['reviewer_id','price_house']].corr()"
   ]
  },
  {
   "cell_type": "code",
   "execution_count": null,
   "metadata": {},
   "outputs": [],
   "source": []
  }
 ],
 "metadata": {
  "kernelspec": {
   "display_name": "Python 3",
   "language": "python",
   "name": "python3"
  },
  "language_info": {
   "codemirror_mode": {
    "name": "ipython",
    "version": 3
   },
   "file_extension": ".py",
   "mimetype": "text/x-python",
   "name": "python",
   "nbconvert_exporter": "python",
   "pygments_lexer": "ipython3",
   "version": "3.6.12"
  }
 },
 "nbformat": 4,
 "nbformat_minor": 4
}
