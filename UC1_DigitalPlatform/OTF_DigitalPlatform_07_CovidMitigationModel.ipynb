{
 "cells": [
  {
   "cell_type": "code",
   "execution_count": 13,
   "metadata": {},
   "outputs": [],
   "source": [
    "import pandas as pd\n",
    "import numpy as np\n",
    "import os\n",
    "import gzip\n",
    "from functools import reduce\n",
    "\n",
    "import warnings\n",
    "warnings.filterwarnings(\"ignore\")\n",
    "\n",
    "import matplotlib.pyplot as plt\n",
    "%matplotlib inline\n",
    "\n",
    "from IPython.display import set_matplotlib_formats\n",
    "set_matplotlib_formats('retina')\n",
    "\n",
    "from sklearn.model_selection import train_test_split\n",
    "from sklearn.tree import DecisionTreeRegressor as dtr\n",
    "from sklearn.linear_model import LinearRegression as lr"
   ]
  },
  {
   "cell_type": "code",
   "execution_count": 14,
   "metadata": {},
   "outputs": [],
   "source": [
    "data_path = '../../../ecme/UC1: Digital Platform/Data/'"
   ]
  },
  {
   "cell_type": "code",
   "execution_count": 15,
   "metadata": {},
   "outputs": [
    {
     "data": {
      "text/plain": [
       "['POLICY_NETWORK.csv.gzip',\n",
       " 'Reviews_historical.csv.gzip',\n",
       " 'PARTIES_DOMAIN_FEATURE.csv.gzip',\n",
       " 'CONTRACT_PARTIES.csv.gzip',\n",
       " 'total_reviews.csv',\n",
       " 'CONTRACT_EVENTS.csv.gzip',\n",
       " 'EVENTS_DOMAIN_FEATURE.csv.gzip',\n",
       " 'total_listings.csv',\n",
       " 'ASSETS_DOMAIN_FEATURE.csv.gzip',\n",
       " 'Listing_historical.csv.gzip',\n",
       " 'capitals.csv',\n",
       " 'CONTRACT_ASSET.csv.gzip']"
      ]
     },
     "execution_count": 15,
     "metadata": {},
     "output_type": "execute_result"
    }
   ],
   "source": [
    "os.listdir(data_path)"
   ]
  },
  {
   "cell_type": "code",
   "execution_count": 16,
   "metadata": {},
   "outputs": [],
   "source": [
    "with gzip.open(data_path + 'ASSETS_DOMAIN_FEATURE.csv.gzip') as file_in:\n",
    "    df_asset = pd.read_csv(file_in, low_memory=False)"
   ]
  },
  {
   "cell_type": "code",
   "execution_count": 17,
   "metadata": {},
   "outputs": [
    {
     "data": {
      "text/plain": [
       "Index(['MODEL_INSTANCE', 'PARTIES_ID', 'ASSET_ID', 'DATE_YEAR_MONTH',\n",
       "       'ASSETS_NAME', 'ASSETS_TYPE', 'ASSETS_DESCRIPTION',\n",
       "       'ASSETS_HOST_NEIGHBOURHOOD', 'ASSETS_NEIGHBORHOOD_OVERVIEW',\n",
       "       'ASSETS_LATITUDE', 'ASSETS_LONGITUDE', 'ASSETS_PROPERTY_TYPE',\n",
       "       'ASSETS_ROOM_TYPE', 'ASSETS_BEDROOMS', 'ASSETS_RETING_PRICE',\n",
       "       'ASSETS_REQUIRES_LICENS', 'ASSETS_REVIEW_SCORES_ACCURACY',\n",
       "       'ASSETS_REVIEW_SCORES_CHECKIN', 'ASSETS_REVIEW_SCORES_CLEANLINESS',\n",
       "       'ASSETS_REVIEW_SCORES_COMMUNICATION', 'ASSETS_REVIEW_SCORES_LOCATION',\n",
       "       'ASSETS_REVIEW_SCORES_RATING', 'ASSETS_REVIEW_SCORES_VALUE',\n",
       "       'ASSETS_REVIEW_PER_MONTH', 'PARTIES_ID_y', 'TIME_STAMP',\n",
       "       'ASSET_MIGRATION', 'ASSET_LOCATION', 'ASSET_NUMBER_REVIEWS',\n",
       "       'ASSET_PRICE', 'ASSET_AVAILABILITY_30'],\n",
       "      dtype='object')"
      ]
     },
     "execution_count": 17,
     "metadata": {},
     "output_type": "execute_result"
    }
   ],
   "source": [
    "df_asset.columns"
   ]
  },
  {
   "cell_type": "code",
   "execution_count": 18,
   "metadata": {},
   "outputs": [],
   "source": [
    "df_asset.rename(columns={'ASSET_MIGRATION' :'ASSET_MITIGATION_COVID'}, inplace=True)"
   ]
  },
  {
   "cell_type": "code",
   "execution_count": 19,
   "metadata": {},
   "outputs": [
    {
     "data": {
      "text/html": [
       "<div>\n",
       "<style scoped>\n",
       "    .dataframe tbody tr th:only-of-type {\n",
       "        vertical-align: middle;\n",
       "    }\n",
       "\n",
       "    .dataframe tbody tr th {\n",
       "        vertical-align: top;\n",
       "    }\n",
       "\n",
       "    .dataframe thead th {\n",
       "        text-align: right;\n",
       "    }\n",
       "</style>\n",
       "<table border=\"1\" class=\"dataframe\">\n",
       "  <thead>\n",
       "    <tr style=\"text-align: right;\">\n",
       "      <th></th>\n",
       "      <th>MODEL_INSTANCE</th>\n",
       "      <th>PARTIES_ID</th>\n",
       "      <th>ASSET_ID</th>\n",
       "      <th>DATE_YEAR_MONTH</th>\n",
       "      <th>ASSETS_NAME</th>\n",
       "      <th>ASSETS_TYPE</th>\n",
       "      <th>ASSETS_DESCRIPTION</th>\n",
       "      <th>ASSETS_HOST_NEIGHBOURHOOD</th>\n",
       "      <th>ASSETS_NEIGHBORHOOD_OVERVIEW</th>\n",
       "      <th>ASSETS_LATITUDE</th>\n",
       "      <th>...</th>\n",
       "      <th>ASSETS_REVIEW_SCORES_RATING</th>\n",
       "      <th>ASSETS_REVIEW_SCORES_VALUE</th>\n",
       "      <th>ASSETS_REVIEW_PER_MONTH</th>\n",
       "      <th>PARTIES_ID_y</th>\n",
       "      <th>TIME_STAMP</th>\n",
       "      <th>ASSET_MITIGATION_COVID</th>\n",
       "      <th>ASSET_LOCATION</th>\n",
       "      <th>ASSET_NUMBER_REVIEWS</th>\n",
       "      <th>ASSET_PRICE</th>\n",
       "      <th>ASSET_AVAILABILITY_30</th>\n",
       "    </tr>\n",
       "  </thead>\n",
       "  <tbody>\n",
       "    <tr>\n",
       "      <th>0</th>\n",
       "      <td>PJNs4Fpyg4</td>\n",
       "      <td>62142</td>\n",
       "      <td>15883</td>\n",
       "      <td>2015-04</td>\n",
       "      <td>NaN</td>\n",
       "      <td>NaN</td>\n",
       "      <td>NaN</td>\n",
       "      <td>NaN</td>\n",
       "      <td>NaN</td>\n",
       "      <td>NaN</td>\n",
       "      <td>...</td>\n",
       "      <td>NaN</td>\n",
       "      <td>NaN</td>\n",
       "      <td>NaN</td>\n",
       "      <td>NaN</td>\n",
       "      <td>NaN</td>\n",
       "      <td>NaN</td>\n",
       "      <td>NaN</td>\n",
       "      <td>NaN</td>\n",
       "      <td>NaN</td>\n",
       "      <td>NaN</td>\n",
       "    </tr>\n",
       "    <tr>\n",
       "      <th>1</th>\n",
       "      <td>rGvohKWuaC</td>\n",
       "      <td>62142</td>\n",
       "      <td>15883</td>\n",
       "      <td>2016-06</td>\n",
       "      <td>Eva</td>\n",
       "      <td>Real Bed</td>\n",
       "      <td>Four rooms, each one differently and individua...</td>\n",
       "      <td>Donaustadt</td>\n",
       "      <td>small and personal Four rooms at this B&amp;B, eac...</td>\n",
       "      <td>48.241436</td>\n",
       "      <td>...</td>\n",
       "      <td>100.0</td>\n",
       "      <td>10.0</td>\n",
       "      <td>0.07</td>\n",
       "      <td>62142.0</td>\n",
       "      <td>2016-06-04</td>\n",
       "      <td>0.0</td>\n",
       "      <td>vienna</td>\n",
       "      <td>1.0</td>\n",
       "      <td>$85.00</td>\n",
       "      <td>9.0</td>\n",
       "    </tr>\n",
       "    <tr>\n",
       "      <th>2</th>\n",
       "      <td>O1ZE3GDKxL</td>\n",
       "      <td>62142</td>\n",
       "      <td>15883</td>\n",
       "      <td>2016-07</td>\n",
       "      <td>Eva</td>\n",
       "      <td>Real Bed</td>\n",
       "      <td>Four rooms, each one differently and individua...</td>\n",
       "      <td>Donaustadt</td>\n",
       "      <td>small and personal Four rooms at this B&amp;B, eac...</td>\n",
       "      <td>48.241436</td>\n",
       "      <td>...</td>\n",
       "      <td>100.0</td>\n",
       "      <td>10.0</td>\n",
       "      <td>0.13</td>\n",
       "      <td>62142.0</td>\n",
       "      <td>2016-07-06</td>\n",
       "      <td>0.0</td>\n",
       "      <td>vienna</td>\n",
       "      <td>2.0</td>\n",
       "      <td>$85.00</td>\n",
       "      <td>17.0</td>\n",
       "    </tr>\n",
       "    <tr>\n",
       "      <th>3</th>\n",
       "      <td>2t2vxoLsH5</td>\n",
       "      <td>62142</td>\n",
       "      <td>15883</td>\n",
       "      <td>2016-08</td>\n",
       "      <td>Eva</td>\n",
       "      <td>Real Bed</td>\n",
       "      <td>Four rooms, each one differently and individua...</td>\n",
       "      <td>Donaustadt</td>\n",
       "      <td>small and personal Four rooms at this B&amp;B, eac...</td>\n",
       "      <td>48.241436</td>\n",
       "      <td>...</td>\n",
       "      <td>93.0</td>\n",
       "      <td>9.0</td>\n",
       "      <td>0.19</td>\n",
       "      <td>62142.0</td>\n",
       "      <td>2016-08-05</td>\n",
       "      <td>0.0</td>\n",
       "      <td>vienna</td>\n",
       "      <td>3.0</td>\n",
       "      <td>$85.00</td>\n",
       "      <td>9.0</td>\n",
       "    </tr>\n",
       "    <tr>\n",
       "      <th>4</th>\n",
       "      <td>KBHJiEPuFf</td>\n",
       "      <td>62142</td>\n",
       "      <td>15883</td>\n",
       "      <td>2016-11</td>\n",
       "      <td>Eva</td>\n",
       "      <td>Real Bed</td>\n",
       "      <td>Four rooms, each one differently and individua...</td>\n",
       "      <td>Donaustadt</td>\n",
       "      <td>small and personal Four rooms at this B&amp;B, eac...</td>\n",
       "      <td>48.241436</td>\n",
       "      <td>...</td>\n",
       "      <td>90.0</td>\n",
       "      <td>9.0</td>\n",
       "      <td>0.21</td>\n",
       "      <td>62142.0</td>\n",
       "      <td>2016-11-09</td>\n",
       "      <td>0.0</td>\n",
       "      <td>vienna</td>\n",
       "      <td>4.0</td>\n",
       "      <td>$85.00</td>\n",
       "      <td>9.0</td>\n",
       "    </tr>\n",
       "  </tbody>\n",
       "</table>\n",
       "<p>5 rows × 31 columns</p>\n",
       "</div>"
      ],
      "text/plain": [
       "  MODEL_INSTANCE  PARTIES_ID  ASSET_ID DATE_YEAR_MONTH ASSETS_NAME  \\\n",
       "0     PJNs4Fpyg4       62142     15883         2015-04         NaN   \n",
       "1     rGvohKWuaC       62142     15883         2016-06         Eva   \n",
       "2     O1ZE3GDKxL       62142     15883         2016-07         Eva   \n",
       "3     2t2vxoLsH5       62142     15883         2016-08         Eva   \n",
       "4     KBHJiEPuFf       62142     15883         2016-11         Eva   \n",
       "\n",
       "  ASSETS_TYPE                                 ASSETS_DESCRIPTION  \\\n",
       "0         NaN                                                NaN   \n",
       "1    Real Bed  Four rooms, each one differently and individua...   \n",
       "2    Real Bed  Four rooms, each one differently and individua...   \n",
       "3    Real Bed  Four rooms, each one differently and individua...   \n",
       "4    Real Bed  Four rooms, each one differently and individua...   \n",
       "\n",
       "  ASSETS_HOST_NEIGHBOURHOOD  \\\n",
       "0                       NaN   \n",
       "1                Donaustadt   \n",
       "2                Donaustadt   \n",
       "3                Donaustadt   \n",
       "4                Donaustadt   \n",
       "\n",
       "                        ASSETS_NEIGHBORHOOD_OVERVIEW  ASSETS_LATITUDE  ...  \\\n",
       "0                                                NaN              NaN  ...   \n",
       "1  small and personal Four rooms at this B&B, eac...        48.241436  ...   \n",
       "2  small and personal Four rooms at this B&B, eac...        48.241436  ...   \n",
       "3  small and personal Four rooms at this B&B, eac...        48.241436  ...   \n",
       "4  small and personal Four rooms at this B&B, eac...        48.241436  ...   \n",
       "\n",
       "   ASSETS_REVIEW_SCORES_RATING ASSETS_REVIEW_SCORES_VALUE  \\\n",
       "0                          NaN                        NaN   \n",
       "1                        100.0                       10.0   \n",
       "2                        100.0                       10.0   \n",
       "3                         93.0                        9.0   \n",
       "4                         90.0                        9.0   \n",
       "\n",
       "  ASSETS_REVIEW_PER_MONTH  PARTIES_ID_y  TIME_STAMP ASSET_MITIGATION_COVID  \\\n",
       "0                     NaN           NaN         NaN                    NaN   \n",
       "1                    0.07       62142.0  2016-06-04                    0.0   \n",
       "2                    0.13       62142.0  2016-07-06                    0.0   \n",
       "3                    0.19       62142.0  2016-08-05                    0.0   \n",
       "4                    0.21       62142.0  2016-11-09                    0.0   \n",
       "\n",
       "   ASSET_LOCATION  ASSET_NUMBER_REVIEWS  ASSET_PRICE  ASSET_AVAILABILITY_30  \n",
       "0             NaN                   NaN          NaN                    NaN  \n",
       "1          vienna                   1.0       $85.00                    9.0  \n",
       "2          vienna                   2.0       $85.00                   17.0  \n",
       "3          vienna                   3.0       $85.00                    9.0  \n",
       "4          vienna                   4.0       $85.00                    9.0  \n",
       "\n",
       "[5 rows x 31 columns]"
      ]
     },
     "execution_count": 19,
     "metadata": {},
     "output_type": "execute_result"
    }
   ],
   "source": [
    "df_asset.head()"
   ]
  },
  {
   "cell_type": "code",
   "execution_count": 20,
   "metadata": {},
   "outputs": [
    {
     "data": {
      "text/plain": [
       "(394, 31)"
      ]
     },
     "execution_count": 20,
     "metadata": {},
     "output_type": "execute_result"
    }
   ],
   "source": [
    "df_asset[df_asset.ASSET_MITIGATION_COVID==1].shape"
   ]
  },
  {
   "cell_type": "code",
   "execution_count": 21,
   "metadata": {},
   "outputs": [],
   "source": [
    "test = df_asset[df_asset.ASSET_MITIGATION_COVID==1]"
   ]
  },
  {
   "cell_type": "code",
   "execution_count": 22,
   "metadata": {},
   "outputs": [
    {
     "data": {
      "text/plain": [
       "134"
      ]
     },
     "execution_count": 22,
     "metadata": {},
     "output_type": "execute_result"
    }
   ],
   "source": [
    "len(test.ASSET_ID.unique())"
   ]
  },
  {
   "cell_type": "code",
   "execution_count": 23,
   "metadata": {},
   "outputs": [
    {
     "data": {
      "text/html": [
       "<div>\n",
       "<style scoped>\n",
       "    .dataframe tbody tr th:only-of-type {\n",
       "        vertical-align: middle;\n",
       "    }\n",
       "\n",
       "    .dataframe tbody tr th {\n",
       "        vertical-align: top;\n",
       "    }\n",
       "\n",
       "    .dataframe thead th {\n",
       "        text-align: right;\n",
       "    }\n",
       "</style>\n",
       "<table border=\"1\" class=\"dataframe\">\n",
       "  <thead>\n",
       "    <tr style=\"text-align: right;\">\n",
       "      <th></th>\n",
       "      <th>ASSET_ID</th>\n",
       "    </tr>\n",
       "    <tr>\n",
       "      <th>ASSET_LOCATION</th>\n",
       "      <th></th>\n",
       "    </tr>\n",
       "  </thead>\n",
       "  <tbody>\n",
       "    <tr>\n",
       "      <th>amsterdam</th>\n",
       "      <td>44</td>\n",
       "    </tr>\n",
       "    <tr>\n",
       "      <th>brussels</th>\n",
       "      <td>21</td>\n",
       "    </tr>\n",
       "    <tr>\n",
       "      <th>copenhagen</th>\n",
       "      <td>1</td>\n",
       "    </tr>\n",
       "    <tr>\n",
       "      <th>dublin</th>\n",
       "      <td>1</td>\n",
       "    </tr>\n",
       "    <tr>\n",
       "      <th>lisbon</th>\n",
       "      <td>28</td>\n",
       "    </tr>\n",
       "    <tr>\n",
       "      <th>madrid</th>\n",
       "      <td>37</td>\n",
       "    </tr>\n",
       "    <tr>\n",
       "      <th>vienna</th>\n",
       "      <td>2</td>\n",
       "    </tr>\n",
       "  </tbody>\n",
       "</table>\n",
       "</div>"
      ],
      "text/plain": [
       "                ASSET_ID\n",
       "ASSET_LOCATION          \n",
       "amsterdam             44\n",
       "brussels              21\n",
       "copenhagen             1\n",
       "dublin                 1\n",
       "lisbon                28\n",
       "madrid                37\n",
       "vienna                 2"
      ]
     },
     "execution_count": 23,
     "metadata": {},
     "output_type": "execute_result"
    }
   ],
   "source": [
    "test.groupby(\"ASSET_LOCATION\").agg({\"ASSET_ID\" : 'nunique'})"
   ]
  },
  {
   "cell_type": "code",
   "execution_count": 24,
   "metadata": {},
   "outputs": [
    {
     "data": {
      "text/html": [
       "<div>\n",
       "<style scoped>\n",
       "    .dataframe tbody tr th:only-of-type {\n",
       "        vertical-align: middle;\n",
       "    }\n",
       "\n",
       "    .dataframe tbody tr th {\n",
       "        vertical-align: top;\n",
       "    }\n",
       "\n",
       "    .dataframe thead th {\n",
       "        text-align: right;\n",
       "    }\n",
       "</style>\n",
       "<table border=\"1\" class=\"dataframe\">\n",
       "  <thead>\n",
       "    <tr style=\"text-align: right;\">\n",
       "      <th>DATE_YEAR_MONTH</th>\n",
       "      <th>2020-03</th>\n",
       "      <th>2020-04</th>\n",
       "      <th>2020-05</th>\n",
       "      <th>2020-06</th>\n",
       "      <th>2020-07</th>\n",
       "    </tr>\n",
       "    <tr>\n",
       "      <th>ASSET_LOCATION</th>\n",
       "      <th></th>\n",
       "      <th></th>\n",
       "      <th></th>\n",
       "      <th></th>\n",
       "      <th></th>\n",
       "    </tr>\n",
       "  </thead>\n",
       "  <tbody>\n",
       "    <tr>\n",
       "      <th>amsterdam</th>\n",
       "      <td>NaN</td>\n",
       "      <td>NaN</td>\n",
       "      <td>9.0</td>\n",
       "      <td>17.0</td>\n",
       "      <td>40.0</td>\n",
       "    </tr>\n",
       "    <tr>\n",
       "      <th>brussels</th>\n",
       "      <td>2.0</td>\n",
       "      <td>2.0</td>\n",
       "      <td>9.0</td>\n",
       "      <td>15.0</td>\n",
       "      <td>NaN</td>\n",
       "    </tr>\n",
       "    <tr>\n",
       "      <th>copenhagen</th>\n",
       "      <td>NaN</td>\n",
       "      <td>NaN</td>\n",
       "      <td>NaN</td>\n",
       "      <td>1.0</td>\n",
       "      <td>NaN</td>\n",
       "    </tr>\n",
       "    <tr>\n",
       "      <th>dublin</th>\n",
       "      <td>NaN</td>\n",
       "      <td>NaN</td>\n",
       "      <td>1.0</td>\n",
       "      <td>NaN</td>\n",
       "      <td>NaN</td>\n",
       "    </tr>\n",
       "    <tr>\n",
       "      <th>lisbon</th>\n",
       "      <td>NaN</td>\n",
       "      <td>NaN</td>\n",
       "      <td>7.0</td>\n",
       "      <td>21.0</td>\n",
       "      <td>NaN</td>\n",
       "    </tr>\n",
       "    <tr>\n",
       "      <th>madrid</th>\n",
       "      <td>NaN</td>\n",
       "      <td>NaN</td>\n",
       "      <td>5.0</td>\n",
       "      <td>32.0</td>\n",
       "      <td>NaN</td>\n",
       "    </tr>\n",
       "    <tr>\n",
       "      <th>vienna</th>\n",
       "      <td>NaN</td>\n",
       "      <td>NaN</td>\n",
       "      <td>NaN</td>\n",
       "      <td>2.0</td>\n",
       "      <td>NaN</td>\n",
       "    </tr>\n",
       "  </tbody>\n",
       "</table>\n",
       "</div>"
      ],
      "text/plain": [
       "DATE_YEAR_MONTH  2020-03  2020-04  2020-05  2020-06  2020-07\n",
       "ASSET_LOCATION                                              \n",
       "amsterdam            NaN      NaN      9.0     17.0     40.0\n",
       "brussels             2.0      2.0      9.0     15.0      NaN\n",
       "copenhagen           NaN      NaN      NaN      1.0      NaN\n",
       "dublin               NaN      NaN      1.0      NaN      NaN\n",
       "lisbon               NaN      NaN      7.0     21.0      NaN\n",
       "madrid               NaN      NaN      5.0     32.0      NaN\n",
       "vienna               NaN      NaN      NaN      2.0      NaN"
      ]
     },
     "execution_count": 24,
     "metadata": {},
     "output_type": "execute_result"
    }
   ],
   "source": [
    "test.pivot_table(index='ASSET_LOCATION', \n",
    "                 columns='DATE_YEAR_MONTH', \n",
    "                 values=\"ASSET_ID\" , \n",
    "                 aggfunc='nunique')"
   ]
  },
  {
   "cell_type": "code",
   "execution_count": null,
   "metadata": {},
   "outputs": [],
   "source": []
  },
  {
   "cell_type": "code",
   "execution_count": 25,
   "metadata": {},
   "outputs": [],
   "source": [
    "covid = df_asset[df_asset.DATE_YEAR_MONTH == \"2020-06\"]\\\n",
    "            .sort_values(by=[\"ASSET_ID\", \"TIME_STAMP\"])\\\n",
    "            .groupby([\"ASSET_ID\"])\\\n",
    "            .tail(1)[[\"DATE_YEAR_MONTH\", \"ASSET_ID\", \"ASSET_LOCATION\", \"ASSET_MITIGATION_COVID\"]]"
   ]
  },
  {
   "cell_type": "code",
   "execution_count": 26,
   "metadata": {},
   "outputs": [
    {
     "data": {
      "text/plain": [
       "(12837, 4)"
      ]
     },
     "execution_count": 26,
     "metadata": {},
     "output_type": "execute_result"
    }
   ],
   "source": [
    "covid.shape"
   ]
  },
  {
   "cell_type": "code",
   "execution_count": 27,
   "metadata": {},
   "outputs": [],
   "source": [
    "pre_codiv = df_asset[df_asset.DATE_YEAR_MONTH == \"2019-06\"]\\\n",
    "                .sort_values(by=[\"ASSET_ID\", \"TIME_STAMP\"])\\\n",
    "                .groupby([\"ASSET_ID\"])\\\n",
    "                .tail(1)[[\"DATE_YEAR_MONTH\", \"ASSET_ID\"]]"
   ]
  },
  {
   "cell_type": "code",
   "execution_count": 28,
   "metadata": {},
   "outputs": [
    {
     "data": {
      "text/plain": [
       "(62737, 2)"
      ]
     },
     "execution_count": 28,
     "metadata": {},
     "output_type": "execute_result"
    }
   ],
   "source": [
    "pre_codiv.shape"
   ]
  },
  {
   "cell_type": "code",
   "execution_count": 29,
   "metadata": {},
   "outputs": [],
   "source": [
    "df_covid = covid[[\"DATE_YEAR_MONTH\", \"ASSET_ID\", \"ASSET_MITIGATION_COVID\"]]\\\n",
    "            .merge(pre_codiv[[\"ASSET_ID\"]], on=\"ASSET_ID\", how='inner')"
   ]
  },
  {
   "cell_type": "code",
   "execution_count": 30,
   "metadata": {},
   "outputs": [
    {
     "data": {
      "text/plain": [
       "(7539, 3)"
      ]
     },
     "execution_count": 30,
     "metadata": {},
     "output_type": "execute_result"
    }
   ],
   "source": [
    "df_covid.shape"
   ]
  },
  {
   "cell_type": "code",
   "execution_count": 31,
   "metadata": {},
   "outputs": [
    {
     "data": {
      "text/plain": [
       "64.0"
      ]
     },
     "execution_count": 31,
     "metadata": {},
     "output_type": "execute_result"
    }
   ],
   "source": [
    "df_covid.ASSET_MITIGATION_COVID.sum()"
   ]
  },
  {
   "cell_type": "code",
   "execution_count": null,
   "metadata": {},
   "outputs": [],
   "source": []
  },
  {
   "cell_type": "code",
   "execution_count": 32,
   "metadata": {},
   "outputs": [],
   "source": [
    "df_asset_sub = df_asset.loc[(df_asset.DATE_YEAR_MONTH == \"2019-06\") | \n",
    "                            (df_asset.DATE_YEAR_MONTH == \"2020-06\")]"
   ]
  },
  {
   "cell_type": "code",
   "execution_count": 33,
   "metadata": {},
   "outputs": [
    {
     "data": {
      "text/plain": [
       "(240763, 31)"
      ]
     },
     "execution_count": 33,
     "metadata": {},
     "output_type": "execute_result"
    }
   ],
   "source": [
    "df_asset_sub.shape"
   ]
  },
  {
   "cell_type": "code",
   "execution_count": 34,
   "metadata": {},
   "outputs": [],
   "source": [
    "#ASSET_PRICE\n",
    "def fix_price (value):\n",
    "    try:\n",
    "        value = value.replace(\"$\", '').replace(\",\", '')\n",
    "        value = float(value)\n",
    "        return value\n",
    "    except: return np.nan  \n",
    "\n",
    "df_asset_sub['ASSET_PRICE'] = df_asset_sub['ASSET_PRICE'].apply(lambda x : fix_price(x))"
   ]
  },
  {
   "cell_type": "code",
   "execution_count": 35,
   "metadata": {},
   "outputs": [],
   "source": [
    "# CZK TO EURO --> 0.039\n",
    "df_asset_sub.loc[df_asset_sub.ASSET_LOCATION=='prague', \"ASSET_PRICE\"] = df_asset_sub.loc[df_asset_sub.ASSET_LOCATION=='prague', \"ASSET_PRICE\"] * 0.039\n",
    "\n",
    "# DKK TO EURO --> 0.13\n",
    "df_asset_sub.loc[df_asset_sub.ASSET_LOCATION=='copenhagen', \"ASSET_PRICE\"] = df_asset_sub.loc[df_asset_sub.ASSET_LOCATION=='copenhagen', \"ASSET_PRICE\"] * 0.13\n",
    "\n",
    "# KR TO EURO --> 0.099\n",
    "df_asset_sub.loc[df_asset_sub.ASSET_LOCATION=='stockholm', \"ASSET_PRICE\"] = df_asset_sub.loc[df_asset_sub.ASSET_LOCATION=='stockholm', \"ASSET_PRICE\"] * 0.099"
   ]
  },
  {
   "cell_type": "code",
   "execution_count": 36,
   "metadata": {},
   "outputs": [
    {
     "data": {
      "text/html": [
       "<div>\n",
       "<style scoped>\n",
       "    .dataframe tbody tr th:only-of-type {\n",
       "        vertical-align: middle;\n",
       "    }\n",
       "\n",
       "    .dataframe tbody tr th {\n",
       "        vertical-align: top;\n",
       "    }\n",
       "\n",
       "    .dataframe thead th {\n",
       "        text-align: right;\n",
       "    }\n",
       "</style>\n",
       "<table border=\"1\" class=\"dataframe\">\n",
       "  <thead>\n",
       "    <tr style=\"text-align: right;\">\n",
       "      <th></th>\n",
       "      <th>MODEL_INSTANCE</th>\n",
       "      <th>PARTIES_ID</th>\n",
       "      <th>ASSET_ID</th>\n",
       "      <th>DATE_YEAR_MONTH</th>\n",
       "      <th>ASSETS_NAME</th>\n",
       "      <th>ASSETS_TYPE</th>\n",
       "      <th>ASSETS_DESCRIPTION</th>\n",
       "      <th>ASSETS_HOST_NEIGHBOURHOOD</th>\n",
       "      <th>ASSETS_NEIGHBORHOOD_OVERVIEW</th>\n",
       "      <th>ASSETS_LATITUDE</th>\n",
       "      <th>...</th>\n",
       "      <th>ASSETS_REVIEW_SCORES_RATING</th>\n",
       "      <th>ASSETS_REVIEW_SCORES_VALUE</th>\n",
       "      <th>ASSETS_REVIEW_PER_MONTH</th>\n",
       "      <th>PARTIES_ID_y</th>\n",
       "      <th>TIME_STAMP</th>\n",
       "      <th>ASSET_MITIGATION_COVID</th>\n",
       "      <th>ASSET_LOCATION</th>\n",
       "      <th>ASSET_NUMBER_REVIEWS</th>\n",
       "      <th>ASSET_PRICE</th>\n",
       "      <th>ASSET_AVAILABILITY_30</th>\n",
       "    </tr>\n",
       "  </thead>\n",
       "  <tbody>\n",
       "    <tr>\n",
       "      <th>291</th>\n",
       "      <td>wlkU0LlYHy</td>\n",
       "      <td>166283</td>\n",
       "      <td>38768</td>\n",
       "      <td>2019-06</td>\n",
       "      <td>Hannes</td>\n",
       "      <td>Real Bed</td>\n",
       "      <td>39m² apartment with beautiful courtyard of the...</td>\n",
       "      <td>Leopoldstadt</td>\n",
       "      <td>the Karmeliterviertel became very popular in t...</td>\n",
       "      <td>48.21823</td>\n",
       "      <td>...</td>\n",
       "      <td>95.0</td>\n",
       "      <td>9.0</td>\n",
       "      <td>2.81</td>\n",
       "      <td>166283.0</td>\n",
       "      <td>2019-06-11</td>\n",
       "      <td>0.0</td>\n",
       "      <td>vienna</td>\n",
       "      <td>281.0</td>\n",
       "      <td>65.0</td>\n",
       "      <td>7.0</td>\n",
       "    </tr>\n",
       "    <tr>\n",
       "      <th>292</th>\n",
       "      <td>RMskcYfm6n</td>\n",
       "      <td>166283</td>\n",
       "      <td>38768</td>\n",
       "      <td>2019-06</td>\n",
       "      <td>Hannes</td>\n",
       "      <td>Real Bed</td>\n",
       "      <td>39m² apartment with beautiful courtyard of the...</td>\n",
       "      <td>Leopoldstadt</td>\n",
       "      <td>the Karmeliterviertel became very popular in t...</td>\n",
       "      <td>48.21823</td>\n",
       "      <td>...</td>\n",
       "      <td>95.0</td>\n",
       "      <td>9.0</td>\n",
       "      <td>2.81</td>\n",
       "      <td>166283.0</td>\n",
       "      <td>2019-06-11</td>\n",
       "      <td>0.0</td>\n",
       "      <td>vienna</td>\n",
       "      <td>281.0</td>\n",
       "      <td>65.0</td>\n",
       "      <td>7.0</td>\n",
       "    </tr>\n",
       "  </tbody>\n",
       "</table>\n",
       "<p>2 rows × 31 columns</p>\n",
       "</div>"
      ],
      "text/plain": [
       "    MODEL_INSTANCE  PARTIES_ID  ASSET_ID DATE_YEAR_MONTH ASSETS_NAME  \\\n",
       "291     wlkU0LlYHy      166283     38768         2019-06      Hannes   \n",
       "292     RMskcYfm6n      166283     38768         2019-06      Hannes   \n",
       "\n",
       "    ASSETS_TYPE                                 ASSETS_DESCRIPTION  \\\n",
       "291    Real Bed  39m² apartment with beautiful courtyard of the...   \n",
       "292    Real Bed  39m² apartment with beautiful courtyard of the...   \n",
       "\n",
       "    ASSETS_HOST_NEIGHBOURHOOD  \\\n",
       "291              Leopoldstadt   \n",
       "292              Leopoldstadt   \n",
       "\n",
       "                          ASSETS_NEIGHBORHOOD_OVERVIEW  ASSETS_LATITUDE  ...  \\\n",
       "291  the Karmeliterviertel became very popular in t...         48.21823  ...   \n",
       "292  the Karmeliterviertel became very popular in t...         48.21823  ...   \n",
       "\n",
       "     ASSETS_REVIEW_SCORES_RATING ASSETS_REVIEW_SCORES_VALUE  \\\n",
       "291                         95.0                        9.0   \n",
       "292                         95.0                        9.0   \n",
       "\n",
       "    ASSETS_REVIEW_PER_MONTH  PARTIES_ID_y  TIME_STAMP ASSET_MITIGATION_COVID  \\\n",
       "291                    2.81      166283.0  2019-06-11                    0.0   \n",
       "292                    2.81      166283.0  2019-06-11                    0.0   \n",
       "\n",
       "     ASSET_LOCATION  ASSET_NUMBER_REVIEWS  ASSET_PRICE  ASSET_AVAILABILITY_30  \n",
       "291          vienna                 281.0         65.0                    7.0  \n",
       "292          vienna                 281.0         65.0                    7.0  \n",
       "\n",
       "[2 rows x 31 columns]"
      ]
     },
     "execution_count": 36,
     "metadata": {},
     "output_type": "execute_result"
    }
   ],
   "source": [
    "df_asset_sub.head(2)"
   ]
  },
  {
   "cell_type": "code",
   "execution_count": null,
   "metadata": {},
   "outputs": [],
   "source": []
  },
  {
   "cell_type": "code",
   "execution_count": 37,
   "metadata": {},
   "outputs": [],
   "source": [
    "anag = [\"PARTIES_ID\", \"ASSET_ID\"]\n",
    "\n",
    "end_month = [\n",
    "    \"ASSETS_TYPE\", 'ASSET_LOCATION',\n",
    "    'ASSETS_REVIEW_PER_MONTH', 'ASSET_NUMBER_REVIEWS',\n",
    "    'ASSET_AVAILABILITY_30', \n",
    "    'ASSET_MITIGATION_COVID']\n",
    "\n",
    "med_month = [\n",
    "'ASSET_PRICE',\n",
    "'ASSETS_REVIEW_SCORES_ACCURACY', 'ASSETS_REVIEW_SCORES_CHECKIN', 'ASSETS_REVIEW_SCORES_CLEANLINESS',\n",
    "'ASSETS_REVIEW_SCORES_COMMUNICATION', 'ASSETS_REVIEW_SCORES_LOCATION', 'ASSETS_REVIEW_SCORES_RATING', \n",
    "'ASSETS_REVIEW_SCORES_VALUE']\n"
   ]
  },
  {
   "cell_type": "code",
   "execution_count": 38,
   "metadata": {},
   "outputs": [
    {
     "data": {
      "text/html": [
       "<div>\n",
       "<style scoped>\n",
       "    .dataframe tbody tr th:only-of-type {\n",
       "        vertical-align: middle;\n",
       "    }\n",
       "\n",
       "    .dataframe tbody tr th {\n",
       "        vertical-align: top;\n",
       "    }\n",
       "\n",
       "    .dataframe thead th {\n",
       "        text-align: right;\n",
       "    }\n",
       "</style>\n",
       "<table border=\"1\" class=\"dataframe\">\n",
       "  <thead>\n",
       "    <tr style=\"text-align: right;\">\n",
       "      <th></th>\n",
       "      <th>DATE_YEAR_MONTH</th>\n",
       "      <th>ASSET_ID</th>\n",
       "      <th>ASSET_MITIGATION_COVID</th>\n",
       "    </tr>\n",
       "  </thead>\n",
       "  <tbody>\n",
       "    <tr>\n",
       "      <th>0</th>\n",
       "      <td>2020-06</td>\n",
       "      <td>5396</td>\n",
       "      <td>NaN</td>\n",
       "    </tr>\n",
       "    <tr>\n",
       "      <th>1</th>\n",
       "      <td>2020-06</td>\n",
       "      <td>21004</td>\n",
       "      <td>NaN</td>\n",
       "    </tr>\n",
       "    <tr>\n",
       "      <th>2</th>\n",
       "      <td>2020-06</td>\n",
       "      <td>28186</td>\n",
       "      <td>NaN</td>\n",
       "    </tr>\n",
       "    <tr>\n",
       "      <th>3</th>\n",
       "      <td>2020-06</td>\n",
       "      <td>29248</td>\n",
       "      <td>NaN</td>\n",
       "    </tr>\n",
       "    <tr>\n",
       "      <th>4</th>\n",
       "      <td>2020-06</td>\n",
       "      <td>29396</td>\n",
       "      <td>NaN</td>\n",
       "    </tr>\n",
       "  </tbody>\n",
       "</table>\n",
       "</div>"
      ],
      "text/plain": [
       "  DATE_YEAR_MONTH  ASSET_ID  ASSET_MITIGATION_COVID\n",
       "0         2020-06      5396                     NaN\n",
       "1         2020-06     21004                     NaN\n",
       "2         2020-06     28186                     NaN\n",
       "3         2020-06     29248                     NaN\n",
       "4         2020-06     29396                     NaN"
      ]
     },
     "execution_count": 38,
     "metadata": {},
     "output_type": "execute_result"
    }
   ],
   "source": [
    "df_covid.head()"
   ]
  },
  {
   "cell_type": "code",
   "execution_count": null,
   "metadata": {},
   "outputs": [],
   "source": []
  },
  {
   "cell_type": "code",
   "execution_count": 39,
   "metadata": {},
   "outputs": [],
   "source": [
    "df_asset_end_month = df_asset_sub.sort_values(by=[\"ASSET_ID\", \"DATE_YEAR_MONTH\", \"TIME_STAMP\"])\\\n",
    "                                 .groupby([\"ASSET_ID\", \"DATE_YEAR_MONTH\"])[anag + end_month + [\"DATE_YEAR_MONTH\"]].tail(1)"
   ]
  },
  {
   "cell_type": "code",
   "execution_count": 40,
   "metadata": {},
   "outputs": [
    {
     "data": {
      "text/plain": [
       "(75574, 9)"
      ]
     },
     "execution_count": 40,
     "metadata": {},
     "output_type": "execute_result"
    }
   ],
   "source": [
    "df_asset_end_month.shape"
   ]
  },
  {
   "cell_type": "code",
   "execution_count": 41,
   "metadata": {},
   "outputs": [
    {
     "data": {
      "text/html": [
       "<div>\n",
       "<style scoped>\n",
       "    .dataframe tbody tr th:only-of-type {\n",
       "        vertical-align: middle;\n",
       "    }\n",
       "\n",
       "    .dataframe tbody tr th {\n",
       "        vertical-align: top;\n",
       "    }\n",
       "\n",
       "    .dataframe thead th {\n",
       "        text-align: right;\n",
       "    }\n",
       "</style>\n",
       "<table border=\"1\" class=\"dataframe\">\n",
       "  <thead>\n",
       "    <tr style=\"text-align: right;\">\n",
       "      <th></th>\n",
       "      <th>PARTIES_ID</th>\n",
       "      <th>ASSET_ID</th>\n",
       "      <th>ASSETS_TYPE</th>\n",
       "      <th>ASSET_LOCATION</th>\n",
       "      <th>ASSETS_REVIEW_PER_MONTH</th>\n",
       "      <th>ASSET_NUMBER_REVIEWS</th>\n",
       "      <th>ASSET_AVAILABILITY_30</th>\n",
       "      <th>ASSET_MITIGATION_COVID</th>\n",
       "      <th>DATE_YEAR_MONTH</th>\n",
       "    </tr>\n",
       "  </thead>\n",
       "  <tbody>\n",
       "    <tr>\n",
       "      <th>1161841</th>\n",
       "      <td>7903</td>\n",
       "      <td>5396</td>\n",
       "      <td>NaN</td>\n",
       "      <td>NaN</td>\n",
       "      <td>NaN</td>\n",
       "      <td>NaN</td>\n",
       "      <td>NaN</td>\n",
       "      <td>NaN</td>\n",
       "      <td>2019-06</td>\n",
       "    </tr>\n",
       "    <tr>\n",
       "      <th>1161883</th>\n",
       "      <td>7903</td>\n",
       "      <td>5396</td>\n",
       "      <td>NaN</td>\n",
       "      <td>NaN</td>\n",
       "      <td>NaN</td>\n",
       "      <td>NaN</td>\n",
       "      <td>NaN</td>\n",
       "      <td>NaN</td>\n",
       "      <td>2020-06</td>\n",
       "    </tr>\n",
       "  </tbody>\n",
       "</table>\n",
       "</div>"
      ],
      "text/plain": [
       "         PARTIES_ID  ASSET_ID ASSETS_TYPE ASSET_LOCATION  \\\n",
       "1161841        7903      5396         NaN            NaN   \n",
       "1161883        7903      5396         NaN            NaN   \n",
       "\n",
       "         ASSETS_REVIEW_PER_MONTH  ASSET_NUMBER_REVIEWS  ASSET_AVAILABILITY_30  \\\n",
       "1161841                      NaN                   NaN                    NaN   \n",
       "1161883                      NaN                   NaN                    NaN   \n",
       "\n",
       "         ASSET_MITIGATION_COVID DATE_YEAR_MONTH  \n",
       "1161841                     NaN         2019-06  \n",
       "1161883                     NaN         2020-06  "
      ]
     },
     "execution_count": 41,
     "metadata": {},
     "output_type": "execute_result"
    }
   ],
   "source": [
    "df_asset_end_month[df_asset_end_month.ASSET_ID == 5396]"
   ]
  },
  {
   "cell_type": "code",
   "execution_count": 42,
   "metadata": {
    "scrolled": true
   },
   "outputs": [
    {
     "data": {
      "text/plain": [
       "26940"
      ]
     },
     "execution_count": 42,
     "metadata": {},
     "output_type": "execute_result"
    }
   ],
   "source": [
    "# un host può avere più listings\n",
    "df_asset_end_month.PARTIES_ID.duplicated().sum()"
   ]
  },
  {
   "cell_type": "code",
   "execution_count": 43,
   "metadata": {},
   "outputs": [],
   "source": [
    "# ottengo una sola riga per listing come mediana dei valori nel periodo\n",
    "df_asset_med_month = df_asset_sub.groupby([\"DATE_YEAR_MONTH\", \"ASSET_ID\"])[med_month].median().reset_index()"
   ]
  },
  {
   "cell_type": "code",
   "execution_count": 44,
   "metadata": {},
   "outputs": [
    {
     "data": {
      "text/html": [
       "<div>\n",
       "<style scoped>\n",
       "    .dataframe tbody tr th:only-of-type {\n",
       "        vertical-align: middle;\n",
       "    }\n",
       "\n",
       "    .dataframe tbody tr th {\n",
       "        vertical-align: top;\n",
       "    }\n",
       "\n",
       "    .dataframe thead th {\n",
       "        text-align: right;\n",
       "    }\n",
       "</style>\n",
       "<table border=\"1\" class=\"dataframe\">\n",
       "  <thead>\n",
       "    <tr style=\"text-align: right;\">\n",
       "      <th></th>\n",
       "      <th>DATE_YEAR_MONTH</th>\n",
       "      <th>ASSET_ID</th>\n",
       "      <th>ASSET_PRICE</th>\n",
       "      <th>ASSETS_REVIEW_SCORES_ACCURACY</th>\n",
       "      <th>ASSETS_REVIEW_SCORES_CHECKIN</th>\n",
       "      <th>ASSETS_REVIEW_SCORES_CLEANLINESS</th>\n",
       "      <th>ASSETS_REVIEW_SCORES_COMMUNICATION</th>\n",
       "      <th>ASSETS_REVIEW_SCORES_LOCATION</th>\n",
       "      <th>ASSETS_REVIEW_SCORES_RATING</th>\n",
       "      <th>ASSETS_REVIEW_SCORES_VALUE</th>\n",
       "    </tr>\n",
       "  </thead>\n",
       "  <tbody>\n",
       "    <tr>\n",
       "      <th>2</th>\n",
       "      <td>2019-06</td>\n",
       "      <td>5396</td>\n",
       "      <td>NaN</td>\n",
       "      <td>NaN</td>\n",
       "      <td>NaN</td>\n",
       "      <td>NaN</td>\n",
       "      <td>NaN</td>\n",
       "      <td>NaN</td>\n",
       "      <td>NaN</td>\n",
       "      <td>NaN</td>\n",
       "    </tr>\n",
       "    <tr>\n",
       "      <th>62737</th>\n",
       "      <td>2020-06</td>\n",
       "      <td>5396</td>\n",
       "      <td>NaN</td>\n",
       "      <td>NaN</td>\n",
       "      <td>NaN</td>\n",
       "      <td>NaN</td>\n",
       "      <td>NaN</td>\n",
       "      <td>NaN</td>\n",
       "      <td>NaN</td>\n",
       "      <td>NaN</td>\n",
       "    </tr>\n",
       "  </tbody>\n",
       "</table>\n",
       "</div>"
      ],
      "text/plain": [
       "      DATE_YEAR_MONTH  ASSET_ID  ASSET_PRICE  ASSETS_REVIEW_SCORES_ACCURACY  \\\n",
       "2             2019-06      5396          NaN                            NaN   \n",
       "62737         2020-06      5396          NaN                            NaN   \n",
       "\n",
       "       ASSETS_REVIEW_SCORES_CHECKIN  ASSETS_REVIEW_SCORES_CLEANLINESS  \\\n",
       "2                               NaN                               NaN   \n",
       "62737                           NaN                               NaN   \n",
       "\n",
       "       ASSETS_REVIEW_SCORES_COMMUNICATION  ASSETS_REVIEW_SCORES_LOCATION  \\\n",
       "2                                     NaN                            NaN   \n",
       "62737                                 NaN                            NaN   \n",
       "\n",
       "       ASSETS_REVIEW_SCORES_RATING  ASSETS_REVIEW_SCORES_VALUE  \n",
       "2                              NaN                         NaN  \n",
       "62737                          NaN                         NaN  "
      ]
     },
     "execution_count": 44,
     "metadata": {},
     "output_type": "execute_result"
    }
   ],
   "source": [
    "df_asset_med_month[df_asset_med_month.ASSET_ID == 5396]"
   ]
  },
  {
   "cell_type": "code",
   "execution_count": 45,
   "metadata": {},
   "outputs": [
    {
     "data": {
      "text/plain": [
       "DATE_YEAR_MONTH                       0.000000\n",
       "ASSET_ID                              0.000000\n",
       "ASSET_PRICE                           0.811668\n",
       "ASSETS_REVIEW_SCORES_ACCURACY         0.811668\n",
       "ASSETS_REVIEW_SCORES_CHECKIN          0.811668\n",
       "ASSETS_REVIEW_SCORES_CLEANLINESS      0.811668\n",
       "ASSETS_REVIEW_SCORES_COMMUNICATION    0.811668\n",
       "ASSETS_REVIEW_SCORES_LOCATION         0.811668\n",
       "ASSETS_REVIEW_SCORES_RATING           0.811668\n",
       "ASSETS_REVIEW_SCORES_VALUE            0.811668\n",
       "dtype: float64"
      ]
     },
     "execution_count": 45,
     "metadata": {},
     "output_type": "execute_result"
    }
   ],
   "source": [
    "df_asset_med_month.isnull().sum() / df_asset_med_month.shape[0]"
   ]
  },
  {
   "cell_type": "code",
   "execution_count": 46,
   "metadata": {},
   "outputs": [
    {
     "data": {
      "text/plain": [
       "7539"
      ]
     },
     "execution_count": 46,
     "metadata": {},
     "output_type": "execute_result"
    }
   ],
   "source": [
    "df_asset_med_month.ASSET_ID.duplicated().sum()"
   ]
  },
  {
   "cell_type": "code",
   "execution_count": 47,
   "metadata": {},
   "outputs": [],
   "source": [
    "df_feature = df_asset_end_month.merge(df_asset_med_month, on = [\"DATE_YEAR_MONTH\", \"ASSET_ID\"], how='left')"
   ]
  },
  {
   "cell_type": "code",
   "execution_count": 48,
   "metadata": {
    "scrolled": true
   },
   "outputs": [
    {
     "data": {
      "text/html": [
       "<div>\n",
       "<style scoped>\n",
       "    .dataframe tbody tr th:only-of-type {\n",
       "        vertical-align: middle;\n",
       "    }\n",
       "\n",
       "    .dataframe tbody tr th {\n",
       "        vertical-align: top;\n",
       "    }\n",
       "\n",
       "    .dataframe thead th {\n",
       "        text-align: right;\n",
       "    }\n",
       "</style>\n",
       "<table border=\"1\" class=\"dataframe\">\n",
       "  <thead>\n",
       "    <tr style=\"text-align: right;\">\n",
       "      <th></th>\n",
       "      <th>PARTIES_ID</th>\n",
       "      <th>ASSET_ID</th>\n",
       "      <th>ASSETS_TYPE</th>\n",
       "      <th>ASSET_LOCATION</th>\n",
       "      <th>ASSETS_REVIEW_PER_MONTH</th>\n",
       "      <th>ASSET_NUMBER_REVIEWS</th>\n",
       "      <th>ASSET_AVAILABILITY_30</th>\n",
       "      <th>ASSET_MITIGATION_COVID</th>\n",
       "      <th>DATE_YEAR_MONTH</th>\n",
       "      <th>ASSET_PRICE</th>\n",
       "      <th>ASSETS_REVIEW_SCORES_ACCURACY</th>\n",
       "      <th>ASSETS_REVIEW_SCORES_CHECKIN</th>\n",
       "      <th>ASSETS_REVIEW_SCORES_CLEANLINESS</th>\n",
       "      <th>ASSETS_REVIEW_SCORES_COMMUNICATION</th>\n",
       "      <th>ASSETS_REVIEW_SCORES_LOCATION</th>\n",
       "      <th>ASSETS_REVIEW_SCORES_RATING</th>\n",
       "      <th>ASSETS_REVIEW_SCORES_VALUE</th>\n",
       "    </tr>\n",
       "  </thead>\n",
       "  <tbody>\n",
       "    <tr>\n",
       "      <th>0</th>\n",
       "      <td>3159</td>\n",
       "      <td>2818</td>\n",
       "      <td>NaN</td>\n",
       "      <td>NaN</td>\n",
       "      <td>NaN</td>\n",
       "      <td>NaN</td>\n",
       "      <td>NaN</td>\n",
       "      <td>NaN</td>\n",
       "      <td>2019-06</td>\n",
       "      <td>NaN</td>\n",
       "      <td>NaN</td>\n",
       "      <td>NaN</td>\n",
       "      <td>NaN</td>\n",
       "      <td>NaN</td>\n",
       "      <td>NaN</td>\n",
       "      <td>NaN</td>\n",
       "      <td>NaN</td>\n",
       "    </tr>\n",
       "    <tr>\n",
       "      <th>1</th>\n",
       "      <td>3718</td>\n",
       "      <td>3176</td>\n",
       "      <td>NaN</td>\n",
       "      <td>NaN</td>\n",
       "      <td>NaN</td>\n",
       "      <td>NaN</td>\n",
       "      <td>NaN</td>\n",
       "      <td>NaN</td>\n",
       "      <td>2019-06</td>\n",
       "      <td>NaN</td>\n",
       "      <td>NaN</td>\n",
       "      <td>NaN</td>\n",
       "      <td>NaN</td>\n",
       "      <td>NaN</td>\n",
       "      <td>NaN</td>\n",
       "      <td>NaN</td>\n",
       "      <td>NaN</td>\n",
       "    </tr>\n",
       "  </tbody>\n",
       "</table>\n",
       "</div>"
      ],
      "text/plain": [
       "   PARTIES_ID  ASSET_ID ASSETS_TYPE ASSET_LOCATION  ASSETS_REVIEW_PER_MONTH  \\\n",
       "0        3159      2818         NaN            NaN                      NaN   \n",
       "1        3718      3176         NaN            NaN                      NaN   \n",
       "\n",
       "   ASSET_NUMBER_REVIEWS  ASSET_AVAILABILITY_30  ASSET_MITIGATION_COVID  \\\n",
       "0                   NaN                    NaN                     NaN   \n",
       "1                   NaN                    NaN                     NaN   \n",
       "\n",
       "  DATE_YEAR_MONTH  ASSET_PRICE  ASSETS_REVIEW_SCORES_ACCURACY  \\\n",
       "0         2019-06          NaN                            NaN   \n",
       "1         2019-06          NaN                            NaN   \n",
       "\n",
       "   ASSETS_REVIEW_SCORES_CHECKIN  ASSETS_REVIEW_SCORES_CLEANLINESS  \\\n",
       "0                           NaN                               NaN   \n",
       "1                           NaN                               NaN   \n",
       "\n",
       "   ASSETS_REVIEW_SCORES_COMMUNICATION  ASSETS_REVIEW_SCORES_LOCATION  \\\n",
       "0                                 NaN                            NaN   \n",
       "1                                 NaN                            NaN   \n",
       "\n",
       "   ASSETS_REVIEW_SCORES_RATING  ASSETS_REVIEW_SCORES_VALUE  \n",
       "0                          NaN                         NaN  \n",
       "1                          NaN                         NaN  "
      ]
     },
     "execution_count": 48,
     "metadata": {},
     "output_type": "execute_result"
    }
   ],
   "source": [
    "df_feature.head(2)"
   ]
  },
  {
   "cell_type": "code",
   "execution_count": 49,
   "metadata": {},
   "outputs": [
    {
     "data": {
      "text/plain": [
       "(75574, 17)"
      ]
     },
     "execution_count": 49,
     "metadata": {},
     "output_type": "execute_result"
    }
   ],
   "source": [
    "df_feature.shape"
   ]
  },
  {
   "cell_type": "code",
   "execution_count": 50,
   "metadata": {},
   "outputs": [
    {
     "data": {
      "text/html": [
       "<div>\n",
       "<style scoped>\n",
       "    .dataframe tbody tr th:only-of-type {\n",
       "        vertical-align: middle;\n",
       "    }\n",
       "\n",
       "    .dataframe tbody tr th {\n",
       "        vertical-align: top;\n",
       "    }\n",
       "\n",
       "    .dataframe thead th {\n",
       "        text-align: right;\n",
       "    }\n",
       "</style>\n",
       "<table border=\"1\" class=\"dataframe\">\n",
       "  <thead>\n",
       "    <tr style=\"text-align: right;\">\n",
       "      <th></th>\n",
       "      <th>PARTIES_ID</th>\n",
       "      <th>ASSET_ID</th>\n",
       "      <th>ASSETS_TYPE</th>\n",
       "      <th>ASSET_LOCATION</th>\n",
       "      <th>ASSETS_REVIEW_PER_MONTH</th>\n",
       "      <th>ASSET_NUMBER_REVIEWS</th>\n",
       "      <th>ASSET_AVAILABILITY_30</th>\n",
       "      <th>ASSET_MITIGATION_COVID</th>\n",
       "      <th>DATE_YEAR_MONTH</th>\n",
       "      <th>ASSET_PRICE</th>\n",
       "      <th>ASSETS_REVIEW_SCORES_ACCURACY</th>\n",
       "      <th>ASSETS_REVIEW_SCORES_CHECKIN</th>\n",
       "      <th>ASSETS_REVIEW_SCORES_CLEANLINESS</th>\n",
       "      <th>ASSETS_REVIEW_SCORES_COMMUNICATION</th>\n",
       "      <th>ASSETS_REVIEW_SCORES_LOCATION</th>\n",
       "      <th>ASSETS_REVIEW_SCORES_RATING</th>\n",
       "      <th>ASSETS_REVIEW_SCORES_VALUE</th>\n",
       "    </tr>\n",
       "  </thead>\n",
       "  <tbody>\n",
       "    <tr>\n",
       "      <th>2</th>\n",
       "      <td>7903</td>\n",
       "      <td>5396</td>\n",
       "      <td>NaN</td>\n",
       "      <td>NaN</td>\n",
       "      <td>NaN</td>\n",
       "      <td>NaN</td>\n",
       "      <td>NaN</td>\n",
       "      <td>NaN</td>\n",
       "      <td>2019-06</td>\n",
       "      <td>NaN</td>\n",
       "      <td>NaN</td>\n",
       "      <td>NaN</td>\n",
       "      <td>NaN</td>\n",
       "      <td>NaN</td>\n",
       "      <td>NaN</td>\n",
       "      <td>NaN</td>\n",
       "      <td>NaN</td>\n",
       "    </tr>\n",
       "    <tr>\n",
       "      <th>3</th>\n",
       "      <td>7903</td>\n",
       "      <td>5396</td>\n",
       "      <td>NaN</td>\n",
       "      <td>NaN</td>\n",
       "      <td>NaN</td>\n",
       "      <td>NaN</td>\n",
       "      <td>NaN</td>\n",
       "      <td>NaN</td>\n",
       "      <td>2020-06</td>\n",
       "      <td>NaN</td>\n",
       "      <td>NaN</td>\n",
       "      <td>NaN</td>\n",
       "      <td>NaN</td>\n",
       "      <td>NaN</td>\n",
       "      <td>NaN</td>\n",
       "      <td>NaN</td>\n",
       "      <td>NaN</td>\n",
       "    </tr>\n",
       "  </tbody>\n",
       "</table>\n",
       "</div>"
      ],
      "text/plain": [
       "   PARTIES_ID  ASSET_ID ASSETS_TYPE ASSET_LOCATION  ASSETS_REVIEW_PER_MONTH  \\\n",
       "2        7903      5396         NaN            NaN                      NaN   \n",
       "3        7903      5396         NaN            NaN                      NaN   \n",
       "\n",
       "   ASSET_NUMBER_REVIEWS  ASSET_AVAILABILITY_30  ASSET_MITIGATION_COVID  \\\n",
       "2                   NaN                    NaN                     NaN   \n",
       "3                   NaN                    NaN                     NaN   \n",
       "\n",
       "  DATE_YEAR_MONTH  ASSET_PRICE  ASSETS_REVIEW_SCORES_ACCURACY  \\\n",
       "2         2019-06          NaN                            NaN   \n",
       "3         2020-06          NaN                            NaN   \n",
       "\n",
       "   ASSETS_REVIEW_SCORES_CHECKIN  ASSETS_REVIEW_SCORES_CLEANLINESS  \\\n",
       "2                           NaN                               NaN   \n",
       "3                           NaN                               NaN   \n",
       "\n",
       "   ASSETS_REVIEW_SCORES_COMMUNICATION  ASSETS_REVIEW_SCORES_LOCATION  \\\n",
       "2                                 NaN                            NaN   \n",
       "3                                 NaN                            NaN   \n",
       "\n",
       "   ASSETS_REVIEW_SCORES_RATING  ASSETS_REVIEW_SCORES_VALUE  \n",
       "2                          NaN                         NaN  \n",
       "3                          NaN                         NaN  "
      ]
     },
     "execution_count": 50,
     "metadata": {},
     "output_type": "execute_result"
    }
   ],
   "source": [
    "df_feature[df_feature.ASSET_ID==5396]"
   ]
  },
  {
   "cell_type": "code",
   "execution_count": 51,
   "metadata": {},
   "outputs": [
    {
     "data": {
      "text/plain": [
       "Index(['PARTIES_ID', 'ASSET_ID', 'ASSETS_TYPE', 'ASSET_LOCATION',\n",
       "       'ASSETS_REVIEW_PER_MONTH', 'ASSET_NUMBER_REVIEWS',\n",
       "       'ASSET_AVAILABILITY_30', 'ASSET_MITIGATION_COVID', 'DATE_YEAR_MONTH',\n",
       "       'ASSET_PRICE', 'ASSETS_REVIEW_SCORES_ACCURACY',\n",
       "       'ASSETS_REVIEW_SCORES_CHECKIN', 'ASSETS_REVIEW_SCORES_CLEANLINESS',\n",
       "       'ASSETS_REVIEW_SCORES_COMMUNICATION', 'ASSETS_REVIEW_SCORES_LOCATION',\n",
       "       'ASSETS_REVIEW_SCORES_RATING', 'ASSETS_REVIEW_SCORES_VALUE'],\n",
       "      dtype='object')"
      ]
     },
     "execution_count": 51,
     "metadata": {},
     "output_type": "execute_result"
    }
   ],
   "source": [
    "df_feature.columns"
   ]
  },
  {
   "cell_type": "code",
   "execution_count": 52,
   "metadata": {
    "scrolled": true
   },
   "outputs": [
    {
     "data": {
      "text/plain": [
       "(75574, 17)"
      ]
     },
     "execution_count": 52,
     "metadata": {},
     "output_type": "execute_result"
    }
   ],
   "source": [
    "df_feature.shape"
   ]
  },
  {
   "cell_type": "code",
   "execution_count": 53,
   "metadata": {},
   "outputs": [
    {
     "data": {
      "text/html": [
       "<div>\n",
       "<style scoped>\n",
       "    .dataframe tbody tr th:only-of-type {\n",
       "        vertical-align: middle;\n",
       "    }\n",
       "\n",
       "    .dataframe tbody tr th {\n",
       "        vertical-align: top;\n",
       "    }\n",
       "\n",
       "    .dataframe thead th {\n",
       "        text-align: right;\n",
       "    }\n",
       "</style>\n",
       "<table border=\"1\" class=\"dataframe\">\n",
       "  <thead>\n",
       "    <tr style=\"text-align: right;\">\n",
       "      <th></th>\n",
       "      <th>ASSET_ID</th>\n",
       "      <th>ASSET_LOCATION</th>\n",
       "      <th>DATE_YEAR_MONTH</th>\n",
       "      <th>ASSET_MITIGATION_COVID</th>\n",
       "    </tr>\n",
       "  </thead>\n",
       "  <tbody>\n",
       "    <tr>\n",
       "      <th>71933</th>\n",
       "      <td>36126878</td>\n",
       "      <td>NaN</td>\n",
       "      <td>2020-06</td>\n",
       "      <td>NaN</td>\n",
       "    </tr>\n",
       "    <tr>\n",
       "      <th>71941</th>\n",
       "      <td>36143549</td>\n",
       "      <td>NaN</td>\n",
       "      <td>2019-06</td>\n",
       "      <td>NaN</td>\n",
       "    </tr>\n",
       "    <tr>\n",
       "      <th>71942</th>\n",
       "      <td>36143549</td>\n",
       "      <td>amsterdam</td>\n",
       "      <td>2020-06</td>\n",
       "      <td>0.0</td>\n",
       "    </tr>\n",
       "    <tr>\n",
       "      <th>71945</th>\n",
       "      <td>36149854</td>\n",
       "      <td>NaN</td>\n",
       "      <td>2019-06</td>\n",
       "      <td>NaN</td>\n",
       "    </tr>\n",
       "    <tr>\n",
       "      <th>71946</th>\n",
       "      <td>36149854</td>\n",
       "      <td>vienna</td>\n",
       "      <td>2020-06</td>\n",
       "      <td>0.0</td>\n",
       "    </tr>\n",
       "  </tbody>\n",
       "</table>\n",
       "</div>"
      ],
      "text/plain": [
       "       ASSET_ID ASSET_LOCATION DATE_YEAR_MONTH  ASSET_MITIGATION_COVID\n",
       "71933  36126878            NaN         2020-06                     NaN\n",
       "71941  36143549            NaN         2019-06                     NaN\n",
       "71942  36143549      amsterdam         2020-06                     0.0\n",
       "71945  36149854            NaN         2019-06                     NaN\n",
       "71946  36149854         vienna         2020-06                     0.0"
      ]
     },
     "execution_count": 53,
     "metadata": {},
     "output_type": "execute_result"
    }
   ],
   "source": [
    "df_feature[df_feature.ASSET_ID.duplicated(keep=False)][[\"ASSET_ID\", \"ASSET_LOCATION\", \"DATE_YEAR_MONTH\", \"ASSET_MITIGATION_COVID\"]].tail()"
   ]
  },
  {
   "cell_type": "code",
   "execution_count": null,
   "metadata": {},
   "outputs": [],
   "source": []
  },
  {
   "cell_type": "code",
   "execution_count": 54,
   "metadata": {},
   "outputs": [],
   "source": [
    "# a questo punto tengo solo gli asset id duplicati, ovvero quelli presenti sia nel 2020 che nel 2019\n",
    "df_feature = df_feature[df_feature.ASSET_ID.duplicated(keep=False)]"
   ]
  },
  {
   "cell_type": "code",
   "execution_count": 55,
   "metadata": {},
   "outputs": [],
   "source": [
    "# i missing nel 2020 nella variabile asset mitigation dovrebbero essere 0 se tutte le descrizioni sono elaborate correttamente\n",
    "df_feature.loc[(df_feature.DATE_YEAR_MONTH == \"2020-06\") & \n",
    "               (df_feature.ASSET_MITIGATION_COVID.isnull()), \"ASSET_MITIGATION_COVID\"] = 0.0"
   ]
  },
  {
   "cell_type": "code",
   "execution_count": 56,
   "metadata": {},
   "outputs": [
    {
     "data": {
      "text/html": [
       "<div>\n",
       "<style scoped>\n",
       "    .dataframe tbody tr th:only-of-type {\n",
       "        vertical-align: middle;\n",
       "    }\n",
       "\n",
       "    .dataframe tbody tr th {\n",
       "        vertical-align: top;\n",
       "    }\n",
       "\n",
       "    .dataframe thead th {\n",
       "        text-align: right;\n",
       "    }\n",
       "</style>\n",
       "<table border=\"1\" class=\"dataframe\">\n",
       "  <thead>\n",
       "    <tr style=\"text-align: right;\">\n",
       "      <th></th>\n",
       "      <th>PARTIES_ID</th>\n",
       "      <th>ASSET_ID</th>\n",
       "      <th>ASSETS_TYPE</th>\n",
       "      <th>ASSET_LOCATION</th>\n",
       "      <th>ASSETS_REVIEW_PER_MONTH</th>\n",
       "      <th>ASSET_NUMBER_REVIEWS</th>\n",
       "      <th>ASSET_AVAILABILITY_30</th>\n",
       "      <th>ASSET_MITIGATION_COVID</th>\n",
       "      <th>DATE_YEAR_MONTH</th>\n",
       "      <th>ASSET_PRICE</th>\n",
       "      <th>ASSETS_REVIEW_SCORES_ACCURACY</th>\n",
       "      <th>ASSETS_REVIEW_SCORES_CHECKIN</th>\n",
       "      <th>ASSETS_REVIEW_SCORES_CLEANLINESS</th>\n",
       "      <th>ASSETS_REVIEW_SCORES_COMMUNICATION</th>\n",
       "      <th>ASSETS_REVIEW_SCORES_LOCATION</th>\n",
       "      <th>ASSETS_REVIEW_SCORES_RATING</th>\n",
       "      <th>ASSETS_REVIEW_SCORES_VALUE</th>\n",
       "    </tr>\n",
       "  </thead>\n",
       "  <tbody>\n",
       "    <tr>\n",
       "      <th>2</th>\n",
       "      <td>7903</td>\n",
       "      <td>5396</td>\n",
       "      <td>NaN</td>\n",
       "      <td>NaN</td>\n",
       "      <td>NaN</td>\n",
       "      <td>NaN</td>\n",
       "      <td>NaN</td>\n",
       "      <td>NaN</td>\n",
       "      <td>2019-06</td>\n",
       "      <td>NaN</td>\n",
       "      <td>NaN</td>\n",
       "      <td>NaN</td>\n",
       "      <td>NaN</td>\n",
       "      <td>NaN</td>\n",
       "      <td>NaN</td>\n",
       "      <td>NaN</td>\n",
       "      <td>NaN</td>\n",
       "    </tr>\n",
       "    <tr>\n",
       "      <th>3</th>\n",
       "      <td>7903</td>\n",
       "      <td>5396</td>\n",
       "      <td>NaN</td>\n",
       "      <td>NaN</td>\n",
       "      <td>NaN</td>\n",
       "      <td>NaN</td>\n",
       "      <td>NaN</td>\n",
       "      <td>0.0</td>\n",
       "      <td>2020-06</td>\n",
       "      <td>NaN</td>\n",
       "      <td>NaN</td>\n",
       "      <td>NaN</td>\n",
       "      <td>NaN</td>\n",
       "      <td>NaN</td>\n",
       "      <td>NaN</td>\n",
       "      <td>NaN</td>\n",
       "      <td>NaN</td>\n",
       "    </tr>\n",
       "    <tr>\n",
       "      <th>30</th>\n",
       "      <td>79843</td>\n",
       "      <td>21004</td>\n",
       "      <td>NaN</td>\n",
       "      <td>NaN</td>\n",
       "      <td>NaN</td>\n",
       "      <td>NaN</td>\n",
       "      <td>NaN</td>\n",
       "      <td>NaN</td>\n",
       "      <td>2019-06</td>\n",
       "      <td>NaN</td>\n",
       "      <td>NaN</td>\n",
       "      <td>NaN</td>\n",
       "      <td>NaN</td>\n",
       "      <td>NaN</td>\n",
       "      <td>NaN</td>\n",
       "      <td>NaN</td>\n",
       "      <td>NaN</td>\n",
       "    </tr>\n",
       "    <tr>\n",
       "      <th>31</th>\n",
       "      <td>79843</td>\n",
       "      <td>21004</td>\n",
       "      <td>NaN</td>\n",
       "      <td>NaN</td>\n",
       "      <td>NaN</td>\n",
       "      <td>NaN</td>\n",
       "      <td>NaN</td>\n",
       "      <td>0.0</td>\n",
       "      <td>2020-06</td>\n",
       "      <td>NaN</td>\n",
       "      <td>NaN</td>\n",
       "      <td>NaN</td>\n",
       "      <td>NaN</td>\n",
       "      <td>NaN</td>\n",
       "      <td>NaN</td>\n",
       "      <td>NaN</td>\n",
       "      <td>NaN</td>\n",
       "    </tr>\n",
       "    <tr>\n",
       "      <th>55</th>\n",
       "      <td>121318</td>\n",
       "      <td>28186</td>\n",
       "      <td>NaN</td>\n",
       "      <td>NaN</td>\n",
       "      <td>NaN</td>\n",
       "      <td>NaN</td>\n",
       "      <td>NaN</td>\n",
       "      <td>NaN</td>\n",
       "      <td>2019-06</td>\n",
       "      <td>NaN</td>\n",
       "      <td>NaN</td>\n",
       "      <td>NaN</td>\n",
       "      <td>NaN</td>\n",
       "      <td>NaN</td>\n",
       "      <td>NaN</td>\n",
       "      <td>NaN</td>\n",
       "      <td>NaN</td>\n",
       "    </tr>\n",
       "  </tbody>\n",
       "</table>\n",
       "</div>"
      ],
      "text/plain": [
       "    PARTIES_ID  ASSET_ID ASSETS_TYPE ASSET_LOCATION  ASSETS_REVIEW_PER_MONTH  \\\n",
       "2         7903      5396         NaN            NaN                      NaN   \n",
       "3         7903      5396         NaN            NaN                      NaN   \n",
       "30       79843     21004         NaN            NaN                      NaN   \n",
       "31       79843     21004         NaN            NaN                      NaN   \n",
       "55      121318     28186         NaN            NaN                      NaN   \n",
       "\n",
       "    ASSET_NUMBER_REVIEWS  ASSET_AVAILABILITY_30  ASSET_MITIGATION_COVID  \\\n",
       "2                    NaN                    NaN                     NaN   \n",
       "3                    NaN                    NaN                     0.0   \n",
       "30                   NaN                    NaN                     NaN   \n",
       "31                   NaN                    NaN                     0.0   \n",
       "55                   NaN                    NaN                     NaN   \n",
       "\n",
       "   DATE_YEAR_MONTH  ASSET_PRICE  ASSETS_REVIEW_SCORES_ACCURACY  \\\n",
       "2          2019-06          NaN                            NaN   \n",
       "3          2020-06          NaN                            NaN   \n",
       "30         2019-06          NaN                            NaN   \n",
       "31         2020-06          NaN                            NaN   \n",
       "55         2019-06          NaN                            NaN   \n",
       "\n",
       "    ASSETS_REVIEW_SCORES_CHECKIN  ASSETS_REVIEW_SCORES_CLEANLINESS  \\\n",
       "2                            NaN                               NaN   \n",
       "3                            NaN                               NaN   \n",
       "30                           NaN                               NaN   \n",
       "31                           NaN                               NaN   \n",
       "55                           NaN                               NaN   \n",
       "\n",
       "    ASSETS_REVIEW_SCORES_COMMUNICATION  ASSETS_REVIEW_SCORES_LOCATION  \\\n",
       "2                                  NaN                            NaN   \n",
       "3                                  NaN                            NaN   \n",
       "30                                 NaN                            NaN   \n",
       "31                                 NaN                            NaN   \n",
       "55                                 NaN                            NaN   \n",
       "\n",
       "    ASSETS_REVIEW_SCORES_RATING  ASSETS_REVIEW_SCORES_VALUE  \n",
       "2                           NaN                         NaN  \n",
       "3                           NaN                         NaN  \n",
       "30                          NaN                         NaN  \n",
       "31                          NaN                         NaN  \n",
       "55                          NaN                         NaN  "
      ]
     },
     "execution_count": 56,
     "metadata": {},
     "output_type": "execute_result"
    }
   ],
   "source": [
    "df_feature.head()"
   ]
  },
  {
   "cell_type": "code",
   "execution_count": 57,
   "metadata": {},
   "outputs": [
    {
     "data": {
      "text/plain": [
       "(15078, 17)"
      ]
     },
     "execution_count": 57,
     "metadata": {},
     "output_type": "execute_result"
    }
   ],
   "source": [
    "df_feature.shape"
   ]
  },
  {
   "cell_type": "code",
   "execution_count": 58,
   "metadata": {},
   "outputs": [
    {
     "data": {
      "text/plain": [
       "7539"
      ]
     },
     "execution_count": 58,
     "metadata": {},
     "output_type": "execute_result"
    }
   ],
   "source": [
    "df_feature.ASSET_ID.duplicated().sum()"
   ]
  },
  {
   "cell_type": "code",
   "execution_count": 59,
   "metadata": {},
   "outputs": [
    {
     "data": {
      "text/plain": [
       "2019-06    7539\n",
       "2020-06    7539\n",
       "Name: DATE_YEAR_MONTH, dtype: int64"
      ]
     },
     "execution_count": 59,
     "metadata": {},
     "output_type": "execute_result"
    }
   ],
   "source": [
    "df_feature.DATE_YEAR_MONTH.value_counts()"
   ]
  },
  {
   "cell_type": "code",
   "execution_count": 60,
   "metadata": {},
   "outputs": [
    {
     "data": {
      "text/plain": [
       "amsterdam     15\n",
       "brussels      11\n",
       "copenhagen     1\n",
       "lisbon        14\n",
       "madrid        22\n",
       "vienna         1\n",
       "Name: ASSET_LOCATION, dtype: int64"
      ]
     },
     "execution_count": 60,
     "metadata": {},
     "output_type": "execute_result"
    }
   ],
   "source": [
    "df_feature[(df_feature.DATE_YEAR_MONTH == \"2020-06\") & \n",
    "           (df_feature.ASSET_MITIGATION_COVID == 1)]['ASSET_LOCATION'].value_counts().sort_index()"
   ]
  },
  {
   "cell_type": "code",
   "execution_count": 61,
   "metadata": {},
   "outputs": [
    {
     "data": {
      "text/plain": [
       "amsterdam     232\n",
       "brussels      198\n",
       "copenhagen     64\n",
       "dublin          2\n",
       "lisbon        320\n",
       "madrid        396\n",
       "vienna        409\n",
       "Name: ASSET_LOCATION, dtype: int64"
      ]
     },
     "execution_count": 61,
     "metadata": {},
     "output_type": "execute_result"
    }
   ],
   "source": [
    "df_feature[(df_feature.DATE_YEAR_MONTH == \"2020-06\") & \n",
    "           (df_feature.ASSET_MITIGATION_COVID == 0)]['ASSET_LOCATION'].value_counts().sort_index()"
   ]
  },
  {
   "cell_type": "code",
   "execution_count": null,
   "metadata": {},
   "outputs": [],
   "source": []
  },
  {
   "cell_type": "code",
   "execution_count": 62,
   "metadata": {},
   "outputs": [],
   "source": [
    "location = df_feature.loc[df_feature.DATE_YEAR_MONTH == \"2019-06\", [\"ASSET_ID\", \"ASSET_LOCATION\", \"DATE_YEAR_MONTH\"]].merge(\n",
    "df_feature.loc[df_feature.DATE_YEAR_MONTH == \"2020-06\", [\"ASSET_ID\", \"ASSET_LOCATION\", \"DATE_YEAR_MONTH\"]], on=\"ASSET_ID\")"
   ]
  },
  {
   "cell_type": "code",
   "execution_count": 63,
   "metadata": {},
   "outputs": [],
   "source": [
    "location['combination'] = location['ASSET_LOCATION_y'].combine_first(location['ASSET_LOCATION_x'])"
   ]
  },
  {
   "cell_type": "code",
   "execution_count": 64,
   "metadata": {},
   "outputs": [
    {
     "data": {
      "text/html": [
       "<div>\n",
       "<style scoped>\n",
       "    .dataframe tbody tr th:only-of-type {\n",
       "        vertical-align: middle;\n",
       "    }\n",
       "\n",
       "    .dataframe tbody tr th {\n",
       "        vertical-align: top;\n",
       "    }\n",
       "\n",
       "    .dataframe thead th {\n",
       "        text-align: right;\n",
       "    }\n",
       "</style>\n",
       "<table border=\"1\" class=\"dataframe\">\n",
       "  <thead>\n",
       "    <tr style=\"text-align: right;\">\n",
       "      <th></th>\n",
       "      <th>ASSET_ID</th>\n",
       "      <th>ASSET_LOCATION_x</th>\n",
       "      <th>DATE_YEAR_MONTH_x</th>\n",
       "      <th>ASSET_LOCATION_y</th>\n",
       "      <th>DATE_YEAR_MONTH_y</th>\n",
       "      <th>combination</th>\n",
       "    </tr>\n",
       "  </thead>\n",
       "  <tbody>\n",
       "    <tr>\n",
       "      <th>0</th>\n",
       "      <td>5396</td>\n",
       "      <td>NaN</td>\n",
       "      <td>2019-06</td>\n",
       "      <td>NaN</td>\n",
       "      <td>2020-06</td>\n",
       "      <td>NaN</td>\n",
       "    </tr>\n",
       "    <tr>\n",
       "      <th>1</th>\n",
       "      <td>21004</td>\n",
       "      <td>NaN</td>\n",
       "      <td>2019-06</td>\n",
       "      <td>NaN</td>\n",
       "      <td>2020-06</td>\n",
       "      <td>NaN</td>\n",
       "    </tr>\n",
       "    <tr>\n",
       "      <th>2</th>\n",
       "      <td>28186</td>\n",
       "      <td>NaN</td>\n",
       "      <td>2019-06</td>\n",
       "      <td>NaN</td>\n",
       "      <td>2020-06</td>\n",
       "      <td>NaN</td>\n",
       "    </tr>\n",
       "    <tr>\n",
       "      <th>3</th>\n",
       "      <td>29248</td>\n",
       "      <td>NaN</td>\n",
       "      <td>2019-06</td>\n",
       "      <td>NaN</td>\n",
       "      <td>2020-06</td>\n",
       "      <td>NaN</td>\n",
       "    </tr>\n",
       "    <tr>\n",
       "      <th>4</th>\n",
       "      <td>29396</td>\n",
       "      <td>lisbon</td>\n",
       "      <td>2019-06</td>\n",
       "      <td>NaN</td>\n",
       "      <td>2020-06</td>\n",
       "      <td>lisbon</td>\n",
       "    </tr>\n",
       "  </tbody>\n",
       "</table>\n",
       "</div>"
      ],
      "text/plain": [
       "   ASSET_ID ASSET_LOCATION_x DATE_YEAR_MONTH_x ASSET_LOCATION_y  \\\n",
       "0      5396              NaN           2019-06              NaN   \n",
       "1     21004              NaN           2019-06              NaN   \n",
       "2     28186              NaN           2019-06              NaN   \n",
       "3     29248              NaN           2019-06              NaN   \n",
       "4     29396           lisbon           2019-06              NaN   \n",
       "\n",
       "  DATE_YEAR_MONTH_y combination  \n",
       "0           2020-06         NaN  \n",
       "1           2020-06         NaN  \n",
       "2           2020-06         NaN  \n",
       "3           2020-06         NaN  \n",
       "4           2020-06      lisbon  "
      ]
     },
     "execution_count": 64,
     "metadata": {},
     "output_type": "execute_result"
    }
   ],
   "source": [
    "location.head()"
   ]
  },
  {
   "cell_type": "code",
   "execution_count": 65,
   "metadata": {},
   "outputs": [],
   "source": [
    "location_diz = {asset : location for asset, location in zip(location.ASSET_ID, location.combination)}"
   ]
  },
  {
   "cell_type": "code",
   "execution_count": 66,
   "metadata": {},
   "outputs": [],
   "source": [
    "df_feature['ASSET_LOCATION'] = df_feature.ASSET_ID.map(location_diz)"
   ]
  },
  {
   "cell_type": "code",
   "execution_count": 67,
   "metadata": {},
   "outputs": [],
   "source": [
    "cities_to_use = ['amsterdam', \"brussels\", \"lisbon\", \"madrid\"]\n",
    "df_feature = df_feature.loc[df_feature.ASSET_LOCATION.isin(cities_to_use)]"
   ]
  },
  {
   "cell_type": "code",
   "execution_count": 68,
   "metadata": {},
   "outputs": [
    {
     "data": {
      "text/plain": [
       "lisbon       888\n",
       "madrid       846\n",
       "amsterdam    494\n",
       "brussels     418\n",
       "Name: ASSET_LOCATION, dtype: int64"
      ]
     },
     "execution_count": 68,
     "metadata": {},
     "output_type": "execute_result"
    }
   ],
   "source": [
    "df_feature.ASSET_LOCATION.value_counts()"
   ]
  },
  {
   "cell_type": "code",
   "execution_count": 69,
   "metadata": {},
   "outputs": [
    {
     "data": {
      "text/plain": [
       "(2646, 17)"
      ]
     },
     "execution_count": 69,
     "metadata": {},
     "output_type": "execute_result"
    }
   ],
   "source": [
    "df_feature.shape"
   ]
  },
  {
   "cell_type": "code",
   "execution_count": 70,
   "metadata": {},
   "outputs": [],
   "source": [
    "# gruppo con mitigation True nel 2020\n",
    "\n",
    "df_mit_true = df_feature[(df_feature.DATE_YEAR_MONTH == \"2020-06\") & \n",
    "                         (df_feature.ASSET_MITIGATION_COVID == 1)].groupby(\"ASSET_LOCATION\")\n",
    "\n",
    "df_mit_true = df_mit_true.apply(lambda x: x.sample(11)).reset_index(drop=True)"
   ]
  },
  {
   "cell_type": "code",
   "execution_count": 71,
   "metadata": {},
   "outputs": [
    {
     "data": {
      "text/html": [
       "<div>\n",
       "<style scoped>\n",
       "    .dataframe tbody tr th:only-of-type {\n",
       "        vertical-align: middle;\n",
       "    }\n",
       "\n",
       "    .dataframe tbody tr th {\n",
       "        vertical-align: top;\n",
       "    }\n",
       "\n",
       "    .dataframe thead th {\n",
       "        text-align: right;\n",
       "    }\n",
       "</style>\n",
       "<table border=\"1\" class=\"dataframe\">\n",
       "  <thead>\n",
       "    <tr style=\"text-align: right;\">\n",
       "      <th></th>\n",
       "      <th>PARTIES_ID</th>\n",
       "      <th>ASSET_ID</th>\n",
       "      <th>ASSETS_TYPE</th>\n",
       "      <th>ASSET_LOCATION</th>\n",
       "      <th>ASSETS_REVIEW_PER_MONTH</th>\n",
       "      <th>ASSET_NUMBER_REVIEWS</th>\n",
       "      <th>ASSET_AVAILABILITY_30</th>\n",
       "      <th>ASSET_MITIGATION_COVID</th>\n",
       "      <th>DATE_YEAR_MONTH</th>\n",
       "      <th>ASSET_PRICE</th>\n",
       "      <th>ASSETS_REVIEW_SCORES_ACCURACY</th>\n",
       "      <th>ASSETS_REVIEW_SCORES_CHECKIN</th>\n",
       "      <th>ASSETS_REVIEW_SCORES_CLEANLINESS</th>\n",
       "      <th>ASSETS_REVIEW_SCORES_COMMUNICATION</th>\n",
       "      <th>ASSETS_REVIEW_SCORES_LOCATION</th>\n",
       "      <th>ASSETS_REVIEW_SCORES_RATING</th>\n",
       "      <th>ASSETS_REVIEW_SCORES_VALUE</th>\n",
       "    </tr>\n",
       "  </thead>\n",
       "  <tbody>\n",
       "    <tr>\n",
       "      <th>0</th>\n",
       "      <td>217577916</td>\n",
       "      <td>31136615</td>\n",
       "      <td>Real Bed</td>\n",
       "      <td>amsterdam</td>\n",
       "      <td>4.27</td>\n",
       "      <td>73.0</td>\n",
       "      <td>7.0</td>\n",
       "      <td>1.0</td>\n",
       "      <td>2020-06</td>\n",
       "      <td>110.0</td>\n",
       "      <td>9.0</td>\n",
       "      <td>9.0</td>\n",
       "      <td>10.0</td>\n",
       "      <td>9.0</td>\n",
       "      <td>10.0</td>\n",
       "      <td>89.0</td>\n",
       "      <td>9.0</td>\n",
       "    </tr>\n",
       "    <tr>\n",
       "      <th>1</th>\n",
       "      <td>534213</td>\n",
       "      <td>31709186</td>\n",
       "      <td>Real Bed</td>\n",
       "      <td>amsterdam</td>\n",
       "      <td>0.67</td>\n",
       "      <td>11.0</td>\n",
       "      <td>9.0</td>\n",
       "      <td>1.0</td>\n",
       "      <td>2020-06</td>\n",
       "      <td>75.0</td>\n",
       "      <td>10.0</td>\n",
       "      <td>10.0</td>\n",
       "      <td>10.0</td>\n",
       "      <td>10.0</td>\n",
       "      <td>10.0</td>\n",
       "      <td>100.0</td>\n",
       "      <td>9.0</td>\n",
       "    </tr>\n",
       "  </tbody>\n",
       "</table>\n",
       "</div>"
      ],
      "text/plain": [
       "   PARTIES_ID  ASSET_ID ASSETS_TYPE ASSET_LOCATION  ASSETS_REVIEW_PER_MONTH  \\\n",
       "0   217577916  31136615    Real Bed      amsterdam                     4.27   \n",
       "1      534213  31709186    Real Bed      amsterdam                     0.67   \n",
       "\n",
       "   ASSET_NUMBER_REVIEWS  ASSET_AVAILABILITY_30  ASSET_MITIGATION_COVID  \\\n",
       "0                  73.0                    7.0                     1.0   \n",
       "1                  11.0                    9.0                     1.0   \n",
       "\n",
       "  DATE_YEAR_MONTH  ASSET_PRICE  ASSETS_REVIEW_SCORES_ACCURACY  \\\n",
       "0         2020-06        110.0                            9.0   \n",
       "1         2020-06         75.0                           10.0   \n",
       "\n",
       "   ASSETS_REVIEW_SCORES_CHECKIN  ASSETS_REVIEW_SCORES_CLEANLINESS  \\\n",
       "0                           9.0                              10.0   \n",
       "1                          10.0                              10.0   \n",
       "\n",
       "   ASSETS_REVIEW_SCORES_COMMUNICATION  ASSETS_REVIEW_SCORES_LOCATION  \\\n",
       "0                                 9.0                           10.0   \n",
       "1                                10.0                           10.0   \n",
       "\n",
       "   ASSETS_REVIEW_SCORES_RATING  ASSETS_REVIEW_SCORES_VALUE  \n",
       "0                         89.0                         9.0  \n",
       "1                        100.0                         9.0  "
      ]
     },
     "execution_count": 71,
     "metadata": {},
     "output_type": "execute_result"
    }
   ],
   "source": [
    "df_mit_true.head(2)"
   ]
  },
  {
   "cell_type": "code",
   "execution_count": 72,
   "metadata": {},
   "outputs": [
    {
     "data": {
      "text/html": [
       "<div>\n",
       "<style scoped>\n",
       "    .dataframe tbody tr th:only-of-type {\n",
       "        vertical-align: middle;\n",
       "    }\n",
       "\n",
       "    .dataframe tbody tr th {\n",
       "        vertical-align: top;\n",
       "    }\n",
       "\n",
       "    .dataframe thead th {\n",
       "        text-align: right;\n",
       "    }\n",
       "</style>\n",
       "<table border=\"1\" class=\"dataframe\">\n",
       "  <thead>\n",
       "    <tr style=\"text-align: right;\">\n",
       "      <th></th>\n",
       "      <th>PARTIES_ID</th>\n",
       "      <th>ASSET_ID</th>\n",
       "      <th>ASSETS_TYPE</th>\n",
       "      <th>ASSET_LOCATION</th>\n",
       "      <th>ASSETS_REVIEW_PER_MONTH</th>\n",
       "      <th>ASSET_NUMBER_REVIEWS</th>\n",
       "      <th>ASSET_AVAILABILITY_30</th>\n",
       "      <th>ASSET_MITIGATION_COVID</th>\n",
       "      <th>DATE_YEAR_MONTH</th>\n",
       "      <th>ASSET_PRICE</th>\n",
       "      <th>ASSETS_REVIEW_SCORES_ACCURACY</th>\n",
       "      <th>ASSETS_REVIEW_SCORES_CHECKIN</th>\n",
       "      <th>ASSETS_REVIEW_SCORES_CLEANLINESS</th>\n",
       "      <th>ASSETS_REVIEW_SCORES_COMMUNICATION</th>\n",
       "      <th>ASSETS_REVIEW_SCORES_LOCATION</th>\n",
       "      <th>ASSETS_REVIEW_SCORES_RATING</th>\n",
       "      <th>ASSETS_REVIEW_SCORES_VALUE</th>\n",
       "    </tr>\n",
       "  </thead>\n",
       "  <tbody>\n",
       "    <tr>\n",
       "      <th>36723</th>\n",
       "      <td>8849348</td>\n",
       "      <td>20389972</td>\n",
       "      <td>NaN</td>\n",
       "      <td>amsterdam</td>\n",
       "      <td>NaN</td>\n",
       "      <td>NaN</td>\n",
       "      <td>NaN</td>\n",
       "      <td>NaN</td>\n",
       "      <td>2019-06</td>\n",
       "      <td>NaN</td>\n",
       "      <td>NaN</td>\n",
       "      <td>NaN</td>\n",
       "      <td>NaN</td>\n",
       "      <td>NaN</td>\n",
       "      <td>NaN</td>\n",
       "      <td>NaN</td>\n",
       "      <td>NaN</td>\n",
       "    </tr>\n",
       "    <tr>\n",
       "      <th>36724</th>\n",
       "      <td>8849348</td>\n",
       "      <td>20389972</td>\n",
       "      <td>Real Bed</td>\n",
       "      <td>amsterdam</td>\n",
       "      <td>5.21</td>\n",
       "      <td>177.0</td>\n",
       "      <td>8.0</td>\n",
       "      <td>1.0</td>\n",
       "      <td>2020-06</td>\n",
       "      <td>120.0</td>\n",
       "      <td>10.0</td>\n",
       "      <td>10.0</td>\n",
       "      <td>10.0</td>\n",
       "      <td>10.0</td>\n",
       "      <td>10.0</td>\n",
       "      <td>96.0</td>\n",
       "      <td>9.0</td>\n",
       "    </tr>\n",
       "  </tbody>\n",
       "</table>\n",
       "</div>"
      ],
      "text/plain": [
       "       PARTIES_ID  ASSET_ID ASSETS_TYPE ASSET_LOCATION  \\\n",
       "36723     8849348  20389972         NaN      amsterdam   \n",
       "36724     8849348  20389972    Real Bed      amsterdam   \n",
       "\n",
       "       ASSETS_REVIEW_PER_MONTH  ASSET_NUMBER_REVIEWS  ASSET_AVAILABILITY_30  \\\n",
       "36723                      NaN                   NaN                    NaN   \n",
       "36724                     5.21                 177.0                    8.0   \n",
       "\n",
       "       ASSET_MITIGATION_COVID DATE_YEAR_MONTH  ASSET_PRICE  \\\n",
       "36723                     NaN         2019-06          NaN   \n",
       "36724                     1.0         2020-06        120.0   \n",
       "\n",
       "       ASSETS_REVIEW_SCORES_ACCURACY  ASSETS_REVIEW_SCORES_CHECKIN  \\\n",
       "36723                            NaN                           NaN   \n",
       "36724                           10.0                          10.0   \n",
       "\n",
       "       ASSETS_REVIEW_SCORES_CLEANLINESS  ASSETS_REVIEW_SCORES_COMMUNICATION  \\\n",
       "36723                               NaN                                 NaN   \n",
       "36724                              10.0                                10.0   \n",
       "\n",
       "       ASSETS_REVIEW_SCORES_LOCATION  ASSETS_REVIEW_SCORES_RATING  \\\n",
       "36723                            NaN                          NaN   \n",
       "36724                           10.0                         96.0   \n",
       "\n",
       "       ASSETS_REVIEW_SCORES_VALUE  \n",
       "36723                         NaN  \n",
       "36724                         9.0  "
      ]
     },
     "execution_count": 72,
     "metadata": {},
     "output_type": "execute_result"
    }
   ],
   "source": [
    "df_feature[df_feature.ASSET_ID == 20389972]"
   ]
  },
  {
   "cell_type": "code",
   "execution_count": 73,
   "metadata": {},
   "outputs": [
    {
     "data": {
      "text/plain": [
       "(44, 17)"
      ]
     },
     "execution_count": 73,
     "metadata": {},
     "output_type": "execute_result"
    }
   ],
   "source": [
    "df_mit_true.shape"
   ]
  },
  {
   "cell_type": "code",
   "execution_count": 74,
   "metadata": {},
   "outputs": [
    {
     "data": {
      "text/plain": [
       "amsterdam    11\n",
       "lisbon       11\n",
       "madrid       11\n",
       "brussels     11\n",
       "Name: ASSET_LOCATION, dtype: int64"
      ]
     },
     "execution_count": 74,
     "metadata": {},
     "output_type": "execute_result"
    }
   ],
   "source": [
    "df_mit_true.ASSET_LOCATION.value_counts()"
   ]
  },
  {
   "cell_type": "code",
   "execution_count": null,
   "metadata": {},
   "outputs": [],
   "source": []
  },
  {
   "cell_type": "code",
   "execution_count": 75,
   "metadata": {},
   "outputs": [],
   "source": [
    "# gruppo con mitigation False nel 2020\n",
    "\n",
    "df_mit_false = df_feature[(df_feature.DATE_YEAR_MONTH == \"2020-06\") & \n",
    "                          (df_feature.ASSET_MITIGATION_COVID == 0.0)].groupby(\"ASSET_LOCATION\")\n",
    "\n",
    "df_mit_false = df_mit_false.apply(lambda x: x.sample(11)).reset_index(drop=True)"
   ]
  },
  {
   "cell_type": "code",
   "execution_count": 76,
   "metadata": {},
   "outputs": [
    {
     "data": {
      "text/html": [
       "<div>\n",
       "<style scoped>\n",
       "    .dataframe tbody tr th:only-of-type {\n",
       "        vertical-align: middle;\n",
       "    }\n",
       "\n",
       "    .dataframe tbody tr th {\n",
       "        vertical-align: top;\n",
       "    }\n",
       "\n",
       "    .dataframe thead th {\n",
       "        text-align: right;\n",
       "    }\n",
       "</style>\n",
       "<table border=\"1\" class=\"dataframe\">\n",
       "  <thead>\n",
       "    <tr style=\"text-align: right;\">\n",
       "      <th></th>\n",
       "      <th>PARTIES_ID</th>\n",
       "      <th>ASSET_ID</th>\n",
       "      <th>ASSETS_TYPE</th>\n",
       "      <th>ASSET_LOCATION</th>\n",
       "      <th>ASSETS_REVIEW_PER_MONTH</th>\n",
       "      <th>ASSET_NUMBER_REVIEWS</th>\n",
       "      <th>ASSET_AVAILABILITY_30</th>\n",
       "      <th>ASSET_MITIGATION_COVID</th>\n",
       "      <th>DATE_YEAR_MONTH</th>\n",
       "      <th>ASSET_PRICE</th>\n",
       "      <th>ASSETS_REVIEW_SCORES_ACCURACY</th>\n",
       "      <th>ASSETS_REVIEW_SCORES_CHECKIN</th>\n",
       "      <th>ASSETS_REVIEW_SCORES_CLEANLINESS</th>\n",
       "      <th>ASSETS_REVIEW_SCORES_COMMUNICATION</th>\n",
       "      <th>ASSETS_REVIEW_SCORES_LOCATION</th>\n",
       "      <th>ASSETS_REVIEW_SCORES_RATING</th>\n",
       "      <th>ASSETS_REVIEW_SCORES_VALUE</th>\n",
       "    </tr>\n",
       "  </thead>\n",
       "  <tbody>\n",
       "    <tr>\n",
       "      <th>0</th>\n",
       "      <td>225780606</td>\n",
       "      <td>30041745</td>\n",
       "      <td>Real Bed</td>\n",
       "      <td>amsterdam</td>\n",
       "      <td>3.26</td>\n",
       "      <td>62.0</td>\n",
       "      <td>30.0</td>\n",
       "      <td>0.0</td>\n",
       "      <td>2020-06</td>\n",
       "      <td>70.0</td>\n",
       "      <td>9.0</td>\n",
       "      <td>9.0</td>\n",
       "      <td>8.0</td>\n",
       "      <td>9.0</td>\n",
       "      <td>9.0</td>\n",
       "      <td>85.0</td>\n",
       "      <td>8.0</td>\n",
       "    </tr>\n",
       "    <tr>\n",
       "      <th>1</th>\n",
       "      <td>42396683</td>\n",
       "      <td>8038640</td>\n",
       "      <td>Real Bed</td>\n",
       "      <td>amsterdam</td>\n",
       "      <td>3.32</td>\n",
       "      <td>184.0</td>\n",
       "      <td>18.0</td>\n",
       "      <td>0.0</td>\n",
       "      <td>2020-06</td>\n",
       "      <td>107.0</td>\n",
       "      <td>10.0</td>\n",
       "      <td>10.0</td>\n",
       "      <td>9.0</td>\n",
       "      <td>9.0</td>\n",
       "      <td>10.0</td>\n",
       "      <td>93.0</td>\n",
       "      <td>9.0</td>\n",
       "    </tr>\n",
       "    <tr>\n",
       "      <th>2</th>\n",
       "      <td>173784342</td>\n",
       "      <td>23363442</td>\n",
       "      <td>Real Bed</td>\n",
       "      <td>amsterdam</td>\n",
       "      <td>5.04</td>\n",
       "      <td>141.0</td>\n",
       "      <td>0.0</td>\n",
       "      <td>0.0</td>\n",
       "      <td>2020-06</td>\n",
       "      <td>70.0</td>\n",
       "      <td>10.0</td>\n",
       "      <td>10.0</td>\n",
       "      <td>10.0</td>\n",
       "      <td>10.0</td>\n",
       "      <td>9.0</td>\n",
       "      <td>93.0</td>\n",
       "      <td>9.0</td>\n",
       "    </tr>\n",
       "    <tr>\n",
       "      <th>3</th>\n",
       "      <td>20921327</td>\n",
       "      <td>4035170</td>\n",
       "      <td>Real Bed</td>\n",
       "      <td>amsterdam</td>\n",
       "      <td>0.66</td>\n",
       "      <td>46.0</td>\n",
       "      <td>19.0</td>\n",
       "      <td>0.0</td>\n",
       "      <td>2020-06</td>\n",
       "      <td>250.0</td>\n",
       "      <td>10.0</td>\n",
       "      <td>10.0</td>\n",
       "      <td>10.0</td>\n",
       "      <td>10.0</td>\n",
       "      <td>10.0</td>\n",
       "      <td>99.0</td>\n",
       "      <td>9.0</td>\n",
       "    </tr>\n",
       "    <tr>\n",
       "      <th>4</th>\n",
       "      <td>3278419</td>\n",
       "      <td>654931</td>\n",
       "      <td>Real Bed</td>\n",
       "      <td>amsterdam</td>\n",
       "      <td>6.86</td>\n",
       "      <td>646.0</td>\n",
       "      <td>23.0</td>\n",
       "      <td>0.0</td>\n",
       "      <td>2020-06</td>\n",
       "      <td>85.0</td>\n",
       "      <td>10.0</td>\n",
       "      <td>10.0</td>\n",
       "      <td>10.0</td>\n",
       "      <td>10.0</td>\n",
       "      <td>10.0</td>\n",
       "      <td>97.0</td>\n",
       "      <td>10.0</td>\n",
       "    </tr>\n",
       "  </tbody>\n",
       "</table>\n",
       "</div>"
      ],
      "text/plain": [
       "   PARTIES_ID  ASSET_ID ASSETS_TYPE ASSET_LOCATION  ASSETS_REVIEW_PER_MONTH  \\\n",
       "0   225780606  30041745    Real Bed      amsterdam                     3.26   \n",
       "1    42396683   8038640    Real Bed      amsterdam                     3.32   \n",
       "2   173784342  23363442    Real Bed      amsterdam                     5.04   \n",
       "3    20921327   4035170    Real Bed      amsterdam                     0.66   \n",
       "4     3278419    654931    Real Bed      amsterdam                     6.86   \n",
       "\n",
       "   ASSET_NUMBER_REVIEWS  ASSET_AVAILABILITY_30  ASSET_MITIGATION_COVID  \\\n",
       "0                  62.0                   30.0                     0.0   \n",
       "1                 184.0                   18.0                     0.0   \n",
       "2                 141.0                    0.0                     0.0   \n",
       "3                  46.0                   19.0                     0.0   \n",
       "4                 646.0                   23.0                     0.0   \n",
       "\n",
       "  DATE_YEAR_MONTH  ASSET_PRICE  ASSETS_REVIEW_SCORES_ACCURACY  \\\n",
       "0         2020-06         70.0                            9.0   \n",
       "1         2020-06        107.0                           10.0   \n",
       "2         2020-06         70.0                           10.0   \n",
       "3         2020-06        250.0                           10.0   \n",
       "4         2020-06         85.0                           10.0   \n",
       "\n",
       "   ASSETS_REVIEW_SCORES_CHECKIN  ASSETS_REVIEW_SCORES_CLEANLINESS  \\\n",
       "0                           9.0                               8.0   \n",
       "1                          10.0                               9.0   \n",
       "2                          10.0                              10.0   \n",
       "3                          10.0                              10.0   \n",
       "4                          10.0                              10.0   \n",
       "\n",
       "   ASSETS_REVIEW_SCORES_COMMUNICATION  ASSETS_REVIEW_SCORES_LOCATION  \\\n",
       "0                                 9.0                            9.0   \n",
       "1                                 9.0                           10.0   \n",
       "2                                10.0                            9.0   \n",
       "3                                10.0                           10.0   \n",
       "4                                10.0                           10.0   \n",
       "\n",
       "   ASSETS_REVIEW_SCORES_RATING  ASSETS_REVIEW_SCORES_VALUE  \n",
       "0                         85.0                         8.0  \n",
       "1                         93.0                         9.0  \n",
       "2                         93.0                         9.0  \n",
       "3                         99.0                         9.0  \n",
       "4                         97.0                        10.0  "
      ]
     },
     "execution_count": 76,
     "metadata": {},
     "output_type": "execute_result"
    }
   ],
   "source": [
    "df_mit_false.head(5)"
   ]
  },
  {
   "cell_type": "code",
   "execution_count": 77,
   "metadata": {},
   "outputs": [
    {
     "data": {
      "text/html": [
       "<div>\n",
       "<style scoped>\n",
       "    .dataframe tbody tr th:only-of-type {\n",
       "        vertical-align: middle;\n",
       "    }\n",
       "\n",
       "    .dataframe tbody tr th {\n",
       "        vertical-align: top;\n",
       "    }\n",
       "\n",
       "    .dataframe thead th {\n",
       "        text-align: right;\n",
       "    }\n",
       "</style>\n",
       "<table border=\"1\" class=\"dataframe\">\n",
       "  <thead>\n",
       "    <tr style=\"text-align: right;\">\n",
       "      <th></th>\n",
       "      <th>PARTIES_ID</th>\n",
       "      <th>ASSET_ID</th>\n",
       "      <th>ASSETS_TYPE</th>\n",
       "      <th>ASSET_LOCATION</th>\n",
       "      <th>ASSETS_REVIEW_PER_MONTH</th>\n",
       "      <th>ASSET_NUMBER_REVIEWS</th>\n",
       "      <th>ASSET_AVAILABILITY_30</th>\n",
       "      <th>ASSET_MITIGATION_COVID</th>\n",
       "      <th>DATE_YEAR_MONTH</th>\n",
       "      <th>ASSET_PRICE</th>\n",
       "      <th>ASSETS_REVIEW_SCORES_ACCURACY</th>\n",
       "      <th>ASSETS_REVIEW_SCORES_CHECKIN</th>\n",
       "      <th>ASSETS_REVIEW_SCORES_CLEANLINESS</th>\n",
       "      <th>ASSETS_REVIEW_SCORES_COMMUNICATION</th>\n",
       "      <th>ASSETS_REVIEW_SCORES_LOCATION</th>\n",
       "      <th>ASSETS_REVIEW_SCORES_RATING</th>\n",
       "      <th>ASSETS_REVIEW_SCORES_VALUE</th>\n",
       "    </tr>\n",
       "  </thead>\n",
       "  <tbody>\n",
       "    <tr>\n",
       "      <th>43341</th>\n",
       "      <td>8407811</td>\n",
       "      <td>23416497</td>\n",
       "      <td>NaN</td>\n",
       "      <td>amsterdam</td>\n",
       "      <td>NaN</td>\n",
       "      <td>NaN</td>\n",
       "      <td>NaN</td>\n",
       "      <td>NaN</td>\n",
       "      <td>2019-06</td>\n",
       "      <td>NaN</td>\n",
       "      <td>NaN</td>\n",
       "      <td>NaN</td>\n",
       "      <td>NaN</td>\n",
       "      <td>NaN</td>\n",
       "      <td>NaN</td>\n",
       "      <td>NaN</td>\n",
       "      <td>NaN</td>\n",
       "    </tr>\n",
       "    <tr>\n",
       "      <th>43342</th>\n",
       "      <td>8407811</td>\n",
       "      <td>23416497</td>\n",
       "      <td>Real Bed</td>\n",
       "      <td>amsterdam</td>\n",
       "      <td>11.29</td>\n",
       "      <td>315.0</td>\n",
       "      <td>8.0</td>\n",
       "      <td>0.0</td>\n",
       "      <td>2020-06</td>\n",
       "      <td>130.0</td>\n",
       "      <td>10.0</td>\n",
       "      <td>10.0</td>\n",
       "      <td>10.0</td>\n",
       "      <td>10.0</td>\n",
       "      <td>10.0</td>\n",
       "      <td>99.0</td>\n",
       "      <td>10.0</td>\n",
       "    </tr>\n",
       "  </tbody>\n",
       "</table>\n",
       "</div>"
      ],
      "text/plain": [
       "       PARTIES_ID  ASSET_ID ASSETS_TYPE ASSET_LOCATION  \\\n",
       "43341     8407811  23416497         NaN      amsterdam   \n",
       "43342     8407811  23416497    Real Bed      amsterdam   \n",
       "\n",
       "       ASSETS_REVIEW_PER_MONTH  ASSET_NUMBER_REVIEWS  ASSET_AVAILABILITY_30  \\\n",
       "43341                      NaN                   NaN                    NaN   \n",
       "43342                    11.29                 315.0                    8.0   \n",
       "\n",
       "       ASSET_MITIGATION_COVID DATE_YEAR_MONTH  ASSET_PRICE  \\\n",
       "43341                     NaN         2019-06          NaN   \n",
       "43342                     0.0         2020-06        130.0   \n",
       "\n",
       "       ASSETS_REVIEW_SCORES_ACCURACY  ASSETS_REVIEW_SCORES_CHECKIN  \\\n",
       "43341                            NaN                           NaN   \n",
       "43342                           10.0                          10.0   \n",
       "\n",
       "       ASSETS_REVIEW_SCORES_CLEANLINESS  ASSETS_REVIEW_SCORES_COMMUNICATION  \\\n",
       "43341                               NaN                                 NaN   \n",
       "43342                              10.0                                10.0   \n",
       "\n",
       "       ASSETS_REVIEW_SCORES_LOCATION  ASSETS_REVIEW_SCORES_RATING  \\\n",
       "43341                            NaN                          NaN   \n",
       "43342                           10.0                         99.0   \n",
       "\n",
       "       ASSETS_REVIEW_SCORES_VALUE  \n",
       "43341                         NaN  \n",
       "43342                        10.0  "
      ]
     },
     "execution_count": 77,
     "metadata": {},
     "output_type": "execute_result"
    }
   ],
   "source": [
    "df_feature[df_feature.ASSET_ID == 23416497]"
   ]
  },
  {
   "cell_type": "code",
   "execution_count": 78,
   "metadata": {},
   "outputs": [
    {
     "data": {
      "text/plain": [
       "amsterdam    11\n",
       "lisbon       11\n",
       "madrid       11\n",
       "brussels     11\n",
       "Name: ASSET_LOCATION, dtype: int64"
      ]
     },
     "execution_count": 78,
     "metadata": {},
     "output_type": "execute_result"
    }
   ],
   "source": [
    "df_mit_false.ASSET_LOCATION.value_counts()"
   ]
  },
  {
   "cell_type": "code",
   "execution_count": null,
   "metadata": {},
   "outputs": [],
   "source": []
  },
  {
   "cell_type": "code",
   "execution_count": 79,
   "metadata": {},
   "outputs": [],
   "source": [
    "df_join = pd.concat([df_mit_true, df_mit_false])"
   ]
  },
  {
   "cell_type": "code",
   "execution_count": 80,
   "metadata": {},
   "outputs": [
    {
     "data": {
      "text/plain": [
       "(88, 17)"
      ]
     },
     "execution_count": 80,
     "metadata": {},
     "output_type": "execute_result"
    }
   ],
   "source": [
    "df_join.shape"
   ]
  },
  {
   "cell_type": "code",
   "execution_count": 81,
   "metadata": {},
   "outputs": [
    {
     "data": {
      "text/plain": [
       "amsterdam    22\n",
       "lisbon       22\n",
       "madrid       22\n",
       "brussels     22\n",
       "Name: ASSET_LOCATION, dtype: int64"
      ]
     },
     "execution_count": 81,
     "metadata": {},
     "output_type": "execute_result"
    }
   ],
   "source": [
    "df_join.ASSET_LOCATION.value_counts()"
   ]
  },
  {
   "cell_type": "code",
   "execution_count": 82,
   "metadata": {},
   "outputs": [],
   "source": [
    "list_asset_2020 = df_join.ASSET_ID.to_list()"
   ]
  },
  {
   "cell_type": "code",
   "execution_count": 83,
   "metadata": {},
   "outputs": [
    {
     "data": {
      "text/plain": [
       "88"
      ]
     },
     "execution_count": 83,
     "metadata": {},
     "output_type": "execute_result"
    }
   ],
   "source": [
    "len(list_asset_2020)"
   ]
  },
  {
   "cell_type": "code",
   "execution_count": 84,
   "metadata": {},
   "outputs": [
    {
     "data": {
      "text/plain": [
       "(176, 17)"
      ]
     },
     "execution_count": 84,
     "metadata": {},
     "output_type": "execute_result"
    }
   ],
   "source": [
    "df_feature[df_feature.ASSET_ID.isin(list_asset_2020)].shape"
   ]
  },
  {
   "cell_type": "code",
   "execution_count": null,
   "metadata": {},
   "outputs": [],
   "source": []
  },
  {
   "cell_type": "code",
   "execution_count": 85,
   "metadata": {},
   "outputs": [],
   "source": [
    "# seleziono lo stesso campione di imprese anche per il 2019\n",
    "df_sample_2019 = df_feature[(df_feature.DATE_YEAR_MONTH == \"2019-06\") & \n",
    "                            (df_feature.ASSET_ID.isin(list_asset_2020))]"
   ]
  },
  {
   "cell_type": "code",
   "execution_count": 86,
   "metadata": {},
   "outputs": [
    {
     "data": {
      "text/plain": [
       "(88, 17)"
      ]
     },
     "execution_count": 86,
     "metadata": {},
     "output_type": "execute_result"
    }
   ],
   "source": [
    "df_sample_2019.shape"
   ]
  },
  {
   "cell_type": "code",
   "execution_count": 87,
   "metadata": {},
   "outputs": [
    {
     "data": {
      "text/plain": [
       "amsterdam    22\n",
       "lisbon       22\n",
       "madrid       22\n",
       "brussels     22\n",
       "Name: ASSET_LOCATION, dtype: int64"
      ]
     },
     "execution_count": 87,
     "metadata": {},
     "output_type": "execute_result"
    }
   ],
   "source": [
    "df_sample_2019.ASSET_LOCATION.value_counts()"
   ]
  },
  {
   "cell_type": "code",
   "execution_count": null,
   "metadata": {},
   "outputs": [],
   "source": []
  },
  {
   "cell_type": "code",
   "execution_count": 88,
   "metadata": {},
   "outputs": [],
   "source": [
    "df_join = pd.concat([df_join, df_sample_2019])"
   ]
  },
  {
   "cell_type": "code",
   "execution_count": 89,
   "metadata": {},
   "outputs": [
    {
     "data": {
      "text/plain": [
       "88"
      ]
     },
     "execution_count": 89,
     "metadata": {},
     "output_type": "execute_result"
    }
   ],
   "source": [
    "df_join.ASSET_ID.duplicated().sum()"
   ]
  },
  {
   "cell_type": "code",
   "execution_count": 90,
   "metadata": {},
   "outputs": [
    {
     "data": {
      "text/html": [
       "<div>\n",
       "<style scoped>\n",
       "    .dataframe tbody tr th:only-of-type {\n",
       "        vertical-align: middle;\n",
       "    }\n",
       "\n",
       "    .dataframe tbody tr th {\n",
       "        vertical-align: top;\n",
       "    }\n",
       "\n",
       "    .dataframe thead th {\n",
       "        text-align: right;\n",
       "    }\n",
       "</style>\n",
       "<table border=\"1\" class=\"dataframe\">\n",
       "  <thead>\n",
       "    <tr style=\"text-align: right;\">\n",
       "      <th></th>\n",
       "      <th>PARTIES_ID</th>\n",
       "      <th>ASSET_ID</th>\n",
       "      <th>ASSETS_TYPE</th>\n",
       "      <th>ASSET_LOCATION</th>\n",
       "      <th>ASSETS_REVIEW_PER_MONTH</th>\n",
       "      <th>ASSET_NUMBER_REVIEWS</th>\n",
       "      <th>ASSET_AVAILABILITY_30</th>\n",
       "      <th>ASSET_MITIGATION_COVID</th>\n",
       "      <th>DATE_YEAR_MONTH</th>\n",
       "      <th>ASSET_PRICE</th>\n",
       "      <th>ASSETS_REVIEW_SCORES_ACCURACY</th>\n",
       "      <th>ASSETS_REVIEW_SCORES_CHECKIN</th>\n",
       "      <th>ASSETS_REVIEW_SCORES_CLEANLINESS</th>\n",
       "      <th>ASSETS_REVIEW_SCORES_COMMUNICATION</th>\n",
       "      <th>ASSETS_REVIEW_SCORES_LOCATION</th>\n",
       "      <th>ASSETS_REVIEW_SCORES_RATING</th>\n",
       "      <th>ASSETS_REVIEW_SCORES_VALUE</th>\n",
       "    </tr>\n",
       "  </thead>\n",
       "  <tbody>\n",
       "    <tr>\n",
       "      <th>0</th>\n",
       "      <td>217577916</td>\n",
       "      <td>31136615</td>\n",
       "      <td>Real Bed</td>\n",
       "      <td>amsterdam</td>\n",
       "      <td>4.27</td>\n",
       "      <td>73.0</td>\n",
       "      <td>7.0</td>\n",
       "      <td>1.0</td>\n",
       "      <td>2020-06</td>\n",
       "      <td>110.0</td>\n",
       "      <td>9.0</td>\n",
       "      <td>9.0</td>\n",
       "      <td>10.0</td>\n",
       "      <td>9.0</td>\n",
       "      <td>10.0</td>\n",
       "      <td>89.0</td>\n",
       "      <td>9.0</td>\n",
       "    </tr>\n",
       "    <tr>\n",
       "      <th>1</th>\n",
       "      <td>534213</td>\n",
       "      <td>31709186</td>\n",
       "      <td>Real Bed</td>\n",
       "      <td>amsterdam</td>\n",
       "      <td>0.67</td>\n",
       "      <td>11.0</td>\n",
       "      <td>9.0</td>\n",
       "      <td>1.0</td>\n",
       "      <td>2020-06</td>\n",
       "      <td>75.0</td>\n",
       "      <td>10.0</td>\n",
       "      <td>10.0</td>\n",
       "      <td>10.0</td>\n",
       "      <td>10.0</td>\n",
       "      <td>10.0</td>\n",
       "      <td>100.0</td>\n",
       "      <td>9.0</td>\n",
       "    </tr>\n",
       "  </tbody>\n",
       "</table>\n",
       "</div>"
      ],
      "text/plain": [
       "   PARTIES_ID  ASSET_ID ASSETS_TYPE ASSET_LOCATION  ASSETS_REVIEW_PER_MONTH  \\\n",
       "0   217577916  31136615    Real Bed      amsterdam                     4.27   \n",
       "1      534213  31709186    Real Bed      amsterdam                     0.67   \n",
       "\n",
       "   ASSET_NUMBER_REVIEWS  ASSET_AVAILABILITY_30  ASSET_MITIGATION_COVID  \\\n",
       "0                  73.0                    7.0                     1.0   \n",
       "1                  11.0                    9.0                     1.0   \n",
       "\n",
       "  DATE_YEAR_MONTH  ASSET_PRICE  ASSETS_REVIEW_SCORES_ACCURACY  \\\n",
       "0         2020-06        110.0                            9.0   \n",
       "1         2020-06         75.0                           10.0   \n",
       "\n",
       "   ASSETS_REVIEW_SCORES_CHECKIN  ASSETS_REVIEW_SCORES_CLEANLINESS  \\\n",
       "0                           9.0                              10.0   \n",
       "1                          10.0                              10.0   \n",
       "\n",
       "   ASSETS_REVIEW_SCORES_COMMUNICATION  ASSETS_REVIEW_SCORES_LOCATION  \\\n",
       "0                                 9.0                           10.0   \n",
       "1                                10.0                           10.0   \n",
       "\n",
       "   ASSETS_REVIEW_SCORES_RATING  ASSETS_REVIEW_SCORES_VALUE  \n",
       "0                         89.0                         9.0  \n",
       "1                        100.0                         9.0  "
      ]
     },
     "execution_count": 90,
     "metadata": {},
     "output_type": "execute_result"
    }
   ],
   "source": [
    "df_join.head(2)"
   ]
  },
  {
   "cell_type": "code",
   "execution_count": 91,
   "metadata": {},
   "outputs": [
    {
     "data": {
      "text/plain": [
       "(176, 17)"
      ]
     },
     "execution_count": 91,
     "metadata": {},
     "output_type": "execute_result"
    }
   ],
   "source": [
    "df_join.shape"
   ]
  },
  {
   "cell_type": "code",
   "execution_count": null,
   "metadata": {},
   "outputs": [],
   "source": []
  },
  {
   "cell_type": "code",
   "execution_count": 92,
   "metadata": {},
   "outputs": [],
   "source": [
    "with gzip.open(data_path + 'PARTIES_DOMAIN_FEATURE.csv.gzip') as file_in:\n",
    "    df_parties = pd.read_csv(file_in, low_memory=False)"
   ]
  },
  {
   "cell_type": "code",
   "execution_count": 93,
   "metadata": {
    "scrolled": true
   },
   "outputs": [
    {
     "data": {
      "text/html": [
       "<div>\n",
       "<style scoped>\n",
       "    .dataframe tbody tr th:only-of-type {\n",
       "        vertical-align: middle;\n",
       "    }\n",
       "\n",
       "    .dataframe tbody tr th {\n",
       "        vertical-align: top;\n",
       "    }\n",
       "\n",
       "    .dataframe thead th {\n",
       "        text-align: right;\n",
       "    }\n",
       "</style>\n",
       "<table border=\"1\" class=\"dataframe\">\n",
       "  <thead>\n",
       "    <tr style=\"text-align: right;\">\n",
       "      <th></th>\n",
       "      <th>TIME_STAMP_MONTH</th>\n",
       "      <th>PARTIES_ID</th>\n",
       "      <th>HOST_NAME</th>\n",
       "      <th>HOST_SINCE</th>\n",
       "      <th>HOST_LOCATION</th>\n",
       "      <th>HOST_ABOUT</th>\n",
       "      <th>HOST_RESPONSE_TIME</th>\n",
       "      <th>HOST_RESPONCE_RATE</th>\n",
       "      <th>HOST_ACCEPTANCE_RATE</th>\n",
       "      <th>HOST_IS_SUPERHOST</th>\n",
       "      <th>HOST_LISTINGS_COUNT</th>\n",
       "      <th>HOST_HAS_PROFILE_PIC</th>\n",
       "      <th>TIME_STAMP</th>\n",
       "      <th>PARTIES_ROLE</th>\n",
       "    </tr>\n",
       "  </thead>\n",
       "  <tbody>\n",
       "    <tr>\n",
       "      <th>0</th>\n",
       "      <td>2021-04</td>\n",
       "      <td>62142</td>\n",
       "      <td>Eva</td>\n",
       "      <td>2009-12-11</td>\n",
       "      <td>Vienna, Wien, Austria</td>\n",
       "      <td>Mein größtes Hobby: Reisen! Am liebsten mit me...</td>\n",
       "      <td>NaN</td>\n",
       "      <td>NaN</td>\n",
       "      <td>100%</td>\n",
       "      <td>f</td>\n",
       "      <td>6.0</td>\n",
       "      <td>t</td>\n",
       "      <td>2021-04-15</td>\n",
       "      <td>H</td>\n",
       "    </tr>\n",
       "    <tr>\n",
       "      <th>1</th>\n",
       "      <td>2021-04</td>\n",
       "      <td>166283</td>\n",
       "      <td>Hannes</td>\n",
       "      <td>2010-07-14</td>\n",
       "      <td>Vienna, Wien, Austria</td>\n",
       "      <td>I am open minded and like travelling myself. I...</td>\n",
       "      <td>within an hour</td>\n",
       "      <td>100%</td>\n",
       "      <td>98%</td>\n",
       "      <td>t</td>\n",
       "      <td>3.0</td>\n",
       "      <td>t</td>\n",
       "      <td>2021-04-15</td>\n",
       "      <td>H</td>\n",
       "    </tr>\n",
       "  </tbody>\n",
       "</table>\n",
       "</div>"
      ],
      "text/plain": [
       "  TIME_STAMP_MONTH PARTIES_ID HOST_NAME  HOST_SINCE          HOST_LOCATION  \\\n",
       "0          2021-04      62142       Eva  2009-12-11  Vienna, Wien, Austria   \n",
       "1          2021-04     166283    Hannes  2010-07-14  Vienna, Wien, Austria   \n",
       "\n",
       "                                          HOST_ABOUT HOST_RESPONSE_TIME  \\\n",
       "0  Mein größtes Hobby: Reisen! Am liebsten mit me...                NaN   \n",
       "1  I am open minded and like travelling myself. I...     within an hour   \n",
       "\n",
       "  HOST_RESPONCE_RATE HOST_ACCEPTANCE_RATE HOST_IS_SUPERHOST  \\\n",
       "0                NaN                 100%                 f   \n",
       "1               100%                  98%                 t   \n",
       "\n",
       "   HOST_LISTINGS_COUNT HOST_HAS_PROFILE_PIC  TIME_STAMP PARTIES_ROLE  \n",
       "0                  6.0                    t  2021-04-15            H  \n",
       "1                  3.0                    t  2021-04-15            H  "
      ]
     },
     "execution_count": 93,
     "metadata": {},
     "output_type": "execute_result"
    }
   ],
   "source": [
    "df_parties.head(2)"
   ]
  },
  {
   "cell_type": "code",
   "execution_count": 94,
   "metadata": {},
   "outputs": [],
   "source": [
    "# seleziono solo l'ultima informazione disponibile per ogni host\n",
    "\n",
    "df_parties = df_parties[(df_parties.PARTIES_ROLE == 'H') &\n",
    "                        (df_parties.TIME_STAMP_MONTH == \"2019-06\") | (df_parties.TIME_STAMP_MONTH == \"2020-06\")]\\\n",
    "                        .sort_values([\"TIME_STAMP_MONTH\", 'TIME_STAMP'])\\\n",
    "                        .groupby([\"TIME_STAMP_MONTH\", \"PARTIES_ID\"]).tail(1)[[\"PARTIES_ID\", \"TIME_STAMP_MONTH\", \n",
    "                                                                              'HOST_RESPONSE_TIME','HOST_RESPONCE_RATE', \n",
    "                                                                              'HOST_ACCEPTANCE_RATE', 'HOST_IS_SUPERHOST',\n",
    "                                                                              'HOST_LISTINGS_COUNT', 'HOST_HAS_PROFILE_PIC']]"
   ]
  },
  {
   "cell_type": "code",
   "execution_count": 95,
   "metadata": {
    "scrolled": true
   },
   "outputs": [
    {
     "data": {
      "text/plain": [
       "0"
      ]
     },
     "execution_count": 95,
     "metadata": {},
     "output_type": "execute_result"
    }
   ],
   "source": [
    "# Non è vero!!!\n",
    "df_parties.PARTIES_ID.duplicated().sum()"
   ]
  },
  {
   "cell_type": "code",
   "execution_count": 96,
   "metadata": {},
   "outputs": [
    {
     "data": {
      "text/html": [
       "<div>\n",
       "<style scoped>\n",
       "    .dataframe tbody tr th:only-of-type {\n",
       "        vertical-align: middle;\n",
       "    }\n",
       "\n",
       "    .dataframe tbody tr th {\n",
       "        vertical-align: top;\n",
       "    }\n",
       "\n",
       "    .dataframe thead th {\n",
       "        text-align: right;\n",
       "    }\n",
       "</style>\n",
       "<table border=\"1\" class=\"dataframe\">\n",
       "  <thead>\n",
       "    <tr style=\"text-align: right;\">\n",
       "      <th></th>\n",
       "      <th>PARTIES_ID</th>\n",
       "      <th>TIME_STAMP_MONTH</th>\n",
       "      <th>HOST_RESPONSE_TIME</th>\n",
       "      <th>HOST_RESPONCE_RATE</th>\n",
       "      <th>HOST_ACCEPTANCE_RATE</th>\n",
       "      <th>HOST_IS_SUPERHOST</th>\n",
       "      <th>HOST_LISTINGS_COUNT</th>\n",
       "      <th>HOST_HAS_PROFILE_PIC</th>\n",
       "    </tr>\n",
       "  </thead>\n",
       "  <tbody>\n",
       "    <tr>\n",
       "      <th>10370980</th>\n",
       "      <td>29946744.0</td>\n",
       "      <td>2019-06</td>\n",
       "      <td>NaN</td>\n",
       "      <td>NaN</td>\n",
       "      <td>NaN</td>\n",
       "      <td>f</td>\n",
       "      <td>1.0</td>\n",
       "      <td>t</td>\n",
       "    </tr>\n",
       "    <tr>\n",
       "      <th>10371680</th>\n",
       "      <td>44277724.0</td>\n",
       "      <td>2019-06</td>\n",
       "      <td>NaN</td>\n",
       "      <td>NaN</td>\n",
       "      <td>NaN</td>\n",
       "      <td>f</td>\n",
       "      <td>1.0</td>\n",
       "      <td>t</td>\n",
       "    </tr>\n",
       "  </tbody>\n",
       "</table>\n",
       "</div>"
      ],
      "text/plain": [
       "          PARTIES_ID TIME_STAMP_MONTH HOST_RESPONSE_TIME HOST_RESPONCE_RATE  \\\n",
       "10370980  29946744.0          2019-06                NaN                NaN   \n",
       "10371680  44277724.0          2019-06                NaN                NaN   \n",
       "\n",
       "         HOST_ACCEPTANCE_RATE HOST_IS_SUPERHOST  HOST_LISTINGS_COUNT  \\\n",
       "10370980                  NaN                 f                  1.0   \n",
       "10371680                  NaN                 f                  1.0   \n",
       "\n",
       "         HOST_HAS_PROFILE_PIC  \n",
       "10370980                    t  \n",
       "10371680                    t  "
      ]
     },
     "execution_count": 96,
     "metadata": {},
     "output_type": "execute_result"
    }
   ],
   "source": [
    "df_parties.head(2)"
   ]
  },
  {
   "cell_type": "code",
   "execution_count": 97,
   "metadata": {},
   "outputs": [],
   "source": [
    "df_parties.PARTIES_ID = df_parties.PARTIES_ID.astype(float)"
   ]
  },
  {
   "cell_type": "code",
   "execution_count": 98,
   "metadata": {},
   "outputs": [
    {
     "data": {
      "text/plain": [
       "PARTIES_ID              float64\n",
       "TIME_STAMP_MONTH         object\n",
       "HOST_RESPONSE_TIME       object\n",
       "HOST_RESPONCE_RATE       object\n",
       "HOST_ACCEPTANCE_RATE     object\n",
       "HOST_IS_SUPERHOST        object\n",
       "HOST_LISTINGS_COUNT     float64\n",
       "HOST_HAS_PROFILE_PIC     object\n",
       "dtype: object"
      ]
     },
     "execution_count": 98,
     "metadata": {},
     "output_type": "execute_result"
    }
   ],
   "source": [
    "df_parties.dtypes"
   ]
  },
  {
   "cell_type": "code",
   "execution_count": 99,
   "metadata": {
    "scrolled": true
   },
   "outputs": [
    {
     "data": {
      "text/html": [
       "<div>\n",
       "<style scoped>\n",
       "    .dataframe tbody tr th:only-of-type {\n",
       "        vertical-align: middle;\n",
       "    }\n",
       "\n",
       "    .dataframe tbody tr th {\n",
       "        vertical-align: top;\n",
       "    }\n",
       "\n",
       "    .dataframe thead th {\n",
       "        text-align: right;\n",
       "    }\n",
       "</style>\n",
       "<table border=\"1\" class=\"dataframe\">\n",
       "  <thead>\n",
       "    <tr style=\"text-align: right;\">\n",
       "      <th></th>\n",
       "      <th>PARTIES_ID</th>\n",
       "      <th>TIME_STAMP_MONTH</th>\n",
       "      <th>HOST_RESPONSE_TIME</th>\n",
       "      <th>HOST_RESPONCE_RATE</th>\n",
       "      <th>HOST_ACCEPTANCE_RATE</th>\n",
       "      <th>HOST_IS_SUPERHOST</th>\n",
       "      <th>HOST_LISTINGS_COUNT</th>\n",
       "      <th>HOST_HAS_PROFILE_PIC</th>\n",
       "    </tr>\n",
       "  </thead>\n",
       "  <tbody>\n",
       "    <tr>\n",
       "      <th>10713868</th>\n",
       "      <td>513.0</td>\n",
       "      <td>2019-06</td>\n",
       "      <td>within a few hours</td>\n",
       "      <td>100%</td>\n",
       "      <td>NaN</td>\n",
       "      <td>f</td>\n",
       "      <td>1.0</td>\n",
       "      <td>t</td>\n",
       "    </tr>\n",
       "    <tr>\n",
       "      <th>247366</th>\n",
       "      <td>513.0</td>\n",
       "      <td>2020-06</td>\n",
       "      <td>NaN</td>\n",
       "      <td>NaN</td>\n",
       "      <td>65%</td>\n",
       "      <td>f</td>\n",
       "      <td>1.0</td>\n",
       "      <td>t</td>\n",
       "    </tr>\n",
       "    <tr>\n",
       "      <th>2013994</th>\n",
       "      <td>5154.0</td>\n",
       "      <td>2020-06</td>\n",
       "      <td>NaN</td>\n",
       "      <td>NaN</td>\n",
       "      <td>100%</td>\n",
       "      <td>t</td>\n",
       "      <td>1.0</td>\n",
       "      <td>t</td>\n",
       "    </tr>\n",
       "    <tr>\n",
       "      <th>9623313</th>\n",
       "      <td>5154.0</td>\n",
       "      <td>2019-06</td>\n",
       "      <td>within an hour</td>\n",
       "      <td>100%</td>\n",
       "      <td>NaN</td>\n",
       "      <td>t</td>\n",
       "      <td>1.0</td>\n",
       "      <td>t</td>\n",
       "    </tr>\n",
       "  </tbody>\n",
       "</table>\n",
       "</div>"
      ],
      "text/plain": [
       "          PARTIES_ID TIME_STAMP_MONTH  HOST_RESPONSE_TIME HOST_RESPONCE_RATE  \\\n",
       "10713868       513.0          2019-06  within a few hours               100%   \n",
       "247366         513.0          2020-06                 NaN                NaN   \n",
       "2013994       5154.0          2020-06                 NaN                NaN   \n",
       "9623313       5154.0          2019-06      within an hour               100%   \n",
       "\n",
       "         HOST_ACCEPTANCE_RATE HOST_IS_SUPERHOST  HOST_LISTINGS_COUNT  \\\n",
       "10713868                  NaN                 f                  1.0   \n",
       "247366                    65%                 f                  1.0   \n",
       "2013994                  100%                 t                  1.0   \n",
       "9623313                   NaN                 t                  1.0   \n",
       "\n",
       "         HOST_HAS_PROFILE_PIC  \n",
       "10713868                    t  \n",
       "247366                      t  \n",
       "2013994                     t  \n",
       "9623313                     t  "
      ]
     },
     "execution_count": 99,
     "metadata": {},
     "output_type": "execute_result"
    }
   ],
   "source": [
    "df_parties[df_parties.PARTIES_ID.duplicated(keep=False)].sort_values(by=\"PARTIES_ID\").head(4)"
   ]
  },
  {
   "cell_type": "code",
   "execution_count": 100,
   "metadata": {},
   "outputs": [],
   "source": [
    "df_feature = df_join.merge(df_parties, \n",
    "                           left_on = ['PARTIES_ID', 'DATE_YEAR_MONTH'],\n",
    "                           right_on = ['PARTIES_ID', 'TIME_STAMP_MONTH'], \n",
    "                           how='left')"
   ]
  },
  {
   "cell_type": "code",
   "execution_count": 101,
   "metadata": {},
   "outputs": [
    {
     "data": {
      "text/plain": [
       "(176, 24)"
      ]
     },
     "execution_count": 101,
     "metadata": {},
     "output_type": "execute_result"
    }
   ],
   "source": [
    "df_feature.shape"
   ]
  },
  {
   "cell_type": "code",
   "execution_count": 102,
   "metadata": {},
   "outputs": [
    {
     "data": {
      "text/html": [
       "<div>\n",
       "<style scoped>\n",
       "    .dataframe tbody tr th:only-of-type {\n",
       "        vertical-align: middle;\n",
       "    }\n",
       "\n",
       "    .dataframe tbody tr th {\n",
       "        vertical-align: top;\n",
       "    }\n",
       "\n",
       "    .dataframe thead th {\n",
       "        text-align: right;\n",
       "    }\n",
       "</style>\n",
       "<table border=\"1\" class=\"dataframe\">\n",
       "  <thead>\n",
       "    <tr style=\"text-align: right;\">\n",
       "      <th></th>\n",
       "      <th>PARTIES_ID</th>\n",
       "      <th>ASSET_ID</th>\n",
       "      <th>ASSETS_TYPE</th>\n",
       "      <th>ASSET_LOCATION</th>\n",
       "      <th>ASSETS_REVIEW_PER_MONTH</th>\n",
       "      <th>ASSET_NUMBER_REVIEWS</th>\n",
       "      <th>ASSET_AVAILABILITY_30</th>\n",
       "      <th>ASSET_MITIGATION_COVID</th>\n",
       "      <th>DATE_YEAR_MONTH</th>\n",
       "      <th>ASSET_PRICE</th>\n",
       "      <th>...</th>\n",
       "      <th>ASSETS_REVIEW_SCORES_LOCATION</th>\n",
       "      <th>ASSETS_REVIEW_SCORES_RATING</th>\n",
       "      <th>ASSETS_REVIEW_SCORES_VALUE</th>\n",
       "      <th>TIME_STAMP_MONTH</th>\n",
       "      <th>HOST_RESPONSE_TIME</th>\n",
       "      <th>HOST_RESPONCE_RATE</th>\n",
       "      <th>HOST_ACCEPTANCE_RATE</th>\n",
       "      <th>HOST_IS_SUPERHOST</th>\n",
       "      <th>HOST_LISTINGS_COUNT</th>\n",
       "      <th>HOST_HAS_PROFILE_PIC</th>\n",
       "    </tr>\n",
       "  </thead>\n",
       "  <tbody>\n",
       "    <tr>\n",
       "      <th>48</th>\n",
       "      <td>3278419</td>\n",
       "      <td>654931</td>\n",
       "      <td>Real Bed</td>\n",
       "      <td>amsterdam</td>\n",
       "      <td>6.86</td>\n",
       "      <td>646.0</td>\n",
       "      <td>23.0</td>\n",
       "      <td>0.0</td>\n",
       "      <td>2020-06</td>\n",
       "      <td>85.0</td>\n",
       "      <td>...</td>\n",
       "      <td>10.0</td>\n",
       "      <td>97.0</td>\n",
       "      <td>10.0</td>\n",
       "      <td>2020-06</td>\n",
       "      <td>within an hour</td>\n",
       "      <td>100%</td>\n",
       "      <td>100%</td>\n",
       "      <td>t</td>\n",
       "      <td>2.0</td>\n",
       "      <td>t</td>\n",
       "    </tr>\n",
       "    <tr>\n",
       "      <th>88</th>\n",
       "      <td>3278419</td>\n",
       "      <td>654931</td>\n",
       "      <td>NaN</td>\n",
       "      <td>amsterdam</td>\n",
       "      <td>NaN</td>\n",
       "      <td>NaN</td>\n",
       "      <td>NaN</td>\n",
       "      <td>NaN</td>\n",
       "      <td>2019-06</td>\n",
       "      <td>NaN</td>\n",
       "      <td>...</td>\n",
       "      <td>NaN</td>\n",
       "      <td>NaN</td>\n",
       "      <td>NaN</td>\n",
       "      <td>NaN</td>\n",
       "      <td>NaN</td>\n",
       "      <td>NaN</td>\n",
       "      <td>NaN</td>\n",
       "      <td>NaN</td>\n",
       "      <td>NaN</td>\n",
       "      <td>NaN</td>\n",
       "    </tr>\n",
       "    <tr>\n",
       "      <th>4</th>\n",
       "      <td>2313061</td>\n",
       "      <td>771343</td>\n",
       "      <td>Real Bed</td>\n",
       "      <td>amsterdam</td>\n",
       "      <td>5.92</td>\n",
       "      <td>392.0</td>\n",
       "      <td>3.0</td>\n",
       "      <td>1.0</td>\n",
       "      <td>2020-06</td>\n",
       "      <td>119.0</td>\n",
       "      <td>...</td>\n",
       "      <td>10.0</td>\n",
       "      <td>98.0</td>\n",
       "      <td>9.0</td>\n",
       "      <td>2020-06</td>\n",
       "      <td>within an hour</td>\n",
       "      <td>100%</td>\n",
       "      <td>100%</td>\n",
       "      <td>t</td>\n",
       "      <td>3.0</td>\n",
       "      <td>t</td>\n",
       "    </tr>\n",
       "    <tr>\n",
       "      <th>89</th>\n",
       "      <td>2313061</td>\n",
       "      <td>771343</td>\n",
       "      <td>NaN</td>\n",
       "      <td>amsterdam</td>\n",
       "      <td>NaN</td>\n",
       "      <td>NaN</td>\n",
       "      <td>NaN</td>\n",
       "      <td>NaN</td>\n",
       "      <td>2019-06</td>\n",
       "      <td>NaN</td>\n",
       "      <td>...</td>\n",
       "      <td>NaN</td>\n",
       "      <td>NaN</td>\n",
       "      <td>NaN</td>\n",
       "      <td>NaN</td>\n",
       "      <td>NaN</td>\n",
       "      <td>NaN</td>\n",
       "      <td>NaN</td>\n",
       "      <td>NaN</td>\n",
       "      <td>NaN</td>\n",
       "      <td>NaN</td>\n",
       "    </tr>\n",
       "    <tr>\n",
       "      <th>49</th>\n",
       "      <td>5646154</td>\n",
       "      <td>1025482</td>\n",
       "      <td>Real Bed</td>\n",
       "      <td>amsterdam</td>\n",
       "      <td>6.32</td>\n",
       "      <td>553.0</td>\n",
       "      <td>25.0</td>\n",
       "      <td>0.0</td>\n",
       "      <td>2020-06</td>\n",
       "      <td>94.0</td>\n",
       "      <td>...</td>\n",
       "      <td>10.0</td>\n",
       "      <td>96.0</td>\n",
       "      <td>10.0</td>\n",
       "      <td>2020-06</td>\n",
       "      <td>within an hour</td>\n",
       "      <td>100%</td>\n",
       "      <td>100%</td>\n",
       "      <td>f</td>\n",
       "      <td>2.0</td>\n",
       "      <td>t</td>\n",
       "    </tr>\n",
       "    <tr>\n",
       "      <th>...</th>\n",
       "      <td>...</td>\n",
       "      <td>...</td>\n",
       "      <td>...</td>\n",
       "      <td>...</td>\n",
       "      <td>...</td>\n",
       "      <td>...</td>\n",
       "      <td>...</td>\n",
       "      <td>...</td>\n",
       "      <td>...</td>\n",
       "      <td>...</td>\n",
       "      <td>...</td>\n",
       "      <td>...</td>\n",
       "      <td>...</td>\n",
       "      <td>...</td>\n",
       "      <td>...</td>\n",
       "      <td>...</td>\n",
       "      <td>...</td>\n",
       "      <td>...</td>\n",
       "      <td>...</td>\n",
       "      <td>...</td>\n",
       "      <td>...</td>\n",
       "    </tr>\n",
       "    <tr>\n",
       "      <th>173</th>\n",
       "      <td>114457149</td>\n",
       "      <td>34135775</td>\n",
       "      <td>NaN</td>\n",
       "      <td>madrid</td>\n",
       "      <td>NaN</td>\n",
       "      <td>NaN</td>\n",
       "      <td>NaN</td>\n",
       "      <td>NaN</td>\n",
       "      <td>2019-06</td>\n",
       "      <td>NaN</td>\n",
       "      <td>...</td>\n",
       "      <td>NaN</td>\n",
       "      <td>NaN</td>\n",
       "      <td>NaN</td>\n",
       "      <td>2019-06</td>\n",
       "      <td>a few days or more</td>\n",
       "      <td>33%</td>\n",
       "      <td>NaN</td>\n",
       "      <td>f</td>\n",
       "      <td>1.0</td>\n",
       "      <td>t</td>\n",
       "    </tr>\n",
       "    <tr>\n",
       "      <th>174</th>\n",
       "      <td>244038659</td>\n",
       "      <td>34677342</td>\n",
       "      <td>NaN</td>\n",
       "      <td>brussels</td>\n",
       "      <td>NaN</td>\n",
       "      <td>NaN</td>\n",
       "      <td>NaN</td>\n",
       "      <td>NaN</td>\n",
       "      <td>2019-06</td>\n",
       "      <td>NaN</td>\n",
       "      <td>...</td>\n",
       "      <td>NaN</td>\n",
       "      <td>NaN</td>\n",
       "      <td>NaN</td>\n",
       "      <td>NaN</td>\n",
       "      <td>NaN</td>\n",
       "      <td>NaN</td>\n",
       "      <td>NaN</td>\n",
       "      <td>NaN</td>\n",
       "      <td>NaN</td>\n",
       "      <td>NaN</td>\n",
       "    </tr>\n",
       "    <tr>\n",
       "      <th>57</th>\n",
       "      <td>244038659</td>\n",
       "      <td>34677342</td>\n",
       "      <td>Real Bed</td>\n",
       "      <td>brussels</td>\n",
       "      <td>4.01</td>\n",
       "      <td>49.0</td>\n",
       "      <td>12.0</td>\n",
       "      <td>0.0</td>\n",
       "      <td>2020-06</td>\n",
       "      <td>150.0</td>\n",
       "      <td>...</td>\n",
       "      <td>10.0</td>\n",
       "      <td>97.0</td>\n",
       "      <td>9.0</td>\n",
       "      <td>2020-06</td>\n",
       "      <td>within an hour</td>\n",
       "      <td>100%</td>\n",
       "      <td>100%</td>\n",
       "      <td>f</td>\n",
       "      <td>8.0</td>\n",
       "      <td>t</td>\n",
       "    </tr>\n",
       "    <tr>\n",
       "      <th>18</th>\n",
       "      <td>266102806</td>\n",
       "      <td>35345934</td>\n",
       "      <td>Real Bed</td>\n",
       "      <td>brussels</td>\n",
       "      <td>3.78</td>\n",
       "      <td>47.0</td>\n",
       "      <td>13.0</td>\n",
       "      <td>1.0</td>\n",
       "      <td>2020-06</td>\n",
       "      <td>80.0</td>\n",
       "      <td>...</td>\n",
       "      <td>10.0</td>\n",
       "      <td>97.0</td>\n",
       "      <td>10.0</td>\n",
       "      <td>2020-06</td>\n",
       "      <td>within an hour</td>\n",
       "      <td>100%</td>\n",
       "      <td>100%</td>\n",
       "      <td>t</td>\n",
       "      <td>1.0</td>\n",
       "      <td>t</td>\n",
       "    </tr>\n",
       "    <tr>\n",
       "      <th>175</th>\n",
       "      <td>266102806</td>\n",
       "      <td>35345934</td>\n",
       "      <td>NaN</td>\n",
       "      <td>brussels</td>\n",
       "      <td>NaN</td>\n",
       "      <td>NaN</td>\n",
       "      <td>NaN</td>\n",
       "      <td>NaN</td>\n",
       "      <td>2019-06</td>\n",
       "      <td>NaN</td>\n",
       "      <td>...</td>\n",
       "      <td>NaN</td>\n",
       "      <td>NaN</td>\n",
       "      <td>NaN</td>\n",
       "      <td>NaN</td>\n",
       "      <td>NaN</td>\n",
       "      <td>NaN</td>\n",
       "      <td>NaN</td>\n",
       "      <td>NaN</td>\n",
       "      <td>NaN</td>\n",
       "      <td>NaN</td>\n",
       "    </tr>\n",
       "  </tbody>\n",
       "</table>\n",
       "<p>176 rows × 24 columns</p>\n",
       "</div>"
      ],
      "text/plain": [
       "     PARTIES_ID  ASSET_ID ASSETS_TYPE ASSET_LOCATION  ASSETS_REVIEW_PER_MONTH  \\\n",
       "48      3278419    654931    Real Bed      amsterdam                     6.86   \n",
       "88      3278419    654931         NaN      amsterdam                      NaN   \n",
       "4       2313061    771343    Real Bed      amsterdam                     5.92   \n",
       "89      2313061    771343         NaN      amsterdam                      NaN   \n",
       "49      5646154   1025482    Real Bed      amsterdam                     6.32   \n",
       "..          ...       ...         ...            ...                      ...   \n",
       "173   114457149  34135775         NaN         madrid                      NaN   \n",
       "174   244038659  34677342         NaN       brussels                      NaN   \n",
       "57    244038659  34677342    Real Bed       brussels                     4.01   \n",
       "18    266102806  35345934    Real Bed       brussels                     3.78   \n",
       "175   266102806  35345934         NaN       brussels                      NaN   \n",
       "\n",
       "     ASSET_NUMBER_REVIEWS  ASSET_AVAILABILITY_30  ASSET_MITIGATION_COVID  \\\n",
       "48                  646.0                   23.0                     0.0   \n",
       "88                    NaN                    NaN                     NaN   \n",
       "4                   392.0                    3.0                     1.0   \n",
       "89                    NaN                    NaN                     NaN   \n",
       "49                  553.0                   25.0                     0.0   \n",
       "..                    ...                    ...                     ...   \n",
       "173                   NaN                    NaN                     NaN   \n",
       "174                   NaN                    NaN                     NaN   \n",
       "57                   49.0                   12.0                     0.0   \n",
       "18                   47.0                   13.0                     1.0   \n",
       "175                   NaN                    NaN                     NaN   \n",
       "\n",
       "    DATE_YEAR_MONTH  ASSET_PRICE  ...  ASSETS_REVIEW_SCORES_LOCATION  \\\n",
       "48          2020-06         85.0  ...                           10.0   \n",
       "88          2019-06          NaN  ...                            NaN   \n",
       "4           2020-06        119.0  ...                           10.0   \n",
       "89          2019-06          NaN  ...                            NaN   \n",
       "49          2020-06         94.0  ...                           10.0   \n",
       "..              ...          ...  ...                            ...   \n",
       "173         2019-06          NaN  ...                            NaN   \n",
       "174         2019-06          NaN  ...                            NaN   \n",
       "57          2020-06        150.0  ...                           10.0   \n",
       "18          2020-06         80.0  ...                           10.0   \n",
       "175         2019-06          NaN  ...                            NaN   \n",
       "\n",
       "     ASSETS_REVIEW_SCORES_RATING  ASSETS_REVIEW_SCORES_VALUE  \\\n",
       "48                          97.0                        10.0   \n",
       "88                           NaN                         NaN   \n",
       "4                           98.0                         9.0   \n",
       "89                           NaN                         NaN   \n",
       "49                          96.0                        10.0   \n",
       "..                           ...                         ...   \n",
       "173                          NaN                         NaN   \n",
       "174                          NaN                         NaN   \n",
       "57                          97.0                         9.0   \n",
       "18                          97.0                        10.0   \n",
       "175                          NaN                         NaN   \n",
       "\n",
       "     TIME_STAMP_MONTH  HOST_RESPONSE_TIME  HOST_RESPONCE_RATE  \\\n",
       "48            2020-06      within an hour                100%   \n",
       "88                NaN                 NaN                 NaN   \n",
       "4             2020-06      within an hour                100%   \n",
       "89                NaN                 NaN                 NaN   \n",
       "49            2020-06      within an hour                100%   \n",
       "..                ...                 ...                 ...   \n",
       "173           2019-06  a few days or more                 33%   \n",
       "174               NaN                 NaN                 NaN   \n",
       "57            2020-06      within an hour                100%   \n",
       "18            2020-06      within an hour                100%   \n",
       "175               NaN                 NaN                 NaN   \n",
       "\n",
       "     HOST_ACCEPTANCE_RATE HOST_IS_SUPERHOST HOST_LISTINGS_COUNT  \\\n",
       "48                   100%                 t                 2.0   \n",
       "88                    NaN               NaN                 NaN   \n",
       "4                    100%                 t                 3.0   \n",
       "89                    NaN               NaN                 NaN   \n",
       "49                   100%                 f                 2.0   \n",
       "..                    ...               ...                 ...   \n",
       "173                   NaN                 f                 1.0   \n",
       "174                   NaN               NaN                 NaN   \n",
       "57                   100%                 f                 8.0   \n",
       "18                   100%                 t                 1.0   \n",
       "175                   NaN               NaN                 NaN   \n",
       "\n",
       "    HOST_HAS_PROFILE_PIC  \n",
       "48                     t  \n",
       "88                   NaN  \n",
       "4                      t  \n",
       "89                   NaN  \n",
       "49                     t  \n",
       "..                   ...  \n",
       "173                    t  \n",
       "174                  NaN  \n",
       "57                     t  \n",
       "18                     t  \n",
       "175                  NaN  \n",
       "\n",
       "[176 rows x 24 columns]"
      ]
     },
     "execution_count": 102,
     "metadata": {},
     "output_type": "execute_result"
    }
   ],
   "source": [
    "df_feature.sort_values(by='ASSET_ID')"
   ]
  },
  {
   "cell_type": "code",
   "execution_count": 103,
   "metadata": {},
   "outputs": [
    {
     "data": {
      "text/plain": [
       "88"
      ]
     },
     "execution_count": 103,
     "metadata": {},
     "output_type": "execute_result"
    }
   ],
   "source": [
    "df_feature.ASSET_ID.duplicated().sum()"
   ]
  },
  {
   "cell_type": "code",
   "execution_count": 104,
   "metadata": {},
   "outputs": [
    {
     "data": {
      "text/plain": [
       "PARTIES_ID                             0.000000\n",
       "ASSET_ID                               0.000000\n",
       "ASSETS_TYPE                           30.681818\n",
       "ASSET_LOCATION                         0.000000\n",
       "ASSETS_REVIEW_PER_MONTH               30.681818\n",
       "ASSET_NUMBER_REVIEWS                  30.681818\n",
       "ASSET_AVAILABILITY_30                 30.681818\n",
       "ASSET_MITIGATION_COVID                28.409091\n",
       "DATE_YEAR_MONTH                        0.000000\n",
       "ASSET_PRICE                           30.681818\n",
       "ASSETS_REVIEW_SCORES_ACCURACY         30.681818\n",
       "ASSETS_REVIEW_SCORES_CHECKIN          30.681818\n",
       "ASSETS_REVIEW_SCORES_CLEANLINESS      30.681818\n",
       "ASSETS_REVIEW_SCORES_COMMUNICATION    30.681818\n",
       "ASSETS_REVIEW_SCORES_LOCATION         30.681818\n",
       "ASSETS_REVIEW_SCORES_RATING           30.681818\n",
       "ASSETS_REVIEW_SCORES_VALUE            30.681818\n",
       "TIME_STAMP_MONTH                      25.000000\n",
       "HOST_RESPONSE_TIME                    25.000000\n",
       "HOST_RESPONCE_RATE                    25.000000\n",
       "HOST_ACCEPTANCE_RATE                  50.000000\n",
       "HOST_IS_SUPERHOST                     25.000000\n",
       "HOST_LISTINGS_COUNT                   25.000000\n",
       "HOST_HAS_PROFILE_PIC                  25.000000\n",
       "dtype: float64"
      ]
     },
     "execution_count": 104,
     "metadata": {},
     "output_type": "execute_result"
    }
   ],
   "source": [
    "df_feature.isnull().sum() / df_feature.shape[0] * 100"
   ]
  },
  {
   "cell_type": "code",
   "execution_count": 105,
   "metadata": {},
   "outputs": [],
   "source": [
    "df_feature.drop(columns=[\"HOST_ACCEPTANCE_RATE\"], inplace=True)"
   ]
  },
  {
   "cell_type": "code",
   "execution_count": 106,
   "metadata": {},
   "outputs": [],
   "source": [
    "df_feature.HOST_RESPONCE_RATE = df_feature.HOST_RESPONCE_RATE.str.replace('%', '').astype(float)"
   ]
  },
  {
   "cell_type": "code",
   "execution_count": 107,
   "metadata": {
    "scrolled": false
   },
   "outputs": [
    {
     "data": {
      "text/plain": [
       "PARTIES_ID                              int64\n",
       "ASSET_ID                                int64\n",
       "ASSETS_TYPE                            object\n",
       "ASSET_LOCATION                         object\n",
       "ASSETS_REVIEW_PER_MONTH               float64\n",
       "ASSET_NUMBER_REVIEWS                  float64\n",
       "ASSET_AVAILABILITY_30                 float64\n",
       "ASSET_MITIGATION_COVID                float64\n",
       "DATE_YEAR_MONTH                        object\n",
       "ASSET_PRICE                           float64\n",
       "ASSETS_REVIEW_SCORES_ACCURACY         float64\n",
       "ASSETS_REVIEW_SCORES_CHECKIN          float64\n",
       "ASSETS_REVIEW_SCORES_CLEANLINESS      float64\n",
       "ASSETS_REVIEW_SCORES_COMMUNICATION    float64\n",
       "ASSETS_REVIEW_SCORES_LOCATION         float64\n",
       "ASSETS_REVIEW_SCORES_RATING           float64\n",
       "ASSETS_REVIEW_SCORES_VALUE            float64\n",
       "TIME_STAMP_MONTH                       object\n",
       "HOST_RESPONSE_TIME                     object\n",
       "HOST_RESPONCE_RATE                    float64\n",
       "HOST_IS_SUPERHOST                      object\n",
       "HOST_LISTINGS_COUNT                   float64\n",
       "HOST_HAS_PROFILE_PIC                   object\n",
       "dtype: object"
      ]
     },
     "execution_count": 107,
     "metadata": {},
     "output_type": "execute_result"
    }
   ],
   "source": [
    "df_feature.dtypes"
   ]
  },
  {
   "cell_type": "code",
   "execution_count": null,
   "metadata": {},
   "outputs": [],
   "source": []
  },
  {
   "cell_type": "code",
   "execution_count": 108,
   "metadata": {},
   "outputs": [
    {
     "data": {
      "text/html": [
       "<div>\n",
       "<style scoped>\n",
       "    .dataframe tbody tr th:only-of-type {\n",
       "        vertical-align: middle;\n",
       "    }\n",
       "\n",
       "    .dataframe tbody tr th {\n",
       "        vertical-align: top;\n",
       "    }\n",
       "\n",
       "    .dataframe thead th {\n",
       "        text-align: right;\n",
       "    }\n",
       "</style>\n",
       "<table border=\"1\" class=\"dataframe\">\n",
       "  <thead>\n",
       "    <tr style=\"text-align: right;\">\n",
       "      <th></th>\n",
       "      <th>PARTIES_ID</th>\n",
       "      <th>ASSET_ID</th>\n",
       "      <th>ASSETS_TYPE</th>\n",
       "      <th>ASSET_LOCATION</th>\n",
       "      <th>ASSETS_REVIEW_PER_MONTH</th>\n",
       "      <th>ASSET_NUMBER_REVIEWS</th>\n",
       "      <th>ASSET_AVAILABILITY_30</th>\n",
       "      <th>ASSET_MITIGATION_COVID</th>\n",
       "      <th>DATE_YEAR_MONTH</th>\n",
       "      <th>ASSET_PRICE</th>\n",
       "      <th>...</th>\n",
       "      <th>ASSETS_REVIEW_SCORES_COMMUNICATION</th>\n",
       "      <th>ASSETS_REVIEW_SCORES_LOCATION</th>\n",
       "      <th>ASSETS_REVIEW_SCORES_RATING</th>\n",
       "      <th>ASSETS_REVIEW_SCORES_VALUE</th>\n",
       "      <th>TIME_STAMP_MONTH</th>\n",
       "      <th>HOST_RESPONSE_TIME</th>\n",
       "      <th>HOST_RESPONCE_RATE</th>\n",
       "      <th>HOST_IS_SUPERHOST</th>\n",
       "      <th>HOST_LISTINGS_COUNT</th>\n",
       "      <th>HOST_HAS_PROFILE_PIC</th>\n",
       "    </tr>\n",
       "  </thead>\n",
       "  <tbody>\n",
       "    <tr>\n",
       "      <th>0</th>\n",
       "      <td>217577916</td>\n",
       "      <td>31136615</td>\n",
       "      <td>Real Bed</td>\n",
       "      <td>amsterdam</td>\n",
       "      <td>4.27</td>\n",
       "      <td>73.0</td>\n",
       "      <td>7.0</td>\n",
       "      <td>1.0</td>\n",
       "      <td>2020-06</td>\n",
       "      <td>110.0</td>\n",
       "      <td>...</td>\n",
       "      <td>9.0</td>\n",
       "      <td>10.0</td>\n",
       "      <td>89.0</td>\n",
       "      <td>9.0</td>\n",
       "      <td>2020-06</td>\n",
       "      <td>within an hour</td>\n",
       "      <td>93.0</td>\n",
       "      <td>f</td>\n",
       "      <td>2.0</td>\n",
       "      <td>t</td>\n",
       "    </tr>\n",
       "    <tr>\n",
       "      <th>1</th>\n",
       "      <td>534213</td>\n",
       "      <td>31709186</td>\n",
       "      <td>Real Bed</td>\n",
       "      <td>amsterdam</td>\n",
       "      <td>0.67</td>\n",
       "      <td>11.0</td>\n",
       "      <td>9.0</td>\n",
       "      <td>1.0</td>\n",
       "      <td>2020-06</td>\n",
       "      <td>75.0</td>\n",
       "      <td>...</td>\n",
       "      <td>10.0</td>\n",
       "      <td>10.0</td>\n",
       "      <td>100.0</td>\n",
       "      <td>9.0</td>\n",
       "      <td>2020-06</td>\n",
       "      <td>within an hour</td>\n",
       "      <td>100.0</td>\n",
       "      <td>f</td>\n",
       "      <td>1.0</td>\n",
       "      <td>t</td>\n",
       "    </tr>\n",
       "    <tr>\n",
       "      <th>2</th>\n",
       "      <td>176059267</td>\n",
       "      <td>23575414</td>\n",
       "      <td>Real Bed</td>\n",
       "      <td>amsterdam</td>\n",
       "      <td>7.23</td>\n",
       "      <td>200.0</td>\n",
       "      <td>8.0</td>\n",
       "      <td>1.0</td>\n",
       "      <td>2020-06</td>\n",
       "      <td>119.0</td>\n",
       "      <td>...</td>\n",
       "      <td>10.0</td>\n",
       "      <td>10.0</td>\n",
       "      <td>97.0</td>\n",
       "      <td>10.0</td>\n",
       "      <td>2020-06</td>\n",
       "      <td>within an hour</td>\n",
       "      <td>100.0</td>\n",
       "      <td>t</td>\n",
       "      <td>1.0</td>\n",
       "      <td>t</td>\n",
       "    </tr>\n",
       "    <tr>\n",
       "      <th>3</th>\n",
       "      <td>141648682</td>\n",
       "      <td>31356236</td>\n",
       "      <td>Real Bed</td>\n",
       "      <td>amsterdam</td>\n",
       "      <td>4.53</td>\n",
       "      <td>76.0</td>\n",
       "      <td>28.0</td>\n",
       "      <td>1.0</td>\n",
       "      <td>2020-06</td>\n",
       "      <td>100.0</td>\n",
       "      <td>...</td>\n",
       "      <td>10.0</td>\n",
       "      <td>10.0</td>\n",
       "      <td>97.0</td>\n",
       "      <td>9.0</td>\n",
       "      <td>2020-06</td>\n",
       "      <td>within an hour</td>\n",
       "      <td>100.0</td>\n",
       "      <td>t</td>\n",
       "      <td>1.0</td>\n",
       "      <td>t</td>\n",
       "    </tr>\n",
       "    <tr>\n",
       "      <th>4</th>\n",
       "      <td>2313061</td>\n",
       "      <td>771343</td>\n",
       "      <td>Real Bed</td>\n",
       "      <td>amsterdam</td>\n",
       "      <td>5.92</td>\n",
       "      <td>392.0</td>\n",
       "      <td>3.0</td>\n",
       "      <td>1.0</td>\n",
       "      <td>2020-06</td>\n",
       "      <td>119.0</td>\n",
       "      <td>...</td>\n",
       "      <td>10.0</td>\n",
       "      <td>10.0</td>\n",
       "      <td>98.0</td>\n",
       "      <td>9.0</td>\n",
       "      <td>2020-06</td>\n",
       "      <td>within an hour</td>\n",
       "      <td>100.0</td>\n",
       "      <td>t</td>\n",
       "      <td>3.0</td>\n",
       "      <td>t</td>\n",
       "    </tr>\n",
       "    <tr>\n",
       "      <th>5</th>\n",
       "      <td>209920138</td>\n",
       "      <td>28797705</td>\n",
       "      <td>Real Bed</td>\n",
       "      <td>amsterdam</td>\n",
       "      <td>2.10</td>\n",
       "      <td>41.0</td>\n",
       "      <td>6.0</td>\n",
       "      <td>1.0</td>\n",
       "      <td>2020-06</td>\n",
       "      <td>120.0</td>\n",
       "      <td>...</td>\n",
       "      <td>9.0</td>\n",
       "      <td>10.0</td>\n",
       "      <td>94.0</td>\n",
       "      <td>9.0</td>\n",
       "      <td>2020-06</td>\n",
       "      <td>within an hour</td>\n",
       "      <td>96.0</td>\n",
       "      <td>f</td>\n",
       "      <td>3.0</td>\n",
       "      <td>t</td>\n",
       "    </tr>\n",
       "  </tbody>\n",
       "</table>\n",
       "<p>6 rows × 23 columns</p>\n",
       "</div>"
      ],
      "text/plain": [
       "   PARTIES_ID  ASSET_ID ASSETS_TYPE ASSET_LOCATION  ASSETS_REVIEW_PER_MONTH  \\\n",
       "0   217577916  31136615    Real Bed      amsterdam                     4.27   \n",
       "1      534213  31709186    Real Bed      amsterdam                     0.67   \n",
       "2   176059267  23575414    Real Bed      amsterdam                     7.23   \n",
       "3   141648682  31356236    Real Bed      amsterdam                     4.53   \n",
       "4     2313061    771343    Real Bed      amsterdam                     5.92   \n",
       "5   209920138  28797705    Real Bed      amsterdam                     2.10   \n",
       "\n",
       "   ASSET_NUMBER_REVIEWS  ASSET_AVAILABILITY_30  ASSET_MITIGATION_COVID  \\\n",
       "0                  73.0                    7.0                     1.0   \n",
       "1                  11.0                    9.0                     1.0   \n",
       "2                 200.0                    8.0                     1.0   \n",
       "3                  76.0                   28.0                     1.0   \n",
       "4                 392.0                    3.0                     1.0   \n",
       "5                  41.0                    6.0                     1.0   \n",
       "\n",
       "  DATE_YEAR_MONTH  ASSET_PRICE  ...  ASSETS_REVIEW_SCORES_COMMUNICATION  \\\n",
       "0         2020-06        110.0  ...                                 9.0   \n",
       "1         2020-06         75.0  ...                                10.0   \n",
       "2         2020-06        119.0  ...                                10.0   \n",
       "3         2020-06        100.0  ...                                10.0   \n",
       "4         2020-06        119.0  ...                                10.0   \n",
       "5         2020-06        120.0  ...                                 9.0   \n",
       "\n",
       "   ASSETS_REVIEW_SCORES_LOCATION  ASSETS_REVIEW_SCORES_RATING  \\\n",
       "0                           10.0                         89.0   \n",
       "1                           10.0                        100.0   \n",
       "2                           10.0                         97.0   \n",
       "3                           10.0                         97.0   \n",
       "4                           10.0                         98.0   \n",
       "5                           10.0                         94.0   \n",
       "\n",
       "   ASSETS_REVIEW_SCORES_VALUE  TIME_STAMP_MONTH  HOST_RESPONSE_TIME  \\\n",
       "0                         9.0           2020-06      within an hour   \n",
       "1                         9.0           2020-06      within an hour   \n",
       "2                        10.0           2020-06      within an hour   \n",
       "3                         9.0           2020-06      within an hour   \n",
       "4                         9.0           2020-06      within an hour   \n",
       "5                         9.0           2020-06      within an hour   \n",
       "\n",
       "   HOST_RESPONCE_RATE HOST_IS_SUPERHOST HOST_LISTINGS_COUNT  \\\n",
       "0                93.0                 f                 2.0   \n",
       "1               100.0                 f                 1.0   \n",
       "2               100.0                 t                 1.0   \n",
       "3               100.0                 t                 1.0   \n",
       "4               100.0                 t                 3.0   \n",
       "5                96.0                 f                 3.0   \n",
       "\n",
       "   HOST_HAS_PROFILE_PIC  \n",
       "0                     t  \n",
       "1                     t  \n",
       "2                     t  \n",
       "3                     t  \n",
       "4                     t  \n",
       "5                     t  \n",
       "\n",
       "[6 rows x 23 columns]"
      ]
     },
     "execution_count": 108,
     "metadata": {},
     "output_type": "execute_result"
    }
   ],
   "source": [
    "df_feature.head(6)"
   ]
  },
  {
   "cell_type": "code",
   "execution_count": null,
   "metadata": {},
   "outputs": [],
   "source": []
  },
  {
   "cell_type": "markdown",
   "metadata": {},
   "source": [
    "### Check Distributions"
   ]
  },
  {
   "cell_type": "markdown",
   "metadata": {},
   "source": [
    "#### Categorical"
   ]
  },
  {
   "cell_type": "code",
   "execution_count": 109,
   "metadata": {},
   "outputs": [
    {
     "data": {
      "text/plain": [
       "amsterdam    25.0\n",
       "madrid       25.0\n",
       "lisbon       25.0\n",
       "brussels     25.0\n",
       "Name: ASSET_LOCATION, dtype: float64"
      ]
     },
     "execution_count": 109,
     "metadata": {},
     "output_type": "execute_result"
    }
   ],
   "source": [
    "df_feature.ASSET_LOCATION.value_counts() / len(df_feature) * 100"
   ]
  },
  {
   "cell_type": "code",
   "execution_count": 110,
   "metadata": {},
   "outputs": [
    {
     "data": {
      "text/plain": [
       "Real Bed         68.750000\n",
       "Pull-out Sofa     0.568182\n",
       "Name: ASSETS_TYPE, dtype: float64"
      ]
     },
     "execution_count": 110,
     "metadata": {},
     "output_type": "execute_result"
    }
   ],
   "source": [
    "# not very useful\n",
    "df_feature.ASSETS_TYPE.value_counts() / len(df_feature) * 100"
   ]
  },
  {
   "cell_type": "code",
   "execution_count": 111,
   "metadata": {},
   "outputs": [
    {
     "data": {
      "text/plain": [
       "within an hour        67.045455\n",
       "within a few hours     7.386364\n",
       "a few days or more     0.568182\n",
       "Name: HOST_RESPONSE_TIME, dtype: float64"
      ]
     },
     "execution_count": 111,
     "metadata": {},
     "output_type": "execute_result"
    }
   ],
   "source": [
    "df_feature.HOST_RESPONSE_TIME.value_counts() / len(df_feature) * 100"
   ]
  },
  {
   "cell_type": "code",
   "execution_count": 112,
   "metadata": {},
   "outputs": [
    {
     "data": {
      "text/plain": [
       "t    37.5\n",
       "f    37.5\n",
       "Name: HOST_IS_SUPERHOST, dtype: float64"
      ]
     },
     "execution_count": 112,
     "metadata": {},
     "output_type": "execute_result"
    }
   ],
   "source": [
    "df_feature.HOST_IS_SUPERHOST.value_counts() / len(df_feature) * 100"
   ]
  },
  {
   "cell_type": "code",
   "execution_count": 113,
   "metadata": {},
   "outputs": [
    {
     "data": {
      "text/plain": [
       "t    75.0\n",
       "Name: HOST_HAS_PROFILE_PIC, dtype: float64"
      ]
     },
     "execution_count": 113,
     "metadata": {},
     "output_type": "execute_result"
    }
   ],
   "source": [
    "# not useful, almost everybody has a picture\n",
    "df_feature.HOST_HAS_PROFILE_PIC.value_counts()  / len(df_feature) * 100"
   ]
  },
  {
   "cell_type": "code",
   "execution_count": null,
   "metadata": {},
   "outputs": [],
   "source": []
  },
  {
   "cell_type": "code",
   "execution_count": 114,
   "metadata": {},
   "outputs": [],
   "source": [
    "numerical_features = [\n",
    "    \"ASSETS_REVIEW_PER_MONTH\",\n",
    "    \"ASSET_NUMBER_REVIEWS\",                  \n",
    "    \"ASSET_AVAILABILITY_30\",                 \n",
    "    \"ASSET_PRICE\",                \n",
    "    \"ASSETS_REVIEW_SCORES_ACCURACY\",\n",
    "    \"ASSETS_REVIEW_SCORES_CHECKIN\",          \n",
    "    \"ASSETS_REVIEW_SCORES_CLEANLINESS\",\n",
    "    \"ASSETS_REVIEW_SCORES_COMMUNICATION\",    \n",
    "    \"ASSETS_REVIEW_SCORES_LOCATION\",         \n",
    "    \"ASSETS_REVIEW_SCORES_RATING\",           \n",
    "    \"ASSETS_REVIEW_SCORES_VALUE\",\n",
    "    \"HOST_RESPONCE_RATE\",\n",
    "    \"HOST_LISTINGS_COUNT\"]"
   ]
  },
  {
   "cell_type": "code",
   "execution_count": 115,
   "metadata": {},
   "outputs": [
    {
     "data": {
      "text/plain": [
       "array([[<AxesSubplot:>, <AxesSubplot:>, <AxesSubplot:>, <AxesSubplot:>],\n",
       "       [<AxesSubplot:>, <AxesSubplot:>, <AxesSubplot:>, <AxesSubplot:>],\n",
       "       [<AxesSubplot:>, <AxesSubplot:>, <AxesSubplot:>, <AxesSubplot:>],\n",
       "       [<AxesSubplot:>, <AxesSubplot:>, <AxesSubplot:>, <AxesSubplot:>]],\n",
       "      dtype=object)"
      ]
     },
     "execution_count": 115,
     "metadata": {},
     "output_type": "execute_result"
    },
    {
     "data": {
      "image/png": "[encoded data removed]",
      "text/plain": [
       "<Figure size 1440x1440 with 16 Axes>"
      ]
     },
     "metadata": {
      "image/png": {
       "height": 1018,
       "width": 1166
      },
      "needs_background": "light"
     },
     "output_type": "display_data"
    }
   ],
   "source": [
    "df_feature[numerical_features].plot(subplots=True, layout=(4,4), figsize=(20, 20))"
   ]
  },
  {
   "cell_type": "code",
   "execution_count": 116,
   "metadata": {},
   "outputs": [],
   "source": [
    "# escludo gli asset con prezzo > 1000. Possibili anomalie di inserimento o altro\n",
    "df_feature = df_feature[df_feature.ASSET_PRICE < 1000]"
   ]
  },
  {
   "cell_type": "code",
   "execution_count": null,
   "metadata": {},
   "outputs": [],
   "source": []
  },
  {
   "cell_type": "code",
   "execution_count": 117,
   "metadata": {},
   "outputs": [
    {
     "data": {
      "text/html": [
       "<div>\n",
       "<style scoped>\n",
       "    .dataframe tbody tr th:only-of-type {\n",
       "        vertical-align: middle;\n",
       "    }\n",
       "\n",
       "    .dataframe tbody tr th {\n",
       "        vertical-align: top;\n",
       "    }\n",
       "\n",
       "    .dataframe thead th {\n",
       "        text-align: right;\n",
       "    }\n",
       "</style>\n",
       "<table border=\"1\" class=\"dataframe\">\n",
       "  <thead>\n",
       "    <tr style=\"text-align: right;\">\n",
       "      <th></th>\n",
       "      <th>ASSETS_REVIEW_SCORES_ACCURACY</th>\n",
       "      <th>ASSETS_REVIEW_SCORES_RATING</th>\n",
       "      <th>ASSETS_REVIEW_SCORES_VALUE</th>\n",
       "    </tr>\n",
       "  </thead>\n",
       "  <tbody>\n",
       "    <tr>\n",
       "      <th>0</th>\n",
       "      <td>9.0</td>\n",
       "      <td>89.0</td>\n",
       "      <td>9.0</td>\n",
       "    </tr>\n",
       "    <tr>\n",
       "      <th>1</th>\n",
       "      <td>10.0</td>\n",
       "      <td>100.0</td>\n",
       "      <td>9.0</td>\n",
       "    </tr>\n",
       "    <tr>\n",
       "      <th>2</th>\n",
       "      <td>10.0</td>\n",
       "      <td>97.0</td>\n",
       "      <td>10.0</td>\n",
       "    </tr>\n",
       "  </tbody>\n",
       "</table>\n",
       "</div>"
      ],
      "text/plain": [
       "   ASSETS_REVIEW_SCORES_ACCURACY  ASSETS_REVIEW_SCORES_RATING  \\\n",
       "0                            9.0                         89.0   \n",
       "1                           10.0                        100.0   \n",
       "2                           10.0                         97.0   \n",
       "\n",
       "   ASSETS_REVIEW_SCORES_VALUE  \n",
       "0                         9.0  \n",
       "1                         9.0  \n",
       "2                        10.0  "
      ]
     },
     "execution_count": 117,
     "metadata": {},
     "output_type": "execute_result"
    }
   ],
   "source": [
    "df_feature[[\"ASSETS_REVIEW_SCORES_ACCURACY\", \"ASSETS_REVIEW_SCORES_RATING\", \"ASSETS_REVIEW_SCORES_VALUE\"]].head(3)"
   ]
  },
  {
   "cell_type": "code",
   "execution_count": 118,
   "metadata": {},
   "outputs": [
    {
     "data": {
      "text/html": [
       "<div>\n",
       "<style scoped>\n",
       "    .dataframe tbody tr th:only-of-type {\n",
       "        vertical-align: middle;\n",
       "    }\n",
       "\n",
       "    .dataframe tbody tr th {\n",
       "        vertical-align: top;\n",
       "    }\n",
       "\n",
       "    .dataframe thead th {\n",
       "        text-align: right;\n",
       "    }\n",
       "</style>\n",
       "<table border=\"1\" class=\"dataframe\">\n",
       "  <thead>\n",
       "    <tr style=\"text-align: right;\">\n",
       "      <th></th>\n",
       "      <th>ASSETS_REVIEW_SCORES_ACCURACY</th>\n",
       "      <th>ASSETS_REVIEW_SCORES_RATING</th>\n",
       "      <th>ASSETS_REVIEW_SCORES_VALUE</th>\n",
       "    </tr>\n",
       "  </thead>\n",
       "  <tbody>\n",
       "    <tr>\n",
       "      <th>ASSETS_REVIEW_SCORES_ACCURACY</th>\n",
       "      <td>1.000000</td>\n",
       "      <td>0.778217</td>\n",
       "      <td>0.509362</td>\n",
       "    </tr>\n",
       "    <tr>\n",
       "      <th>ASSETS_REVIEW_SCORES_RATING</th>\n",
       "      <td>0.778217</td>\n",
       "      <td>1.000000</td>\n",
       "      <td>0.710341</td>\n",
       "    </tr>\n",
       "    <tr>\n",
       "      <th>ASSETS_REVIEW_SCORES_VALUE</th>\n",
       "      <td>0.509362</td>\n",
       "      <td>0.710341</td>\n",
       "      <td>1.000000</td>\n",
       "    </tr>\n",
       "  </tbody>\n",
       "</table>\n",
       "</div>"
      ],
      "text/plain": [
       "                               ASSETS_REVIEW_SCORES_ACCURACY  \\\n",
       "ASSETS_REVIEW_SCORES_ACCURACY                       1.000000   \n",
       "ASSETS_REVIEW_SCORES_RATING                         0.778217   \n",
       "ASSETS_REVIEW_SCORES_VALUE                          0.509362   \n",
       "\n",
       "                               ASSETS_REVIEW_SCORES_RATING  \\\n",
       "ASSETS_REVIEW_SCORES_ACCURACY                     0.778217   \n",
       "ASSETS_REVIEW_SCORES_RATING                       1.000000   \n",
       "ASSETS_REVIEW_SCORES_VALUE                        0.710341   \n",
       "\n",
       "                               ASSETS_REVIEW_SCORES_VALUE  \n",
       "ASSETS_REVIEW_SCORES_ACCURACY                    0.509362  \n",
       "ASSETS_REVIEW_SCORES_RATING                      0.710341  \n",
       "ASSETS_REVIEW_SCORES_VALUE                       1.000000  "
      ]
     },
     "execution_count": 118,
     "metadata": {},
     "output_type": "execute_result"
    }
   ],
   "source": [
    "df_feature[[\"ASSETS_REVIEW_SCORES_ACCURACY\", \"ASSETS_REVIEW_SCORES_RATING\", \"ASSETS_REVIEW_SCORES_VALUE\"]].corr()"
   ]
  },
  {
   "cell_type": "code",
   "execution_count": 119,
   "metadata": {},
   "outputs": [
    {
     "data": {
      "text/plain": [
       "ASSETS_REVIEW_SCORES_ACCURACY    0\n",
       "ASSETS_REVIEW_SCORES_RATING      0\n",
       "ASSETS_REVIEW_SCORES_VALUE       0\n",
       "dtype: int64"
      ]
     },
     "execution_count": 119,
     "metadata": {},
     "output_type": "execute_result"
    }
   ],
   "source": [
    "df_feature[[\"ASSETS_REVIEW_SCORES_ACCURACY\", \"ASSETS_REVIEW_SCORES_RATING\", \"ASSETS_REVIEW_SCORES_VALUE\"]].isnull().sum()"
   ]
  },
  {
   "cell_type": "code",
   "execution_count": 120,
   "metadata": {},
   "outputs": [],
   "source": [
    "# scelgo di tenere solo ASSETS_REVIEW_SCORES_RATING --> avendo una scala più ampia magari conserva anche più variabilità"
   ]
  },
  {
   "cell_type": "code",
   "execution_count": 121,
   "metadata": {},
   "outputs": [],
   "source": [
    "# per tutte le variabili che indicano caratteristiche del listing, faccio una media dei diversi voti\n",
    "df_feature[\"ASSETS_REVIEW_SCORES_AVG\"] = df_feature[[\"ASSETS_REVIEW_SCORES_CHECKIN\", \"ASSETS_REVIEW_SCORES_CLEANLINESS\", \n",
    "                                                     \"ASSETS_REVIEW_SCORES_COMMUNICATION\", \"ASSETS_REVIEW_SCORES_LOCATION\",\n",
    "                                                     \"ASSETS_REVIEW_SCORES_ACCURACY\", \"ASSETS_REVIEW_SCORES_VALUE\"]]\\\n",
    "                                        .mean(axis=1).round(2)\n",
    "\n",
    "df_feature.drop(columns=[\"ASSETS_REVIEW_SCORES_CHECKIN\", \"ASSETS_REVIEW_SCORES_CLEANLINESS\", \n",
    "                \"ASSETS_REVIEW_SCORES_COMMUNICATION\", \"ASSETS_REVIEW_SCORES_LOCATION\",\n",
    "                \"ASSETS_REVIEW_SCORES_ACCURACY\",\"ASSETS_REVIEW_SCORES_VALUE\"], axis=1, inplace=True)"
   ]
  },
  {
   "cell_type": "code",
   "execution_count": 122,
   "metadata": {},
   "outputs": [],
   "source": [
    "# creo la variabile occupancy come differenza rispetto ai gg del mese\n",
    "\n",
    "df_feature['OCCUPANCY'] = 30 - df_feature[\"ASSET_AVAILABILITY_30\"]\n",
    "df_feature.drop(\"ASSET_AVAILABILITY_30\", axis=1, inplace=True)"
   ]
  },
  {
   "cell_type": "code",
   "execution_count": null,
   "metadata": {},
   "outputs": [],
   "source": []
  },
  {
   "cell_type": "code",
   "execution_count": 123,
   "metadata": {},
   "outputs": [
    {
     "data": {
      "text/html": [
       "<div>\n",
       "<style scoped>\n",
       "    .dataframe tbody tr th:only-of-type {\n",
       "        vertical-align: middle;\n",
       "    }\n",
       "\n",
       "    .dataframe tbody tr th {\n",
       "        vertical-align: top;\n",
       "    }\n",
       "\n",
       "    .dataframe thead th {\n",
       "        text-align: right;\n",
       "    }\n",
       "</style>\n",
       "<table border=\"1\" class=\"dataframe\">\n",
       "  <thead>\n",
       "    <tr style=\"text-align: right;\">\n",
       "      <th></th>\n",
       "      <th>PARTIES_ID</th>\n",
       "      <th>ASSET_ID</th>\n",
       "      <th>ASSETS_TYPE</th>\n",
       "      <th>ASSET_LOCATION</th>\n",
       "      <th>ASSETS_REVIEW_PER_MONTH</th>\n",
       "      <th>ASSET_NUMBER_REVIEWS</th>\n",
       "      <th>ASSET_MITIGATION_COVID</th>\n",
       "      <th>DATE_YEAR_MONTH</th>\n",
       "      <th>ASSET_PRICE</th>\n",
       "      <th>ASSETS_REVIEW_SCORES_RATING</th>\n",
       "      <th>TIME_STAMP_MONTH</th>\n",
       "      <th>HOST_RESPONSE_TIME</th>\n",
       "      <th>HOST_RESPONCE_RATE</th>\n",
       "      <th>HOST_IS_SUPERHOST</th>\n",
       "      <th>HOST_LISTINGS_COUNT</th>\n",
       "      <th>HOST_HAS_PROFILE_PIC</th>\n",
       "      <th>ASSETS_REVIEW_SCORES_AVG</th>\n",
       "      <th>OCCUPANCY</th>\n",
       "    </tr>\n",
       "  </thead>\n",
       "  <tbody>\n",
       "    <tr>\n",
       "      <th>23</th>\n",
       "      <td>27694497</td>\n",
       "      <td>18438350</td>\n",
       "      <td>Real Bed</td>\n",
       "      <td>lisbon</td>\n",
       "      <td>3.76</td>\n",
       "      <td>139.0</td>\n",
       "      <td>1.0</td>\n",
       "      <td>2020-06</td>\n",
       "      <td>50.0</td>\n",
       "      <td>98.0</td>\n",
       "      <td>2020-06</td>\n",
       "      <td>within an hour</td>\n",
       "      <td>100.0</td>\n",
       "      <td>t</td>\n",
       "      <td>4.0</td>\n",
       "      <td>t</td>\n",
       "      <td>9.83</td>\n",
       "      <td>16.0</td>\n",
       "    </tr>\n",
       "    <tr>\n",
       "      <th>24</th>\n",
       "      <td>17125483</td>\n",
       "      <td>23357734</td>\n",
       "      <td>Real Bed</td>\n",
       "      <td>lisbon</td>\n",
       "      <td>3.75</td>\n",
       "      <td>104.0</td>\n",
       "      <td>1.0</td>\n",
       "      <td>2020-06</td>\n",
       "      <td>170.0</td>\n",
       "      <td>98.0</td>\n",
       "      <td>2020-06</td>\n",
       "      <td>within an hour</td>\n",
       "      <td>100.0</td>\n",
       "      <td>t</td>\n",
       "      <td>27.0</td>\n",
       "      <td>t</td>\n",
       "      <td>10.00</td>\n",
       "      <td>4.0</td>\n",
       "    </tr>\n",
       "    <tr>\n",
       "      <th>26</th>\n",
       "      <td>17125483</td>\n",
       "      <td>17514847</td>\n",
       "      <td>Real Bed</td>\n",
       "      <td>lisbon</td>\n",
       "      <td>4.36</td>\n",
       "      <td>169.0</td>\n",
       "      <td>1.0</td>\n",
       "      <td>2020-06</td>\n",
       "      <td>75.0</td>\n",
       "      <td>97.0</td>\n",
       "      <td>2020-06</td>\n",
       "      <td>within an hour</td>\n",
       "      <td>100.0</td>\n",
       "      <td>t</td>\n",
       "      <td>27.0</td>\n",
       "      <td>t</td>\n",
       "      <td>10.00</td>\n",
       "      <td>25.0</td>\n",
       "    </tr>\n",
       "    <tr>\n",
       "      <th>27</th>\n",
       "      <td>3716977</td>\n",
       "      <td>14854589</td>\n",
       "      <td>Real Bed</td>\n",
       "      <td>lisbon</td>\n",
       "      <td>4.83</td>\n",
       "      <td>221.0</td>\n",
       "      <td>1.0</td>\n",
       "      <td>2020-06</td>\n",
       "      <td>50.0</td>\n",
       "      <td>98.0</td>\n",
       "      <td>2020-06</td>\n",
       "      <td>within an hour</td>\n",
       "      <td>97.0</td>\n",
       "      <td>t</td>\n",
       "      <td>11.0</td>\n",
       "      <td>t</td>\n",
       "      <td>9.67</td>\n",
       "      <td>19.0</td>\n",
       "    </tr>\n",
       "    <tr>\n",
       "      <th>28</th>\n",
       "      <td>72294821</td>\n",
       "      <td>31437575</td>\n",
       "      <td>Real Bed</td>\n",
       "      <td>lisbon</td>\n",
       "      <td>4.30</td>\n",
       "      <td>66.0</td>\n",
       "      <td>1.0</td>\n",
       "      <td>2020-06</td>\n",
       "      <td>110.0</td>\n",
       "      <td>100.0</td>\n",
       "      <td>2020-06</td>\n",
       "      <td>within an hour</td>\n",
       "      <td>100.0</td>\n",
       "      <td>t</td>\n",
       "      <td>5.0</td>\n",
       "      <td>t</td>\n",
       "      <td>10.00</td>\n",
       "      <td>21.0</td>\n",
       "    </tr>\n",
       "    <tr>\n",
       "      <th>...</th>\n",
       "      <td>...</td>\n",
       "      <td>...</td>\n",
       "      <td>...</td>\n",
       "      <td>...</td>\n",
       "      <td>...</td>\n",
       "      <td>...</td>\n",
       "      <td>...</td>\n",
       "      <td>...</td>\n",
       "      <td>...</td>\n",
       "      <td>...</td>\n",
       "      <td>...</td>\n",
       "      <td>...</td>\n",
       "      <td>...</td>\n",
       "      <td>...</td>\n",
       "      <td>...</td>\n",
       "      <td>...</td>\n",
       "      <td>...</td>\n",
       "      <td>...</td>\n",
       "    </tr>\n",
       "    <tr>\n",
       "      <th>165</th>\n",
       "      <td>235012325</td>\n",
       "      <td>32095892</td>\n",
       "      <td>Real Bed</td>\n",
       "      <td>lisbon</td>\n",
       "      <td>4.43</td>\n",
       "      <td>18.0</td>\n",
       "      <td>0.0</td>\n",
       "      <td>2019-06</td>\n",
       "      <td>48.0</td>\n",
       "      <td>100.0</td>\n",
       "      <td>2019-06</td>\n",
       "      <td>within an hour</td>\n",
       "      <td>100.0</td>\n",
       "      <td>t</td>\n",
       "      <td>6.0</td>\n",
       "      <td>t</td>\n",
       "      <td>9.83</td>\n",
       "      <td>19.0</td>\n",
       "    </tr>\n",
       "    <tr>\n",
       "      <th>166</th>\n",
       "      <td>243718511</td>\n",
       "      <td>32444327</td>\n",
       "      <td>Real Bed</td>\n",
       "      <td>madrid</td>\n",
       "      <td>6.35</td>\n",
       "      <td>22.0</td>\n",
       "      <td>0.0</td>\n",
       "      <td>2019-06</td>\n",
       "      <td>39.0</td>\n",
       "      <td>97.0</td>\n",
       "      <td>2019-06</td>\n",
       "      <td>within an hour</td>\n",
       "      <td>100.0</td>\n",
       "      <td>f</td>\n",
       "      <td>1.0</td>\n",
       "      <td>t</td>\n",
       "      <td>10.00</td>\n",
       "      <td>27.0</td>\n",
       "    </tr>\n",
       "    <tr>\n",
       "      <th>168</th>\n",
       "      <td>113864545</td>\n",
       "      <td>32735824</td>\n",
       "      <td>Real Bed</td>\n",
       "      <td>madrid</td>\n",
       "      <td>3.40</td>\n",
       "      <td>11.0</td>\n",
       "      <td>0.0</td>\n",
       "      <td>2019-06</td>\n",
       "      <td>57.0</td>\n",
       "      <td>95.0</td>\n",
       "      <td>2019-06</td>\n",
       "      <td>within an hour</td>\n",
       "      <td>96.0</td>\n",
       "      <td>f</td>\n",
       "      <td>10.0</td>\n",
       "      <td>t</td>\n",
       "      <td>9.33</td>\n",
       "      <td>17.0</td>\n",
       "    </tr>\n",
       "    <tr>\n",
       "      <th>169</th>\n",
       "      <td>222511575</td>\n",
       "      <td>32981093</td>\n",
       "      <td>Real Bed</td>\n",
       "      <td>madrid</td>\n",
       "      <td>1.46</td>\n",
       "      <td>2.0</td>\n",
       "      <td>0.0</td>\n",
       "      <td>2019-06</td>\n",
       "      <td>55.0</td>\n",
       "      <td>90.0</td>\n",
       "      <td>2019-06</td>\n",
       "      <td>within an hour</td>\n",
       "      <td>100.0</td>\n",
       "      <td>f</td>\n",
       "      <td>2.0</td>\n",
       "      <td>t</td>\n",
       "      <td>8.67</td>\n",
       "      <td>15.0</td>\n",
       "    </tr>\n",
       "    <tr>\n",
       "      <th>172</th>\n",
       "      <td>244554938</td>\n",
       "      <td>33818982</td>\n",
       "      <td>Real Bed</td>\n",
       "      <td>madrid</td>\n",
       "      <td>4.29</td>\n",
       "      <td>7.0</td>\n",
       "      <td>0.0</td>\n",
       "      <td>2019-06</td>\n",
       "      <td>65.0</td>\n",
       "      <td>94.0</td>\n",
       "      <td>2019-06</td>\n",
       "      <td>within an hour</td>\n",
       "      <td>100.0</td>\n",
       "      <td>f</td>\n",
       "      <td>1.0</td>\n",
       "      <td>t</td>\n",
       "      <td>9.83</td>\n",
       "      <td>6.0</td>\n",
       "    </tr>\n",
       "  </tbody>\n",
       "</table>\n",
       "<p>68 rows × 18 columns</p>\n",
       "</div>"
      ],
      "text/plain": [
       "     PARTIES_ID  ASSET_ID ASSETS_TYPE ASSET_LOCATION  ASSETS_REVIEW_PER_MONTH  \\\n",
       "23     27694497  18438350    Real Bed         lisbon                     3.76   \n",
       "24     17125483  23357734    Real Bed         lisbon                     3.75   \n",
       "26     17125483  17514847    Real Bed         lisbon                     4.36   \n",
       "27      3716977  14854589    Real Bed         lisbon                     4.83   \n",
       "28     72294821  31437575    Real Bed         lisbon                     4.30   \n",
       "..          ...       ...         ...            ...                      ...   \n",
       "165   235012325  32095892    Real Bed         lisbon                     4.43   \n",
       "166   243718511  32444327    Real Bed         madrid                     6.35   \n",
       "168   113864545  32735824    Real Bed         madrid                     3.40   \n",
       "169   222511575  32981093    Real Bed         madrid                     1.46   \n",
       "172   244554938  33818982    Real Bed         madrid                     4.29   \n",
       "\n",
       "     ASSET_NUMBER_REVIEWS  ASSET_MITIGATION_COVID DATE_YEAR_MONTH  \\\n",
       "23                  139.0                     1.0         2020-06   \n",
       "24                  104.0                     1.0         2020-06   \n",
       "26                  169.0                     1.0         2020-06   \n",
       "27                  221.0                     1.0         2020-06   \n",
       "28                   66.0                     1.0         2020-06   \n",
       "..                    ...                     ...             ...   \n",
       "165                  18.0                     0.0         2019-06   \n",
       "166                  22.0                     0.0         2019-06   \n",
       "168                  11.0                     0.0         2019-06   \n",
       "169                   2.0                     0.0         2019-06   \n",
       "172                   7.0                     0.0         2019-06   \n",
       "\n",
       "     ASSET_PRICE  ASSETS_REVIEW_SCORES_RATING TIME_STAMP_MONTH  \\\n",
       "23          50.0                         98.0          2020-06   \n",
       "24         170.0                         98.0          2020-06   \n",
       "26          75.0                         97.0          2020-06   \n",
       "27          50.0                         98.0          2020-06   \n",
       "28         110.0                        100.0          2020-06   \n",
       "..           ...                          ...              ...   \n",
       "165         48.0                        100.0          2019-06   \n",
       "166         39.0                         97.0          2019-06   \n",
       "168         57.0                         95.0          2019-06   \n",
       "169         55.0                         90.0          2019-06   \n",
       "172         65.0                         94.0          2019-06   \n",
       "\n",
       "    HOST_RESPONSE_TIME  HOST_RESPONCE_RATE HOST_IS_SUPERHOST  \\\n",
       "23      within an hour               100.0                 t   \n",
       "24      within an hour               100.0                 t   \n",
       "26      within an hour               100.0                 t   \n",
       "27      within an hour                97.0                 t   \n",
       "28      within an hour               100.0                 t   \n",
       "..                 ...                 ...               ...   \n",
       "165     within an hour               100.0                 t   \n",
       "166     within an hour               100.0                 f   \n",
       "168     within an hour                96.0                 f   \n",
       "169     within an hour               100.0                 f   \n",
       "172     within an hour               100.0                 f   \n",
       "\n",
       "     HOST_LISTINGS_COUNT HOST_HAS_PROFILE_PIC  ASSETS_REVIEW_SCORES_AVG  \\\n",
       "23                   4.0                    t                      9.83   \n",
       "24                  27.0                    t                     10.00   \n",
       "26                  27.0                    t                     10.00   \n",
       "27                  11.0                    t                      9.67   \n",
       "28                   5.0                    t                     10.00   \n",
       "..                   ...                  ...                       ...   \n",
       "165                  6.0                    t                      9.83   \n",
       "166                  1.0                    t                     10.00   \n",
       "168                 10.0                    t                      9.33   \n",
       "169                  2.0                    t                      8.67   \n",
       "172                  1.0                    t                      9.83   \n",
       "\n",
       "     OCCUPANCY  \n",
       "23        16.0  \n",
       "24         4.0  \n",
       "26        25.0  \n",
       "27        19.0  \n",
       "28        21.0  \n",
       "..         ...  \n",
       "165       19.0  \n",
       "166       27.0  \n",
       "168       17.0  \n",
       "169       15.0  \n",
       "172        6.0  \n",
       "\n",
       "[68 rows x 18 columns]"
      ]
     },
     "execution_count": 123,
     "metadata": {},
     "output_type": "execute_result"
    }
   ],
   "source": [
    "df_feature[df_feature.ASSET_ID.duplicated(keep=False)]"
   ]
  },
  {
   "cell_type": "code",
   "execution_count": null,
   "metadata": {},
   "outputs": [],
   "source": []
  },
  {
   "cell_type": "code",
   "execution_count": null,
   "metadata": {},
   "outputs": [],
   "source": []
  },
  {
   "cell_type": "code",
   "execution_count": null,
   "metadata": {},
   "outputs": [],
   "source": []
  },
  {
   "cell_type": "code",
   "execution_count": null,
   "metadata": {},
   "outputs": [],
   "source": []
  },
  {
   "cell_type": "code",
   "execution_count": 124,
   "metadata": {
    "scrolled": true
   },
   "outputs": [],
   "source": [
    "# dumming delle variabili categoriche scelte\n",
    "\n",
    "dummies_cols = [\n",
    "                \"ASSET_LOCATION\", \n",
    "                \"HOST_RESPONSE_TIME\", \n",
    "                \"HOST_IS_SUPERHOST\", \n",
    "               ]\n",
    "\n",
    "col_to_drop = [\"ASSETS_TYPE\", \"HOST_HAS_PROFILE_PIC\"]\n",
    "\n",
    "for col in dummies_cols:\n",
    "    df_feature = df_feature.join(pd.get_dummies(df_feature[col], prefix=col))\n",
    "    df_feature.drop(col, axis=1, inplace=True)\n",
    "\n",
    "df_feature.drop(col_to_drop, axis=1, inplace=True)"
   ]
  },
  {
   "cell_type": "code",
   "execution_count": 125,
   "metadata": {},
   "outputs": [
    {
     "data": {
      "text/plain": [
       "Index(['PARTIES_ID', 'ASSET_ID', 'ASSETS_REVIEW_PER_MONTH',\n",
       "       'ASSET_NUMBER_REVIEWS', 'ASSET_MITIGATION_COVID', 'DATE_YEAR_MONTH',\n",
       "       'ASSET_PRICE', 'ASSETS_REVIEW_SCORES_RATING', 'TIME_STAMP_MONTH',\n",
       "       'HOST_RESPONCE_RATE', 'HOST_LISTINGS_COUNT', 'ASSETS_REVIEW_SCORES_AVG',\n",
       "       'OCCUPANCY', 'ASSET_LOCATION_amsterdam', 'ASSET_LOCATION_brussels',\n",
       "       'ASSET_LOCATION_lisbon', 'ASSET_LOCATION_madrid',\n",
       "       'HOST_RESPONSE_TIME_within a few hours',\n",
       "       'HOST_RESPONSE_TIME_within an hour', 'HOST_IS_SUPERHOST_f',\n",
       "       'HOST_IS_SUPERHOST_t'],\n",
       "      dtype='object')"
      ]
     },
     "execution_count": 125,
     "metadata": {},
     "output_type": "execute_result"
    }
   ],
   "source": [
    "df_feature.columns"
   ]
  },
  {
   "cell_type": "code",
   "execution_count": 126,
   "metadata": {},
   "outputs": [
    {
     "data": {
      "text/html": [
       "<div>\n",
       "<style scoped>\n",
       "    .dataframe tbody tr th:only-of-type {\n",
       "        vertical-align: middle;\n",
       "    }\n",
       "\n",
       "    .dataframe tbody tr th {\n",
       "        vertical-align: top;\n",
       "    }\n",
       "\n",
       "    .dataframe thead th {\n",
       "        text-align: right;\n",
       "    }\n",
       "</style>\n",
       "<table border=\"1\" class=\"dataframe\">\n",
       "  <thead>\n",
       "    <tr style=\"text-align: right;\">\n",
       "      <th></th>\n",
       "      <th>PARTIES_ID</th>\n",
       "      <th>ASSET_ID</th>\n",
       "      <th>ASSETS_REVIEW_PER_MONTH</th>\n",
       "      <th>ASSET_NUMBER_REVIEWS</th>\n",
       "      <th>ASSET_MITIGATION_COVID</th>\n",
       "      <th>DATE_YEAR_MONTH</th>\n",
       "      <th>ASSET_PRICE</th>\n",
       "      <th>ASSETS_REVIEW_SCORES_RATING</th>\n",
       "      <th>TIME_STAMP_MONTH</th>\n",
       "      <th>HOST_RESPONCE_RATE</th>\n",
       "      <th>...</th>\n",
       "      <th>ASSETS_REVIEW_SCORES_AVG</th>\n",
       "      <th>OCCUPANCY</th>\n",
       "      <th>ASSET_LOCATION_amsterdam</th>\n",
       "      <th>ASSET_LOCATION_brussels</th>\n",
       "      <th>ASSET_LOCATION_lisbon</th>\n",
       "      <th>ASSET_LOCATION_madrid</th>\n",
       "      <th>HOST_RESPONSE_TIME_within a few hours</th>\n",
       "      <th>HOST_RESPONSE_TIME_within an hour</th>\n",
       "      <th>HOST_IS_SUPERHOST_f</th>\n",
       "      <th>HOST_IS_SUPERHOST_t</th>\n",
       "    </tr>\n",
       "  </thead>\n",
       "  <tbody>\n",
       "    <tr>\n",
       "      <th>0</th>\n",
       "      <td>217577916</td>\n",
       "      <td>31136615</td>\n",
       "      <td>4.27</td>\n",
       "      <td>73.0</td>\n",
       "      <td>1.0</td>\n",
       "      <td>2020-06</td>\n",
       "      <td>110.0</td>\n",
       "      <td>89.0</td>\n",
       "      <td>2020-06</td>\n",
       "      <td>93.0</td>\n",
       "      <td>...</td>\n",
       "      <td>9.33</td>\n",
       "      <td>23.0</td>\n",
       "      <td>1</td>\n",
       "      <td>0</td>\n",
       "      <td>0</td>\n",
       "      <td>0</td>\n",
       "      <td>0</td>\n",
       "      <td>1</td>\n",
       "      <td>1</td>\n",
       "      <td>0</td>\n",
       "    </tr>\n",
       "    <tr>\n",
       "      <th>1</th>\n",
       "      <td>534213</td>\n",
       "      <td>31709186</td>\n",
       "      <td>0.67</td>\n",
       "      <td>11.0</td>\n",
       "      <td>1.0</td>\n",
       "      <td>2020-06</td>\n",
       "      <td>75.0</td>\n",
       "      <td>100.0</td>\n",
       "      <td>2020-06</td>\n",
       "      <td>100.0</td>\n",
       "      <td>...</td>\n",
       "      <td>9.83</td>\n",
       "      <td>21.0</td>\n",
       "      <td>1</td>\n",
       "      <td>0</td>\n",
       "      <td>0</td>\n",
       "      <td>0</td>\n",
       "      <td>0</td>\n",
       "      <td>1</td>\n",
       "      <td>1</td>\n",
       "      <td>0</td>\n",
       "    </tr>\n",
       "    <tr>\n",
       "      <th>2</th>\n",
       "      <td>176059267</td>\n",
       "      <td>23575414</td>\n",
       "      <td>7.23</td>\n",
       "      <td>200.0</td>\n",
       "      <td>1.0</td>\n",
       "      <td>2020-06</td>\n",
       "      <td>119.0</td>\n",
       "      <td>97.0</td>\n",
       "      <td>2020-06</td>\n",
       "      <td>100.0</td>\n",
       "      <td>...</td>\n",
       "      <td>10.00</td>\n",
       "      <td>22.0</td>\n",
       "      <td>1</td>\n",
       "      <td>0</td>\n",
       "      <td>0</td>\n",
       "      <td>0</td>\n",
       "      <td>0</td>\n",
       "      <td>1</td>\n",
       "      <td>0</td>\n",
       "      <td>1</td>\n",
       "    </tr>\n",
       "    <tr>\n",
       "      <th>3</th>\n",
       "      <td>141648682</td>\n",
       "      <td>31356236</td>\n",
       "      <td>4.53</td>\n",
       "      <td>76.0</td>\n",
       "      <td>1.0</td>\n",
       "      <td>2020-06</td>\n",
       "      <td>100.0</td>\n",
       "      <td>97.0</td>\n",
       "      <td>2020-06</td>\n",
       "      <td>100.0</td>\n",
       "      <td>...</td>\n",
       "      <td>9.83</td>\n",
       "      <td>2.0</td>\n",
       "      <td>1</td>\n",
       "      <td>0</td>\n",
       "      <td>0</td>\n",
       "      <td>0</td>\n",
       "      <td>0</td>\n",
       "      <td>1</td>\n",
       "      <td>0</td>\n",
       "      <td>1</td>\n",
       "    </tr>\n",
       "    <tr>\n",
       "      <th>4</th>\n",
       "      <td>2313061</td>\n",
       "      <td>771343</td>\n",
       "      <td>5.92</td>\n",
       "      <td>392.0</td>\n",
       "      <td>1.0</td>\n",
       "      <td>2020-06</td>\n",
       "      <td>119.0</td>\n",
       "      <td>98.0</td>\n",
       "      <td>2020-06</td>\n",
       "      <td>100.0</td>\n",
       "      <td>...</td>\n",
       "      <td>9.83</td>\n",
       "      <td>27.0</td>\n",
       "      <td>1</td>\n",
       "      <td>0</td>\n",
       "      <td>0</td>\n",
       "      <td>0</td>\n",
       "      <td>0</td>\n",
       "      <td>1</td>\n",
       "      <td>0</td>\n",
       "      <td>1</td>\n",
       "    </tr>\n",
       "  </tbody>\n",
       "</table>\n",
       "<p>5 rows × 21 columns</p>\n",
       "</div>"
      ],
      "text/plain": [
       "   PARTIES_ID  ASSET_ID  ASSETS_REVIEW_PER_MONTH  ASSET_NUMBER_REVIEWS  \\\n",
       "0   217577916  31136615                     4.27                  73.0   \n",
       "1      534213  31709186                     0.67                  11.0   \n",
       "2   176059267  23575414                     7.23                 200.0   \n",
       "3   141648682  31356236                     4.53                  76.0   \n",
       "4     2313061    771343                     5.92                 392.0   \n",
       "\n",
       "   ASSET_MITIGATION_COVID DATE_YEAR_MONTH  ASSET_PRICE  \\\n",
       "0                     1.0         2020-06        110.0   \n",
       "1                     1.0         2020-06         75.0   \n",
       "2                     1.0         2020-06        119.0   \n",
       "3                     1.0         2020-06        100.0   \n",
       "4                     1.0         2020-06        119.0   \n",
       "\n",
       "   ASSETS_REVIEW_SCORES_RATING TIME_STAMP_MONTH  HOST_RESPONCE_RATE  ...  \\\n",
       "0                         89.0          2020-06                93.0  ...   \n",
       "1                        100.0          2020-06               100.0  ...   \n",
       "2                         97.0          2020-06               100.0  ...   \n",
       "3                         97.0          2020-06               100.0  ...   \n",
       "4                         98.0          2020-06               100.0  ...   \n",
       "\n",
       "   ASSETS_REVIEW_SCORES_AVG  OCCUPANCY  ASSET_LOCATION_amsterdam  \\\n",
       "0                      9.33       23.0                         1   \n",
       "1                      9.83       21.0                         1   \n",
       "2                     10.00       22.0                         1   \n",
       "3                      9.83        2.0                         1   \n",
       "4                      9.83       27.0                         1   \n",
       "\n",
       "   ASSET_LOCATION_brussels  ASSET_LOCATION_lisbon  ASSET_LOCATION_madrid  \\\n",
       "0                        0                      0                      0   \n",
       "1                        0                      0                      0   \n",
       "2                        0                      0                      0   \n",
       "3                        0                      0                      0   \n",
       "4                        0                      0                      0   \n",
       "\n",
       "   HOST_RESPONSE_TIME_within a few hours  HOST_RESPONSE_TIME_within an hour  \\\n",
       "0                                      0                                  1   \n",
       "1                                      0                                  1   \n",
       "2                                      0                                  1   \n",
       "3                                      0                                  1   \n",
       "4                                      0                                  1   \n",
       "\n",
       "   HOST_IS_SUPERHOST_f  HOST_IS_SUPERHOST_t  \n",
       "0                    1                    0  \n",
       "1                    1                    0  \n",
       "2                    0                    1  \n",
       "3                    0                    1  \n",
       "4                    0                    1  \n",
       "\n",
       "[5 rows x 21 columns]"
      ]
     },
     "execution_count": 126,
     "metadata": {},
     "output_type": "execute_result"
    }
   ],
   "source": [
    "df_feature.head()"
   ]
  },
  {
   "cell_type": "code",
   "execution_count": 127,
   "metadata": {},
   "outputs": [
    {
     "data": {
      "text/plain": [
       "PARTIES_ID                               0\n",
       "ASSET_ID                                 0\n",
       "ASSETS_REVIEW_PER_MONTH                  0\n",
       "ASSET_NUMBER_REVIEWS                     0\n",
       "ASSET_MITIGATION_COVID                   0\n",
       "DATE_YEAR_MONTH                          0\n",
       "ASSET_PRICE                              0\n",
       "ASSETS_REVIEW_SCORES_RATING              0\n",
       "TIME_STAMP_MONTH                         0\n",
       "HOST_RESPONCE_RATE                       0\n",
       "HOST_LISTINGS_COUNT                      0\n",
       "ASSETS_REVIEW_SCORES_AVG                 0\n",
       "OCCUPANCY                                0\n",
       "ASSET_LOCATION_amsterdam                 0\n",
       "ASSET_LOCATION_brussels                  0\n",
       "ASSET_LOCATION_lisbon                    0\n",
       "ASSET_LOCATION_madrid                    0\n",
       "HOST_RESPONSE_TIME_within a few hours    0\n",
       "HOST_RESPONSE_TIME_within an hour        0\n",
       "HOST_IS_SUPERHOST_f                      0\n",
       "HOST_IS_SUPERHOST_t                      0\n",
       "dtype: int64"
      ]
     },
     "execution_count": 127,
     "metadata": {},
     "output_type": "execute_result"
    }
   ],
   "source": [
    "df_feature.isnull().sum()"
   ]
  },
  {
   "cell_type": "code",
   "execution_count": 128,
   "metadata": {},
   "outputs": [],
   "source": [
    "# elimino gli na per costruire il modello\n",
    "df_feature.dropna(inplace=True)"
   ]
  },
  {
   "cell_type": "code",
   "execution_count": 129,
   "metadata": {},
   "outputs": [
    {
     "data": {
      "text/plain": [
       "(122, 21)"
      ]
     },
     "execution_count": 129,
     "metadata": {},
     "output_type": "execute_result"
    }
   ],
   "source": [
    "df_feature.shape"
   ]
  },
  {
   "cell_type": "code",
   "execution_count": 130,
   "metadata": {},
   "outputs": [
    {
     "data": {
      "text/html": [
       "<div>\n",
       "<style scoped>\n",
       "    .dataframe tbody tr th:only-of-type {\n",
       "        vertical-align: middle;\n",
       "    }\n",
       "\n",
       "    .dataframe tbody tr th {\n",
       "        vertical-align: top;\n",
       "    }\n",
       "\n",
       "    .dataframe thead th {\n",
       "        text-align: right;\n",
       "    }\n",
       "</style>\n",
       "<table border=\"1\" class=\"dataframe\">\n",
       "  <thead>\n",
       "    <tr style=\"text-align: right;\">\n",
       "      <th></th>\n",
       "      <th>PARTIES_ID</th>\n",
       "      <th>ASSET_ID</th>\n",
       "      <th>ASSETS_REVIEW_PER_MONTH</th>\n",
       "      <th>ASSET_NUMBER_REVIEWS</th>\n",
       "      <th>ASSET_MITIGATION_COVID</th>\n",
       "      <th>DATE_YEAR_MONTH</th>\n",
       "      <th>ASSET_PRICE</th>\n",
       "      <th>ASSETS_REVIEW_SCORES_RATING</th>\n",
       "      <th>TIME_STAMP_MONTH</th>\n",
       "      <th>HOST_RESPONCE_RATE</th>\n",
       "      <th>...</th>\n",
       "      <th>ASSETS_REVIEW_SCORES_AVG</th>\n",
       "      <th>OCCUPANCY</th>\n",
       "      <th>ASSET_LOCATION_amsterdam</th>\n",
       "      <th>ASSET_LOCATION_brussels</th>\n",
       "      <th>ASSET_LOCATION_lisbon</th>\n",
       "      <th>ASSET_LOCATION_madrid</th>\n",
       "      <th>HOST_RESPONSE_TIME_within a few hours</th>\n",
       "      <th>HOST_RESPONSE_TIME_within an hour</th>\n",
       "      <th>HOST_IS_SUPERHOST_f</th>\n",
       "      <th>HOST_IS_SUPERHOST_t</th>\n",
       "    </tr>\n",
       "  </thead>\n",
       "  <tbody>\n",
       "    <tr>\n",
       "      <th>0</th>\n",
       "      <td>217577916</td>\n",
       "      <td>31136615</td>\n",
       "      <td>4.27</td>\n",
       "      <td>73.0</td>\n",
       "      <td>1.0</td>\n",
       "      <td>2020-06</td>\n",
       "      <td>110.0</td>\n",
       "      <td>89.0</td>\n",
       "      <td>2020-06</td>\n",
       "      <td>93.0</td>\n",
       "      <td>...</td>\n",
       "      <td>9.33</td>\n",
       "      <td>23.0</td>\n",
       "      <td>1</td>\n",
       "      <td>0</td>\n",
       "      <td>0</td>\n",
       "      <td>0</td>\n",
       "      <td>0</td>\n",
       "      <td>1</td>\n",
       "      <td>1</td>\n",
       "      <td>0</td>\n",
       "    </tr>\n",
       "    <tr>\n",
       "      <th>1</th>\n",
       "      <td>534213</td>\n",
       "      <td>31709186</td>\n",
       "      <td>0.67</td>\n",
       "      <td>11.0</td>\n",
       "      <td>1.0</td>\n",
       "      <td>2020-06</td>\n",
       "      <td>75.0</td>\n",
       "      <td>100.0</td>\n",
       "      <td>2020-06</td>\n",
       "      <td>100.0</td>\n",
       "      <td>...</td>\n",
       "      <td>9.83</td>\n",
       "      <td>21.0</td>\n",
       "      <td>1</td>\n",
       "      <td>0</td>\n",
       "      <td>0</td>\n",
       "      <td>0</td>\n",
       "      <td>0</td>\n",
       "      <td>1</td>\n",
       "      <td>1</td>\n",
       "      <td>0</td>\n",
       "    </tr>\n",
       "    <tr>\n",
       "      <th>2</th>\n",
       "      <td>176059267</td>\n",
       "      <td>23575414</td>\n",
       "      <td>7.23</td>\n",
       "      <td>200.0</td>\n",
       "      <td>1.0</td>\n",
       "      <td>2020-06</td>\n",
       "      <td>119.0</td>\n",
       "      <td>97.0</td>\n",
       "      <td>2020-06</td>\n",
       "      <td>100.0</td>\n",
       "      <td>...</td>\n",
       "      <td>10.00</td>\n",
       "      <td>22.0</td>\n",
       "      <td>1</td>\n",
       "      <td>0</td>\n",
       "      <td>0</td>\n",
       "      <td>0</td>\n",
       "      <td>0</td>\n",
       "      <td>1</td>\n",
       "      <td>0</td>\n",
       "      <td>1</td>\n",
       "    </tr>\n",
       "    <tr>\n",
       "      <th>3</th>\n",
       "      <td>141648682</td>\n",
       "      <td>31356236</td>\n",
       "      <td>4.53</td>\n",
       "      <td>76.0</td>\n",
       "      <td>1.0</td>\n",
       "      <td>2020-06</td>\n",
       "      <td>100.0</td>\n",
       "      <td>97.0</td>\n",
       "      <td>2020-06</td>\n",
       "      <td>100.0</td>\n",
       "      <td>...</td>\n",
       "      <td>9.83</td>\n",
       "      <td>2.0</td>\n",
       "      <td>1</td>\n",
       "      <td>0</td>\n",
       "      <td>0</td>\n",
       "      <td>0</td>\n",
       "      <td>0</td>\n",
       "      <td>1</td>\n",
       "      <td>0</td>\n",
       "      <td>1</td>\n",
       "    </tr>\n",
       "    <tr>\n",
       "      <th>4</th>\n",
       "      <td>2313061</td>\n",
       "      <td>771343</td>\n",
       "      <td>5.92</td>\n",
       "      <td>392.0</td>\n",
       "      <td>1.0</td>\n",
       "      <td>2020-06</td>\n",
       "      <td>119.0</td>\n",
       "      <td>98.0</td>\n",
       "      <td>2020-06</td>\n",
       "      <td>100.0</td>\n",
       "      <td>...</td>\n",
       "      <td>9.83</td>\n",
       "      <td>27.0</td>\n",
       "      <td>1</td>\n",
       "      <td>0</td>\n",
       "      <td>0</td>\n",
       "      <td>0</td>\n",
       "      <td>0</td>\n",
       "      <td>1</td>\n",
       "      <td>0</td>\n",
       "      <td>1</td>\n",
       "    </tr>\n",
       "    <tr>\n",
       "      <th>...</th>\n",
       "      <td>...</td>\n",
       "      <td>...</td>\n",
       "      <td>...</td>\n",
       "      <td>...</td>\n",
       "      <td>...</td>\n",
       "      <td>...</td>\n",
       "      <td>...</td>\n",
       "      <td>...</td>\n",
       "      <td>...</td>\n",
       "      <td>...</td>\n",
       "      <td>...</td>\n",
       "      <td>...</td>\n",
       "      <td>...</td>\n",
       "      <td>...</td>\n",
       "      <td>...</td>\n",
       "      <td>...</td>\n",
       "      <td>...</td>\n",
       "      <td>...</td>\n",
       "      <td>...</td>\n",
       "      <td>...</td>\n",
       "      <td>...</td>\n",
       "    </tr>\n",
       "    <tr>\n",
       "      <th>165</th>\n",
       "      <td>235012325</td>\n",
       "      <td>32095892</td>\n",
       "      <td>4.43</td>\n",
       "      <td>18.0</td>\n",
       "      <td>0.0</td>\n",
       "      <td>2019-06</td>\n",
       "      <td>48.0</td>\n",
       "      <td>100.0</td>\n",
       "      <td>2019-06</td>\n",
       "      <td>100.0</td>\n",
       "      <td>...</td>\n",
       "      <td>9.83</td>\n",
       "      <td>19.0</td>\n",
       "      <td>0</td>\n",
       "      <td>0</td>\n",
       "      <td>1</td>\n",
       "      <td>0</td>\n",
       "      <td>0</td>\n",
       "      <td>1</td>\n",
       "      <td>0</td>\n",
       "      <td>1</td>\n",
       "    </tr>\n",
       "    <tr>\n",
       "      <th>166</th>\n",
       "      <td>243718511</td>\n",
       "      <td>32444327</td>\n",
       "      <td>6.35</td>\n",
       "      <td>22.0</td>\n",
       "      <td>0.0</td>\n",
       "      <td>2019-06</td>\n",
       "      <td>39.0</td>\n",
       "      <td>97.0</td>\n",
       "      <td>2019-06</td>\n",
       "      <td>100.0</td>\n",
       "      <td>...</td>\n",
       "      <td>10.00</td>\n",
       "      <td>27.0</td>\n",
       "      <td>0</td>\n",
       "      <td>0</td>\n",
       "      <td>0</td>\n",
       "      <td>1</td>\n",
       "      <td>0</td>\n",
       "      <td>1</td>\n",
       "      <td>1</td>\n",
       "      <td>0</td>\n",
       "    </tr>\n",
       "    <tr>\n",
       "      <th>168</th>\n",
       "      <td>113864545</td>\n",
       "      <td>32735824</td>\n",
       "      <td>3.40</td>\n",
       "      <td>11.0</td>\n",
       "      <td>0.0</td>\n",
       "      <td>2019-06</td>\n",
       "      <td>57.0</td>\n",
       "      <td>95.0</td>\n",
       "      <td>2019-06</td>\n",
       "      <td>96.0</td>\n",
       "      <td>...</td>\n",
       "      <td>9.33</td>\n",
       "      <td>17.0</td>\n",
       "      <td>0</td>\n",
       "      <td>0</td>\n",
       "      <td>0</td>\n",
       "      <td>1</td>\n",
       "      <td>0</td>\n",
       "      <td>1</td>\n",
       "      <td>1</td>\n",
       "      <td>0</td>\n",
       "    </tr>\n",
       "    <tr>\n",
       "      <th>169</th>\n",
       "      <td>222511575</td>\n",
       "      <td>32981093</td>\n",
       "      <td>1.46</td>\n",
       "      <td>2.0</td>\n",
       "      <td>0.0</td>\n",
       "      <td>2019-06</td>\n",
       "      <td>55.0</td>\n",
       "      <td>90.0</td>\n",
       "      <td>2019-06</td>\n",
       "      <td>100.0</td>\n",
       "      <td>...</td>\n",
       "      <td>8.67</td>\n",
       "      <td>15.0</td>\n",
       "      <td>0</td>\n",
       "      <td>0</td>\n",
       "      <td>0</td>\n",
       "      <td>1</td>\n",
       "      <td>0</td>\n",
       "      <td>1</td>\n",
       "      <td>1</td>\n",
       "      <td>0</td>\n",
       "    </tr>\n",
       "    <tr>\n",
       "      <th>172</th>\n",
       "      <td>244554938</td>\n",
       "      <td>33818982</td>\n",
       "      <td>4.29</td>\n",
       "      <td>7.0</td>\n",
       "      <td>0.0</td>\n",
       "      <td>2019-06</td>\n",
       "      <td>65.0</td>\n",
       "      <td>94.0</td>\n",
       "      <td>2019-06</td>\n",
       "      <td>100.0</td>\n",
       "      <td>...</td>\n",
       "      <td>9.83</td>\n",
       "      <td>6.0</td>\n",
       "      <td>0</td>\n",
       "      <td>0</td>\n",
       "      <td>0</td>\n",
       "      <td>1</td>\n",
       "      <td>0</td>\n",
       "      <td>1</td>\n",
       "      <td>1</td>\n",
       "      <td>0</td>\n",
       "    </tr>\n",
       "  </tbody>\n",
       "</table>\n",
       "<p>122 rows × 21 columns</p>\n",
       "</div>"
      ],
      "text/plain": [
       "     PARTIES_ID  ASSET_ID  ASSETS_REVIEW_PER_MONTH  ASSET_NUMBER_REVIEWS  \\\n",
       "0     217577916  31136615                     4.27                  73.0   \n",
       "1        534213  31709186                     0.67                  11.0   \n",
       "2     176059267  23575414                     7.23                 200.0   \n",
       "3     141648682  31356236                     4.53                  76.0   \n",
       "4       2313061    771343                     5.92                 392.0   \n",
       "..          ...       ...                      ...                   ...   \n",
       "165   235012325  32095892                     4.43                  18.0   \n",
       "166   243718511  32444327                     6.35                  22.0   \n",
       "168   113864545  32735824                     3.40                  11.0   \n",
       "169   222511575  32981093                     1.46                   2.0   \n",
       "172   244554938  33818982                     4.29                   7.0   \n",
       "\n",
       "     ASSET_MITIGATION_COVID DATE_YEAR_MONTH  ASSET_PRICE  \\\n",
       "0                       1.0         2020-06        110.0   \n",
       "1                       1.0         2020-06         75.0   \n",
       "2                       1.0         2020-06        119.0   \n",
       "3                       1.0         2020-06        100.0   \n",
       "4                       1.0         2020-06        119.0   \n",
       "..                      ...             ...          ...   \n",
       "165                     0.0         2019-06         48.0   \n",
       "166                     0.0         2019-06         39.0   \n",
       "168                     0.0         2019-06         57.0   \n",
       "169                     0.0         2019-06         55.0   \n",
       "172                     0.0         2019-06         65.0   \n",
       "\n",
       "     ASSETS_REVIEW_SCORES_RATING TIME_STAMP_MONTH  HOST_RESPONCE_RATE  ...  \\\n",
       "0                           89.0          2020-06                93.0  ...   \n",
       "1                          100.0          2020-06               100.0  ...   \n",
       "2                           97.0          2020-06               100.0  ...   \n",
       "3                           97.0          2020-06               100.0  ...   \n",
       "4                           98.0          2020-06               100.0  ...   \n",
       "..                           ...              ...                 ...  ...   \n",
       "165                        100.0          2019-06               100.0  ...   \n",
       "166                         97.0          2019-06               100.0  ...   \n",
       "168                         95.0          2019-06                96.0  ...   \n",
       "169                         90.0          2019-06               100.0  ...   \n",
       "172                         94.0          2019-06               100.0  ...   \n",
       "\n",
       "     ASSETS_REVIEW_SCORES_AVG  OCCUPANCY  ASSET_LOCATION_amsterdam  \\\n",
       "0                        9.33       23.0                         1   \n",
       "1                        9.83       21.0                         1   \n",
       "2                       10.00       22.0                         1   \n",
       "3                        9.83        2.0                         1   \n",
       "4                        9.83       27.0                         1   \n",
       "..                        ...        ...                       ...   \n",
       "165                      9.83       19.0                         0   \n",
       "166                     10.00       27.0                         0   \n",
       "168                      9.33       17.0                         0   \n",
       "169                      8.67       15.0                         0   \n",
       "172                      9.83        6.0                         0   \n",
       "\n",
       "     ASSET_LOCATION_brussels  ASSET_LOCATION_lisbon  ASSET_LOCATION_madrid  \\\n",
       "0                          0                      0                      0   \n",
       "1                          0                      0                      0   \n",
       "2                          0                      0                      0   \n",
       "3                          0                      0                      0   \n",
       "4                          0                      0                      0   \n",
       "..                       ...                    ...                    ...   \n",
       "165                        0                      1                      0   \n",
       "166                        0                      0                      1   \n",
       "168                        0                      0                      1   \n",
       "169                        0                      0                      1   \n",
       "172                        0                      0                      1   \n",
       "\n",
       "     HOST_RESPONSE_TIME_within a few hours  HOST_RESPONSE_TIME_within an hour  \\\n",
       "0                                        0                                  1   \n",
       "1                                        0                                  1   \n",
       "2                                        0                                  1   \n",
       "3                                        0                                  1   \n",
       "4                                        0                                  1   \n",
       "..                                     ...                                ...   \n",
       "165                                      0                                  1   \n",
       "166                                      0                                  1   \n",
       "168                                      0                                  1   \n",
       "169                                      0                                  1   \n",
       "172                                      0                                  1   \n",
       "\n",
       "     HOST_IS_SUPERHOST_f  HOST_IS_SUPERHOST_t  \n",
       "0                      1                    0  \n",
       "1                      1                    0  \n",
       "2                      0                    1  \n",
       "3                      0                    1  \n",
       "4                      0                    1  \n",
       "..                   ...                  ...  \n",
       "165                    0                    1  \n",
       "166                    1                    0  \n",
       "168                    1                    0  \n",
       "169                    1                    0  \n",
       "172                    1                    0  \n",
       "\n",
       "[122 rows x 21 columns]"
      ]
     },
     "execution_count": 130,
     "metadata": {},
     "output_type": "execute_result"
    }
   ],
   "source": [
    "df_feature"
   ]
  },
  {
   "cell_type": "markdown",
   "metadata": {},
   "source": [
    "#### MODEL"
   ]
  },
  {
   "cell_type": "code",
   "execution_count": 137,
   "metadata": {},
   "outputs": [],
   "source": [
    "#X = df_feature[[c for c in list(df_feature) if c not in [\"PARTIES_ID\", \"ASSET_ID\", \"OCCUPANCY\"]]]\n",
    "X = df_feature[[c for c in list(df_feature) if c not in [\"PARTIES_ID\", \"ASSET_ID\", \"ASSET_PRICE\", \n",
    "                                                         \"TIME_STAMP_MONTH\", 'DATE_YEAR_MONTH']]]\n",
    "#X = df_feature[[c for c in list(df_feature) if c not in [\"PARTIES_ID\", \"ASSET_ID\", \"ASSET_NUMBER_REVIEWS\"]]]"
   ]
  },
  {
   "cell_type": "code",
   "execution_count": 138,
   "metadata": {},
   "outputs": [],
   "source": [
    "#y = df_feature[\"OCCUPANCY\"]\n",
    "y = df_feature[\"ASSET_PRICE\"]\n",
    "#y = df_feature[\"ASSET_NUMBER_REVIEWS\"]"
   ]
  },
  {
   "cell_type": "code",
   "execution_count": 139,
   "metadata": {},
   "outputs": [],
   "source": [
    "X_train, X_test, y_train, y_test = train_test_split(X, y, test_size=0.3, random_state=101)"
   ]
  },
  {
   "cell_type": "code",
   "execution_count": 141,
   "metadata": {},
   "outputs": [],
   "source": [
    "def mape(actual, pred): \n",
    "    actual, pred = np.array(actual), np.array(pred)\n",
    "    return np.mean(np.abs((actual - pred) / actual)) * 100"
   ]
  },
  {
   "cell_type": "markdown",
   "metadata": {},
   "source": [
    "#### Decision Tree Regressor"
   ]
  },
  {
   "cell_type": "code",
   "execution_count": 142,
   "metadata": {},
   "outputs": [
    {
     "data": {
      "text/plain": [
       "DecisionTreeRegressor(max_depth=10, min_samples_leaf=0.05,\n",
       "                      min_samples_split=0.1, random_state=101)"
      ]
     },
     "execution_count": 142,
     "metadata": {},
     "output_type": "execute_result"
    }
   ],
   "source": [
    "model = dtr(max_depth=10, \n",
    "            min_samples_split=0.1, \n",
    "            min_samples_leaf=0.05, \n",
    "            random_state=101)\n",
    "\n",
    "model.fit(X=X_train, y=y_train)"
   ]
  },
  {
   "cell_type": "code",
   "execution_count": 143,
   "metadata": {},
   "outputs": [],
   "source": [
    "pred = model.predict(X_test)"
   ]
  },
  {
   "cell_type": "code",
   "execution_count": 144,
   "metadata": {},
   "outputs": [
    {
     "data": {
      "text/plain": [
       "39.05581041395133"
      ]
     },
     "execution_count": 144,
     "metadata": {},
     "output_type": "execute_result"
    }
   ],
   "source": [
    "mape(pred, y_test.values)"
   ]
  },
  {
   "cell_type": "code",
   "execution_count": 145,
   "metadata": {},
   "outputs": [],
   "source": [
    "importance = model.feature_importances_\n",
    "columns = list(X_train)\n",
    "\n",
    "df_feat_imp = pd.DataFrame({'feature' : columns, 'importance' : importance})\n",
    "df_feat_imp.sort_values(by='importance', ascending = False, inplace=True)"
   ]
  },
  {
   "cell_type": "code",
   "execution_count": 146,
   "metadata": {},
   "outputs": [
    {
     "data": {
      "text/plain": [
       "<AxesSubplot:ylabel='feature'>"
      ]
     },
     "execution_count": 146,
     "metadata": {},
     "output_type": "execute_result"
    },
    {
     "data": {
      "image/png": "[encoded data removed]",
      "text/plain": [
       "<Figure size 720x576 with 1 Axes>"
      ]
     },
     "metadata": {
      "image/png": {
       "height": 465,
       "width": 806
      },
      "needs_background": "light"
     },
     "output_type": "display_data"
    }
   ],
   "source": [
    "df_feat_imp.sort_values(by='importance', ascending = True)\\\n",
    "           .plot.barh(x=\"feature\", y=\"importance\", figsize=(10, 8))"
   ]
  },
  {
   "cell_type": "code",
   "execution_count": 147,
   "metadata": {},
   "outputs": [],
   "source": [
    "df_test = pd.DataFrame({'actual' : y_test.values, 'predicted' : pred})"
   ]
  },
  {
   "cell_type": "code",
   "execution_count": 148,
   "metadata": {},
   "outputs": [
    {
     "data": {
      "text/html": [
       "<div>\n",
       "<style scoped>\n",
       "    .dataframe tbody tr th:only-of-type {\n",
       "        vertical-align: middle;\n",
       "    }\n",
       "\n",
       "    .dataframe tbody tr th {\n",
       "        vertical-align: top;\n",
       "    }\n",
       "\n",
       "    .dataframe thead th {\n",
       "        text-align: right;\n",
       "    }\n",
       "</style>\n",
       "<table border=\"1\" class=\"dataframe\">\n",
       "  <thead>\n",
       "    <tr style=\"text-align: right;\">\n",
       "      <th></th>\n",
       "      <th>actual</th>\n",
       "      <th>predicted</th>\n",
       "    </tr>\n",
       "  </thead>\n",
       "  <tbody>\n",
       "    <tr>\n",
       "      <th>15</th>\n",
       "      <td>25.0</td>\n",
       "      <td>52.666667</td>\n",
       "    </tr>\n",
       "    <tr>\n",
       "      <th>18</th>\n",
       "      <td>31.0</td>\n",
       "      <td>41.400000</td>\n",
       "    </tr>\n",
       "    <tr>\n",
       "      <th>16</th>\n",
       "      <td>39.0</td>\n",
       "      <td>80.666667</td>\n",
       "    </tr>\n",
       "    <tr>\n",
       "      <th>21</th>\n",
       "      <td>45.0</td>\n",
       "      <td>80.666667</td>\n",
       "    </tr>\n",
       "    <tr>\n",
       "      <th>32</th>\n",
       "      <td>45.0</td>\n",
       "      <td>80.666667</td>\n",
       "    </tr>\n",
       "    <tr>\n",
       "      <th>6</th>\n",
       "      <td>50.0</td>\n",
       "      <td>118.000000</td>\n",
       "    </tr>\n",
       "    <tr>\n",
       "      <th>34</th>\n",
       "      <td>50.0</td>\n",
       "      <td>64.000000</td>\n",
       "    </tr>\n",
       "    <tr>\n",
       "      <th>10</th>\n",
       "      <td>50.0</td>\n",
       "      <td>89.800000</td>\n",
       "    </tr>\n",
       "    <tr>\n",
       "      <th>3</th>\n",
       "      <td>56.0</td>\n",
       "      <td>67.200000</td>\n",
       "    </tr>\n",
       "    <tr>\n",
       "      <th>14</th>\n",
       "      <td>56.0</td>\n",
       "      <td>67.200000</td>\n",
       "    </tr>\n",
       "  </tbody>\n",
       "</table>\n",
       "</div>"
      ],
      "text/plain": [
       "    actual   predicted\n",
       "15    25.0   52.666667\n",
       "18    31.0   41.400000\n",
       "16    39.0   80.666667\n",
       "21    45.0   80.666667\n",
       "32    45.0   80.666667\n",
       "6     50.0  118.000000\n",
       "34    50.0   64.000000\n",
       "10    50.0   89.800000\n",
       "3     56.0   67.200000\n",
       "14    56.0   67.200000"
      ]
     },
     "execution_count": 148,
     "metadata": {},
     "output_type": "execute_result"
    }
   ],
   "source": [
    "df_test.sort_values(by='actual').head(10)"
   ]
  },
  {
   "cell_type": "code",
   "execution_count": 149,
   "metadata": {},
   "outputs": [
    {
     "data": {
      "text/plain": [
       "0.13934426229508196"
      ]
     },
     "execution_count": 149,
     "metadata": {},
     "output_type": "execute_result"
    }
   ],
   "source": [
    "df_feature[df_feature.OCCUPANCY < 5].shape[0] / df_feature.shape[0]"
   ]
  },
  {
   "cell_type": "code",
   "execution_count": null,
   "metadata": {},
   "outputs": [],
   "source": []
  },
  {
   "cell_type": "markdown",
   "metadata": {},
   "source": [
    "#### Regression"
   ]
  },
  {
   "cell_type": "code",
   "execution_count": 150,
   "metadata": {},
   "outputs": [],
   "source": [
    "reg = lr().fit(X_train, y_train)"
   ]
  },
  {
   "cell_type": "code",
   "execution_count": 151,
   "metadata": {},
   "outputs": [
    {
     "data": {
      "text/plain": [
       "0.44923491604656685"
      ]
     },
     "execution_count": 151,
     "metadata": {},
     "output_type": "execute_result"
    }
   ],
   "source": [
    "# coefficient of determination R2 of the prediction.\n",
    "reg.score(X_train, y_train)"
   ]
  },
  {
   "cell_type": "code",
   "execution_count": 152,
   "metadata": {},
   "outputs": [
    {
     "data": {
      "text/plain": [
       "array([  3.80913694,  -0.11099744,  -2.62774792,   1.98373992,\n",
       "        -1.86455173,   0.36868953,  36.79293714,  -0.78525792,\n",
       "        32.42148779, -14.36204772,  -0.64246396, -17.41697611,\n",
       "        14.55303959, -14.55303959,  14.41324141, -14.41324141])"
      ]
     },
     "execution_count": 152,
     "metadata": {},
     "output_type": "execute_result"
    }
   ],
   "source": [
    "reg.coef_"
   ]
  },
  {
   "cell_type": "code",
   "execution_count": 153,
   "metadata": {},
   "outputs": [],
   "source": [
    "lr_pred = reg.predict(X_test)"
   ]
  },
  {
   "cell_type": "code",
   "execution_count": 154,
   "metadata": {},
   "outputs": [
    {
     "data": {
      "text/plain": [
       "32.70936524088628"
      ]
     },
     "execution_count": 154,
     "metadata": {},
     "output_type": "execute_result"
    }
   ],
   "source": [
    "mape(lr_pred, y_test.values)"
   ]
  },
  {
   "cell_type": "code",
   "execution_count": 155,
   "metadata": {},
   "outputs": [],
   "source": [
    "df_test_lr = pd.DataFrame({'actual' : y_test.values, 'predicted' : lr_pred})"
   ]
  },
  {
   "cell_type": "code",
   "execution_count": 156,
   "metadata": {},
   "outputs": [
    {
     "data": {
      "text/html": [
       "<div>\n",
       "<style scoped>\n",
       "    .dataframe tbody tr th:only-of-type {\n",
       "        vertical-align: middle;\n",
       "    }\n",
       "\n",
       "    .dataframe tbody tr th {\n",
       "        vertical-align: top;\n",
       "    }\n",
       "\n",
       "    .dataframe thead th {\n",
       "        text-align: right;\n",
       "    }\n",
       "</style>\n",
       "<table border=\"1\" class=\"dataframe\">\n",
       "  <thead>\n",
       "    <tr style=\"text-align: right;\">\n",
       "      <th></th>\n",
       "      <th>actual</th>\n",
       "      <th>predicted</th>\n",
       "    </tr>\n",
       "  </thead>\n",
       "  <tbody>\n",
       "    <tr>\n",
       "      <th>15</th>\n",
       "      <td>25.0</td>\n",
       "      <td>73.060725</td>\n",
       "    </tr>\n",
       "    <tr>\n",
       "      <th>18</th>\n",
       "      <td>31.0</td>\n",
       "      <td>91.870885</td>\n",
       "    </tr>\n",
       "    <tr>\n",
       "      <th>16</th>\n",
       "      <td>39.0</td>\n",
       "      <td>109.789111</td>\n",
       "    </tr>\n",
       "    <tr>\n",
       "      <th>21</th>\n",
       "      <td>45.0</td>\n",
       "      <td>92.251056</td>\n",
       "    </tr>\n",
       "    <tr>\n",
       "      <th>32</th>\n",
       "      <td>45.0</td>\n",
       "      <td>92.725753</td>\n",
       "    </tr>\n",
       "    <tr>\n",
       "      <th>6</th>\n",
       "      <td>50.0</td>\n",
       "      <td>123.997841</td>\n",
       "    </tr>\n",
       "    <tr>\n",
       "      <th>34</th>\n",
       "      <td>50.0</td>\n",
       "      <td>63.688327</td>\n",
       "    </tr>\n",
       "    <tr>\n",
       "      <th>10</th>\n",
       "      <td>50.0</td>\n",
       "      <td>132.161075</td>\n",
       "    </tr>\n",
       "    <tr>\n",
       "      <th>3</th>\n",
       "      <td>56.0</td>\n",
       "      <td>70.251535</td>\n",
       "    </tr>\n",
       "    <tr>\n",
       "      <th>14</th>\n",
       "      <td>56.0</td>\n",
       "      <td>91.545980</td>\n",
       "    </tr>\n",
       "  </tbody>\n",
       "</table>\n",
       "</div>"
      ],
      "text/plain": [
       "    actual   predicted\n",
       "15    25.0   73.060725\n",
       "18    31.0   91.870885\n",
       "16    39.0  109.789111\n",
       "21    45.0   92.251056\n",
       "32    45.0   92.725753\n",
       "6     50.0  123.997841\n",
       "34    50.0   63.688327\n",
       "10    50.0  132.161075\n",
       "3     56.0   70.251535\n",
       "14    56.0   91.545980"
      ]
     },
     "execution_count": 156,
     "metadata": {},
     "output_type": "execute_result"
    }
   ],
   "source": [
    "df_test_lr.sort_values(by='actual').head(10)"
   ]
  }
 ],
 "metadata": {
  "kernelspec": {
   "display_name": "Python 3",
   "language": "python",
   "name": "python3"
  },
  "language_info": {
   "codemirror_mode": {
    "name": "ipython",
    "version": 3
   },
   "file_extension": ".py",
   "mimetype": "text/x-python",
   "name": "python",
   "nbconvert_exporter": "python",
   "pygments_lexer": "ipython3",
   "version": "3.6.12"
  }
 },
 "nbformat": 4,
 "nbformat_minor": 4
}
