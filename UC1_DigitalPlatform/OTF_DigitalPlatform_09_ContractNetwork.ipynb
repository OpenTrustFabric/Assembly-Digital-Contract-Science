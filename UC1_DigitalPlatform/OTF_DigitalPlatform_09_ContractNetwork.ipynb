{
 "cells": [
  {
   "cell_type": "markdown",
   "metadata": {},
   "source": [
    "<img src=\"https://secureservercdn.net/160.153.137.210/86v.eb1.myftpupload.com/wp-content/uploads/2020/09/Logos-3.png?time=1625746717\" align=\"right\" width=\"120\"/>\n",
    "\n",
    "# Open Trust Fabric (OTF)\n",
    "# Digital Platform Use Case\n",
    "# 09-ContractNetwork\n",
    "June 2021\n",
    "\n",
    "Exploring the Airbnb contract network"
   ]
  },
  {
   "cell_type": "markdown",
   "metadata": {},
   "source": [
    "**TODO**: Add a general description of the objectives related to this digital contract science notebook."
   ]
  },
  {
   "cell_type": "markdown",
   "metadata": {},
   "source": [
    "This notebook uses Graphistry for visual network analysis. Follow the instructions in README.md to configure Graphistry."
   ]
  },
  {
   "cell_type": "code",
   "execution_count": 1,
   "metadata": {},
   "outputs": [],
   "source": [
    "import json\n",
    "with open('../config.json') as f:\n",
    "    config = json.load(f)"
   ]
  },
  {
   "cell_type": "markdown",
   "metadata": {},
   "source": [
    "Registering Graphistry:"
   ]
  },
  {
   "cell_type": "code",
   "execution_count": 2,
   "metadata": {},
   "outputs": [],
   "source": [
    "import graphistry\n",
    "graphistry.register(\n",
    "    api=3, protocol=\"https\", server=\"hub.graphistry.com\", \n",
    "    username=config['graphistry_username'], password=config['graphistry_password'])"
   ]
  },
  {
   "cell_type": "code",
   "execution_count": 8,
   "metadata": {},
   "outputs": [],
   "source": [
    "import pandas as pd\n",
    "import networkx as nx"
   ]
  },
  {
   "cell_type": "markdown",
   "metadata": {},
   "source": [
    "Reading the policy network for aggregate data:"
   ]
  },
  {
   "cell_type": "code",
   "execution_count": 4,
   "metadata": {},
   "outputs": [],
   "source": [
    "df = pd.read_csv('data/POLICY_NETWORK.csv.gzip', compression='gzip', low_memory=False)"
   ]
  },
  {
   "cell_type": "code",
   "execution_count": 5,
   "metadata": {},
   "outputs": [
    {
     "data": {
      "text/html": [
       "<div>\n",
       "<style scoped>\n",
       "    .dataframe tbody tr th:only-of-type {\n",
       "        vertical-align: middle;\n",
       "    }\n",
       "\n",
       "    .dataframe tbody tr th {\n",
       "        vertical-align: top;\n",
       "    }\n",
       "\n",
       "    .dataframe thead th {\n",
       "        text-align: right;\n",
       "    }\n",
       "</style>\n",
       "<table border=\"1\" class=\"dataframe\">\n",
       "  <thead>\n",
       "    <tr style=\"text-align: right;\">\n",
       "      <th></th>\n",
       "      <th>MODEL_INSTANCE</th>\n",
       "      <th>TIME_STAMP</th>\n",
       "      <th>PARTIES_PROPOSER_ID</th>\n",
       "      <th>PARTIES_PARTICIPANT_ID</th>\n",
       "      <th>ASSET_ID</th>\n",
       "      <th>ASSET_PRICE</th>\n",
       "      <th>ASSET_MIGRATION</th>\n",
       "      <th>ASSET_LOCATION</th>\n",
       "      <th>ASSETS_REVIEW_SCORES_ACCURACY</th>\n",
       "      <th>ASSET_NUMBER_REVIEWS</th>\n",
       "      <th>ASSET_AVAILABILITY_30</th>\n",
       "      <th>YEAR</th>\n",
       "      <th>MONTH</th>\n",
       "    </tr>\n",
       "  </thead>\n",
       "  <tbody>\n",
       "    <tr>\n",
       "      <th>0</th>\n",
       "      <td>PJNs4Fpyg4</td>\n",
       "      <td>2015-04-10</td>\n",
       "      <td>62142</td>\n",
       "      <td>30537860</td>\n",
       "      <td>15883</td>\n",
       "      <td>NaN</td>\n",
       "      <td>NaN</td>\n",
       "      <td>NaN</td>\n",
       "      <td>NaN</td>\n",
       "      <td>NaN</td>\n",
       "      <td>NaN</td>\n",
       "      <td>2015</td>\n",
       "      <td>4</td>\n",
       "    </tr>\n",
       "    <tr>\n",
       "      <th>1</th>\n",
       "      <td>rGvohKWuaC</td>\n",
       "      <td>2016-06-19</td>\n",
       "      <td>62142</td>\n",
       "      <td>37529754</td>\n",
       "      <td>15883</td>\n",
       "      <td>$85.00</td>\n",
       "      <td>0.0</td>\n",
       "      <td>vienna</td>\n",
       "      <td>10.0</td>\n",
       "      <td>1.0</td>\n",
       "      <td>9.0</td>\n",
       "      <td>2016</td>\n",
       "      <td>6</td>\n",
       "    </tr>\n",
       "    <tr>\n",
       "      <th>2</th>\n",
       "      <td>O1ZE3GDKxL</td>\n",
       "      <td>2016-07-29</td>\n",
       "      <td>62142</td>\n",
       "      <td>3147341</td>\n",
       "      <td>15883</td>\n",
       "      <td>$85.00</td>\n",
       "      <td>0.0</td>\n",
       "      <td>vienna</td>\n",
       "      <td>10.0</td>\n",
       "      <td>2.0</td>\n",
       "      <td>17.0</td>\n",
       "      <td>2016</td>\n",
       "      <td>7</td>\n",
       "    </tr>\n",
       "    <tr>\n",
       "      <th>3</th>\n",
       "      <td>2t2vxoLsH5</td>\n",
       "      <td>2016-08-13</td>\n",
       "      <td>62142</td>\n",
       "      <td>29518067</td>\n",
       "      <td>15883</td>\n",
       "      <td>$85.00</td>\n",
       "      <td>0.0</td>\n",
       "      <td>vienna</td>\n",
       "      <td>9.0</td>\n",
       "      <td>3.0</td>\n",
       "      <td>9.0</td>\n",
       "      <td>2016</td>\n",
       "      <td>8</td>\n",
       "    </tr>\n",
       "    <tr>\n",
       "      <th>4</th>\n",
       "      <td>KBHJiEPuFf</td>\n",
       "      <td>2016-11-21</td>\n",
       "      <td>62142</td>\n",
       "      <td>36016357</td>\n",
       "      <td>15883</td>\n",
       "      <td>$85.00</td>\n",
       "      <td>0.0</td>\n",
       "      <td>vienna</td>\n",
       "      <td>10.0</td>\n",
       "      <td>4.0</td>\n",
       "      <td>9.0</td>\n",
       "      <td>2016</td>\n",
       "      <td>11</td>\n",
       "    </tr>\n",
       "  </tbody>\n",
       "</table>\n",
       "</div>"
      ],
      "text/plain": [
       "  MODEL_INSTANCE  TIME_STAMP  PARTIES_PROPOSER_ID  PARTIES_PARTICIPANT_ID  \\\n",
       "0     PJNs4Fpyg4  2015-04-10                62142                30537860   \n",
       "1     rGvohKWuaC  2016-06-19                62142                37529754   \n",
       "2     O1ZE3GDKxL  2016-07-29                62142                 3147341   \n",
       "3     2t2vxoLsH5  2016-08-13                62142                29518067   \n",
       "4     KBHJiEPuFf  2016-11-21                62142                36016357   \n",
       "\n",
       "   ASSET_ID ASSET_PRICE  ASSET_MIGRATION ASSET_LOCATION  \\\n",
       "0     15883         NaN              NaN            NaN   \n",
       "1     15883      $85.00              0.0         vienna   \n",
       "2     15883      $85.00              0.0         vienna   \n",
       "3     15883      $85.00              0.0         vienna   \n",
       "4     15883      $85.00              0.0         vienna   \n",
       "\n",
       "   ASSETS_REVIEW_SCORES_ACCURACY  ASSET_NUMBER_REVIEWS  ASSET_AVAILABILITY_30  \\\n",
       "0                            NaN                   NaN                    NaN   \n",
       "1                           10.0                   1.0                    9.0   \n",
       "2                           10.0                   2.0                   17.0   \n",
       "3                            9.0                   3.0                    9.0   \n",
       "4                           10.0                   4.0                    9.0   \n",
       "\n",
       "   YEAR  MONTH  \n",
       "0  2015      4  \n",
       "1  2016      6  \n",
       "2  2016      7  \n",
       "3  2016      8  \n",
       "4  2016     11  "
      ]
     },
     "execution_count": 5,
     "metadata": {},
     "output_type": "execute_result"
    }
   ],
   "source": [
    "df.head()"
   ]
  },
  {
   "cell_type": "code",
   "execution_count": 6,
   "metadata": {},
   "outputs": [
    {
     "name": "stdout",
     "output_type": "stream",
     "text": [
      "<class 'pandas.core.frame.DataFrame'>\n",
      "RangeIndex: 6640646 entries, 0 to 6640645\n",
      "Data columns (total 13 columns):\n",
      " #   Column                         Dtype  \n",
      "---  ------                         -----  \n",
      " 0   MODEL_INSTANCE                 object \n",
      " 1   TIME_STAMP                     object \n",
      " 2   PARTIES_PROPOSER_ID            int64  \n",
      " 3   PARTIES_PARTICIPANT_ID         int64  \n",
      " 4   ASSET_ID                       int64  \n",
      " 5   ASSET_PRICE                    object \n",
      " 6   ASSET_MIGRATION                float64\n",
      " 7   ASSET_LOCATION                 object \n",
      " 8   ASSETS_REVIEW_SCORES_ACCURACY  float64\n",
      " 9   ASSET_NUMBER_REVIEWS           float64\n",
      " 10  ASSET_AVAILABILITY_30          float64\n",
      " 11  YEAR                           int64  \n",
      " 12  MONTH                          int64  \n",
      "dtypes: float64(4), int64(5), object(4)\n",
      "memory usage: 658.6+ MB\n"
     ]
    }
   ],
   "source": [
    "df.info()"
   ]
  },
  {
   "cell_type": "markdown",
   "metadata": {},
   "source": [
    "Let's move straight to creating the first network view. Now, social network analysis is very straigthforward--in principle. Here is the famous Karate Club graph in Graphistry:"
   ]
  },
  {
   "cell_type": "code",
   "execution_count": 9,
   "metadata": {},
   "outputs": [
    {
     "data": {
      "text/html": [
       "\n",
       "            <iframe id=\"b60a4b4e-149f-4ca9-8d60-5f02b0efaf26\" src=\"https://hub.graphistry.com/graph/graph.html?dataset=6318054009634f5d9828af5c22cfc09f&type=arrow&viztoken=64ce4fcf-c8b2-41db-8d18-636edaa0847a&usertag=5ea2ab72-pygraphistry-0.18.2&splashAfter=1626762204&info=true\"\n",
       "                    allowfullscreen=\"true\" webkitallowfullscreen=\"true\" mozallowfullscreen=\"true\"\n",
       "                    oallowfullscreen=\"true\" msallowfullscreen=\"true\"\n",
       "                    style=\"width:100%; height:500px; border: 1px solid #DDD; overflow: hidden\">\n",
       "            </iframe>\n",
       "        \n",
       "            <script>\n",
       "                try {\n",
       "                  $(\"#b60a4b4e-149f-4ca9-8d60-5f02b0efaf26\").bind('mousewheel', function(e) { e.preventDefault(); });\n",
       "                } catch (e) { console.error('exn catching scroll', e); }\n",
       "            </script>\n",
       "        "
      ],
      "text/plain": [
       "<IPython.core.display.HTML object>"
      ]
     },
     "execution_count": 9,
     "metadata": {},
     "output_type": "execute_result"
    }
   ],
   "source": [
    "graphistry.bind(source='src', destination='dst', node='nodeid').plot(nx.karate_club_graph())"
   ]
  },
  {
   "cell_type": "markdown",
   "metadata": {},
   "source": [
    "However, as the size of the network increases, things get much more difficult. How large is the network under investigation, then?"
   ]
  },
  {
   "cell_type": "code",
   "execution_count": 10,
   "metadata": {},
   "outputs": [],
   "source": [
    "import networkx as nx\n",
    "G = nx.DiGraph()\n",
    "for edge in df.itertuples():\n",
    "    # print(edge)\n",
    "    s = edge.PARTIES_PROPOSER_ID\n",
    "    t = edge.PARTIES_PARTICIPANT_ID\n",
    "\n",
    "    if G.has_edge(s,t):\n",
    "        G[s][t]['weight'] += 1\n",
    "    else:\n",
    "        G.add_edge(s, t, weight = 1)"
   ]
  },
  {
   "cell_type": "markdown",
   "metadata": {},
   "source": [
    "First, we want to know the size of the network."
   ]
  },
  {
   "cell_type": "code",
   "execution_count": 11,
   "metadata": {},
   "outputs": [
    {
     "data": {
      "text/plain": [
       "'Name: \\nType: DiGraph\\nNumber of nodes: 5402538\\nNumber of edges: 6562837\\nAverage in degree:   1.2148\\nAverage out degree:   1.2148'"
      ]
     },
     "execution_count": 11,
     "metadata": {},
     "output_type": "execute_result"
    }
   ],
   "source": [
    "nx.info(G)"
   ]
  },
  {
   "cell_type": "markdown",
   "metadata": {},
   "source": [
    "It is impossible to visually explore the full network of actors. However, to give a quick demo of Graphistry, let's create a sample of the dataset to create a network visualization."
   ]
  },
  {
   "cell_type": "code",
   "execution_count": 12,
   "metadata": {},
   "outputs": [
    {
     "data": {
      "text/html": [
       "\n",
       "            <iframe id=\"59588602-e7de-40aa-b609-a05e136c45a4\" src=\"https://hub.graphistry.com/graph/graph.html?dataset=938d5d96625040a8a01e17913b255921&type=arrow&viztoken=990f6cc0-3cb8-4756-9bc5-4dfba057c428&usertag=5ea2ab72-pygraphistry-0.18.2&splashAfter=1626762295&info=true\"\n",
       "                    allowfullscreen=\"true\" webkitallowfullscreen=\"true\" mozallowfullscreen=\"true\"\n",
       "                    oallowfullscreen=\"true\" msallowfullscreen=\"true\"\n",
       "                    style=\"width:100%; height:500px; border: 1px solid #DDD; overflow: hidden\">\n",
       "            </iframe>\n",
       "        \n",
       "            <script>\n",
       "                try {\n",
       "                  $(\"#59588602-e7de-40aa-b609-a05e136c45a4\").bind('mousewheel', function(e) { e.preventDefault(); });\n",
       "                } catch (e) { console.error('exn catching scroll', e); }\n",
       "            </script>\n",
       "        "
      ],
      "text/plain": [
       "<IPython.core.display.HTML object>"
      ]
     },
     "execution_count": 12,
     "metadata": {},
     "output_type": "execute_result"
    }
   ],
   "source": [
    "graphistry.bind(\n",
    "        source='PARTIES_PROPOSER_ID', destination='PARTIES_PARTICIPANT_ID'\n",
    "    ).edges(\n",
    "        df.sample(frac=0.001)\n",
    "    ).plot()"
   ]
  },
  {
   "cell_type": "markdown",
   "metadata": {},
   "source": [
    "Calculating PageRank to identify key nodes or supernodes in the network:"
   ]
  },
  {
   "cell_type": "code",
   "execution_count": 13,
   "metadata": {},
   "outputs": [],
   "source": [
    "pr = nx.pagerank(G)\n",
    "# Setting page rank values for nodes\n",
    "nx.set_node_attributes(G, pr, 'pagerank')\n",
    "nx.set_node_attributes(G, values= nx.in_degree_centrality(G), name='indegree')\n",
    "# nx.set_node_attributes(G, values=G.out_degree(), name='outdegree')"
   ]
  },
  {
   "cell_type": "markdown",
   "metadata": {},
   "source": [
    "Creating a data frame for nodes:"
   ]
  },
  {
   "cell_type": "code",
   "execution_count": 14,
   "metadata": {},
   "outputs": [
    {
     "data": {
      "text/html": [
       "<div>\n",
       "<style scoped>\n",
       "    .dataframe tbody tr th:only-of-type {\n",
       "        vertical-align: middle;\n",
       "    }\n",
       "\n",
       "    .dataframe tbody tr th {\n",
       "        vertical-align: top;\n",
       "    }\n",
       "\n",
       "    .dataframe thead th {\n",
       "        text-align: right;\n",
       "    }\n",
       "</style>\n",
       "<table border=\"1\" class=\"dataframe\">\n",
       "  <thead>\n",
       "    <tr style=\"text-align: right;\">\n",
       "      <th></th>\n",
       "      <th>pagerank</th>\n",
       "      <th>indegree</th>\n",
       "      <th>nodeid</th>\n",
       "    </tr>\n",
       "  </thead>\n",
       "  <tbody>\n",
       "    <tr>\n",
       "      <th>115767079</th>\n",
       "      <td>1.053131e-06</td>\n",
       "      <td>0.000025</td>\n",
       "      <td>115767079</td>\n",
       "    </tr>\n",
       "    <tr>\n",
       "      <th>3479650</th>\n",
       "      <td>8.615874e-07</td>\n",
       "      <td>0.000009</td>\n",
       "      <td>3479650</td>\n",
       "    </tr>\n",
       "    <tr>\n",
       "      <th>292913665</th>\n",
       "      <td>7.038633e-07</td>\n",
       "      <td>0.000003</td>\n",
       "      <td>292913665</td>\n",
       "    </tr>\n",
       "    <tr>\n",
       "      <th>20787352</th>\n",
       "      <td>6.799564e-07</td>\n",
       "      <td>0.000004</td>\n",
       "      <td>20787352</td>\n",
       "    </tr>\n",
       "    <tr>\n",
       "      <th>13690581</th>\n",
       "      <td>6.781930e-07</td>\n",
       "      <td>0.000001</td>\n",
       "      <td>13690581</td>\n",
       "    </tr>\n",
       "  </tbody>\n",
       "</table>\n",
       "</div>"
      ],
      "text/plain": [
       "               pagerank  indegree     nodeid\n",
       "115767079  1.053131e-06  0.000025  115767079\n",
       "3479650    8.615874e-07  0.000009    3479650\n",
       "292913665  7.038633e-07  0.000003  292913665\n",
       "20787352   6.799564e-07  0.000004   20787352\n",
       "13690581   6.781930e-07  0.000001   13690581"
      ]
     },
     "execution_count": 14,
     "metadata": {},
     "output_type": "execute_result"
    }
   ],
   "source": [
    "nodes = dict(G.nodes(data=True))\n",
    "\n",
    "df_nodes = pd.DataFrame.from_dict(nodes, orient='index')\n",
    "df_nodes['nodeid'] = nodes.keys()\n",
    "df_nodes = df_nodes.sort_values('pagerank', ascending=False)\n",
    "df_nodes['nodeid'] = df_nodes.nodeid.astype(int)\n",
    "df_nodes.head()"
   ]
  },
  {
   "cell_type": "code",
   "execution_count": 15,
   "metadata": {},
   "outputs": [
    {
     "name": "stdout",
     "output_type": "stream",
     "text": [
      "<class 'pandas.core.frame.DataFrame'>\n",
      "Int64Index: 5402538 entries, 115767079 to 62142\n",
      "Data columns (total 3 columns):\n",
      " #   Column    Dtype  \n",
      "---  ------    -----  \n",
      " 0   pagerank  float64\n",
      " 1   indegree  float64\n",
      " 2   nodeid    int64  \n",
      "dtypes: float64(2), int64(1)\n",
      "memory usage: 164.9 MB\n"
     ]
    }
   ],
   "source": [
    "df_nodes.info()"
   ]
  },
  {
   "cell_type": "code",
   "execution_count": 16,
   "metadata": {},
   "outputs": [
    {
     "data": {
      "text/html": [
       "<div>\n",
       "<style scoped>\n",
       "    .dataframe tbody tr th:only-of-type {\n",
       "        vertical-align: middle;\n",
       "    }\n",
       "\n",
       "    .dataframe tbody tr th {\n",
       "        vertical-align: top;\n",
       "    }\n",
       "\n",
       "    .dataframe thead th {\n",
       "        text-align: right;\n",
       "    }\n",
       "</style>\n",
       "<table border=\"1\" class=\"dataframe\">\n",
       "  <thead>\n",
       "    <tr style=\"text-align: right;\">\n",
       "      <th></th>\n",
       "      <th>pagerank</th>\n",
       "      <th>indegree</th>\n",
       "      <th>nodeid</th>\n",
       "    </tr>\n",
       "  </thead>\n",
       "  <tbody>\n",
       "    <tr>\n",
       "      <th>115767079</th>\n",
       "      <td>1.053131e-06</td>\n",
       "      <td>0.000025</td>\n",
       "      <td>115767079</td>\n",
       "    </tr>\n",
       "    <tr>\n",
       "      <th>3479650</th>\n",
       "      <td>8.615874e-07</td>\n",
       "      <td>0.000009</td>\n",
       "      <td>3479650</td>\n",
       "    </tr>\n",
       "    <tr>\n",
       "      <th>292913665</th>\n",
       "      <td>7.038633e-07</td>\n",
       "      <td>0.000003</td>\n",
       "      <td>292913665</td>\n",
       "    </tr>\n",
       "    <tr>\n",
       "      <th>20787352</th>\n",
       "      <td>6.799564e-07</td>\n",
       "      <td>0.000004</td>\n",
       "      <td>20787352</td>\n",
       "    </tr>\n",
       "    <tr>\n",
       "      <th>13690581</th>\n",
       "      <td>6.781930e-07</td>\n",
       "      <td>0.000001</td>\n",
       "      <td>13690581</td>\n",
       "    </tr>\n",
       "  </tbody>\n",
       "</table>\n",
       "</div>"
      ],
      "text/plain": [
       "               pagerank  indegree     nodeid\n",
       "115767079  1.053131e-06  0.000025  115767079\n",
       "3479650    8.615874e-07  0.000009    3479650\n",
       "292913665  7.038633e-07  0.000003  292913665\n",
       "20787352   6.799564e-07  0.000004   20787352\n",
       "13690581   6.781930e-07  0.000001   13690581"
      ]
     },
     "execution_count": 16,
     "metadata": {},
     "output_type": "execute_result"
    }
   ],
   "source": [
    "df_nodes.head()"
   ]
  },
  {
   "cell_type": "code",
   "execution_count": 17,
   "metadata": {},
   "outputs": [
    {
     "data": {
      "text/plain": [
       "115767079"
      ]
     },
     "execution_count": 17,
     "metadata": {},
     "output_type": "execute_result"
    }
   ],
   "source": [
    "# Exploring the top node according to PageRank\n",
    "\n",
    "top_pr = df_nodes.sort_values('pagerank', ascending=False).iloc[0]\n",
    "int(top_pr.nodeid)"
   ]
  },
  {
   "cell_type": "code",
   "execution_count": 18,
   "metadata": {},
   "outputs": [],
   "source": [
    "ego_g = nx.ego_graph(G, int(top_pr.nodeid), radius=2, undirected=True)"
   ]
  },
  {
   "cell_type": "markdown",
   "metadata": {},
   "source": [
    "We found inspiration from a demonstration on [Exploring €1.3 trillion in public contracts with graph visualization](https://linkurio.us/blog/exploring-e1-3-trillion-in-public-contracts-with-graph-visualization/) that draws data on European Union contracts and uses a graph database Neo4j and a commercial graph analysis tool Linkurious to explore the contract ecosystem.\n",
    " \n",
    "However, our existing analytical infrastructure does not merit similar dynamic and interactive analysis.  \n",
    " \n",
    "Demonstracting an alternative tool for egocentric network exloration:"
   ]
  },
  {
   "cell_type": "code",
   "execution_count": 20,
   "metadata": {},
   "outputs": [],
   "source": [
    "import ipycytoscape\n",
    "import ipywidgets as widgets\n",
    "# import networkx as nx\n"
   ]
  },
  {
   "cell_type": "code",
   "execution_count": null,
   "metadata": {},
   "outputs": [],
   "source": [
    "directed = ipycytoscape.CytoscapeWidget()\n",
    "directed.graph.add_graph_from_networkx(ego_g, directed=True)\n",
    "# directed.set_layout(name='grid')\n",
    "display(directed)"
   ]
  },
  {
   "cell_type": "code",
   "execution_count": null,
   "metadata": {},
   "outputs": [],
   "source": [
    "graphistry.bind(source='src', destination='dst', node='nodeid').plot(ego_g)"
   ]
  },
  {
   "cell_type": "markdown",
   "metadata": {},
   "source": [
    "## Moving forward"
   ]
  },
  {
   "cell_type": "markdown",
   "metadata": {},
   "source": [
    "To move forward with full contract analysis, we would aggregate the value that each actor has accumulated to create a list of top hosts to explore their potential interconnections.\n",
    "\n",
    "1. reading the policy network, \n",
    "1. join with events and assets table\n",
    "1. clean price data (to euros), and  \n",
    "1. multiply price with occupancy. "
   ]
  },
  {
   "cell_type": "markdown",
   "metadata": {},
   "source": [
    "As the first step, we would need to clean price data before calculating the total value of each host. Perhaps we should clean the price data upstream to avoid this phase?"
   ]
  },
  {
   "cell_type": "code",
   "execution_count": null,
   "metadata": {},
   "outputs": [],
   "source": [
    "# ASSET_PRICE\n",
    "def fix_price (value):\n",
    "    try:\n",
    "        value = value.replace(\"$\", '').replace(\",\", '')\n",
    "        value = float(value)\n",
    "        return value\n",
    "    except: return np.nan  \n",
    "\n",
    "df['ASSET_PRICE'] = df['ASSET_PRICE'].apply(lambda x : fix_price(x))\n",
    "\n",
    "# We clean the way price is reported removing special values"
   ]
  }
 ],
 "metadata": {
  "kernelspec": {
   "display_name": "Python 3 (ipykernel)",
   "language": "python",
   "name": "python3"
  },
  "language_info": {
   "codemirror_mode": {
    "name": "ipython",
    "version": 3
   },
   "file_extension": ".py",
   "mimetype": "text/x-python",
   "name": "python",
   "nbconvert_exporter": "python",
   "pygments_lexer": "ipython3",
   "version": "3.8.5"
  }
 },
 "nbformat": 4,
 "nbformat_minor": 4
}
