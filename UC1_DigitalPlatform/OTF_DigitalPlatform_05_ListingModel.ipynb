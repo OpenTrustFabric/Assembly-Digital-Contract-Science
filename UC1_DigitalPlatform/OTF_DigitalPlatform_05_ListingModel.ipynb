{
 "cells": [
  {
   "cell_type": "markdown",
   "metadata": {},
   "source": [
    "# Open Trust Fabric (OTF)\n",
    "# Digital Platform Use Case\n",
    "# 05- Listing Model\n",
    "June 2021"
   ]
  },
  {
   "cell_type": "markdown",
   "metadata": {},
   "source": [
    "# Description\n",
    "\n",
    "This notebook provides a first model of indinvidual listings to identify the key featurs associated with asset price. The purpose of this model is to identify which features are actually influencing asset prices in digital platform contracts."
   ]
  },
  {
   "cell_type": "code",
   "execution_count": 1,
   "metadata": {},
   "outputs": [],
   "source": [
    "import pandas as pd\n",
    "import numpy as np\n",
    "import os\n",
    "import gzip\n",
    "from functools import reduce\n",
    "\n",
    "import warnings\n",
    "warnings.filterwarnings(\"ignore\")\n",
    "\n",
    "import matplotlib.pyplot as plt\n",
    "%matplotlib inline\n",
    "\n",
    "from IPython.display import set_matplotlib_formats\n",
    "set_matplotlib_formats('retina')\n",
    "\n",
    "from sklearn.model_selection import train_test_split\n",
    "from sklearn.tree import DecisionTreeRegressor as dtr\n",
    "from sklearn.linear_model import LinearRegression as lr"
   ]
  },
  {
   "cell_type": "code",
   "execution_count": 2,
   "metadata": {},
   "outputs": [],
   "source": [
    "data_path = '../../../ecme/UC1: Digital Platform/Data/'"
   ]
  },
  {
   "cell_type": "code",
   "execution_count": 3,
   "metadata": {},
   "outputs": [
    {
     "data": {
      "text/plain": [
       "['POLICY_NETWORK.csv.gzip',\n",
       " 'Reviews_historical.csv.gzip',\n",
       " 'PARTIES_DOMAIN_FEATURE.csv.gzip',\n",
       " 'CONTRACT_PARTIES.csv.gzip',\n",
       " 'total_reviews.csv',\n",
       " 'CONTRACT_EVENTS.csv.gzip',\n",
       " 'EVENTS_DOMAIN_FEATURE.csv.gzip',\n",
       " 'total_listings.csv',\n",
       " 'ASSETS_DOMAIN_FEATURE.csv.gzip',\n",
       " 'Listing_historical.csv.gzip',\n",
       " 'capitals.csv',\n",
       " 'CONTRACT_ASSET.csv.gzip']"
      ]
     },
     "execution_count": 3,
     "metadata": {},
     "output_type": "execute_result"
    }
   ],
   "source": [
    "os.listdir(data_path)"
   ]
  },
  {
   "cell_type": "code",
   "execution_count": 4,
   "metadata": {},
   "outputs": [],
   "source": [
    "with gzip.open(data_path + 'ASSETS_DOMAIN_FEATURE.csv.gzip') as file_in:\n",
    "    df_asset = pd.read_csv(file_in, low_memory=False)"
   ]
  },
  {
   "cell_type": "code",
   "execution_count": 5,
   "metadata": {},
   "outputs": [
    {
     "data": {
      "text/plain": [
       "Index(['MODEL_INSTANCE', 'PARTIES_ID', 'ASSET_ID', 'DATE_YEAR_MONTH',\n",
       "       'ASSETS_NAME', 'ASSETS_TYPE', 'ASSETS_DESCRIPTION',\n",
       "       'ASSETS_HOST_NEIGHBOURHOOD', 'ASSETS_NEIGHBORHOOD_OVERVIEW',\n",
       "       'ASSETS_LATITUDE', 'ASSETS_LONGITUDE', 'ASSETS_PROPERTY_TYPE',\n",
       "       'ASSETS_ROOM_TYPE', 'ASSETS_BEDROOMS', 'ASSETS_RETING_PRICE',\n",
       "       'ASSETS_REQUIRES_LICENS', 'ASSETS_REVIEW_SCORES_ACCURACY',\n",
       "       'ASSETS_REVIEW_SCORES_CHECKIN', 'ASSETS_REVIEW_SCORES_CLEANLINESS',\n",
       "       'ASSETS_REVIEW_SCORES_COMMUNICATION', 'ASSETS_REVIEW_SCORES_LOCATION',\n",
       "       'ASSETS_REVIEW_SCORES_RATING', 'ASSETS_REVIEW_SCORES_VALUE',\n",
       "       'ASSETS_REVIEW_PER_MONTH', 'PARTIES_ID_y', 'TIME_STAMP',\n",
       "       'ASSET_MIGRATION', 'ASSET_LOCATION', 'ASSET_NUMBER_REVIEWS',\n",
       "       'ASSET_PRICE', 'ASSET_AVAILABILITY_30'],\n",
       "      dtype='object')"
      ]
     },
     "execution_count": 5,
     "metadata": {},
     "output_type": "execute_result"
    }
   ],
   "source": [
    "df_asset.columns"
   ]
  },
  {
   "cell_type": "code",
   "execution_count": 6,
   "metadata": {},
   "outputs": [],
   "source": [
    "df_asset.rename(columns={'ASSET_MIGRATION' :'ASSET_MITIGATION_COVID'}, inplace=True)"
   ]
  },
  {
   "cell_type": "code",
   "execution_count": 7,
   "metadata": {},
   "outputs": [
    {
     "data": {
      "text/html": [
       "<div>\n",
       "<style scoped>\n",
       "    .dataframe tbody tr th:only-of-type {\n",
       "        vertical-align: middle;\n",
       "    }\n",
       "\n",
       "    .dataframe tbody tr th {\n",
       "        vertical-align: top;\n",
       "    }\n",
       "\n",
       "    .dataframe thead th {\n",
       "        text-align: right;\n",
       "    }\n",
       "</style>\n",
       "<table border=\"1\" class=\"dataframe\">\n",
       "  <thead>\n",
       "    <tr style=\"text-align: right;\">\n",
       "      <th></th>\n",
       "      <th>MODEL_INSTANCE</th>\n",
       "      <th>PARTIES_ID</th>\n",
       "      <th>ASSET_ID</th>\n",
       "      <th>DATE_YEAR_MONTH</th>\n",
       "      <th>ASSETS_NAME</th>\n",
       "      <th>ASSETS_TYPE</th>\n",
       "      <th>ASSETS_DESCRIPTION</th>\n",
       "      <th>ASSETS_HOST_NEIGHBOURHOOD</th>\n",
       "      <th>ASSETS_NEIGHBORHOOD_OVERVIEW</th>\n",
       "      <th>ASSETS_LATITUDE</th>\n",
       "      <th>...</th>\n",
       "      <th>ASSETS_REVIEW_SCORES_RATING</th>\n",
       "      <th>ASSETS_REVIEW_SCORES_VALUE</th>\n",
       "      <th>ASSETS_REVIEW_PER_MONTH</th>\n",
       "      <th>PARTIES_ID_y</th>\n",
       "      <th>TIME_STAMP</th>\n",
       "      <th>ASSET_MITIGATION_COVID</th>\n",
       "      <th>ASSET_LOCATION</th>\n",
       "      <th>ASSET_NUMBER_REVIEWS</th>\n",
       "      <th>ASSET_PRICE</th>\n",
       "      <th>ASSET_AVAILABILITY_30</th>\n",
       "    </tr>\n",
       "  </thead>\n",
       "  <tbody>\n",
       "    <tr>\n",
       "      <th>0</th>\n",
       "      <td>PJNs4Fpyg4</td>\n",
       "      <td>62142</td>\n",
       "      <td>15883</td>\n",
       "      <td>2015-04</td>\n",
       "      <td>NaN</td>\n",
       "      <td>NaN</td>\n",
       "      <td>NaN</td>\n",
       "      <td>NaN</td>\n",
       "      <td>NaN</td>\n",
       "      <td>NaN</td>\n",
       "      <td>...</td>\n",
       "      <td>NaN</td>\n",
       "      <td>NaN</td>\n",
       "      <td>NaN</td>\n",
       "      <td>NaN</td>\n",
       "      <td>NaN</td>\n",
       "      <td>NaN</td>\n",
       "      <td>NaN</td>\n",
       "      <td>NaN</td>\n",
       "      <td>NaN</td>\n",
       "      <td>NaN</td>\n",
       "    </tr>\n",
       "    <tr>\n",
       "      <th>1</th>\n",
       "      <td>rGvohKWuaC</td>\n",
       "      <td>62142</td>\n",
       "      <td>15883</td>\n",
       "      <td>2016-06</td>\n",
       "      <td>Eva</td>\n",
       "      <td>Real Bed</td>\n",
       "      <td>Four rooms, each one differently and individua...</td>\n",
       "      <td>Donaustadt</td>\n",
       "      <td>small and personal Four rooms at this B&amp;B, eac...</td>\n",
       "      <td>48.241436</td>\n",
       "      <td>...</td>\n",
       "      <td>100.0</td>\n",
       "      <td>10.0</td>\n",
       "      <td>0.07</td>\n",
       "      <td>62142.0</td>\n",
       "      <td>2016-06-04</td>\n",
       "      <td>0.0</td>\n",
       "      <td>vienna</td>\n",
       "      <td>1.0</td>\n",
       "      <td>$85.00</td>\n",
       "      <td>9.0</td>\n",
       "    </tr>\n",
       "    <tr>\n",
       "      <th>2</th>\n",
       "      <td>O1ZE3GDKxL</td>\n",
       "      <td>62142</td>\n",
       "      <td>15883</td>\n",
       "      <td>2016-07</td>\n",
       "      <td>Eva</td>\n",
       "      <td>Real Bed</td>\n",
       "      <td>Four rooms, each one differently and individua...</td>\n",
       "      <td>Donaustadt</td>\n",
       "      <td>small and personal Four rooms at this B&amp;B, eac...</td>\n",
       "      <td>48.241436</td>\n",
       "      <td>...</td>\n",
       "      <td>100.0</td>\n",
       "      <td>10.0</td>\n",
       "      <td>0.13</td>\n",
       "      <td>62142.0</td>\n",
       "      <td>2016-07-06</td>\n",
       "      <td>0.0</td>\n",
       "      <td>vienna</td>\n",
       "      <td>2.0</td>\n",
       "      <td>$85.00</td>\n",
       "      <td>17.0</td>\n",
       "    </tr>\n",
       "    <tr>\n",
       "      <th>3</th>\n",
       "      <td>2t2vxoLsH5</td>\n",
       "      <td>62142</td>\n",
       "      <td>15883</td>\n",
       "      <td>2016-08</td>\n",
       "      <td>Eva</td>\n",
       "      <td>Real Bed</td>\n",
       "      <td>Four rooms, each one differently and individua...</td>\n",
       "      <td>Donaustadt</td>\n",
       "      <td>small and personal Four rooms at this B&amp;B, eac...</td>\n",
       "      <td>48.241436</td>\n",
       "      <td>...</td>\n",
       "      <td>93.0</td>\n",
       "      <td>9.0</td>\n",
       "      <td>0.19</td>\n",
       "      <td>62142.0</td>\n",
       "      <td>2016-08-05</td>\n",
       "      <td>0.0</td>\n",
       "      <td>vienna</td>\n",
       "      <td>3.0</td>\n",
       "      <td>$85.00</td>\n",
       "      <td>9.0</td>\n",
       "    </tr>\n",
       "    <tr>\n",
       "      <th>4</th>\n",
       "      <td>KBHJiEPuFf</td>\n",
       "      <td>62142</td>\n",
       "      <td>15883</td>\n",
       "      <td>2016-11</td>\n",
       "      <td>Eva</td>\n",
       "      <td>Real Bed</td>\n",
       "      <td>Four rooms, each one differently and individua...</td>\n",
       "      <td>Donaustadt</td>\n",
       "      <td>small and personal Four rooms at this B&amp;B, eac...</td>\n",
       "      <td>48.241436</td>\n",
       "      <td>...</td>\n",
       "      <td>90.0</td>\n",
       "      <td>9.0</td>\n",
       "      <td>0.21</td>\n",
       "      <td>62142.0</td>\n",
       "      <td>2016-11-09</td>\n",
       "      <td>0.0</td>\n",
       "      <td>vienna</td>\n",
       "      <td>4.0</td>\n",
       "      <td>$85.00</td>\n",
       "      <td>9.0</td>\n",
       "    </tr>\n",
       "  </tbody>\n",
       "</table>\n",
       "<p>5 rows × 31 columns</p>\n",
       "</div>"
      ],
      "text/plain": [
       "  MODEL_INSTANCE  PARTIES_ID  ASSET_ID DATE_YEAR_MONTH ASSETS_NAME  \\\n",
       "0     PJNs4Fpyg4       62142     15883         2015-04         NaN   \n",
       "1     rGvohKWuaC       62142     15883         2016-06         Eva   \n",
       "2     O1ZE3GDKxL       62142     15883         2016-07         Eva   \n",
       "3     2t2vxoLsH5       62142     15883         2016-08         Eva   \n",
       "4     KBHJiEPuFf       62142     15883         2016-11         Eva   \n",
       "\n",
       "  ASSETS_TYPE                                 ASSETS_DESCRIPTION  \\\n",
       "0         NaN                                                NaN   \n",
       "1    Real Bed  Four rooms, each one differently and individua...   \n",
       "2    Real Bed  Four rooms, each one differently and individua...   \n",
       "3    Real Bed  Four rooms, each one differently and individua...   \n",
       "4    Real Bed  Four rooms, each one differently and individua...   \n",
       "\n",
       "  ASSETS_HOST_NEIGHBOURHOOD  \\\n",
       "0                       NaN   \n",
       "1                Donaustadt   \n",
       "2                Donaustadt   \n",
       "3                Donaustadt   \n",
       "4                Donaustadt   \n",
       "\n",
       "                        ASSETS_NEIGHBORHOOD_OVERVIEW  ASSETS_LATITUDE  ...  \\\n",
       "0                                                NaN              NaN  ...   \n",
       "1  small and personal Four rooms at this B&B, eac...        48.241436  ...   \n",
       "2  small and personal Four rooms at this B&B, eac...        48.241436  ...   \n",
       "3  small and personal Four rooms at this B&B, eac...        48.241436  ...   \n",
       "4  small and personal Four rooms at this B&B, eac...        48.241436  ...   \n",
       "\n",
       "   ASSETS_REVIEW_SCORES_RATING ASSETS_REVIEW_SCORES_VALUE  \\\n",
       "0                          NaN                        NaN   \n",
       "1                        100.0                       10.0   \n",
       "2                        100.0                       10.0   \n",
       "3                         93.0                        9.0   \n",
       "4                         90.0                        9.0   \n",
       "\n",
       "  ASSETS_REVIEW_PER_MONTH  PARTIES_ID_y  TIME_STAMP ASSET_MITIGATION_COVID  \\\n",
       "0                     NaN           NaN         NaN                    NaN   \n",
       "1                    0.07       62142.0  2016-06-04                    0.0   \n",
       "2                    0.13       62142.0  2016-07-06                    0.0   \n",
       "3                    0.19       62142.0  2016-08-05                    0.0   \n",
       "4                    0.21       62142.0  2016-11-09                    0.0   \n",
       "\n",
       "   ASSET_LOCATION  ASSET_NUMBER_REVIEWS  ASSET_PRICE  ASSET_AVAILABILITY_30  \n",
       "0             NaN                   NaN          NaN                    NaN  \n",
       "1          vienna                   1.0       $85.00                    9.0  \n",
       "2          vienna                   2.0       $85.00                   17.0  \n",
       "3          vienna                   3.0       $85.00                    9.0  \n",
       "4          vienna                   4.0       $85.00                    9.0  \n",
       "\n",
       "[5 rows x 31 columns]"
      ]
     },
     "execution_count": 7,
     "metadata": {},
     "output_type": "execute_result"
    }
   ],
   "source": [
    "df_asset.head()"
   ]
  },
  {
   "cell_type": "code",
   "execution_count": null,
   "metadata": {},
   "outputs": [],
   "source": []
  },
  {
   "cell_type": "code",
   "execution_count": 8,
   "metadata": {},
   "outputs": [],
   "source": [
    "df_count = pd.pivot_table(data=df_asset,\n",
    "                          index=\"DATE_YEAR_MONTH\",\n",
    "                          columns=\"ASSET_LOCATION\",\n",
    "                          values=\"MODEL_INSTANCE\",\n",
    "                          aggfunc='count')"
   ]
  },
  {
   "cell_type": "code",
   "execution_count": 9,
   "metadata": {},
   "outputs": [],
   "source": [
    "df_count['full_count'] = df_count.apply(lambda x: x.count(), axis=1)"
   ]
  },
  {
   "cell_type": "code",
   "execution_count": 10,
   "metadata": {},
   "outputs": [
    {
     "data": {
      "text/html": [
       "<div>\n",
       "<style scoped>\n",
       "    .dataframe tbody tr th:only-of-type {\n",
       "        vertical-align: middle;\n",
       "    }\n",
       "\n",
       "    .dataframe tbody tr th {\n",
       "        vertical-align: top;\n",
       "    }\n",
       "\n",
       "    .dataframe thead th {\n",
       "        text-align: right;\n",
       "    }\n",
       "</style>\n",
       "<table border=\"1\" class=\"dataframe\">\n",
       "  <thead>\n",
       "    <tr style=\"text-align: right;\">\n",
       "      <th>ASSET_LOCATION</th>\n",
       "      <th>amsterdam</th>\n",
       "      <th>athens</th>\n",
       "      <th>brussels</th>\n",
       "      <th>copenhagen</th>\n",
       "      <th>dublin</th>\n",
       "      <th>lisbon</th>\n",
       "      <th>madrid</th>\n",
       "      <th>prague</th>\n",
       "      <th>rome</th>\n",
       "      <th>stockholm</th>\n",
       "      <th>vienna</th>\n",
       "      <th>full_count</th>\n",
       "    </tr>\n",
       "    <tr>\n",
       "      <th>DATE_YEAR_MONTH</th>\n",
       "      <th></th>\n",
       "      <th></th>\n",
       "      <th></th>\n",
       "      <th></th>\n",
       "      <th></th>\n",
       "      <th></th>\n",
       "      <th></th>\n",
       "      <th></th>\n",
       "      <th></th>\n",
       "      <th></th>\n",
       "      <th></th>\n",
       "      <th></th>\n",
       "    </tr>\n",
       "  </thead>\n",
       "  <tbody>\n",
       "    <tr>\n",
       "      <th>2019-10</th>\n",
       "      <td>NaN</td>\n",
       "      <td>NaN</td>\n",
       "      <td>4218.0</td>\n",
       "      <td>1988.0</td>\n",
       "      <td>NaN</td>\n",
       "      <td>16187.0</td>\n",
       "      <td>NaN</td>\n",
       "      <td>8841.0</td>\n",
       "      <td>7.0</td>\n",
       "      <td>NaN</td>\n",
       "      <td>NaN</td>\n",
       "      <td>5</td>\n",
       "    </tr>\n",
       "    <tr>\n",
       "      <th>2019-11</th>\n",
       "      <td>NaN</td>\n",
       "      <td>6587.0</td>\n",
       "      <td>3809.0</td>\n",
       "      <td>1657.0</td>\n",
       "      <td>2765.0</td>\n",
       "      <td>11603.0</td>\n",
       "      <td>13569.0</td>\n",
       "      <td>6750.0</td>\n",
       "      <td>NaN</td>\n",
       "      <td>NaN</td>\n",
       "      <td>NaN</td>\n",
       "      <td>7</td>\n",
       "    </tr>\n",
       "    <tr>\n",
       "      <th>2019-12</th>\n",
       "      <td>NaN</td>\n",
       "      <td>5298.0</td>\n",
       "      <td>NaN</td>\n",
       "      <td>2026.0</td>\n",
       "      <td>2334.0</td>\n",
       "      <td>NaN</td>\n",
       "      <td>12951.0</td>\n",
       "      <td>2092.0</td>\n",
       "      <td>NaN</td>\n",
       "      <td>NaN</td>\n",
       "      <td>9180.0</td>\n",
       "      <td>6</td>\n",
       "    </tr>\n",
       "    <tr>\n",
       "      <th>2020-01</th>\n",
       "      <td>NaN</td>\n",
       "      <td>5599.0</td>\n",
       "      <td>3378.0</td>\n",
       "      <td>1625.0</td>\n",
       "      <td>NaN</td>\n",
       "      <td>NaN</td>\n",
       "      <td>12122.0</td>\n",
       "      <td>4769.0</td>\n",
       "      <td>NaN</td>\n",
       "      <td>NaN</td>\n",
       "      <td>6490.0</td>\n",
       "      <td>6</td>\n",
       "    </tr>\n",
       "    <tr>\n",
       "      <th>2020-02</th>\n",
       "      <td>NaN</td>\n",
       "      <td>5788.0</td>\n",
       "      <td>3756.0</td>\n",
       "      <td>1644.0</td>\n",
       "      <td>NaN</td>\n",
       "      <td>9923.0</td>\n",
       "      <td>12732.0</td>\n",
       "      <td>NaN</td>\n",
       "      <td>NaN</td>\n",
       "      <td>NaN</td>\n",
       "      <td>5887.0</td>\n",
       "      <td>6</td>\n",
       "    </tr>\n",
       "    <tr>\n",
       "      <th>2020-03</th>\n",
       "      <td>NaN</td>\n",
       "      <td>3533.0</td>\n",
       "      <td>1794.0</td>\n",
       "      <td>888.0</td>\n",
       "      <td>NaN</td>\n",
       "      <td>NaN</td>\n",
       "      <td>6647.0</td>\n",
       "      <td>3310.0</td>\n",
       "      <td>NaN</td>\n",
       "      <td>NaN</td>\n",
       "      <td>3010.0</td>\n",
       "      <td>6</td>\n",
       "    </tr>\n",
       "    <tr>\n",
       "      <th>2020-04</th>\n",
       "      <td>NaN</td>\n",
       "      <td>358.0</td>\n",
       "      <td>153.0</td>\n",
       "      <td>NaN</td>\n",
       "      <td>NaN</td>\n",
       "      <td>NaN</td>\n",
       "      <td>270.0</td>\n",
       "      <td>27.0</td>\n",
       "      <td>NaN</td>\n",
       "      <td>NaN</td>\n",
       "      <td>221.0</td>\n",
       "      <td>5</td>\n",
       "    </tr>\n",
       "    <tr>\n",
       "      <th>2020-05</th>\n",
       "      <td>233.0</td>\n",
       "      <td>NaN</td>\n",
       "      <td>245.0</td>\n",
       "      <td>NaN</td>\n",
       "      <td>215.0</td>\n",
       "      <td>91.0</td>\n",
       "      <td>563.0</td>\n",
       "      <td>280.0</td>\n",
       "      <td>NaN</td>\n",
       "      <td>NaN</td>\n",
       "      <td>427.0</td>\n",
       "      <td>7</td>\n",
       "    </tr>\n",
       "    <tr>\n",
       "      <th>2020-06</th>\n",
       "      <td>897.0</td>\n",
       "      <td>NaN</td>\n",
       "      <td>738.0</td>\n",
       "      <td>202.0</td>\n",
       "      <td>7.0</td>\n",
       "      <td>848.0</td>\n",
       "      <td>1209.0</td>\n",
       "      <td>NaN</td>\n",
       "      <td>NaN</td>\n",
       "      <td>NaN</td>\n",
       "      <td>1270.0</td>\n",
       "      <td>7</td>\n",
       "    </tr>\n",
       "    <tr>\n",
       "      <th>2020-07</th>\n",
       "      <td>2381.0</td>\n",
       "      <td>NaN</td>\n",
       "      <td>NaN</td>\n",
       "      <td>NaN</td>\n",
       "      <td>NaN</td>\n",
       "      <td>NaN</td>\n",
       "      <td>NaN</td>\n",
       "      <td>NaN</td>\n",
       "      <td>NaN</td>\n",
       "      <td>NaN</td>\n",
       "      <td>NaN</td>\n",
       "      <td>1</td>\n",
       "    </tr>\n",
       "  </tbody>\n",
       "</table>\n",
       "</div>"
      ],
      "text/plain": [
       "ASSET_LOCATION   amsterdam  athens  brussels  copenhagen  dublin   lisbon  \\\n",
       "DATE_YEAR_MONTH                                                             \n",
       "2019-10                NaN     NaN    4218.0      1988.0     NaN  16187.0   \n",
       "2019-11                NaN  6587.0    3809.0      1657.0  2765.0  11603.0   \n",
       "2019-12                NaN  5298.0       NaN      2026.0  2334.0      NaN   \n",
       "2020-01                NaN  5599.0    3378.0      1625.0     NaN      NaN   \n",
       "2020-02                NaN  5788.0    3756.0      1644.0     NaN   9923.0   \n",
       "2020-03                NaN  3533.0    1794.0       888.0     NaN      NaN   \n",
       "2020-04                NaN   358.0     153.0         NaN     NaN      NaN   \n",
       "2020-05              233.0     NaN     245.0         NaN   215.0     91.0   \n",
       "2020-06              897.0     NaN     738.0       202.0     7.0    848.0   \n",
       "2020-07             2381.0     NaN       NaN         NaN     NaN      NaN   \n",
       "\n",
       "ASSET_LOCATION    madrid  prague  rome  stockholm  vienna  full_count  \n",
       "DATE_YEAR_MONTH                                                        \n",
       "2019-10              NaN  8841.0   7.0        NaN     NaN           5  \n",
       "2019-11          13569.0  6750.0   NaN        NaN     NaN           7  \n",
       "2019-12          12951.0  2092.0   NaN        NaN  9180.0           6  \n",
       "2020-01          12122.0  4769.0   NaN        NaN  6490.0           6  \n",
       "2020-02          12732.0     NaN   NaN        NaN  5887.0           6  \n",
       "2020-03           6647.0  3310.0   NaN        NaN  3010.0           6  \n",
       "2020-04            270.0    27.0   NaN        NaN   221.0           5  \n",
       "2020-05            563.0   280.0   NaN        NaN   427.0           7  \n",
       "2020-06           1209.0     NaN   NaN        NaN  1270.0           7  \n",
       "2020-07              NaN     NaN   NaN        NaN     NaN           1  "
      ]
     },
     "execution_count": 10,
     "metadata": {},
     "output_type": "execute_result"
    }
   ],
   "source": [
    "df_count.tail(10)"
   ]
  },
  {
   "cell_type": "code",
   "execution_count": 11,
   "metadata": {},
   "outputs": [
    {
     "data": {
      "text/html": [
       "<div>\n",
       "<style scoped>\n",
       "    .dataframe tbody tr th:only-of-type {\n",
       "        vertical-align: middle;\n",
       "    }\n",
       "\n",
       "    .dataframe tbody tr th {\n",
       "        vertical-align: top;\n",
       "    }\n",
       "\n",
       "    .dataframe thead th {\n",
       "        text-align: right;\n",
       "    }\n",
       "</style>\n",
       "<table border=\"1\" class=\"dataframe\">\n",
       "  <thead>\n",
       "    <tr style=\"text-align: right;\">\n",
       "      <th>ASSET_LOCATION</th>\n",
       "      <th>amsterdam</th>\n",
       "      <th>athens</th>\n",
       "      <th>brussels</th>\n",
       "      <th>copenhagen</th>\n",
       "      <th>dublin</th>\n",
       "      <th>lisbon</th>\n",
       "      <th>madrid</th>\n",
       "      <th>prague</th>\n",
       "      <th>rome</th>\n",
       "      <th>stockholm</th>\n",
       "      <th>vienna</th>\n",
       "      <th>full_count</th>\n",
       "    </tr>\n",
       "    <tr>\n",
       "      <th>DATE_YEAR_MONTH</th>\n",
       "      <th></th>\n",
       "      <th></th>\n",
       "      <th></th>\n",
       "      <th></th>\n",
       "      <th></th>\n",
       "      <th></th>\n",
       "      <th></th>\n",
       "      <th></th>\n",
       "      <th></th>\n",
       "      <th></th>\n",
       "      <th></th>\n",
       "      <th></th>\n",
       "    </tr>\n",
       "  </thead>\n",
       "  <tbody>\n",
       "    <tr>\n",
       "      <th>2018-04</th>\n",
       "      <td>4885.0</td>\n",
       "      <td>4058.0</td>\n",
       "      <td>NaN</td>\n",
       "      <td>1277.0</td>\n",
       "      <td>2308.0</td>\n",
       "      <td>8554.0</td>\n",
       "      <td>8560.0</td>\n",
       "      <td>4639.0</td>\n",
       "      <td>14998.0</td>\n",
       "      <td>455.0</td>\n",
       "      <td>3879.0</td>\n",
       "      <td>10</td>\n",
       "    </tr>\n",
       "  </tbody>\n",
       "</table>\n",
       "</div>"
      ],
      "text/plain": [
       "ASSET_LOCATION   amsterdam  athens  brussels  copenhagen  dublin  lisbon  \\\n",
       "DATE_YEAR_MONTH                                                            \n",
       "2018-04             4885.0  4058.0       NaN      1277.0  2308.0  8554.0   \n",
       "\n",
       "ASSET_LOCATION   madrid  prague     rome  stockholm  vienna  full_count  \n",
       "DATE_YEAR_MONTH                                                          \n",
       "2018-04          8560.0  4639.0  14998.0      455.0  3879.0          10  "
      ]
     },
     "execution_count": 11,
     "metadata": {},
     "output_type": "execute_result"
    }
   ],
   "source": [
    "df_count[df_count.full_count == df_count.full_count.max()]"
   ]
  },
  {
   "cell_type": "code",
   "execution_count": null,
   "metadata": {},
   "outputs": [],
   "source": []
  },
  {
   "cell_type": "code",
   "execution_count": 12,
   "metadata": {},
   "outputs": [],
   "source": [
    "df_asset_sub = df_asset[df_asset.DATE_YEAR_MONTH == \"2018-04\"]\n",
    "\n",
    "# periodo covid\n",
    "#df_asset_sub = df_asset[df_asset.DATE_YEAR_MONTH == \"2020-06\"]"
   ]
  },
  {
   "cell_type": "code",
   "execution_count": null,
   "metadata": {},
   "outputs": [],
   "source": []
  },
  {
   "cell_type": "code",
   "execution_count": 13,
   "metadata": {},
   "outputs": [
    {
     "data": {
      "text/plain": [
       "Index(['MODEL_INSTANCE', 'PARTIES_ID', 'ASSET_ID', 'DATE_YEAR_MONTH',\n",
       "       'ASSETS_NAME', 'ASSETS_TYPE', 'ASSETS_DESCRIPTION',\n",
       "       'ASSETS_HOST_NEIGHBOURHOOD', 'ASSETS_NEIGHBORHOOD_OVERVIEW',\n",
       "       'ASSETS_LATITUDE', 'ASSETS_LONGITUDE', 'ASSETS_PROPERTY_TYPE',\n",
       "       'ASSETS_ROOM_TYPE', 'ASSETS_BEDROOMS', 'ASSETS_RETING_PRICE',\n",
       "       'ASSETS_REQUIRES_LICENS', 'ASSETS_REVIEW_SCORES_ACCURACY',\n",
       "       'ASSETS_REVIEW_SCORES_CHECKIN', 'ASSETS_REVIEW_SCORES_CLEANLINESS',\n",
       "       'ASSETS_REVIEW_SCORES_COMMUNICATION', 'ASSETS_REVIEW_SCORES_LOCATION',\n",
       "       'ASSETS_REVIEW_SCORES_RATING', 'ASSETS_REVIEW_SCORES_VALUE',\n",
       "       'ASSETS_REVIEW_PER_MONTH', 'PARTIES_ID_y', 'TIME_STAMP',\n",
       "       'ASSET_MITIGATION_COVID', 'ASSET_LOCATION', 'ASSET_NUMBER_REVIEWS',\n",
       "       'ASSET_PRICE', 'ASSET_AVAILABILITY_30'],\n",
       "      dtype='object')"
      ]
     },
     "execution_count": 13,
     "metadata": {},
     "output_type": "execute_result"
    }
   ],
   "source": [
    "df_asset_sub.columns"
   ]
  },
  {
   "cell_type": "code",
   "execution_count": 14,
   "metadata": {},
   "outputs": [
    {
     "data": {
      "text/plain": [
       "(123649, 31)"
      ]
     },
     "execution_count": 14,
     "metadata": {},
     "output_type": "execute_result"
    }
   ],
   "source": [
    "df_asset_sub.shape"
   ]
  },
  {
   "cell_type": "code",
   "execution_count": 15,
   "metadata": {},
   "outputs": [
    {
     "data": {
      "text/html": [
       "<div>\n",
       "<style scoped>\n",
       "    .dataframe tbody tr th:only-of-type {\n",
       "        vertical-align: middle;\n",
       "    }\n",
       "\n",
       "    .dataframe tbody tr th {\n",
       "        vertical-align: top;\n",
       "    }\n",
       "\n",
       "    .dataframe thead th {\n",
       "        text-align: right;\n",
       "    }\n",
       "</style>\n",
       "<table border=\"1\" class=\"dataframe\">\n",
       "  <thead>\n",
       "    <tr style=\"text-align: right;\">\n",
       "      <th></th>\n",
       "      <th>MODEL_INSTANCE</th>\n",
       "      <th>PARTIES_ID</th>\n",
       "      <th>ASSET_ID</th>\n",
       "      <th>DATE_YEAR_MONTH</th>\n",
       "      <th>ASSETS_NAME</th>\n",
       "      <th>ASSETS_TYPE</th>\n",
       "      <th>ASSETS_DESCRIPTION</th>\n",
       "      <th>ASSETS_HOST_NEIGHBOURHOOD</th>\n",
       "      <th>ASSETS_NEIGHBORHOOD_OVERVIEW</th>\n",
       "      <th>ASSETS_LATITUDE</th>\n",
       "      <th>...</th>\n",
       "      <th>ASSETS_REVIEW_SCORES_RATING</th>\n",
       "      <th>ASSETS_REVIEW_SCORES_VALUE</th>\n",
       "      <th>ASSETS_REVIEW_PER_MONTH</th>\n",
       "      <th>PARTIES_ID_y</th>\n",
       "      <th>TIME_STAMP</th>\n",
       "      <th>ASSET_MITIGATION_COVID</th>\n",
       "      <th>ASSET_LOCATION</th>\n",
       "      <th>ASSET_NUMBER_REVIEWS</th>\n",
       "      <th>ASSET_PRICE</th>\n",
       "      <th>ASSET_AVAILABILITY_30</th>\n",
       "    </tr>\n",
       "  </thead>\n",
       "  <tbody>\n",
       "    <tr>\n",
       "      <th>240</th>\n",
       "      <td>576GOYB6Ov</td>\n",
       "      <td>166283</td>\n",
       "      <td>38768</td>\n",
       "      <td>2018-04</td>\n",
       "      <td>Hannes</td>\n",
       "      <td>Real Bed</td>\n",
       "      <td>39m² apartment with beautiful courtyard of the...</td>\n",
       "      <td>Leopoldstadt</td>\n",
       "      <td>the Karmeliterviertel became very pupular in t...</td>\n",
       "      <td>48.218225</td>\n",
       "      <td>...</td>\n",
       "      <td>95.0</td>\n",
       "      <td>9.0</td>\n",
       "      <td>2.7</td>\n",
       "      <td>166283.0</td>\n",
       "      <td>2018-04-14</td>\n",
       "      <td>0.0</td>\n",
       "      <td>vienna</td>\n",
       "      <td>232.0</td>\n",
       "      <td>$65.00</td>\n",
       "      <td>12.0</td>\n",
       "    </tr>\n",
       "    <tr>\n",
       "      <th>241</th>\n",
       "      <td>lWpdyw9J83</td>\n",
       "      <td>166283</td>\n",
       "      <td>38768</td>\n",
       "      <td>2018-04</td>\n",
       "      <td>Hannes</td>\n",
       "      <td>Real Bed</td>\n",
       "      <td>39m² apartment with beautiful courtyard of the...</td>\n",
       "      <td>Leopoldstadt</td>\n",
       "      <td>the Karmeliterviertel became very pupular in t...</td>\n",
       "      <td>48.218225</td>\n",
       "      <td>...</td>\n",
       "      <td>95.0</td>\n",
       "      <td>9.0</td>\n",
       "      <td>2.7</td>\n",
       "      <td>166283.0</td>\n",
       "      <td>2018-04-14</td>\n",
       "      <td>0.0</td>\n",
       "      <td>vienna</td>\n",
       "      <td>232.0</td>\n",
       "      <td>$65.00</td>\n",
       "      <td>12.0</td>\n",
       "    </tr>\n",
       "    <tr>\n",
       "      <th>242</th>\n",
       "      <td>L88aoWYExf</td>\n",
       "      <td>166283</td>\n",
       "      <td>38768</td>\n",
       "      <td>2018-04</td>\n",
       "      <td>Hannes</td>\n",
       "      <td>Real Bed</td>\n",
       "      <td>39m² apartment with beautiful courtyard of the...</td>\n",
       "      <td>Leopoldstadt</td>\n",
       "      <td>the Karmeliterviertel became very pupular in t...</td>\n",
       "      <td>48.218225</td>\n",
       "      <td>...</td>\n",
       "      <td>95.0</td>\n",
       "      <td>9.0</td>\n",
       "      <td>2.7</td>\n",
       "      <td>166283.0</td>\n",
       "      <td>2018-04-14</td>\n",
       "      <td>0.0</td>\n",
       "      <td>vienna</td>\n",
       "      <td>232.0</td>\n",
       "      <td>$65.00</td>\n",
       "      <td>12.0</td>\n",
       "    </tr>\n",
       "  </tbody>\n",
       "</table>\n",
       "<p>3 rows × 31 columns</p>\n",
       "</div>"
      ],
      "text/plain": [
       "    MODEL_INSTANCE  PARTIES_ID  ASSET_ID DATE_YEAR_MONTH ASSETS_NAME  \\\n",
       "240     576GOYB6Ov      166283     38768         2018-04      Hannes   \n",
       "241     lWpdyw9J83      166283     38768         2018-04      Hannes   \n",
       "242     L88aoWYExf      166283     38768         2018-04      Hannes   \n",
       "\n",
       "    ASSETS_TYPE                                 ASSETS_DESCRIPTION  \\\n",
       "240    Real Bed  39m² apartment with beautiful courtyard of the...   \n",
       "241    Real Bed  39m² apartment with beautiful courtyard of the...   \n",
       "242    Real Bed  39m² apartment with beautiful courtyard of the...   \n",
       "\n",
       "    ASSETS_HOST_NEIGHBOURHOOD  \\\n",
       "240              Leopoldstadt   \n",
       "241              Leopoldstadt   \n",
       "242              Leopoldstadt   \n",
       "\n",
       "                          ASSETS_NEIGHBORHOOD_OVERVIEW  ASSETS_LATITUDE  ...  \\\n",
       "240  the Karmeliterviertel became very pupular in t...        48.218225  ...   \n",
       "241  the Karmeliterviertel became very pupular in t...        48.218225  ...   \n",
       "242  the Karmeliterviertel became very pupular in t...        48.218225  ...   \n",
       "\n",
       "     ASSETS_REVIEW_SCORES_RATING ASSETS_REVIEW_SCORES_VALUE  \\\n",
       "240                         95.0                        9.0   \n",
       "241                         95.0                        9.0   \n",
       "242                         95.0                        9.0   \n",
       "\n",
       "    ASSETS_REVIEW_PER_MONTH  PARTIES_ID_y  TIME_STAMP ASSET_MITIGATION_COVID  \\\n",
       "240                     2.7      166283.0  2018-04-14                    0.0   \n",
       "241                     2.7      166283.0  2018-04-14                    0.0   \n",
       "242                     2.7      166283.0  2018-04-14                    0.0   \n",
       "\n",
       "     ASSET_LOCATION  ASSET_NUMBER_REVIEWS  ASSET_PRICE  ASSET_AVAILABILITY_30  \n",
       "240          vienna                 232.0       $65.00                   12.0  \n",
       "241          vienna                 232.0       $65.00                   12.0  \n",
       "242          vienna                 232.0       $65.00                   12.0  \n",
       "\n",
       "[3 rows x 31 columns]"
      ]
     },
     "execution_count": 15,
     "metadata": {},
     "output_type": "execute_result"
    }
   ],
   "source": [
    "df_asset_sub.head(3)"
   ]
  },
  {
   "cell_type": "code",
   "execution_count": 16,
   "metadata": {},
   "outputs": [],
   "source": [
    "#ASSET_PRICE\n",
    "def fix_price (value):\n",
    "    try:\n",
    "        value = value.replace(\"$\", '').replace(\",\", '')\n",
    "        value = float(value)\n",
    "        return value\n",
    "    except: return np.nan  \n",
    "\n",
    "df_asset_sub['ASSET_PRICE'] = df_asset_sub['ASSET_PRICE'].apply(lambda x : fix_price(x))"
   ]
  },
  {
   "cell_type": "code",
   "execution_count": 17,
   "metadata": {},
   "outputs": [],
   "source": [
    "# CZK TO EURO --> 0.039\n",
    "df_asset_sub.loc[df_asset_sub.ASSET_LOCATION=='prague', \"ASSET_PRICE\"] = df_asset_sub.loc[df_asset_sub.ASSET_LOCATION=='prague', \"ASSET_PRICE\"] * 0.039\n",
    "\n",
    "# DKK TO EURO --> 0.13\n",
    "df_asset_sub.loc[df_asset_sub.ASSET_LOCATION=='copenhagen', \"ASSET_PRICE\"] = df_asset_sub.loc[df_asset_sub.ASSET_LOCATION=='copenhagen', \"ASSET_PRICE\"] * 0.13\n",
    "\n",
    "# KR TO EURO --> 0.099\n",
    "df_asset_sub.loc[df_asset_sub.ASSET_LOCATION=='stockholm', \"ASSET_PRICE\"] = df_asset_sub.loc[df_asset_sub.ASSET_LOCATION=='stockholm', \"ASSET_PRICE\"] * 0.099"
   ]
  },
  {
   "cell_type": "code",
   "execution_count": null,
   "metadata": {},
   "outputs": [],
   "source": []
  },
  {
   "cell_type": "code",
   "execution_count": 18,
   "metadata": {},
   "outputs": [],
   "source": [
    "anag = [\"PARTIES_ID\", \"ASSET_ID\"]\n",
    "\n",
    "end_month = [\n",
    "    \"ASSETS_TYPE\", 'ASSET_LOCATION',\n",
    "    'ASSETS_REVIEW_PER_MONTH', 'ASSET_NUMBER_REVIEWS',\n",
    "    'ASSET_AVAILABILITY_30', \n",
    "    'ASSET_MITIGATION_COVID']\n",
    "\n",
    "med_month = [\n",
    "'ASSET_PRICE',\n",
    "'ASSETS_REVIEW_SCORES_ACCURACY', 'ASSETS_REVIEW_SCORES_CHECKIN', 'ASSETS_REVIEW_SCORES_CLEANLINESS',\n",
    "'ASSETS_REVIEW_SCORES_COMMUNICATION', 'ASSETS_REVIEW_SCORES_LOCATION', 'ASSETS_REVIEW_SCORES_RATING', \n",
    "'ASSETS_REVIEW_SCORES_VALUE']\n"
   ]
  },
  {
   "cell_type": "code",
   "execution_count": 19,
   "metadata": {},
   "outputs": [],
   "source": [
    "# seleziono soltando la riga relativa all'ultimo aggiornamento disponibile per ogni asset (listing)\n",
    "# con questo approccio vengono eslusi i listing con time_stamp (data di aggiornamento) non disponibile (missing)\n",
    "\n",
    "df_asset_end_month = df_asset_sub.sort_values(by=[\"ASSET_ID\", \"TIME_STAMP\"])\\\n",
    "                                 .groupby([\"ASSET_ID\", \"TIME_STAMP\"])[anag + end_month].tail(1)"
   ]
  },
  {
   "cell_type": "code",
   "execution_count": 20,
   "metadata": {},
   "outputs": [
    {
     "data": {
      "text/plain": [
       "0"
      ]
     },
     "execution_count": 20,
     "metadata": {},
     "output_type": "execute_result"
    }
   ],
   "source": [
    "df_asset_end_month.ASSET_ID.duplicated().sum()"
   ]
  },
  {
   "cell_type": "code",
   "execution_count": 21,
   "metadata": {
    "scrolled": false
   },
   "outputs": [
    {
     "data": {
      "text/plain": [
       "4569"
      ]
     },
     "execution_count": 21,
     "metadata": {},
     "output_type": "execute_result"
    }
   ],
   "source": [
    "# un host può avere più listings\n",
    "df_asset_end_month.PARTIES_ID.duplicated().sum()"
   ]
  },
  {
   "cell_type": "code",
   "execution_count": 22,
   "metadata": {},
   "outputs": [],
   "source": [
    "# ottengo una sola riga per listing come mediana dei valori nel periodo\n",
    "df_asset_med_month = df_asset_sub.groupby([\"ASSET_ID\"])[med_month].median().reset_index()"
   ]
  },
  {
   "cell_type": "code",
   "execution_count": 23,
   "metadata": {},
   "outputs": [
    {
     "data": {
      "text/html": [
       "<div>\n",
       "<style scoped>\n",
       "    .dataframe tbody tr th:only-of-type {\n",
       "        vertical-align: middle;\n",
       "    }\n",
       "\n",
       "    .dataframe tbody tr th {\n",
       "        vertical-align: top;\n",
       "    }\n",
       "\n",
       "    .dataframe thead th {\n",
       "        text-align: right;\n",
       "    }\n",
       "</style>\n",
       "<table border=\"1\" class=\"dataframe\">\n",
       "  <thead>\n",
       "    <tr style=\"text-align: right;\">\n",
       "      <th></th>\n",
       "      <th>ASSET_ID</th>\n",
       "      <th>ASSET_PRICE</th>\n",
       "      <th>ASSETS_REVIEW_SCORES_ACCURACY</th>\n",
       "      <th>ASSETS_REVIEW_SCORES_CHECKIN</th>\n",
       "      <th>ASSETS_REVIEW_SCORES_CLEANLINESS</th>\n",
       "      <th>ASSETS_REVIEW_SCORES_COMMUNICATION</th>\n",
       "      <th>ASSETS_REVIEW_SCORES_LOCATION</th>\n",
       "      <th>ASSETS_REVIEW_SCORES_RATING</th>\n",
       "      <th>ASSETS_REVIEW_SCORES_VALUE</th>\n",
       "    </tr>\n",
       "  </thead>\n",
       "  <tbody>\n",
       "    <tr>\n",
       "      <th>0</th>\n",
       "      <td>2015</td>\n",
       "      <td>NaN</td>\n",
       "      <td>NaN</td>\n",
       "      <td>NaN</td>\n",
       "      <td>NaN</td>\n",
       "      <td>NaN</td>\n",
       "      <td>NaN</td>\n",
       "      <td>NaN</td>\n",
       "      <td>NaN</td>\n",
       "    </tr>\n",
       "    <tr>\n",
       "      <th>1</th>\n",
       "      <td>2818</td>\n",
       "      <td>69.0</td>\n",
       "      <td>10.0</td>\n",
       "      <td>10.0</td>\n",
       "      <td>10.0</td>\n",
       "      <td>10.0</td>\n",
       "      <td>9.0</td>\n",
       "      <td>97.0</td>\n",
       "      <td>10.0</td>\n",
       "    </tr>\n",
       "  </tbody>\n",
       "</table>\n",
       "</div>"
      ],
      "text/plain": [
       "   ASSET_ID  ASSET_PRICE  ASSETS_REVIEW_SCORES_ACCURACY  \\\n",
       "0      2015          NaN                            NaN   \n",
       "1      2818         69.0                           10.0   \n",
       "\n",
       "   ASSETS_REVIEW_SCORES_CHECKIN  ASSETS_REVIEW_SCORES_CLEANLINESS  \\\n",
       "0                           NaN                               NaN   \n",
       "1                          10.0                              10.0   \n",
       "\n",
       "   ASSETS_REVIEW_SCORES_COMMUNICATION  ASSETS_REVIEW_SCORES_LOCATION  \\\n",
       "0                                 NaN                            NaN   \n",
       "1                                10.0                            9.0   \n",
       "\n",
       "   ASSETS_REVIEW_SCORES_RATING  ASSETS_REVIEW_SCORES_VALUE  \n",
       "0                          NaN                         NaN  \n",
       "1                         97.0                        10.0  "
      ]
     },
     "execution_count": 23,
     "metadata": {},
     "output_type": "execute_result"
    }
   ],
   "source": [
    "df_asset_med_month.head(2)"
   ]
  },
  {
   "cell_type": "code",
   "execution_count": 24,
   "metadata": {},
   "outputs": [
    {
     "data": {
      "text/plain": [
       "0"
      ]
     },
     "execution_count": 24,
     "metadata": {},
     "output_type": "execute_result"
    }
   ],
   "source": [
    "df_asset_med_month.ASSET_ID.duplicated().sum()"
   ]
  },
  {
   "cell_type": "code",
   "execution_count": 25,
   "metadata": {},
   "outputs": [],
   "source": [
    "df_feature = df_asset_end_month.merge(df_asset_med_month, on = \"ASSET_ID\", how='left')"
   ]
  },
  {
   "cell_type": "code",
   "execution_count": 26,
   "metadata": {
    "scrolled": true
   },
   "outputs": [
    {
     "data": {
      "text/html": [
       "<div>\n",
       "<style scoped>\n",
       "    .dataframe tbody tr th:only-of-type {\n",
       "        vertical-align: middle;\n",
       "    }\n",
       "\n",
       "    .dataframe tbody tr th {\n",
       "        vertical-align: top;\n",
       "    }\n",
       "\n",
       "    .dataframe thead th {\n",
       "        text-align: right;\n",
       "    }\n",
       "</style>\n",
       "<table border=\"1\" class=\"dataframe\">\n",
       "  <thead>\n",
       "    <tr style=\"text-align: right;\">\n",
       "      <th></th>\n",
       "      <th>PARTIES_ID</th>\n",
       "      <th>ASSET_ID</th>\n",
       "      <th>ASSETS_TYPE</th>\n",
       "      <th>ASSET_LOCATION</th>\n",
       "      <th>ASSETS_REVIEW_PER_MONTH</th>\n",
       "      <th>ASSET_NUMBER_REVIEWS</th>\n",
       "      <th>ASSET_AVAILABILITY_30</th>\n",
       "      <th>ASSET_MITIGATION_COVID</th>\n",
       "      <th>ASSET_PRICE</th>\n",
       "      <th>ASSETS_REVIEW_SCORES_ACCURACY</th>\n",
       "      <th>ASSETS_REVIEW_SCORES_CHECKIN</th>\n",
       "      <th>ASSETS_REVIEW_SCORES_CLEANLINESS</th>\n",
       "      <th>ASSETS_REVIEW_SCORES_COMMUNICATION</th>\n",
       "      <th>ASSETS_REVIEW_SCORES_LOCATION</th>\n",
       "      <th>ASSETS_REVIEW_SCORES_RATING</th>\n",
       "      <th>ASSETS_REVIEW_SCORES_VALUE</th>\n",
       "    </tr>\n",
       "  </thead>\n",
       "  <tbody>\n",
       "    <tr>\n",
       "      <th>0</th>\n",
       "      <td>3159</td>\n",
       "      <td>2818</td>\n",
       "      <td>Real Bed</td>\n",
       "      <td>amsterdam</td>\n",
       "      <td>2.02</td>\n",
       "      <td>222.0</td>\n",
       "      <td>10.0</td>\n",
       "      <td>0.0</td>\n",
       "      <td>69.0</td>\n",
       "      <td>10.0</td>\n",
       "      <td>10.0</td>\n",
       "      <td>10.0</td>\n",
       "      <td>10.0</td>\n",
       "      <td>9.0</td>\n",
       "      <td>97.0</td>\n",
       "      <td>10.0</td>\n",
       "    </tr>\n",
       "    <tr>\n",
       "      <th>1</th>\n",
       "      <td>3504</td>\n",
       "      <td>3079</td>\n",
       "      <td>Real Bed</td>\n",
       "      <td>rome</td>\n",
       "      <td>0.16</td>\n",
       "      <td>14.0</td>\n",
       "      <td>20.0</td>\n",
       "      <td>0.0</td>\n",
       "      <td>105.0</td>\n",
       "      <td>8.0</td>\n",
       "      <td>9.0</td>\n",
       "      <td>9.0</td>\n",
       "      <td>10.0</td>\n",
       "      <td>9.0</td>\n",
       "      <td>86.0</td>\n",
       "      <td>8.0</td>\n",
       "    </tr>\n",
       "  </tbody>\n",
       "</table>\n",
       "</div>"
      ],
      "text/plain": [
       "   PARTIES_ID  ASSET_ID ASSETS_TYPE ASSET_LOCATION  ASSETS_REVIEW_PER_MONTH  \\\n",
       "0        3159      2818    Real Bed      amsterdam                     2.02   \n",
       "1        3504      3079    Real Bed           rome                     0.16   \n",
       "\n",
       "   ASSET_NUMBER_REVIEWS  ASSET_AVAILABILITY_30  ASSET_MITIGATION_COVID  \\\n",
       "0                 222.0                   10.0                     0.0   \n",
       "1                  14.0                   20.0                     0.0   \n",
       "\n",
       "   ASSET_PRICE  ASSETS_REVIEW_SCORES_ACCURACY  ASSETS_REVIEW_SCORES_CHECKIN  \\\n",
       "0         69.0                           10.0                          10.0   \n",
       "1        105.0                            8.0                           9.0   \n",
       "\n",
       "   ASSETS_REVIEW_SCORES_CLEANLINESS  ASSETS_REVIEW_SCORES_COMMUNICATION  \\\n",
       "0                              10.0                                10.0   \n",
       "1                               9.0                                10.0   \n",
       "\n",
       "   ASSETS_REVIEW_SCORES_LOCATION  ASSETS_REVIEW_SCORES_RATING  \\\n",
       "0                            9.0                         97.0   \n",
       "1                            9.0                         86.0   \n",
       "\n",
       "   ASSETS_REVIEW_SCORES_VALUE  \n",
       "0                        10.0  \n",
       "1                         8.0  "
      ]
     },
     "execution_count": 26,
     "metadata": {},
     "output_type": "execute_result"
    }
   ],
   "source": [
    "df_feature.head(2)"
   ]
  },
  {
   "cell_type": "code",
   "execution_count": 27,
   "metadata": {},
   "outputs": [
    {
     "data": {
      "text/plain": [
       "(14892, 16)"
      ]
     },
     "execution_count": 27,
     "metadata": {},
     "output_type": "execute_result"
    }
   ],
   "source": [
    "df_feature.shape"
   ]
  },
  {
   "cell_type": "code",
   "execution_count": 28,
   "metadata": {},
   "outputs": [],
   "source": [
    "# ribilancio il campione sulla base della città con meno listings\n",
    "gb = df_feature.groupby(['ASSET_LOCATION'])\n",
    "df_feature = gb.apply(lambda x: x.sample(gb.size().min())).reset_index(drop=True)"
   ]
  },
  {
   "cell_type": "code",
   "execution_count": 29,
   "metadata": {},
   "outputs": [
    {
     "data": {
      "text/plain": [
       "(1530, 16)"
      ]
     },
     "execution_count": 29,
     "metadata": {},
     "output_type": "execute_result"
    }
   ],
   "source": [
    "df_feature.shape"
   ]
  },
  {
   "cell_type": "code",
   "execution_count": null,
   "metadata": {},
   "outputs": [],
   "source": []
  },
  {
   "cell_type": "code",
   "execution_count": 30,
   "metadata": {},
   "outputs": [],
   "source": [
    "with gzip.open(data_path + 'PARTIES_DOMAIN_FEATURE.csv.gzip') as file_in:\n",
    "    df_parties = pd.read_csv(file_in, low_memory=False)"
   ]
  },
  {
   "cell_type": "code",
   "execution_count": 31,
   "metadata": {
    "scrolled": true
   },
   "outputs": [
    {
     "data": {
      "text/html": [
       "<div>\n",
       "<style scoped>\n",
       "    .dataframe tbody tr th:only-of-type {\n",
       "        vertical-align: middle;\n",
       "    }\n",
       "\n",
       "    .dataframe tbody tr th {\n",
       "        vertical-align: top;\n",
       "    }\n",
       "\n",
       "    .dataframe thead th {\n",
       "        text-align: right;\n",
       "    }\n",
       "</style>\n",
       "<table border=\"1\" class=\"dataframe\">\n",
       "  <thead>\n",
       "    <tr style=\"text-align: right;\">\n",
       "      <th></th>\n",
       "      <th>TIME_STAMP_MONTH</th>\n",
       "      <th>PARTIES_ID</th>\n",
       "      <th>HOST_NAME</th>\n",
       "      <th>HOST_SINCE</th>\n",
       "      <th>HOST_LOCATION</th>\n",
       "      <th>HOST_ABOUT</th>\n",
       "      <th>HOST_RESPONSE_TIME</th>\n",
       "      <th>HOST_RESPONCE_RATE</th>\n",
       "      <th>HOST_ACCEPTANCE_RATE</th>\n",
       "      <th>HOST_IS_SUPERHOST</th>\n",
       "      <th>HOST_LISTINGS_COUNT</th>\n",
       "      <th>HOST_HAS_PROFILE_PIC</th>\n",
       "      <th>TIME_STAMP</th>\n",
       "      <th>PARTIES_ROLE</th>\n",
       "    </tr>\n",
       "  </thead>\n",
       "  <tbody>\n",
       "    <tr>\n",
       "      <th>0</th>\n",
       "      <td>2021-04</td>\n",
       "      <td>62142</td>\n",
       "      <td>Eva</td>\n",
       "      <td>2009-12-11</td>\n",
       "      <td>Vienna, Wien, Austria</td>\n",
       "      <td>Mein größtes Hobby: Reisen! Am liebsten mit me...</td>\n",
       "      <td>NaN</td>\n",
       "      <td>NaN</td>\n",
       "      <td>100%</td>\n",
       "      <td>f</td>\n",
       "      <td>6.0</td>\n",
       "      <td>t</td>\n",
       "      <td>2021-04-15</td>\n",
       "      <td>H</td>\n",
       "    </tr>\n",
       "    <tr>\n",
       "      <th>1</th>\n",
       "      <td>2021-04</td>\n",
       "      <td>166283</td>\n",
       "      <td>Hannes</td>\n",
       "      <td>2010-07-14</td>\n",
       "      <td>Vienna, Wien, Austria</td>\n",
       "      <td>I am open minded and like travelling myself. I...</td>\n",
       "      <td>within an hour</td>\n",
       "      <td>100%</td>\n",
       "      <td>98%</td>\n",
       "      <td>t</td>\n",
       "      <td>3.0</td>\n",
       "      <td>t</td>\n",
       "      <td>2021-04-15</td>\n",
       "      <td>H</td>\n",
       "    </tr>\n",
       "  </tbody>\n",
       "</table>\n",
       "</div>"
      ],
      "text/plain": [
       "  TIME_STAMP_MONTH PARTIES_ID HOST_NAME  HOST_SINCE          HOST_LOCATION  \\\n",
       "0          2021-04      62142       Eva  2009-12-11  Vienna, Wien, Austria   \n",
       "1          2021-04     166283    Hannes  2010-07-14  Vienna, Wien, Austria   \n",
       "\n",
       "                                          HOST_ABOUT HOST_RESPONSE_TIME  \\\n",
       "0  Mein größtes Hobby: Reisen! Am liebsten mit me...                NaN   \n",
       "1  I am open minded and like travelling myself. I...     within an hour   \n",
       "\n",
       "  HOST_RESPONCE_RATE HOST_ACCEPTANCE_RATE HOST_IS_SUPERHOST  \\\n",
       "0                NaN                 100%                 f   \n",
       "1               100%                  98%                 t   \n",
       "\n",
       "   HOST_LISTINGS_COUNT HOST_HAS_PROFILE_PIC  TIME_STAMP PARTIES_ROLE  \n",
       "0                  6.0                    t  2021-04-15            H  \n",
       "1                  3.0                    t  2021-04-15            H  "
      ]
     },
     "execution_count": 31,
     "metadata": {},
     "output_type": "execute_result"
    }
   ],
   "source": [
    "df_parties.head(2)"
   ]
  },
  {
   "cell_type": "code",
   "execution_count": 32,
   "metadata": {},
   "outputs": [],
   "source": [
    "# seleziono solo l'ultima informazione disponibile per ogni host\n",
    "\n",
    "df_parties = df_parties[(df_parties.PARTIES_ROLE == 'H') &\n",
    "                        (df_parties.TIME_STAMP_MONTH == '2018-04')]\\\n",
    "                        .sort_values(['TIME_STAMP'])\\\n",
    "                        .groupby(\"PARTIES_ID\").tail(1)[[\"PARTIES_ID\", \n",
    "                                                        'HOST_RESPONSE_TIME','HOST_RESPONCE_RATE', \n",
    "                                                        'HOST_ACCEPTANCE_RATE', 'HOST_IS_SUPERHOST',\n",
    "                                                        'HOST_LISTINGS_COUNT', 'HOST_HAS_PROFILE_PIC']]"
   ]
  },
  {
   "cell_type": "code",
   "execution_count": 33,
   "metadata": {},
   "outputs": [
    {
     "data": {
      "text/html": [
       "<div>\n",
       "<style scoped>\n",
       "    .dataframe tbody tr th:only-of-type {\n",
       "        vertical-align: middle;\n",
       "    }\n",
       "\n",
       "    .dataframe tbody tr th {\n",
       "        vertical-align: top;\n",
       "    }\n",
       "\n",
       "    .dataframe thead th {\n",
       "        text-align: right;\n",
       "    }\n",
       "</style>\n",
       "<table border=\"1\" class=\"dataframe\">\n",
       "  <thead>\n",
       "    <tr style=\"text-align: right;\">\n",
       "      <th></th>\n",
       "      <th>PARTIES_ID</th>\n",
       "      <th>HOST_RESPONSE_TIME</th>\n",
       "      <th>HOST_RESPONCE_RATE</th>\n",
       "      <th>HOST_ACCEPTANCE_RATE</th>\n",
       "      <th>HOST_IS_SUPERHOST</th>\n",
       "      <th>HOST_LISTINGS_COUNT</th>\n",
       "      <th>HOST_HAS_PROFILE_PIC</th>\n",
       "    </tr>\n",
       "  </thead>\n",
       "  <tbody>\n",
       "    <tr>\n",
       "      <th>8752674</th>\n",
       "      <td>4059485.0</td>\n",
       "      <td>NaN</td>\n",
       "      <td>NaN</td>\n",
       "      <td>NaN</td>\n",
       "      <td>f</td>\n",
       "      <td>1.0</td>\n",
       "      <td>t</td>\n",
       "    </tr>\n",
       "    <tr>\n",
       "      <th>8754465</th>\n",
       "      <td>169989843.0</td>\n",
       "      <td>within an hour</td>\n",
       "      <td>100%</td>\n",
       "      <td>NaN</td>\n",
       "      <td>f</td>\n",
       "      <td>1.0</td>\n",
       "      <td>t</td>\n",
       "    </tr>\n",
       "  </tbody>\n",
       "</table>\n",
       "</div>"
      ],
      "text/plain": [
       "          PARTIES_ID HOST_RESPONSE_TIME HOST_RESPONCE_RATE  \\\n",
       "8752674    4059485.0                NaN                NaN   \n",
       "8754465  169989843.0     within an hour               100%   \n",
       "\n",
       "        HOST_ACCEPTANCE_RATE HOST_IS_SUPERHOST  HOST_LISTINGS_COUNT  \\\n",
       "8752674                  NaN                 f                  1.0   \n",
       "8754465                  NaN                 f                  1.0   \n",
       "\n",
       "        HOST_HAS_PROFILE_PIC  \n",
       "8752674                    t  \n",
       "8754465                    t  "
      ]
     },
     "execution_count": 33,
     "metadata": {},
     "output_type": "execute_result"
    }
   ],
   "source": [
    "df_parties.head(2)"
   ]
  },
  {
   "cell_type": "code",
   "execution_count": 34,
   "metadata": {},
   "outputs": [],
   "source": [
    "df_parties.PARTIES_ID = df_parties.PARTIES_ID.astype(float)"
   ]
  },
  {
   "cell_type": "code",
   "execution_count": 35,
   "metadata": {},
   "outputs": [
    {
     "data": {
      "text/plain": [
       "PARTIES_ID              float64\n",
       "HOST_RESPONSE_TIME       object\n",
       "HOST_RESPONCE_RATE       object\n",
       "HOST_ACCEPTANCE_RATE     object\n",
       "HOST_IS_SUPERHOST        object\n",
       "HOST_LISTINGS_COUNT     float64\n",
       "HOST_HAS_PROFILE_PIC     object\n",
       "dtype: object"
      ]
     },
     "execution_count": 35,
     "metadata": {},
     "output_type": "execute_result"
    }
   ],
   "source": [
    "df_parties.dtypes"
   ]
  },
  {
   "cell_type": "code",
   "execution_count": 36,
   "metadata": {},
   "outputs": [],
   "source": [
    "df_feature = df_feature.merge(df_parties, on='PARTIES_ID', how='left')"
   ]
  },
  {
   "cell_type": "code",
   "execution_count": 37,
   "metadata": {},
   "outputs": [
    {
     "data": {
      "text/plain": [
       "(1530, 22)"
      ]
     },
     "execution_count": 37,
     "metadata": {},
     "output_type": "execute_result"
    }
   ],
   "source": [
    "df_feature.shape"
   ]
  },
  {
   "cell_type": "code",
   "execution_count": 38,
   "metadata": {},
   "outputs": [
    {
     "data": {
      "text/plain": [
       "0"
      ]
     },
     "execution_count": 38,
     "metadata": {},
     "output_type": "execute_result"
    }
   ],
   "source": [
    "df_feature.ASSET_ID.duplicated().sum()"
   ]
  },
  {
   "cell_type": "code",
   "execution_count": 39,
   "metadata": {},
   "outputs": [
    {
     "data": {
      "text/plain": [
       "PARTIES_ID                              0.000000\n",
       "ASSET_ID                                0.000000\n",
       "ASSETS_TYPE                             0.000000\n",
       "ASSET_LOCATION                          0.000000\n",
       "ASSETS_REVIEW_PER_MONTH                 0.000000\n",
       "ASSET_NUMBER_REVIEWS                    0.000000\n",
       "ASSET_AVAILABILITY_30                   0.000000\n",
       "ASSET_MITIGATION_COVID                  0.000000\n",
       "ASSET_PRICE                             0.000000\n",
       "ASSETS_REVIEW_SCORES_ACCURACY           0.000000\n",
       "ASSETS_REVIEW_SCORES_CHECKIN            0.000000\n",
       "ASSETS_REVIEW_SCORES_CLEANLINESS        0.000000\n",
       "ASSETS_REVIEW_SCORES_COMMUNICATION      0.000000\n",
       "ASSETS_REVIEW_SCORES_LOCATION           0.000000\n",
       "ASSETS_REVIEW_SCORES_RATING             0.000000\n",
       "ASSETS_REVIEW_SCORES_VALUE              0.000000\n",
       "HOST_RESPONSE_TIME                      0.718954\n",
       "HOST_RESPONCE_RATE                      0.718954\n",
       "HOST_ACCEPTANCE_RATE                  100.000000\n",
       "HOST_IS_SUPERHOST                       0.065359\n",
       "HOST_LISTINGS_COUNT                     0.065359\n",
       "HOST_HAS_PROFILE_PIC                    0.065359\n",
       "dtype: float64"
      ]
     },
     "execution_count": 39,
     "metadata": {},
     "output_type": "execute_result"
    }
   ],
   "source": [
    "df_feature.isnull().sum() / df_feature.shape[0] * 100"
   ]
  },
  {
   "cell_type": "code",
   "execution_count": 40,
   "metadata": {},
   "outputs": [],
   "source": [
    "df_feature.drop(columns=[\"HOST_ACCEPTANCE_RATE\"], inplace=True)"
   ]
  },
  {
   "cell_type": "code",
   "execution_count": 41,
   "metadata": {},
   "outputs": [],
   "source": [
    "df_feature.HOST_RESPONCE_RATE = df_feature.HOST_RESPONCE_RATE.str.replace('%', '').astype(float)"
   ]
  },
  {
   "cell_type": "code",
   "execution_count": 42,
   "metadata": {
    "scrolled": false
   },
   "outputs": [
    {
     "data": {
      "text/plain": [
       "PARTIES_ID                              int64\n",
       "ASSET_ID                                int64\n",
       "ASSETS_TYPE                            object\n",
       "ASSET_LOCATION                         object\n",
       "ASSETS_REVIEW_PER_MONTH               float64\n",
       "ASSET_NUMBER_REVIEWS                  float64\n",
       "ASSET_AVAILABILITY_30                 float64\n",
       "ASSET_MITIGATION_COVID                float64\n",
       "ASSET_PRICE                           float64\n",
       "ASSETS_REVIEW_SCORES_ACCURACY         float64\n",
       "ASSETS_REVIEW_SCORES_CHECKIN          float64\n",
       "ASSETS_REVIEW_SCORES_CLEANLINESS      float64\n",
       "ASSETS_REVIEW_SCORES_COMMUNICATION    float64\n",
       "ASSETS_REVIEW_SCORES_LOCATION         float64\n",
       "ASSETS_REVIEW_SCORES_RATING           float64\n",
       "ASSETS_REVIEW_SCORES_VALUE            float64\n",
       "HOST_RESPONSE_TIME                     object\n",
       "HOST_RESPONCE_RATE                    float64\n",
       "HOST_IS_SUPERHOST                      object\n",
       "HOST_LISTINGS_COUNT                   float64\n",
       "HOST_HAS_PROFILE_PIC                   object\n",
       "dtype: object"
      ]
     },
     "execution_count": 42,
     "metadata": {},
     "output_type": "execute_result"
    }
   ],
   "source": [
    "df_feature.dtypes"
   ]
  },
  {
   "cell_type": "code",
   "execution_count": null,
   "metadata": {},
   "outputs": [],
   "source": []
  },
  {
   "cell_type": "markdown",
   "metadata": {},
   "source": [
    "### Check Distributions"
   ]
  },
  {
   "cell_type": "markdown",
   "metadata": {},
   "source": [
    "#### Categorical"
   ]
  },
  {
   "cell_type": "code",
   "execution_count": 43,
   "metadata": {},
   "outputs": [
    {
     "data": {
      "text/plain": [
       "prague        10.0\n",
       "vienna        10.0\n",
       "madrid        10.0\n",
       "dublin        10.0\n",
       "amsterdam     10.0\n",
       "stockholm     10.0\n",
       "lisbon        10.0\n",
       "copenhagen    10.0\n",
       "rome          10.0\n",
       "athens        10.0\n",
       "Name: ASSET_LOCATION, dtype: float64"
      ]
     },
     "execution_count": 43,
     "metadata": {},
     "output_type": "execute_result"
    }
   ],
   "source": [
    "df_feature.ASSET_LOCATION.value_counts() / len(df_feature) * 100"
   ]
  },
  {
   "cell_type": "code",
   "execution_count": 44,
   "metadata": {},
   "outputs": [
    {
     "data": {
      "text/plain": [
       "Real Bed         98.562092\n",
       "Pull-out Sofa     1.111111\n",
       "Futon             0.261438\n",
       "Couch             0.065359\n",
       "Name: ASSETS_TYPE, dtype: float64"
      ]
     },
     "execution_count": 44,
     "metadata": {},
     "output_type": "execute_result"
    }
   ],
   "source": [
    "# not very useful\n",
    "df_feature.ASSETS_TYPE.value_counts() / len(df_feature) * 100"
   ]
  },
  {
   "cell_type": "code",
   "execution_count": 45,
   "metadata": {},
   "outputs": [
    {
     "data": {
      "text/plain": [
       "within an hour        77.777778\n",
       "within a few hours    13.921569\n",
       "within a day           7.320261\n",
       "a few days or more     0.261438\n",
       "Name: HOST_RESPONSE_TIME, dtype: float64"
      ]
     },
     "execution_count": 45,
     "metadata": {},
     "output_type": "execute_result"
    }
   ],
   "source": [
    "df_feature.HOST_RESPONSE_TIME.value_counts() / len(df_feature) * 100"
   ]
  },
  {
   "cell_type": "code",
   "execution_count": 46,
   "metadata": {},
   "outputs": [
    {
     "data": {
      "text/plain": [
       "f    56.274510\n",
       "t    43.660131\n",
       "Name: HOST_IS_SUPERHOST, dtype: float64"
      ]
     },
     "execution_count": 46,
     "metadata": {},
     "output_type": "execute_result"
    }
   ],
   "source": [
    "df_feature.HOST_IS_SUPERHOST.value_counts() / len(df_feature) * 100"
   ]
  },
  {
   "cell_type": "code",
   "execution_count": 47,
   "metadata": {},
   "outputs": [
    {
     "data": {
      "text/plain": [
       "t    99.803922\n",
       "f     0.130719\n",
       "Name: HOST_HAS_PROFILE_PIC, dtype: float64"
      ]
     },
     "execution_count": 47,
     "metadata": {},
     "output_type": "execute_result"
    }
   ],
   "source": [
    "# not useful, almost everybody has a picture\n",
    "df_feature.HOST_HAS_PROFILE_PIC.value_counts()  / len(df_feature) * 100"
   ]
  },
  {
   "cell_type": "code",
   "execution_count": null,
   "metadata": {},
   "outputs": [],
   "source": []
  },
  {
   "cell_type": "code",
   "execution_count": 48,
   "metadata": {},
   "outputs": [],
   "source": [
    "numerical_features = [\n",
    "    \"ASSETS_REVIEW_PER_MONTH\",\n",
    "    \"ASSET_NUMBER_REVIEWS\",                  \n",
    "    \"ASSET_AVAILABILITY_30\",                 \n",
    "    \"ASSET_PRICE\",                \n",
    "    \"ASSETS_REVIEW_SCORES_ACCURACY\",\n",
    "    \"ASSETS_REVIEW_SCORES_CHECKIN\",          \n",
    "    \"ASSETS_REVIEW_SCORES_CLEANLINESS\",\n",
    "    \"ASSETS_REVIEW_SCORES_COMMUNICATION\",    \n",
    "    \"ASSETS_REVIEW_SCORES_LOCATION\",         \n",
    "    \"ASSETS_REVIEW_SCORES_RATING\",           \n",
    "    \"ASSETS_REVIEW_SCORES_VALUE\",\n",
    "    \"HOST_RESPONCE_RATE\",\n",
    "    \"HOST_LISTINGS_COUNT\"]"
   ]
  },
  {
   "cell_type": "code",
   "execution_count": 49,
   "metadata": {},
   "outputs": [
    {
     "data": {
      "text/plain": [
       "array([[<AxesSubplot:>, <AxesSubplot:>, <AxesSubplot:>, <AxesSubplot:>],\n",
       "       [<AxesSubplot:>, <AxesSubplot:>, <AxesSubplot:>, <AxesSubplot:>],\n",
       "       [<AxesSubplot:>, <AxesSubplot:>, <AxesSubplot:>, <AxesSubplot:>],\n",
       "       [<AxesSubplot:>, <AxesSubplot:>, <AxesSubplot:>, <AxesSubplot:>]],\n",
       "      dtype=object)"
      ]
     },
     "execution_count": 49,
     "metadata": {},
     "output_type": "execute_result"
    },
    {
     "data": {
      "image/png": "[encoded data removed]",
      "text/plain": [
       "<Figure size 1440x1440 with 16 Axes>"
      ]
     },
     "metadata": {
      "image/png": {
       "height": 1021,
       "width": 1159
      },
      "needs_background": "light"
     },
     "output_type": "display_data"
    }
   ],
   "source": [
    "df_feature[numerical_features].plot(subplots=True, layout=(4,4), figsize=(20, 20))"
   ]
  },
  {
   "cell_type": "code",
   "execution_count": 50,
   "metadata": {},
   "outputs": [],
   "source": [
    "# escludo gli asset con prezzo > 1000. Possibili anomalie di inserimento o altro\n",
    "df_feature = df_feature[df_feature.ASSET_PRICE < 1000]"
   ]
  },
  {
   "cell_type": "code",
   "execution_count": null,
   "metadata": {},
   "outputs": [],
   "source": []
  },
  {
   "cell_type": "code",
   "execution_count": 51,
   "metadata": {},
   "outputs": [
    {
     "data": {
      "text/html": [
       "<div>\n",
       "<style scoped>\n",
       "    .dataframe tbody tr th:only-of-type {\n",
       "        vertical-align: middle;\n",
       "    }\n",
       "\n",
       "    .dataframe tbody tr th {\n",
       "        vertical-align: top;\n",
       "    }\n",
       "\n",
       "    .dataframe thead th {\n",
       "        text-align: right;\n",
       "    }\n",
       "</style>\n",
       "<table border=\"1\" class=\"dataframe\">\n",
       "  <thead>\n",
       "    <tr style=\"text-align: right;\">\n",
       "      <th></th>\n",
       "      <th>ASSETS_REVIEW_SCORES_ACCURACY</th>\n",
       "      <th>ASSETS_REVIEW_SCORES_RATING</th>\n",
       "      <th>ASSETS_REVIEW_SCORES_VALUE</th>\n",
       "    </tr>\n",
       "  </thead>\n",
       "  <tbody>\n",
       "    <tr>\n",
       "      <th>0</th>\n",
       "      <td>10.0</td>\n",
       "      <td>100.0</td>\n",
       "      <td>9.0</td>\n",
       "    </tr>\n",
       "    <tr>\n",
       "      <th>1</th>\n",
       "      <td>10.0</td>\n",
       "      <td>96.0</td>\n",
       "      <td>9.0</td>\n",
       "    </tr>\n",
       "    <tr>\n",
       "      <th>2</th>\n",
       "      <td>10.0</td>\n",
       "      <td>98.0</td>\n",
       "      <td>9.0</td>\n",
       "    </tr>\n",
       "  </tbody>\n",
       "</table>\n",
       "</div>"
      ],
      "text/plain": [
       "   ASSETS_REVIEW_SCORES_ACCURACY  ASSETS_REVIEW_SCORES_RATING  \\\n",
       "0                           10.0                        100.0   \n",
       "1                           10.0                         96.0   \n",
       "2                           10.0                         98.0   \n",
       "\n",
       "   ASSETS_REVIEW_SCORES_VALUE  \n",
       "0                         9.0  \n",
       "1                         9.0  \n",
       "2                         9.0  "
      ]
     },
     "execution_count": 51,
     "metadata": {},
     "output_type": "execute_result"
    }
   ],
   "source": [
    "df_feature[[\"ASSETS_REVIEW_SCORES_ACCURACY\", \"ASSETS_REVIEW_SCORES_RATING\", \"ASSETS_REVIEW_SCORES_VALUE\"]].head(3)"
   ]
  },
  {
   "cell_type": "code",
   "execution_count": 52,
   "metadata": {},
   "outputs": [
    {
     "data": {
      "text/html": [
       "<div>\n",
       "<style scoped>\n",
       "    .dataframe tbody tr th:only-of-type {\n",
       "        vertical-align: middle;\n",
       "    }\n",
       "\n",
       "    .dataframe tbody tr th {\n",
       "        vertical-align: top;\n",
       "    }\n",
       "\n",
       "    .dataframe thead th {\n",
       "        text-align: right;\n",
       "    }\n",
       "</style>\n",
       "<table border=\"1\" class=\"dataframe\">\n",
       "  <thead>\n",
       "    <tr style=\"text-align: right;\">\n",
       "      <th></th>\n",
       "      <th>ASSETS_REVIEW_SCORES_ACCURACY</th>\n",
       "      <th>ASSETS_REVIEW_SCORES_RATING</th>\n",
       "      <th>ASSETS_REVIEW_SCORES_VALUE</th>\n",
       "    </tr>\n",
       "  </thead>\n",
       "  <tbody>\n",
       "    <tr>\n",
       "      <th>ASSETS_REVIEW_SCORES_ACCURACY</th>\n",
       "      <td>1.000000</td>\n",
       "      <td>0.619794</td>\n",
       "      <td>0.499521</td>\n",
       "    </tr>\n",
       "    <tr>\n",
       "      <th>ASSETS_REVIEW_SCORES_RATING</th>\n",
       "      <td>0.619794</td>\n",
       "      <td>1.000000</td>\n",
       "      <td>0.616719</td>\n",
       "    </tr>\n",
       "    <tr>\n",
       "      <th>ASSETS_REVIEW_SCORES_VALUE</th>\n",
       "      <td>0.499521</td>\n",
       "      <td>0.616719</td>\n",
       "      <td>1.000000</td>\n",
       "    </tr>\n",
       "  </tbody>\n",
       "</table>\n",
       "</div>"
      ],
      "text/plain": [
       "                               ASSETS_REVIEW_SCORES_ACCURACY  \\\n",
       "ASSETS_REVIEW_SCORES_ACCURACY                       1.000000   \n",
       "ASSETS_REVIEW_SCORES_RATING                         0.619794   \n",
       "ASSETS_REVIEW_SCORES_VALUE                          0.499521   \n",
       "\n",
       "                               ASSETS_REVIEW_SCORES_RATING  \\\n",
       "ASSETS_REVIEW_SCORES_ACCURACY                     0.619794   \n",
       "ASSETS_REVIEW_SCORES_RATING                       1.000000   \n",
       "ASSETS_REVIEW_SCORES_VALUE                        0.616719   \n",
       "\n",
       "                               ASSETS_REVIEW_SCORES_VALUE  \n",
       "ASSETS_REVIEW_SCORES_ACCURACY                    0.499521  \n",
       "ASSETS_REVIEW_SCORES_RATING                      0.616719  \n",
       "ASSETS_REVIEW_SCORES_VALUE                       1.000000  "
      ]
     },
     "execution_count": 52,
     "metadata": {},
     "output_type": "execute_result"
    }
   ],
   "source": [
    "df_feature[[\"ASSETS_REVIEW_SCORES_ACCURACY\", \"ASSETS_REVIEW_SCORES_RATING\", \"ASSETS_REVIEW_SCORES_VALUE\"]].corr()"
   ]
  },
  {
   "cell_type": "code",
   "execution_count": 53,
   "metadata": {},
   "outputs": [
    {
     "data": {
      "text/plain": [
       "ASSETS_REVIEW_SCORES_ACCURACY    0\n",
       "ASSETS_REVIEW_SCORES_RATING      0\n",
       "ASSETS_REVIEW_SCORES_VALUE       0\n",
       "dtype: int64"
      ]
     },
     "execution_count": 53,
     "metadata": {},
     "output_type": "execute_result"
    }
   ],
   "source": [
    "df_feature[[\"ASSETS_REVIEW_SCORES_ACCURACY\", \"ASSETS_REVIEW_SCORES_RATING\", \"ASSETS_REVIEW_SCORES_VALUE\"]].isnull().sum()"
   ]
  },
  {
   "cell_type": "code",
   "execution_count": 54,
   "metadata": {},
   "outputs": [],
   "source": [
    "# scelgo di tenere solo ASSETS_REVIEW_SCORES_RATING --> avendo una scala più ampia magari conserva anche più variabilità"
   ]
  },
  {
   "cell_type": "code",
   "execution_count": 55,
   "metadata": {},
   "outputs": [],
   "source": [
    "# per tutte le variabili che indicano caratteristiche del listing, faccio una media dei diversi voti\n",
    "df_feature[\"ASSETS_REVIEW_SCORES_AVG\"] = df_feature[[\"ASSETS_REVIEW_SCORES_CHECKIN\", \"ASSETS_REVIEW_SCORES_CLEANLINESS\", \n",
    "                                                     \"ASSETS_REVIEW_SCORES_COMMUNICATION\", \"ASSETS_REVIEW_SCORES_LOCATION\",\n",
    "                                                     \"ASSETS_REVIEW_SCORES_ACCURACY\", \"ASSETS_REVIEW_SCORES_VALUE\"]]\\\n",
    "                                        .mean(axis=1).round(2)\n",
    "\n",
    "df_feature.drop(columns=[\"ASSETS_REVIEW_SCORES_CHECKIN\", \"ASSETS_REVIEW_SCORES_CLEANLINESS\", \n",
    "                \"ASSETS_REVIEW_SCORES_COMMUNICATION\", \"ASSETS_REVIEW_SCORES_LOCATION\",\n",
    "                \"ASSETS_REVIEW_SCORES_ACCURACY\",\"ASSETS_REVIEW_SCORES_VALUE\"], axis=1, inplace=True)"
   ]
  },
  {
   "cell_type": "code",
   "execution_count": 56,
   "metadata": {},
   "outputs": [],
   "source": [
    "# creo la variabile occupancy come differenza rispetto ai gg del mese\n",
    "\n",
    "df_feature['OCCUPANCY'] = 30 - df_feature[\"ASSET_AVAILABILITY_30\"]\n",
    "df_feature.drop(\"ASSET_AVAILABILITY_30\", axis=1, inplace=True)"
   ]
  },
  {
   "cell_type": "code",
   "execution_count": null,
   "metadata": {},
   "outputs": [],
   "source": []
  },
  {
   "cell_type": "code",
   "execution_count": 57,
   "metadata": {
    "scrolled": true
   },
   "outputs": [],
   "source": [
    "# dumming delle variabili categoriche scelte\n",
    "\n",
    "dummies_cols = [\n",
    "                \"ASSET_LOCATION\", \n",
    "                \"HOST_RESPONSE_TIME\", \n",
    "                \"HOST_IS_SUPERHOST\", \n",
    "               ]\n",
    "\n",
    "col_to_drop = [\"ASSETS_TYPE\", \"HOST_HAS_PROFILE_PIC\"]\n",
    "\n",
    "for col in dummies_cols:\n",
    "    df_feature = df_feature.join(pd.get_dummies(df_feature[col], prefix=col))\n",
    "    df_feature.drop(col, axis=1, inplace=True)\n",
    "\n",
    "df_feature.drop(col_to_drop, axis=1, inplace=True)"
   ]
  },
  {
   "cell_type": "code",
   "execution_count": 58,
   "metadata": {},
   "outputs": [
    {
     "data": {
      "text/plain": [
       "Index(['PARTIES_ID', 'ASSET_ID', 'ASSETS_REVIEW_PER_MONTH',\n",
       "       'ASSET_NUMBER_REVIEWS', 'ASSET_MITIGATION_COVID', 'ASSET_PRICE',\n",
       "       'ASSETS_REVIEW_SCORES_RATING', 'HOST_RESPONCE_RATE',\n",
       "       'HOST_LISTINGS_COUNT', 'ASSETS_REVIEW_SCORES_AVG', 'OCCUPANCY',\n",
       "       'ASSET_LOCATION_amsterdam', 'ASSET_LOCATION_athens',\n",
       "       'ASSET_LOCATION_copenhagen', 'ASSET_LOCATION_dublin',\n",
       "       'ASSET_LOCATION_lisbon', 'ASSET_LOCATION_madrid',\n",
       "       'ASSET_LOCATION_prague', 'ASSET_LOCATION_rome',\n",
       "       'ASSET_LOCATION_stockholm', 'ASSET_LOCATION_vienna',\n",
       "       'HOST_RESPONSE_TIME_a few days or more',\n",
       "       'HOST_RESPONSE_TIME_within a day',\n",
       "       'HOST_RESPONSE_TIME_within a few hours',\n",
       "       'HOST_RESPONSE_TIME_within an hour', 'HOST_IS_SUPERHOST_f',\n",
       "       'HOST_IS_SUPERHOST_t'],\n",
       "      dtype='object')"
      ]
     },
     "execution_count": 58,
     "metadata": {},
     "output_type": "execute_result"
    }
   ],
   "source": [
    "df_feature.columns"
   ]
  },
  {
   "cell_type": "code",
   "execution_count": 59,
   "metadata": {},
   "outputs": [
    {
     "data": {
      "text/html": [
       "<div>\n",
       "<style scoped>\n",
       "    .dataframe tbody tr th:only-of-type {\n",
       "        vertical-align: middle;\n",
       "    }\n",
       "\n",
       "    .dataframe tbody tr th {\n",
       "        vertical-align: top;\n",
       "    }\n",
       "\n",
       "    .dataframe thead th {\n",
       "        text-align: right;\n",
       "    }\n",
       "</style>\n",
       "<table border=\"1\" class=\"dataframe\">\n",
       "  <thead>\n",
       "    <tr style=\"text-align: right;\">\n",
       "      <th></th>\n",
       "      <th>PARTIES_ID</th>\n",
       "      <th>ASSET_ID</th>\n",
       "      <th>ASSETS_REVIEW_PER_MONTH</th>\n",
       "      <th>ASSET_NUMBER_REVIEWS</th>\n",
       "      <th>ASSET_MITIGATION_COVID</th>\n",
       "      <th>ASSET_PRICE</th>\n",
       "      <th>ASSETS_REVIEW_SCORES_RATING</th>\n",
       "      <th>HOST_RESPONCE_RATE</th>\n",
       "      <th>HOST_LISTINGS_COUNT</th>\n",
       "      <th>ASSETS_REVIEW_SCORES_AVG</th>\n",
       "      <th>...</th>\n",
       "      <th>ASSET_LOCATION_prague</th>\n",
       "      <th>ASSET_LOCATION_rome</th>\n",
       "      <th>ASSET_LOCATION_stockholm</th>\n",
       "      <th>ASSET_LOCATION_vienna</th>\n",
       "      <th>HOST_RESPONSE_TIME_a few days or more</th>\n",
       "      <th>HOST_RESPONSE_TIME_within a day</th>\n",
       "      <th>HOST_RESPONSE_TIME_within a few hours</th>\n",
       "      <th>HOST_RESPONSE_TIME_within an hour</th>\n",
       "      <th>HOST_IS_SUPERHOST_f</th>\n",
       "      <th>HOST_IS_SUPERHOST_t</th>\n",
       "    </tr>\n",
       "  </thead>\n",
       "  <tbody>\n",
       "    <tr>\n",
       "      <th>0</th>\n",
       "      <td>107372728</td>\n",
       "      <td>16391366</td>\n",
       "      <td>1.68</td>\n",
       "      <td>26.0</td>\n",
       "      <td>0.0</td>\n",
       "      <td>187.0</td>\n",
       "      <td>100.0</td>\n",
       "      <td>100.0</td>\n",
       "      <td>1.0</td>\n",
       "      <td>9.83</td>\n",
       "      <td>...</td>\n",
       "      <td>0</td>\n",
       "      <td>0</td>\n",
       "      <td>0</td>\n",
       "      <td>0</td>\n",
       "      <td>0</td>\n",
       "      <td>0</td>\n",
       "      <td>0</td>\n",
       "      <td>1</td>\n",
       "      <td>0</td>\n",
       "      <td>1</td>\n",
       "    </tr>\n",
       "    <tr>\n",
       "      <th>1</th>\n",
       "      <td>42098095</td>\n",
       "      <td>7976249</td>\n",
       "      <td>0.73</td>\n",
       "      <td>21.0</td>\n",
       "      <td>0.0</td>\n",
       "      <td>125.0</td>\n",
       "      <td>96.0</td>\n",
       "      <td>100.0</td>\n",
       "      <td>1.0</td>\n",
       "      <td>9.67</td>\n",
       "      <td>...</td>\n",
       "      <td>0</td>\n",
       "      <td>0</td>\n",
       "      <td>0</td>\n",
       "      <td>0</td>\n",
       "      <td>0</td>\n",
       "      <td>0</td>\n",
       "      <td>1</td>\n",
       "      <td>0</td>\n",
       "      <td>1</td>\n",
       "      <td>0</td>\n",
       "    </tr>\n",
       "    <tr>\n",
       "      <th>2</th>\n",
       "      <td>9314105</td>\n",
       "      <td>1927634</td>\n",
       "      <td>0.38</td>\n",
       "      <td>17.0</td>\n",
       "      <td>0.0</td>\n",
       "      <td>299.0</td>\n",
       "      <td>98.0</td>\n",
       "      <td>100.0</td>\n",
       "      <td>1.0</td>\n",
       "      <td>9.67</td>\n",
       "      <td>...</td>\n",
       "      <td>0</td>\n",
       "      <td>0</td>\n",
       "      <td>0</td>\n",
       "      <td>0</td>\n",
       "      <td>0</td>\n",
       "      <td>0</td>\n",
       "      <td>0</td>\n",
       "      <td>1</td>\n",
       "      <td>1</td>\n",
       "      <td>0</td>\n",
       "    </tr>\n",
       "    <tr>\n",
       "      <th>3</th>\n",
       "      <td>15158082</td>\n",
       "      <td>19938339</td>\n",
       "      <td>0.25</td>\n",
       "      <td>2.0</td>\n",
       "      <td>0.0</td>\n",
       "      <td>120.0</td>\n",
       "      <td>100.0</td>\n",
       "      <td>100.0</td>\n",
       "      <td>1.0</td>\n",
       "      <td>10.00</td>\n",
       "      <td>...</td>\n",
       "      <td>0</td>\n",
       "      <td>0</td>\n",
       "      <td>0</td>\n",
       "      <td>0</td>\n",
       "      <td>0</td>\n",
       "      <td>1</td>\n",
       "      <td>0</td>\n",
       "      <td>0</td>\n",
       "      <td>1</td>\n",
       "      <td>0</td>\n",
       "    </tr>\n",
       "    <tr>\n",
       "      <th>4</th>\n",
       "      <td>45378102</td>\n",
       "      <td>19434388</td>\n",
       "      <td>1.00</td>\n",
       "      <td>1.0</td>\n",
       "      <td>0.0</td>\n",
       "      <td>125.0</td>\n",
       "      <td>100.0</td>\n",
       "      <td>70.0</td>\n",
       "      <td>1.0</td>\n",
       "      <td>9.33</td>\n",
       "      <td>...</td>\n",
       "      <td>0</td>\n",
       "      <td>0</td>\n",
       "      <td>0</td>\n",
       "      <td>0</td>\n",
       "      <td>0</td>\n",
       "      <td>1</td>\n",
       "      <td>0</td>\n",
       "      <td>0</td>\n",
       "      <td>1</td>\n",
       "      <td>0</td>\n",
       "    </tr>\n",
       "  </tbody>\n",
       "</table>\n",
       "<p>5 rows × 27 columns</p>\n",
       "</div>"
      ],
      "text/plain": [
       "   PARTIES_ID  ASSET_ID  ASSETS_REVIEW_PER_MONTH  ASSET_NUMBER_REVIEWS  \\\n",
       "0   107372728  16391366                     1.68                  26.0   \n",
       "1    42098095   7976249                     0.73                  21.0   \n",
       "2     9314105   1927634                     0.38                  17.0   \n",
       "3    15158082  19938339                     0.25                   2.0   \n",
       "4    45378102  19434388                     1.00                   1.0   \n",
       "\n",
       "   ASSET_MITIGATION_COVID  ASSET_PRICE  ASSETS_REVIEW_SCORES_RATING  \\\n",
       "0                     0.0        187.0                        100.0   \n",
       "1                     0.0        125.0                         96.0   \n",
       "2                     0.0        299.0                         98.0   \n",
       "3                     0.0        120.0                        100.0   \n",
       "4                     0.0        125.0                        100.0   \n",
       "\n",
       "   HOST_RESPONCE_RATE  HOST_LISTINGS_COUNT  ASSETS_REVIEW_SCORES_AVG  ...  \\\n",
       "0               100.0                  1.0                      9.83  ...   \n",
       "1               100.0                  1.0                      9.67  ...   \n",
       "2               100.0                  1.0                      9.67  ...   \n",
       "3               100.0                  1.0                     10.00  ...   \n",
       "4                70.0                  1.0                      9.33  ...   \n",
       "\n",
       "   ASSET_LOCATION_prague  ASSET_LOCATION_rome  ASSET_LOCATION_stockholm  \\\n",
       "0                      0                    0                         0   \n",
       "1                      0                    0                         0   \n",
       "2                      0                    0                         0   \n",
       "3                      0                    0                         0   \n",
       "4                      0                    0                         0   \n",
       "\n",
       "   ASSET_LOCATION_vienna  HOST_RESPONSE_TIME_a few days or more  \\\n",
       "0                      0                                      0   \n",
       "1                      0                                      0   \n",
       "2                      0                                      0   \n",
       "3                      0                                      0   \n",
       "4                      0                                      0   \n",
       "\n",
       "   HOST_RESPONSE_TIME_within a day  HOST_RESPONSE_TIME_within a few hours  \\\n",
       "0                                0                                      0   \n",
       "1                                0                                      1   \n",
       "2                                0                                      0   \n",
       "3                                1                                      0   \n",
       "4                                1                                      0   \n",
       "\n",
       "   HOST_RESPONSE_TIME_within an hour  HOST_IS_SUPERHOST_f  HOST_IS_SUPERHOST_t  \n",
       "0                                  1                    0                    1  \n",
       "1                                  0                    1                    0  \n",
       "2                                  1                    1                    0  \n",
       "3                                  0                    1                    0  \n",
       "4                                  0                    1                    0  \n",
       "\n",
       "[5 rows x 27 columns]"
      ]
     },
     "execution_count": 59,
     "metadata": {},
     "output_type": "execute_result"
    }
   ],
   "source": [
    "df_feature.head()"
   ]
  },
  {
   "cell_type": "code",
   "execution_count": 60,
   "metadata": {},
   "outputs": [
    {
     "data": {
      "text/plain": [
       "PARTIES_ID                                0\n",
       "ASSET_ID                                  0\n",
       "ASSETS_REVIEW_PER_MONTH                   0\n",
       "ASSET_NUMBER_REVIEWS                      0\n",
       "ASSET_MITIGATION_COVID                    0\n",
       "ASSET_PRICE                               0\n",
       "ASSETS_REVIEW_SCORES_RATING               0\n",
       "HOST_RESPONCE_RATE                       11\n",
       "HOST_LISTINGS_COUNT                       1\n",
       "ASSETS_REVIEW_SCORES_AVG                  0\n",
       "OCCUPANCY                                 0\n",
       "ASSET_LOCATION_amsterdam                  0\n",
       "ASSET_LOCATION_athens                     0\n",
       "ASSET_LOCATION_copenhagen                 0\n",
       "ASSET_LOCATION_dublin                     0\n",
       "ASSET_LOCATION_lisbon                     0\n",
       "ASSET_LOCATION_madrid                     0\n",
       "ASSET_LOCATION_prague                     0\n",
       "ASSET_LOCATION_rome                       0\n",
       "ASSET_LOCATION_stockholm                  0\n",
       "ASSET_LOCATION_vienna                     0\n",
       "HOST_RESPONSE_TIME_a few days or more     0\n",
       "HOST_RESPONSE_TIME_within a day           0\n",
       "HOST_RESPONSE_TIME_within a few hours     0\n",
       "HOST_RESPONSE_TIME_within an hour         0\n",
       "HOST_IS_SUPERHOST_f                       0\n",
       "HOST_IS_SUPERHOST_t                       0\n",
       "dtype: int64"
      ]
     },
     "execution_count": 60,
     "metadata": {},
     "output_type": "execute_result"
    }
   ],
   "source": [
    "df_feature.isnull().sum()"
   ]
  },
  {
   "cell_type": "code",
   "execution_count": 61,
   "metadata": {},
   "outputs": [],
   "source": [
    "# elimino gli na per costruire il modello\n",
    "df_feature.dropna(inplace=True)"
   ]
  },
  {
   "cell_type": "code",
   "execution_count": 62,
   "metadata": {},
   "outputs": [
    {
     "data": {
      "text/plain": [
       "(1517, 27)"
      ]
     },
     "execution_count": 62,
     "metadata": {},
     "output_type": "execute_result"
    }
   ],
   "source": [
    "df_feature.shape"
   ]
  },
  {
   "cell_type": "code",
   "execution_count": null,
   "metadata": {},
   "outputs": [],
   "source": []
  },
  {
   "cell_type": "markdown",
   "metadata": {},
   "source": [
    "#### MODEL"
   ]
  },
  {
   "cell_type": "code",
   "execution_count": 63,
   "metadata": {},
   "outputs": [],
   "source": [
    "#X = df_feature[[c for c in list(df_feature) if c not in [\"PARTIES_ID\", \"ASSET_ID\", \"OCCUPANCY\"]]]\n",
    "X = df_feature[[c for c in list(df_feature) if c not in [\"PARTIES_ID\", \"ASSET_ID\", \"ASSET_PRICE\"]]]\n",
    "#X = df_feature[[c for c in list(df_feature) if c not in [\"PARTIES_ID\", \"ASSET_ID\", \"ASSET_NUMBER_REVIEWS\"]]]"
   ]
  },
  {
   "cell_type": "code",
   "execution_count": 64,
   "metadata": {},
   "outputs": [],
   "source": [
    "#y = df_feature[\"OCCUPANCY\"]\n",
    "y = df_feature[\"ASSET_PRICE\"]\n",
    "#y = df_feature[\"ASSET_NUMBER_REVIEWS\"]"
   ]
  },
  {
   "cell_type": "code",
   "execution_count": 65,
   "metadata": {},
   "outputs": [],
   "source": [
    "X_train, X_test, y_train, y_test = train_test_split(X, y, test_size=0.3, random_state=101)"
   ]
  },
  {
   "cell_type": "code",
   "execution_count": 66,
   "metadata": {},
   "outputs": [],
   "source": [
    "def mape(actual, pred): \n",
    "    actual, pred = np.array(actual), np.array(pred)\n",
    "    return np.mean(np.abs((actual - pred) / actual)) * 100"
   ]
  },
  {
   "cell_type": "markdown",
   "metadata": {},
   "source": [
    "#### Decision Tree Regressor"
   ]
  },
  {
   "cell_type": "code",
   "execution_count": 67,
   "metadata": {},
   "outputs": [
    {
     "data": {
      "text/plain": [
       "DecisionTreeRegressor(max_depth=10, min_samples_leaf=0.05,\n",
       "                      min_samples_split=0.1, random_state=101)"
      ]
     },
     "execution_count": 67,
     "metadata": {},
     "output_type": "execute_result"
    }
   ],
   "source": [
    "model = dtr(max_depth=10, \n",
    "            min_samples_split=0.1, \n",
    "            min_samples_leaf=0.05, \n",
    "            random_state=101)\n",
    "\n",
    "model.fit(X=X_train, y=y_train)"
   ]
  },
  {
   "cell_type": "code",
   "execution_count": 68,
   "metadata": {},
   "outputs": [],
   "source": [
    "pred = model.predict(X_test)"
   ]
  },
  {
   "cell_type": "code",
   "execution_count": 69,
   "metadata": {},
   "outputs": [
    {
     "data": {
      "text/plain": [
       "48.1837621719425"
      ]
     },
     "execution_count": 69,
     "metadata": {},
     "output_type": "execute_result"
    }
   ],
   "source": [
    "mape(pred, y_test.values)"
   ]
  },
  {
   "cell_type": "code",
   "execution_count": 70,
   "metadata": {},
   "outputs": [],
   "source": [
    "importance = model.feature_importances_\n",
    "columns = list(X_train)\n",
    "\n",
    "df_feat_imp = pd.DataFrame({'feature' : columns, 'importance' : importance})\n",
    "df_feat_imp.sort_values(by='importance', ascending = False, inplace=True)"
   ]
  },
  {
   "cell_type": "code",
   "execution_count": 71,
   "metadata": {},
   "outputs": [
    {
     "data": {
      "text/plain": [
       "<AxesSubplot:ylabel='feature'>"
      ]
     },
     "execution_count": 71,
     "metadata": {},
     "output_type": "execute_result"
    },
    {
     "data": {
      "image/png": "[encoded data removed]",
      "text/plain": [
       "<Figure size 720x576 with 1 Axes>"
      ]
     },
     "metadata": {
      "image/png": {
       "height": 465,
       "width": 810
      },
      "needs_background": "light"
     },
     "output_type": "display_data"
    }
   ],
   "source": [
    "df_feat_imp.sort_values(by='importance', ascending = True)\\\n",
    "           .plot.barh(x=\"feature\", y=\"importance\", figsize=(10, 8))"
   ]
  },
  {
   "cell_type": "code",
   "execution_count": 72,
   "metadata": {},
   "outputs": [],
   "source": [
    "df_test = pd.DataFrame({'actual' : y_test.values, 'predicted' : pred})"
   ]
  },
  {
   "cell_type": "code",
   "execution_count": 73,
   "metadata": {},
   "outputs": [
    {
     "data": {
      "text/html": [
       "<div>\n",
       "<style scoped>\n",
       "    .dataframe tbody tr th:only-of-type {\n",
       "        vertical-align: middle;\n",
       "    }\n",
       "\n",
       "    .dataframe tbody tr th {\n",
       "        vertical-align: top;\n",
       "    }\n",
       "\n",
       "    .dataframe thead th {\n",
       "        text-align: right;\n",
       "    }\n",
       "</style>\n",
       "<table border=\"1\" class=\"dataframe\">\n",
       "  <thead>\n",
       "    <tr style=\"text-align: right;\">\n",
       "      <th></th>\n",
       "      <th>actual</th>\n",
       "      <th>predicted</th>\n",
       "    </tr>\n",
       "  </thead>\n",
       "  <tbody>\n",
       "    <tr>\n",
       "      <th>119</th>\n",
       "      <td>13.650</td>\n",
       "      <td>107.549190</td>\n",
       "    </tr>\n",
       "    <tr>\n",
       "      <th>442</th>\n",
       "      <td>14.469</td>\n",
       "      <td>93.334923</td>\n",
       "    </tr>\n",
       "    <tr>\n",
       "      <th>286</th>\n",
       "      <td>18.000</td>\n",
       "      <td>65.846590</td>\n",
       "    </tr>\n",
       "    <tr>\n",
       "      <th>106</th>\n",
       "      <td>18.000</td>\n",
       "      <td>105.760517</td>\n",
       "    </tr>\n",
       "    <tr>\n",
       "      <th>163</th>\n",
       "      <td>18.369</td>\n",
       "      <td>76.052752</td>\n",
       "    </tr>\n",
       "    <tr>\n",
       "      <th>28</th>\n",
       "      <td>19.000</td>\n",
       "      <td>58.670355</td>\n",
       "    </tr>\n",
       "    <tr>\n",
       "      <th>343</th>\n",
       "      <td>19.149</td>\n",
       "      <td>76.052752</td>\n",
       "    </tr>\n",
       "    <tr>\n",
       "      <th>158</th>\n",
       "      <td>19.968</td>\n",
       "      <td>94.578875</td>\n",
       "    </tr>\n",
       "    <tr>\n",
       "      <th>290</th>\n",
       "      <td>19.968</td>\n",
       "      <td>107.549190</td>\n",
       "    </tr>\n",
       "    <tr>\n",
       "      <th>195</th>\n",
       "      <td>20.000</td>\n",
       "      <td>58.670355</td>\n",
       "    </tr>\n",
       "  </tbody>\n",
       "</table>\n",
       "</div>"
      ],
      "text/plain": [
       "     actual   predicted\n",
       "119  13.650  107.549190\n",
       "442  14.469   93.334923\n",
       "286  18.000   65.846590\n",
       "106  18.000  105.760517\n",
       "163  18.369   76.052752\n",
       "28   19.000   58.670355\n",
       "343  19.149   76.052752\n",
       "158  19.968   94.578875\n",
       "290  19.968  107.549190\n",
       "195  20.000   58.670355"
      ]
     },
     "execution_count": 73,
     "metadata": {},
     "output_type": "execute_result"
    }
   ],
   "source": [
    "df_test.sort_values(by='actual').head(10)"
   ]
  },
  {
   "cell_type": "code",
   "execution_count": 74,
   "metadata": {},
   "outputs": [
    {
     "data": {
      "text/plain": [
       "0.016479894528675015"
      ]
     },
     "execution_count": 74,
     "metadata": {},
     "output_type": "execute_result"
    }
   ],
   "source": [
    "df_feature[df_feature.OCCUPANCY < 5].shape[0] / df_feature.shape[0]"
   ]
  },
  {
   "cell_type": "code",
   "execution_count": null,
   "metadata": {},
   "outputs": [],
   "source": []
  },
  {
   "cell_type": "markdown",
   "metadata": {},
   "source": [
    "#### Regression"
   ]
  },
  {
   "cell_type": "code",
   "execution_count": 75,
   "metadata": {},
   "outputs": [],
   "source": [
    "reg = lr().fit(X_train, y_train)"
   ]
  },
  {
   "cell_type": "code",
   "execution_count": 76,
   "metadata": {},
   "outputs": [
    {
     "data": {
      "text/plain": [
       "0.23398226969670433"
      ]
     },
     "execution_count": 76,
     "metadata": {},
     "output_type": "execute_result"
    }
   ],
   "source": [
    "# coefficient of determination R2 of the prediction.\n",
    "reg.score(X_train, y_train)"
   ]
  },
  {
   "cell_type": "code",
   "execution_count": 77,
   "metadata": {},
   "outputs": [
    {
     "data": {
      "text/plain": [
       "array([-4.96121220e+00, -6.33418427e-03,  1.59872116e-14,  1.12091840e+00,\n",
       "       -3.10237992e-01,  2.04753574e-01,  9.40219057e+00, -6.87773639e-01,\n",
       "        5.86614505e+01, -4.06137054e+01,  1.83796667e+01,  2.03472890e+01,\n",
       "       -1.41685266e+01, -1.25870808e+01, -2.27880481e+01,  2.51474209e+00,\n",
       "        9.92911202e+00, -1.96748994e+01, -7.50031856e+01,  2.58625839e+01,\n",
       "        2.86450400e+01,  2.04955617e+01, -4.89170410e+00,  4.89170410e+00])"
      ]
     },
     "execution_count": 77,
     "metadata": {},
     "output_type": "execute_result"
    }
   ],
   "source": [
    "reg.coef_"
   ]
  },
  {
   "cell_type": "code",
   "execution_count": 78,
   "metadata": {},
   "outputs": [],
   "source": [
    "lr_pred = reg.predict(X_test)"
   ]
  },
  {
   "cell_type": "code",
   "execution_count": 79,
   "metadata": {},
   "outputs": [
    {
     "data": {
      "text/plain": [
       "53.21895967126652"
      ]
     },
     "execution_count": 79,
     "metadata": {},
     "output_type": "execute_result"
    }
   ],
   "source": [
    "mape(lr_pred, y_test.values)"
   ]
  },
  {
   "cell_type": "code",
   "execution_count": 80,
   "metadata": {},
   "outputs": [],
   "source": [
    "df_test_lr = pd.DataFrame({'actual' : y_test.values, 'predicted' : lr_pred})"
   ]
  },
  {
   "cell_type": "code",
   "execution_count": 81,
   "metadata": {},
   "outputs": [
    {
     "data": {
      "text/html": [
       "<div>\n",
       "<style scoped>\n",
       "    .dataframe tbody tr th:only-of-type {\n",
       "        vertical-align: middle;\n",
       "    }\n",
       "\n",
       "    .dataframe tbody tr th {\n",
       "        vertical-align: top;\n",
       "    }\n",
       "\n",
       "    .dataframe thead th {\n",
       "        text-align: right;\n",
       "    }\n",
       "</style>\n",
       "<table border=\"1\" class=\"dataframe\">\n",
       "  <thead>\n",
       "    <tr style=\"text-align: right;\">\n",
       "      <th></th>\n",
       "      <th>actual</th>\n",
       "      <th>predicted</th>\n",
       "    </tr>\n",
       "  </thead>\n",
       "  <tbody>\n",
       "    <tr>\n",
       "      <th>119</th>\n",
       "      <td>13.650</td>\n",
       "      <td>52.240414</td>\n",
       "    </tr>\n",
       "    <tr>\n",
       "      <th>442</th>\n",
       "      <td>14.469</td>\n",
       "      <td>67.433165</td>\n",
       "    </tr>\n",
       "    <tr>\n",
       "      <th>286</th>\n",
       "      <td>18.000</td>\n",
       "      <td>68.994244</td>\n",
       "    </tr>\n",
       "    <tr>\n",
       "      <th>106</th>\n",
       "      <td>18.000</td>\n",
       "      <td>71.825873</td>\n",
       "    </tr>\n",
       "    <tr>\n",
       "      <th>163</th>\n",
       "      <td>18.369</td>\n",
       "      <td>78.328198</td>\n",
       "    </tr>\n",
       "    <tr>\n",
       "      <th>28</th>\n",
       "      <td>19.000</td>\n",
       "      <td>60.200706</td>\n",
       "    </tr>\n",
       "    <tr>\n",
       "      <th>343</th>\n",
       "      <td>19.149</td>\n",
       "      <td>58.527010</td>\n",
       "    </tr>\n",
       "    <tr>\n",
       "      <th>158</th>\n",
       "      <td>19.968</td>\n",
       "      <td>91.425731</td>\n",
       "    </tr>\n",
       "    <tr>\n",
       "      <th>290</th>\n",
       "      <td>19.968</td>\n",
       "      <td>68.421698</td>\n",
       "    </tr>\n",
       "    <tr>\n",
       "      <th>195</th>\n",
       "      <td>20.000</td>\n",
       "      <td>61.799914</td>\n",
       "    </tr>\n",
       "  </tbody>\n",
       "</table>\n",
       "</div>"
      ],
      "text/plain": [
       "     actual  predicted\n",
       "119  13.650  52.240414\n",
       "442  14.469  67.433165\n",
       "286  18.000  68.994244\n",
       "106  18.000  71.825873\n",
       "163  18.369  78.328198\n",
       "28   19.000  60.200706\n",
       "343  19.149  58.527010\n",
       "158  19.968  91.425731\n",
       "290  19.968  68.421698\n",
       "195  20.000  61.799914"
      ]
     },
     "execution_count": 81,
     "metadata": {},
     "output_type": "execute_result"
    }
   ],
   "source": [
    "df_test_lr.sort_values(by='actual').head(10)"
   ]
  },
  {
   "cell_type": "code",
   "execution_count": null,
   "metadata": {},
   "outputs": [],
   "source": []
  }
 ],
 "metadata": {
  "kernelspec": {
   "display_name": "Python 3",
   "language": "python",
   "name": "python3"
  },
  "language_info": {
   "codemirror_mode": {
    "name": "ipython",
    "version": 3
   },
   "file_extension": ".py",
   "mimetype": "text/x-python",
   "name": "python",
   "nbconvert_exporter": "python",
   "pygments_lexer": "ipython3",
   "version": "3.6.12"
  }
 },
 "nbformat": 4,
 "nbformat_minor": 4
}
